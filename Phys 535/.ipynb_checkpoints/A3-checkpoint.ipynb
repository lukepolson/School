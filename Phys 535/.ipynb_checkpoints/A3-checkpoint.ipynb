{
 "cells": [
  {
   "cell_type": "code",
   "execution_count": 3,
   "metadata": {},
   "outputs": [],
   "source": [
    "import numpy as np\n",
    "import matplotlib.pyplot as plt\n",
    "import pandas as pd\n",
    "from scipy import interpolate\n",
    "plt.style.use(['science', 'notebook'])\n",
    "from openpyxl import load_workbook\n",
    "import imageio\n",
    "from scipy.interpolate import interp1d, interp2d"
   ]
  },
  {
   "cell_type": "markdown",
   "metadata": {},
   "source": [
    "Load spreadsheets"
   ]
  },
  {
   "cell_type": "code",
   "execution_count": 14,
   "metadata": {},
   "outputs": [],
   "source": [
    "def get_data_datasheet(file, sheet, skiprows, usecols, nrows, add_init=None):\n",
    "    arr = pd.read_excel(file, sheet_name=sheet, skiprows=skiprows[0], nrows=nrows[0], usecols=usecols[0]).to_numpy().ravel()\n",
    "    idx = pd.read_excel(file, sheet_name=sheet, skiprows=skiprows[1], nrows=nrows[1], usecols=usecols[1]).to_numpy().ravel()\n",
    "    return np.append(add_init[0], idx), np.append(add_init[1], arr), \n",
    "\n",
    "def get_interp_datasheet_1D(file, sheet, skiprows, usecols, nrows, add_init=None):\n",
    "    arr = pd.read_excel(file, sheet_name=sheet, skiprows=skiprows[0], nrows=nrows[0], usecols=usecols[0]).to_numpy().ravel()\n",
    "    idx = pd.read_excel(file, sheet_name=sheet, skiprows=skiprows[1], nrows=nrows[1], usecols=usecols[1]).to_numpy().ravel()\n",
    "    if add_init:\n",
    "        idx = np.insert(idx,0,add_init[0])\n",
    "        arr = np.insert(arr,0,add_init[1])\n",
    "    #return interp1d(idx, arr, kind='linear', bounds_error=False, fill_value=(arr.ravel()[0], arr.ravel()[-1]))\n",
    "    return interp1d(idx, arr, kind='linear', bounds_error=False, fill_value='extrapolate')\n",
    "\n",
    "def get_interp_datasheet_2D(file, sheet, skiprows, usecols, nrows):\n",
    "    arr = pd.read_excel(file, sheet_name=sheet, skiprows=skiprows[0], nrows=nrows[0], usecols=usecols[0]).to_numpy()\n",
    "    idx1 = pd.read_excel(file, sheet_name=sheet, skiprows=skiprows[2], nrows=nrows[2], usecols=usecols[2]).to_numpy().ravel()\n",
    "    idx2 = pd.read_excel(file, sheet_name=sheet, skiprows=skiprows[1], nrows=nrows[1], usecols=usecols[1]).to_numpy().ravel()\n",
    "    return interp2d(idx1, idx2, arr)\n"
   ]
  },
  {
   "cell_type": "markdown",
   "metadata": {},
   "source": [
    "Get interpolation functions"
   ]
  },
  {
   "cell_type": "code",
   "execution_count": 15,
   "metadata": {
    "tags": []
   },
   "outputs": [],
   "source": [
    "# Arguments: rd, d\n",
    "TMR_int = get_interp_datasheet_2D('DATA1.xlsm', '6 MV TMR', skiprows=[3,3,2],\n",
    "                                     usecols=['B:K', 'A', 'B:K'], nrows=[40,40,1])\n",
    "# Arguments: rd\n",
    "Sp_int = get_interp_datasheet_1D('DATA1.xlsm', 'Linac outputs', skiprows=[28, 27],\n",
    "                                     usecols=['C:L', 'C:L'], nrows=[1,1],\n",
    "                                     add_init=[0,1/1.078])"
   ]
  },
  {
   "cell_type": "markdown",
   "metadata": {},
   "source": [
    "# Question 1"
   ]
  },
  {
   "cell_type": "markdown",
   "metadata": {},
   "source": [
    "Read in data"
   ]
  },
  {
   "cell_type": "code",
   "execution_count": 64,
   "metadata": {},
   "outputs": [],
   "source": [
    "d_sup = np.arange(0, 3.5, 0.5)\n",
    "P_sup = np.array([19.1, 66.8, 85.7, 94.6, 98.8, 99.9, 100])\n",
    "P_interp = get_interp_datasheet_1D('DATA1.xlsm', '18 MV PDD', skiprows=[3,3],\n",
    "                          usecols=['F', 'A'], nrows=[40,40],\n",
    "                         add_init = [d_sup, P_sup])"
   ]
  },
  {
   "cell_type": "markdown",
   "metadata": {},
   "source": [
    "## Part A"
   ]
  },
  {
   "cell_type": "markdown",
   "metadata": {},
   "source": [
    "Note that in this problem\n",
    "\n",
    "* Equal weighting: $D_{Q} = \\sum_i D_{Q_i} = D_{Q_1} + D_{Q_2}$\n",
    "* Equal ${}_{S}D_{N}$ gives $D_{Q_i} = {}_{S}D_{(Q/N)_i} \\cdot {}_{S}D_{N_i} = \\frac{1}{2} {}_{S}D_{N} \\cdot {}_{S}D_{(Q/N)_i}$\n",
    "\n",
    "So we can plot the dose profile given by\n",
    "\n",
    "$$\\frac{D_{Q}}{{}_{S}D_{N}} = \\frac{1}{2}\\left({}_{S}D_{(Q/N)_1} + {}_{S}D_{(Q/N)_2} \\right)$$\n",
    "\n",
    "Furthermore, since we are not entering off axis or at an oblique angle, and the $SSD$ is standard, we can express this as \n",
    "\n",
    "$$\\frac{D_{Q}}{{}_{S}D_{N}} = \\frac{1}{2}\\left(P(d, 15, 100) + P(22-d, 15, 100) \\right)$$\n",
    "\n",
    "Due to the symmetry of the problem, we need only evaluate this for the first 11cm; the result is mirrored.\n"
   ]
  },
  {
   "cell_type": "code",
   "execution_count": 65,
   "metadata": {},
   "outputs": [],
   "source": [
    "d = np.linspace(0, 11, 1000)\n",
    "dose_profile_f = lambda d: 1/2 * (P_interp(d) + P_interp(22-d))\n",
    "dose_profile = dose_profile_f(d)\n",
    "# Mirror over central axis\n",
    "d= np.append(d, 22-np.flip(d))\n",
    "dose_profile = np.append(dose_profile, np.flip(dose_profile))"
   ]
  },
  {
   "cell_type": "markdown",
   "metadata": {},
   "source": [
    "Plot"
   ]
  },
  {
   "cell_type": "code",
   "execution_count": 66,
   "metadata": {},
   "outputs": [
    {
     "data": {
      "image/png": "[encoded data removed]",
      "text/plain": [
       "<Figure size 504x216 with 1 Axes>"
      ]
     },
     "metadata": {
      "needs_background": "light"
     },
     "output_type": "display_data"
    }
   ],
   "source": [
    "plt.figure(figsize=(7,3))\n",
    "plt.plot(d, dose_profile)\n",
    "plt.title('Ratio of Dose to Total Normalization Dose')\n",
    "plt.xlabel('Depth [cm]')\n",
    "plt.ylabel('$D~/~{}_{S}D_{N}$')\n",
    "plt.grid()\n",
    "plt.show()"
   ]
  },
  {
   "cell_type": "markdown",
   "metadata": {},
   "source": [
    "## Part B"
   ]
  },
  {
   "cell_type": "markdown",
   "metadata": {},
   "source": [
    "We scale the data above so that it corresponds to 2.2Gy at 11cm"
   ]
  },
  {
   "cell_type": "code",
   "execution_count": 67,
   "metadata": {},
   "outputs": [],
   "source": [
    "dose = dose_profile * 2.2 / dose_profile_f(11)"
   ]
  },
  {
   "cell_type": "markdown",
   "metadata": {},
   "source": [
    "And then find the maximum"
   ]
  },
  {
   "cell_type": "code",
   "execution_count": 68,
   "metadata": {},
   "outputs": [
    {
     "name": "stdout",
     "output_type": "stream",
     "text": [
      "The maximum dose along the central beam axis is 2.2580Gy\n"
     ]
    }
   ],
   "source": [
    "print(f'The maximum dose along the central beam axis is {max(dose):.4f}Gy')"
   ]
  },
  {
   "cell_type": "markdown",
   "metadata": {},
   "source": [
    "## Part C"
   ]
  },
  {
   "cell_type": "markdown",
   "metadata": {},
   "source": [
    "We extract the value at the surface"
   ]
  },
  {
   "cell_type": "code",
   "execution_count": 69,
   "metadata": {},
   "outputs": [
    {
     "name": "stdout",
     "output_type": "stream",
     "text": [
      "The skin dose on the central beam axis is 0.9854Gy\n"
     ]
    }
   ],
   "source": [
    "print(f'The skin dose on the central beam axis is {dose[0]:.4f}Gy')"
   ]
  },
  {
   "cell_type": "markdown",
   "metadata": {},
   "source": [
    "# Question 2"
   ]
  },
  {
   "cell_type": "markdown",
   "metadata": {},
   "source": [
    "## Part A"
   ]
  },
  {
   "cell_type": "markdown",
   "metadata": {},
   "source": [
    "Isocentric setups are generally preferred for multiple beam therapy, since the isocenter can be established for all beam directions and the patient does not need to be moved throughout the treatment procedure."
   ]
  },
  {
   "cell_type": "markdown",
   "metadata": {},
   "source": [
    "## Part B"
   ]
  },
  {
   "cell_type": "markdown",
   "metadata": {},
   "source": [
    "* An SSD setup would be preferred if the positioning of an applicator on a patient's body isn't possible due to anatomical limitations. In this case, extended SSD would need to be used.\n",
    "\n",
    "* For single field treatments, SSD can be used, since there is no benefit to using an SAD formalism (in this case, it doesn't matter)."
   ]
  },
  {
   "cell_type": "markdown",
   "metadata": {},
   "source": [
    "## Part C"
   ]
  },
  {
   "cell_type": "code",
   "execution_count": 70,
   "metadata": {},
   "outputs": [],
   "source": [
    "theta = np.arctan(11/16)\n",
    "d = np.sqrt((11**2+16**2) /4)\n",
    "x = 16 - d*np.cos(theta)\n",
    "y = d*np.sin(theta)"
   ]
  },
  {
   "cell_type": "markdown",
   "metadata": {},
   "source": [
    "Thus, assuming a standard reference frame of $\\hat{x}$ pointing towards \"LEFT\" and $\\hat{y}$ pointing up the page, "
   ]
  },
  {
   "cell_type": "code",
   "execution_count": 75,
   "metadata": {},
   "outputs": [
    {
     "name": "stdout",
     "output_type": "stream",
     "text": [
      "The patient should be moved (-8.0, -5.5) cm\n"
     ]
    }
   ],
   "source": [
    "print(f'The patient should be moved ({-x}, {-y}) cm')\n"
   ]
  },
  {
   "cell_type": "markdown",
   "metadata": {},
   "source": [
    "## Part D"
   ]
  },
  {
   "cell_type": "markdown",
   "metadata": {},
   "source": [
    "The SSD is given by  $SAD - d$  where $SAD=100$cm and $d$ is the distance from the left setup mark to the treatment isocenter."
   ]
  },
  {
   "cell_type": "code",
   "execution_count": 76,
   "metadata": {},
   "outputs": [
    {
     "name": "stdout",
     "output_type": "stream",
     "text": [
      "The source to surface distance is 90.29cm\n"
     ]
    }
   ],
   "source": [
    "SSD = 100 - d\n",
    "print(f'The source to surface distance is {100-d:.2f}cm')"
   ]
  },
  {
   "cell_type": "markdown",
   "metadata": {},
   "source": [
    "## Part E"
   ]
  },
  {
   "cell_type": "markdown",
   "metadata": {},
   "source": [
    "The right lateral setup mark can be used with the left lateral setup mark  to ensure the patient is lying flat before treatment begins."
   ]
  },
  {
   "cell_type": "markdown",
   "metadata": {},
   "source": [
    "# Question 3"
   ]
  },
  {
   "cell_type": "code",
   "execution_count": null,
   "metadata": {},
   "outputs": [],
   "source": []
  }
 ],
 "metadata": {
  "kernelspec": {
   "display_name": "Python 3",
   "language": "python",
   "name": "python3"
  },
  "language_info": {
   "codemirror_mode": {
    "name": "ipython",
    "version": 3
   },
   "file_extension": ".py",
   "mimetype": "text/x-python",
   "name": "python",
   "nbconvert_exporter": "python",
   "pygments_lexer": "ipython3",
   "version": "3.8.5"
  }
 },
 "nbformat": 4,
 "nbformat_minor": 4
}
