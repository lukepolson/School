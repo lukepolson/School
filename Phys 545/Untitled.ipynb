{
 "cells": [
  {
   "cell_type": "code",
   "execution_count": 35,
   "metadata": {},
   "outputs": [],
   "source": [
    "import numpy as np\n",
    "import matplotlib.pyplot as plt\n",
    "from scipy.stats import norm"
   ]
  },
  {
   "cell_type": "markdown",
   "metadata": {},
   "source": [
    "Effect of repeated testing assuming you stop at p<0.05. (i.e. accumulating data and seeing what p value is each time more data is added)"
   ]
  },
  {
   "cell_type": "code",
   "execution_count": 114,
   "metadata": {},
   "outputs": [],
   "source": [
    "def compute_sig_result(N_repeated_tests, p_val, two_tailed=True):\n",
    "    N = N_repeated_tests\n",
    "    if two_tailed:\n",
    "        z_sig = norm.ppf(1-p_val/2)\n",
    "    normal = np.random.randn(100000, N)\n",
    "    ns = np.arange(1,N+1,1)\n",
    "    Zscores = np.cumsum(normal, axis=1)/np.sqrt(ns)\n",
    "    return sum(np.abs(Zscores).max(axis=1) > z_sig)/100000"
   ]
  },
  {
   "cell_type": "code",
   "execution_count": 115,
   "metadata": {},
   "outputs": [],
   "source": [
    "repeated_tests = np.array([1,2,3,4,5,10,20,50,100,1000])\n",
    "sig_results = np.vectorize(compute_sig_result)(repeated_tests, p_val=0.05)"
   ]
  },
  {
   "cell_type": "code",
   "execution_count": 116,
   "metadata": {},
   "outputs": [
    {
     "data": {
      "text/plain": [
       "array([0.05058, 0.08253, 0.10852, 0.12713, 0.14271, 0.19349, 0.24956,\n",
       "       0.3203 , 0.3746 , 0.52776])"
      ]
     },
     "execution_count": 116,
     "metadata": {},
     "output_type": "execute_result"
    }
   ],
   "source": [
    "sig_results"
   ]
  }
 ],
 "metadata": {
  "kernelspec": {
   "display_name": "Python 3",
   "language": "python",
   "name": "python3"
  },
  "language_info": {
   "codemirror_mode": {
    "name": "ipython",
    "version": 3
   },
   "file_extension": ".py",
   "mimetype": "text/x-python",
   "name": "python",
   "nbconvert_exporter": "python",
   "pygments_lexer": "ipython3",
   "version": "3.8.5"
  }
 },
 "nbformat": 4,
 "nbformat_minor": 4
}
