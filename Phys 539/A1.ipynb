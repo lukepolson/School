{
 "cells": [
  {
   "cell_type": "code",
   "execution_count": 1,
   "metadata": {},
   "outputs": [],
   "source": [
    "import numpy as np\n",
    "import pint\n",
    "u = pint.UnitRegistry()"
   ]
  },
  {
   "cell_type": "markdown",
   "metadata": {},
   "source": [
    "# Problem 1"
   ]
  },
  {
   "cell_type": "markdown",
   "metadata": {},
   "source": [
    "## Part A"
   ]
  },
  {
   "cell_type": "markdown",
   "metadata": {},
   "source": [
    "The fluence for a $N$ particles incident upon a finite volume sphere of radius $R$ is given by $\\Phi = N/A$ where $A=\\pi R^2$ is the cross-sectional area of the sphere. \n",
    "\n",
    "Now noting that the track length of a particle going through a convex surface is a random variable $L$ with mean $\\left< L \\right>$, the central limit theorem (statistics) tells us that the sum of $N$ indepedent and identically distributed random variables $L_i$ is given by\n",
    "\n",
    "$$\\sum_{i=1}^N L_i \\approx N\\left< L \\right>$$\n",
    "\n",
    "for sufficiently enough $N$, which we will assume is the case for a beam of photons. Thus, using $\\left< L \\right> = 4V/S$ and $S=4\\pi R^2$ for a sphere, we get\n",
    "\n",
    "$$\\frac{\\sum_{i=1}^N L_i}{V} = \\frac{N\\left<L\\right>}{V} = \\frac{4VN/S}{V} = \\frac{4N}{S} = \\frac{4N}{4 \\pi R^2} = \\frac{N}{\\pi R^2} = \\frac{N}{A} = \\Phi$$\n",
    "\n",
    "If follows that the fluence can be expressed as $\\Phi = \\frac{\\sum_{i=1}^N L_i}{V}$"
   ]
  },
  {
   "cell_type": "markdown",
   "metadata": {},
   "source": [
    "## Part B"
   ]
  },
  {
   "cell_type": "markdown",
   "metadata": {},
   "source": [
    "We'll start with definitions and use these to derive equations. The three definitions of the quantities are\n",
    "\n",
    "* (1) $K = d\\bar{E}_{tr}/dm$\n",
    "* (2) $dR_{tr} = -\\mu_{tr} R dl$\n",
    "* (3) $\\Psi = NE/A$\n",
    "\n",
    "Now we'll start relating variables. Lets call the incident energy $h\\nu=E$. Two important relations are\n",
    "\n",
    "* $R = NE$. The radiant energy of the beam is the number of photons times the energy of each photon\n",
    "* $dR_{tr} = \\epsilon_{tr} dN = dE_{tr}$. The transferred radiated energy to the slab is the number of particle interactions ($dN$) times the transferred energy per particle $\\epsilon_{tr}$. This is equal to the total energy transferred in the slab $dE_{tr}$. Note that these are still random varibles, but for sufficiently many experiments (or when integratting over many slabs) it is sufficient to take $dR_{tr} = \\bar{\\epsilon}_{tr} dN = \\bar{dE}_{tr}$  (An integral is like summing over many random variables; the sum of many random variables is approximately the sum of their means, according to the central limit theorem).\n",
    "\n",
    "Substituting these two equations into (2) above we get\n",
    "\n",
    "$$dE_{tr} = -\\mu_{tr}NEdl $$\n",
    "\n",
    "$$\\implies K=\\frac{dE_{tr}}{dm} = \\mu_{tr} NE \\frac{dl}{dm} =\\mu_{tr} NE \\frac{1}{dm/dl (A/A)} = \\mu_{tr} NE \\frac{1}{A dm/dV} = \\mu_{tr} NE/A = \\mu_{tr} \\Psi $$\n",
    "\n",
    "where we have used the fact that $\\frac{dm}{Adl} = \\frac{dm}{dV} = \\rho$. In summary $\\boxed{K = \\mu_{tr} \\Psi}$"
   ]
  },
  {
   "cell_type": "markdown",
   "metadata": {},
   "source": [
    "## Part C"
   ]
  },
  {
   "cell_type": "markdown",
   "metadata": {},
   "source": [
    "The definitions in this case are\n",
    "\n",
    "* (1) $C = dE_{el}^*/dm$\n",
    "* (2) $S_{el} = dE_{el}/dl$\n",
    "* (3) $\\Psi=N/A$\n",
    "\n",
    "Note the $dE_{el}^*$ in equation (1) vs. the $dE_{el}$ in equation (2); this is because they refer to different energies. In particular, stopping power only considers single particles, whereas Cema depends on the number of incident particles, so \n",
    "\n",
    "$$ dE_{el}^* = NdE_{el}$$\n",
    "\n",
    "It follows that\n",
    "\n",
    "$$C = \\frac{dE_{el}^*}{dm} = N\\frac{dE_{el}}{dl}\\frac{dl}{dm} = N\\frac{dE_{el}}{dl} \\frac{1}{\\frac{dm}{dl} \\frac{A}{A}} = \\frac{N}{\\rho A} \\frac{dE_{el}}{dl} = \\Psi \\left(\\frac{S_{el}}{\\rho}\\right)$$\n",
    "\n",
    "where we have used the fact that $\\frac{dm}{Adl} = \\frac{dm}{dV} = \\rho$. In summary, $\\boxed{C = \\Psi \\left(\\frac{S_{el}}{\\rho}\\right)}$"
   ]
  },
  {
   "cell_type": "markdown",
   "metadata": {},
   "source": [
    "# Problem 2"
   ]
  },
  {
   "cell_type": "markdown",
   "metadata": {},
   "source": [
    "The expression given in class for electrons was \n",
    "\n",
    "$$\\frac{S_{el}}{\\rho} = 2 \\pi r_e^2 \\left( \\frac{ZN_A}{A} \\right) \\frac{mc^2}{\\beta^2} \\left[2\\ln(E_k/I) + \\ln(1+\\tau/2) + F^{-}(\\tau) - \\delta \\right] $$"
   ]
  },
  {
   "cell_type": "markdown",
   "metadata": {},
   "source": [
    "* Plugging in $E_k = \\tau mc^2$ and using $n\\ln(x) = \\ln(x^n)$ and $\\ln(ab) = \\ln(a) + \\ln(b)$ we get\n",
    "\n",
    "$$ 2\\ln(E_k/I) + \\ln(1+\\tau/2) = \\ln \\left( \\frac{(\\tau mc^2)^2}{I^2} \\left(1+\\tau/2\\right) \\right) = \\ln\\left(\\frac{\\tau^2(\\tau+2)}{2(I/mc^2)^2}\\right) $$\n",
    "\n",
    "* $\\frac{ZN_A}{A}=\\rho_{el}$ is the electron density of water by definition\n",
    "\n",
    "Thus \n",
    "\n",
    "$$\\frac{S_{el}}{\\rho} = 2 \\pi r_e^2 \\rho_{el} \\frac{mc^2}{\\beta^2} \\left[\\ln\\left(\\frac{\\tau^2(\\tau+2)}{2(I/mc^2)^2}\\right) + F^{-}(\\tau) - \\delta \\right] $$\n",
    "\n",
    "To solve for $\\gamma$\n",
    "\n",
    "$$\\gamma = - \\frac{S_{el}}{\\rho} \\left(\\frac{\\beta^2}{2 \\pi r_e^2 \\rho_{el} mc^2}\\right) + \\ln\\left(\\frac{\\tau^2(\\tau+2)}{2(I/mc^2)^2}\\right) + F^{-}(\\tau)$$"
   ]
  },
  {
   "cell_type": "markdown",
   "metadata": {},
   "source": [
    "Define all appropriate parameters"
   ]
  },
  {
   "cell_type": "code",
   "execution_count": 2,
   "metadata": {},
   "outputs": [],
   "source": [
    "tau = 400/511\n",
    "beta = np.sqrt(1-1/(tau+1)**2)\n",
    "re = 2.818e-15 * u.m\n",
    "rho_el = 3.343e26 * u.kg**(-1)\n",
    "I = 75*u.eV\n",
    "mc2 = 511*u.keV\n",
    "F = (1-beta**2) * (1+tau**2 / 8 - (2*tau+1)*np.log(2))\n",
    "rho = 1*u.g / u.cm**3\n",
    "Sel_rho = 2.148 * u.MeV * u.cm**2 / u.g"
   ]
  },
  {
   "cell_type": "markdown",
   "metadata": {},
   "source": [
    "Compute and print"
   ]
  },
  {
   "cell_type": "code",
   "execution_count": 3,
   "metadata": {},
   "outputs": [
    {
     "name": "stdout",
     "output_type": "stream",
     "text": [
      "The value of gamma is 0.001167\n"
     ]
    }
   ],
   "source": [
    "gamma = -Sel_rho * (beta**2 / (2*np.pi*re**2 * rho_el * mc2)) + np.log(tau**2 * (tau+2)/(2*(I/mc2)**2)) + F\n",
    "print(f'The value of gamma is {gamma.magnitude:.6f}')"
   ]
  },
  {
   "cell_type": "markdown",
   "metadata": {},
   "source": [
    "Lets compare this to the magntitude of the other two terms in the square brackets of\n",
    "\n",
    "$$\\frac{S_{el}}{\\rho} = 2 \\pi r_e^2 \\rho_{el} \\frac{mc^2}{\\beta^2} \\left[\\ln\\left(\\frac{\\tau^2(\\tau+2)}{2(I/mc^2)^2}\\right) + F^{-}(\\tau) - \\delta \\right] $$\n",
    "\n"
   ]
  },
  {
   "cell_type": "code",
   "execution_count": 4,
   "metadata": {},
   "outputs": [
    {
     "data": {
      "text/plain": [
       "-0.22078348704021122"
      ]
     },
     "execution_count": 4,
     "metadata": {},
     "output_type": "execute_result"
    }
   ],
   "source": [
    "F"
   ]
  },
  {
   "cell_type": "code",
   "execution_count": 5,
   "metadata": {},
   "outputs": [
    {
     "data": {
      "text/html": [
       "17.493766264707155 dimensionless"
      ],
      "text/latex": [
       "$17.493766264707155\\ dimensionless$"
      ],
      "text/plain": [
       "17.493766264707155 <Unit('dimensionless')>"
      ]
     },
     "execution_count": 5,
     "metadata": {},
     "output_type": "execute_result"
    }
   ],
   "source": [
    "np.log(tau**2 * (tau+2)/(2*(I/mc2)**2))"
   ]
  },
  {
   "cell_type": "markdown",
   "metadata": {},
   "source": [
    "So $|\\gamma|$ is about two orders of magnitude smaller than the correction term $F$ and four orders of magnitude smaller than the main term. The factor $\\gamma$ corrects for the fact that water is partially polarized. In particular, for an electron travelling through the medium, coloumb interactions with distant molecules are slightly reduced due to a shielding effect that occurs. This serves to reduce the strength of the coloumb interaction and correspondingly decrease the rate of energy deposition in the medium. This is precisely what occurs here; since $\\gamma$ is positive, the rate of energy deposition (stopping power) is reduced, but only by an order of about 0.01%"
   ]
  }
 ],
 "metadata": {
  "kernelspec": {
   "display_name": "Python 3",
   "language": "python",
   "name": "python3"
  },
  "language_info": {
   "codemirror_mode": {
    "name": "ipython",
    "version": 3
   },
   "file_extension": ".py",
   "mimetype": "text/x-python",
   "name": "python",
   "nbconvert_exporter": "python",
   "pygments_lexer": "ipython3",
   "version": "3.8.5"
  }
 },
 "nbformat": 4,
 "nbformat_minor": 4
}
