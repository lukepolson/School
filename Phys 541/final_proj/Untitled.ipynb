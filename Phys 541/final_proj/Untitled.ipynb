{
 "cells": [
  {
   "cell_type": "code",
   "execution_count": 3,
   "metadata": {},
   "outputs": [],
   "source": [
    "import numpy as np\n",
    "import pydicom\n",
    "import matplotlib.pyplot as plt"
   ]
  },
  {
   "cell_type": "code",
   "execution_count": 4,
   "metadata": {},
   "outputs": [],
   "source": [
    "path ='C://Users//lukep//Documents//random_data//salivary-gland-scan//raw1'"
   ]
  },
  {
   "cell_type": "code",
   "execution_count": 5,
   "metadata": {},
   "outputs": [],
   "source": [
    "hdr = pydicom.read_file(path+'//i1337623.RPDC.1.img')"
   ]
  },
  {
   "cell_type": "code",
   "execution_count": 32,
   "metadata": {},
   "outputs": [
    {
     "data": {
      "text/plain": [
       "Dataset.file_meta -------------------------------\n",
       "(0002, 0000) File Meta Information Group Length  UL: 198\n",
       "(0002, 0001) File Meta Information Version       OB: b'\\x00\\x01'\n",
       "(0002, 0002) Media Storage SOP Class UID         UI: 1.2.840.113619.4.30\n",
       "(0002, 0003) Media Storage SOP Instance UID      UI: 1.2.840.113619.2.290.84544369.1626409579.798430\n",
       "(0002, 0010) Transfer Syntax UID                 UI: Explicit VR Little Endian\n",
       "(0002, 0012) Implementation Class UID            UI: 1.2.840.113619.6.131\n",
       "(0002, 0013) Implementation Version Name         SH: 'GE Discovery ST'\n",
       "(0002, 0016) Source Application Entity Title     AE: 'GE DISCOVERY'\n",
       "-------------------------------------------------\n",
       "(0008, 0000) Group Length                        UL: 652\n",
       "(0008, 0005) Specific Character Set              CS: 'ISO_IR 100'\n",
       "(0008, 0012) Instance Creation Date              DA: '20210715'\n",
       "(0008, 0013) Instance Creation Time              TM: '212619.00'\n",
       "(0008, 0014) Instance Creator UID                UI: 1.2.840.113619.1.99.9999\n",
       "(0008, 0016) SOP Class UID                       UI: 1.2.840.113619.4.30\n",
       "(0008, 0018) SOP Instance UID                    UI: 1.2.840.113619.2.290.84544369.1626409579.798430\n",
       "(0008, 0020) Study Date                          DA: '20210715'\n",
       "(0008, 0021) Series Date                         DA: '20210715'\n",
       "(0008, 0022) Acquisition Date                    DA: '20210715'\n",
       "(0008, 0023) Content Date                        DA: '20210715'\n",
       "(0008, 0030) Study Time                          TM: '211903'\n",
       "(0008, 0031) Series Time                         TM: '212619.00'\n",
       "(0008, 0032) Acquisition Time                    TM: '212619.00'\n",
       "(0008, 0033) Content Time                        TM: '212619.00'\n",
       "(0008, 0050) Accession Number                    SH: ''\n",
       "(0008, 0060) Modality                            CS: 'GEMS PET RAW'\n",
       "(0008, 0070) Manufacturer                        LO: 'GE MEDICAL SYSTEMS'\n",
       "(0008, 0080) Institution Name                    LO: 'BC Cancer Agency'\n",
       "(0008, 0090) Referring Physician's Name          PN: ''\n",
       "(0008, 0202) Retired-blank                       LO: '-0700'\n",
       "(0008, 1010) Station Name                        SH: 'VaPETCT2'\n",
       "(0008, 1030) Study Description                   LO: ''\n",
       "(0008, 103e) Series Description                  LO: 'SG1'\n",
       "(0008, 1060) Name of Physician(s) Reading Study  PN: ''\n",
       "(0008, 1070) Operators' Name                     PN: ''\n",
       "(0008, 1090) Manufacturer's Model Name           LO: 'Discovery 690'\n",
       "(0008, 1111)  Referenced Performed Procedure Step Sequence  1 item(s) ---- \n",
       "   (0008, 1150) Referenced SOP Class UID            UI: Modality Performed Procedure Step SOP Class\n",
       "   (0008, 1155) Referenced SOP Instance UID         UI: 1.2.840.113619.2.290.3.84544369.970.1626187827.16\n",
       "   ---------\n",
       "(0008, 1120)  Referenced Patient Sequence  1 item(s) ---- \n",
       "   (0008, 1150) Referenced SOP Class UID            UI: ''\n",
       "   (0008, 1155) Referenced SOP Instance UID         UI: ''\n",
       "   ---------\n",
       "(0009, 0000) Private Creator                     UL: 2028\n",
       "(0009, 0010) Private tag data                    LO: 'GEMS_PETD_01'\n",
       "(0009, 1002) [PET patient_id]                    LO: 'SALIVARY_GLANDS'\n",
       "(0009, 1005) [PET patient_datetime]              DT: '20210715212349.00'\n",
       "(0009, 1006) [PET type]                          SL: 0\n",
       "(0009, 100a) [PET scan_id]                       UI: 1.2.840.113619.2.290.9999.1626409429.92615.0\n",
       "(0009, 100d) [PET scan_datetime]                 DT: '20210715212415.00'\n",
       "(0009, 100e) [PET scan_ready]                    DT: '19691231160000.00'\n",
       "(0009, 1013) [PET for_identifier]                UI: 1.2.840.113619.2.290.3.84544369.564.1626182847.239.9495.1\n",
       "(0009, 1014) [PET landmark_name]                 LO: ''\n",
       "(0009, 1015) [PET landmark_abbrev]               SH: 'OM'\n",
       "(0009, 1016) [PET patient_position]              SL: 0\n",
       "(0009, 1017) [PET scan_perspective]              SL: 0\n",
       "(0009, 1018) [PET scan_type]                     SL: 0\n",
       "(0009, 1019) [PET scan_mode]                     SL: 0\n",
       "(0009, 101a) [PET start_condition]               SL: 1\n",
       "(0009, 101b) [PET start_cond_data]               SL: 0\n",
       "(0009, 101c) [PET sel_stop_cond]                 SL: 1\n",
       "(0009, 101d) [PET sel_stop_cond_data]            SL: 0\n",
       "(0009, 101e) [PET collect_deadtime]              SL: 1\n",
       "(0009, 101f) [PET collect_singles]               SL: 1\n",
       "(0009, 1020) [PET collect_countrate]             SL: 0\n",
       "(0009, 1021) [PET countrate_period]              SL: 0\n",
       "(0009, 1022) [PET delayed_events]                SL: 0\n",
       "(0009, 1023) [PET delayed_bias]                  SL: 0\n",
       "(0009, 1024) [PET word_size]                     SL: 0\n",
       "(0009, 1025) [PET axial_acceptance]              SL: 2\n",
       "(0009, 1026) [PET axial_angle_3d]                SL: 23\n",
       "(0009, 1027) [PET theta_compression]             SL: 1\n",
       "(0009, 1028) [PET axial_compression]             SL: 1\n",
       "(0009, 1029) [PET gantry_tilt_angle]             FL: 0.0\n",
       "(0009, 102a) [PET collimation]                   SL: 0\n",
       "(0009, 102b) [PET scan_fov]                      SL: 70\n",
       "(0009, 102c) [PET axial_fov]                     SL: 153\n",
       "(0009, 102d) [PET event_separation]              SL: 0\n",
       "(0009, 102e) [PET mask_width]                    SL: 0\n",
       "(0009, 1034) [PET triggers_acquired]             SL: 0\n",
       "(0009, 1035) [PET triggers_rejected]             SL: 0\n",
       "(0009, 1036) [PET tracer_name]                   LO: 'FDG -- fluorodeoxyglucose'\n",
       "(0009, 1037) [PET batch_description]             LO: ''\n",
       "(0009, 1038) [PET tracer_activity]               FL: 0.0\n",
       "(0009, 1039) [PET meas_datetime]                 DT: ''\n",
       "(0009, 103a) [PET pre_inj_volume]                FL: 0.0\n",
       "(0009, 103b) [PET admin_datetime]                DT: ''\n",
       "(0009, 103c) [PET post_inj_activity]             FL: 0.0\n",
       "(0009, 103d) [PET post_inj_datetime]             DT: ''\n",
       "(0009, 103e) [PET radionuclide_name]             SH: '18F'\n",
       "(0009, 103f) [PET half_life]                     FL: 6586.2001953125\n",
       "(0009, 1040) [PET positron_fraction]             FL: 0.9670000076293945\n",
       "(0009, 104d) [PET emission_present]              SL: 0\n",
       "(0009, 104e) [PET lower_axial_acc]               SL: 23\n",
       "(0009, 104f) [PET upper_axial_acc]               SL: 23\n",
       "(0009, 1050) [PET lower_coinc_limit]             SL: 27\n",
       "(0009, 1051) [PET upper_coinc_limit]             SL: 27\n",
       "(0009, 1052) [PET coinc_delay_offset]            SL: 32\n",
       "(0009, 1053) [PET coinc_output_mode]             SL: 802\n",
       "(0009, 1054) [PET upper_energy_limit]            SL: 650\n",
       "(0009, 1055) [PET lower_energy_limit]            SL: 425\n",
       "(0009, 1056) [PET normal_cal_id]                 UI: 1.2.840.113619.2.290.84544369.1625776634.69507\n",
       "(0009, 1057) [PET normal_2d_cal_id]              UI: 1.2.840.113619.2.131.1459872910.1219799569.748327\n",
       "(0009, 1059) [PET wc_cal_id]                     UI: 1.2.840.113619.2.290.84544369.1625776756.71648\n",
       "(0009, 105a) [PET derived]                       SL: 0\n",
       "(0009, 105c) [PET frame_id]                      UI: 1.2.840.113619.2.290.84544369.1626409579.798430\n",
       "(0009, 105d) [PET scan_id]                       UI: 1.2.840.113619.2.290.9999.1626409429.92615.0\n",
       "(0009, 105e) [PET exam_id]                       UI: 1.2.840.113619.2.290.3.84544369.564.1626182847.237\n",
       "(0009, 105f) [PET patient_id]                    LO: 'SALIVARY_GLANDS'\n",
       "(0009, 1062) [PET where_is_frame]                ST: '/petRDFS/GERBOOMX/LDHDERGJ/SOLSAWFB/SINO0000'\n",
       "(0009, 1063) [PET frame_size]                    SL: 7\n",
       "(0009, 1064) [PET file_exists]                   SL: 1\n",
       "(0009, 1066) [PET table_height]                  FL: 123.0\n",
       "(0009, 1067) [PET table_z_position]              FL: -283.3800048828125\n",
       "(0009, 1068) [PET landmark_datetime]             DT: '20210715212355.00'\n",
       "(0009, 1069) [PET slice_count]                   SL: 553\n",
       "(0009, 106a) [PET start_location]                FL: -283.3900146484375\n",
       "(0009, 106b) [PET acq_delay]                     SL: 0\n",
       "(0009, 106c) [PET acq_start]                     DT: '20210715212415.00'\n",
       "(0009, 106d) [PET acq_duration]                  SL: 120\n",
       "(0009, 1070) [PET actual_stop_cond]              SL: 0\n",
       "(0009, 1071) [PET total_prompts]                 FD: 11707326.0\n",
       "(0009, 1072) [PET total_delays]                  FD: 1790946.0\n",
       "(0009, 1073) [PET frame_valid]                   SL: 1\n",
       "(0009, 1074) [PET validity_info]                 SL: 255\n",
       "(0009, 108c) [PET attenuation]                   SL: 2\n",
       "(0009, 108e) [PET bp_filter]                     SL: 0\n",
       "(0009, 108f) [PET bp_filter_cutoff]              FL: 0.0\n",
       "(0009, 1090) [PET bp_filter_order]               SL: 0\n",
       "(0009, 1097) [PET trans_scan_id]                 LO: '1.2.840.113619.2.290.3.84544369.564.1626182847.242'\n",
       "(0009, 10ab) [PET bp_center_x]                   FL: 0.0\n",
       "(0009, 10ac) [PET bp_center_y]                   FL: -0.0\n",
       "(0009, 10b2) [PET ir_num_iterations]             SS: 2\n",
       "(0009, 10b3) [PET ir_num_subsets]                SS: 32\n",
       "(0009, 10b6) [PET ir_loop_filter]                SS: 0\n",
       "(0009, 10ba) [PET post_filter]                   SS: 1\n",
       "(0009, 10cb) [PET vqc_x_axis_trans]              FL: 1.4822770357131958\n",
       "(0009, 10cc) [PET vqc_x_axis_tilt]               FL: -0.2797420024871826\n",
       "(0009, 10cd) [PET vqc_y_axis_trans]              FL: -3.055016040802002\n",
       "(0009, 10ce) [PET vqc_y_axis_swivel]             FL: 0.09539200365543365\n",
       "(0009, 10cf) [PET vqc_z_axis_trans]              FL: 0.10000000149011612\n",
       "(0009, 10d0) [PET vqc_z_axis_roll]               FL: 0.1591089963912964\n",
       "(0009, 10d6) [PET image_one_loc]                 FL: -15.25\n",
       "(0009, 10d7) [PET image_index_loc]               FL: -283.3900146484375\n",
       "(0009, 10d8) [PET frame_number]                  SL: 1\n",
       "(0009, 10d9) [PET list_file_exists]              SL: 0\n",
       "(0009, 10da) [PET where_is_list_frame]           ST: '/petLists/GERBOOMX/LDHDERGJ/SOLSAWFB/LIST0000.BLF'\n",
       "(0009, 10db) [PET ir_z_filter_flag]              SL: 2\n",
       "(0009, 10dc) [PET ir_z_filter_ratio]             FL: 4.0\n",
       "(0009, 10df) [PET num_of_slices]                 US: 83\n",
       "(0009, 10e1) [PET unlisted_scan]                 SL: 0\n",
       "(0009, 10e2) [PET rest_stress]                   SL: 0\n",
       "(0009, 10e4) [Recon Protocol]                    LO: '3.3 PTCT_WB c/wo TOF'\n",
       "(0009, 10e9) [PET acq_bin_dur_percent]           FL: 0.0\n",
       "(0009, 10ea) [3D Filter flag]                    SL: 7\n",
       "(0009, 10eb) [3D Filter cutoff]                  FL: 6.400000095367432\n",
       "(0009, 10ec) [3D Filter order]                   SL: 0\n",
       "(0009, 10f1) Private tag data                    SL: 0\n",
       "(0009, 10f2) Private tag data                    UI: 1.2.840.113619.2.290.3.84544369.564.1626182830.252\n",
       "(0010, 0000) Group Length                        UL: 114\n",
       "(0010, 0010) Patient's Name                      PN: 'SALIVARY_GLANDS'\n",
       "(0010, 0020) Patient ID                          LO: 'SALIVARY_GLANDS'\n",
       "(0010, 0030) Patient's Birth Date                DA: '20210715'\n",
       "(0010, 0040) Patient's Sex                       CS: 'M'\n",
       "(0010, 1010) Patient's Age                       AS: '000D'\n",
       "(0010, 1020) Patient's Size                      DS: '0.0'\n",
       "(0010, 1030) Patient's Weight                    DS: '0.0'\n",
       "(0010, 21b0) Additional Patient History          LT: ''\n",
       "(0015, 0000) Private Creator                     UL: 378\n",
       "(0015, 0010) Private tag data                    LO: 'GEMS_PETD_01'\n",
       "(0015, 101a) Private tag data                    SL: 2\n",
       "(0015, 101b) Private tag data                    SL: 0\n",
       "(0015, 101f) Private tag data                    UL: 1\n",
       "(0015, 1020) Private tag data                    SL: 0\n",
       "(0015, 1021) Private tag data                    FL: 1.0\n",
       "(0015, 1022) Private tag data                    FL: 0.0\n",
       "(0015, 1023) Private tag data                    UL: 0\n",
       "(0015, 1024) Private tag data                    FL: 0.0\n",
       "(0015, 1025) Private tag data                    SL: 0\n",
       "(0015, 1026) Private tag data                    UL: 0\n",
       "(0015, 1027) Private tag data                    FL: 0.0\n",
       "(0015, 1028) Private tag data                    SL: 0\n",
       "(0015, 1029) Private tag data                    UL: 1\n",
       "(0015, 102e) Private tag data                    UL: 0\n",
       "(0015, 102f) Private tag data                    UL: 2\n",
       "(0015, 1030) Private tag data                    UL: 2\n",
       "(0015, 1031) Private tag data                    UL: 2\n",
       "(0015, 1032) Private tag data                    UL: 1\n",
       "(0015, 1033) Private tag data                    UL: 1\n",
       "(0015, 1034) Private tag data                    UL: 3\n",
       "(0015, 1035) Private tag data                    UL: 0\n",
       "(0015, 1036) Private tag data                    UL: 0\n",
       "(0015, 1037) Private tag data                    UL: 0\n",
       "(0015, 1038) Private tag data                    UL: 0\n",
       "(0015, 1039) Private tag data                    SL: 3\n",
       "(0015, 103a) Private tag data                    SL: 6\n",
       "(0015, 103b) Private tag data                    SL: 9\n",
       "(0015, 103c) Private tag data                    US: 192\n",
       "(0015, 103d) Private tag data                    UL: 1\n",
       "(0015, 103e) Private tag data                    UL: 0\n",
       "(0018, 0000) Group Length                        UL: 66\n",
       "(0018, 1020) Software Versions                   LO: '52.00'\n",
       "(0018, 1030) Protocol Name                       LO: '3.3 PTCT_WB c/wo TOF'\n",
       "(0018, 1100) Reconstruction Diameter             DS: '700.0'\n",
       "(0018, 5100) Patient Position                    CS: 'HFS'\n",
       "(0020, 0000) Group Length                        UL: 222\n",
       "(0020, 000d) Study Instance UID                  UI: 1.2.840.113619.2.290.3.84544369.564.1626182847.237\n",
       "(0020, 000e) Series Instance UID                 UI: 1.2.840.113619.2.290.9999.1626409429.92615.0\n",
       "(0020, 0010) Study ID                            SH: '43137'\n",
       "(0020, 0011) Series Number                       IS: '901'\n",
       "(0020, 0013) Instance Number                     IS: '1'\n",
       "(0020, 0052) Frame of Reference UID              UI: 1.2.840.113619.2.290.3.84544369.564.1626182847.239.9495.1\n",
       "(0020, 1040) Position Reference Indicator        LO: 'OM'\n",
       "(0021, 0000) Private Creator                     UL: 42\n",
       "(0021, 0010) Private tag data                    LO: 'GEMS_PETD_01'\n",
       "(0021, 1001) [PET raw_data_type]                 US: 3\n",
       "(0021, 1002) [PET raw_data_size]                 UL: 0\n",
       "(0023, 0000) Private Creator                     UL: 7937936\n",
       "(0023, 0010) Private tag data                    LO: 'GEMS_PETD_01'\n",
       "(0023, 1002) [PET raw_data_blob]                 OB: Array of 7937904 elements\n",
       "(0040, 0244) Performed Procedure Step Start Date DA: '20210715'\n",
       "(0040, 0245) Performed Procedure Step Start Time TM: '193335'\n",
       "(0040, 0253) Performed Procedure Step ID         SH: 'PPS ID  43136'\n",
       "(0040, 0254) Performed Procedure Step Descriptio LO: 'PET Eyes to Thighs'\n",
       "(0040, 0275)  Request Attributes Sequence  1 item(s) ---- \n",
       "   (0008, 0050) Accession Number                    SH: '107PT210000728'\n",
       "   (0008, 1110)  Referenced Study Sequence  1 item(s) ---- \n",
       "      (0008, 1150) Referenced SOP Class UID            UI: Detached Study Management SOP Class\n",
       "      (0008, 1155) Referenced SOP Instance UID         UI: 2.16.840.1.114151.1468141555147290842672077695311590197540210715\n",
       "      ---------\n",
       "   (0020, 000d) Study Instance UID                  UI: 2.16.840.1.114151.1468141555147290842672077695311590197540210715\n",
       "   (0032, 1060) Requested Procedure Description     LO: 'PET Eyes to Thighs'\n",
       "   (0032, 1064)  Requested Procedure Code Sequence  1 item(s) ---- \n",
       "      (0008, 0100) Code Value                          SH: 'PETEYET'\n",
       "      (0008, 0102) Coding Scheme Designator            SH: 'Cerner-PHSA'\n",
       "      (0008, 0104) Code Meaning                        LO: 'PET Eyes to Thighs'\n",
       "      ---------\n",
       "   (0040, 0007) Scheduled Procedure Step Descriptio LO: 'PET Eyes to Thighs'\n",
       "   (0040, 0008)  Scheduled Protocol Code Sequence  1 item(s) ---- \n",
       "      (0008, 0100) Code Value                          SH: 'PETEYET'\n",
       "      (0008, 0102) Coding Scheme Designator            SH: 'Cerner-PHSA'\n",
       "      (0008, 0104) Code Meaning                        LO: 'PET Eyes to Thighs'\n",
       "      ---------\n",
       "   (0040, 0009) Scheduled Procedure Step ID         SH: '1'\n",
       "   (0040, 1001) Requested Procedure ID              SH: '107PT210000728'\n",
       "   ---------"
      ]
     },
     "execution_count": 32,
     "metadata": {},
     "output_type": "execute_result"
    }
   ],
   "source": [
    "hdr"
   ]
  },
  {
   "cell_type": "code",
   "execution_count": 6,
   "metadata": {},
   "outputs": [],
   "source": [
    "a = hdr[0x23,0x1002]"
   ]
  },
  {
   "cell_type": "code",
   "execution_count": 10,
   "metadata": {},
   "outputs": [
    {
     "data": {
      "text/plain": [
       "(0023, 1002) [PET raw_data_blob]                 OB: Array of 7937904 elements"
      ]
     },
     "execution_count": 10,
     "metadata": {},
     "output_type": "execute_result"
    }
   ],
   "source": [
    "a"
   ]
  },
  {
   "cell_type": "code",
   "execution_count": 34,
   "metadata": {},
   "outputs": [
    {
     "ename": "ValueError",
     "evalue": "buffer is smaller than requested size",
     "output_type": "error",
     "traceback": [
      "\u001b[1;31m---------------------------------------------------------------------------\u001b[0m",
      "\u001b[1;31mValueError\u001b[0m                                Traceback (most recent call last)",
      "\u001b[1;32m<ipython-input-34-8e8c71164405>\u001b[0m in \u001b[0;36m<module>\u001b[1;34m\u001b[0m\n\u001b[1;32m----> 1\u001b[1;33m \u001b[0marr\u001b[0m \u001b[1;33m=\u001b[0m \u001b[0mnp\u001b[0m\u001b[1;33m.\u001b[0m\u001b[0mfrombuffer\u001b[0m\u001b[1;33m(\u001b[0m\u001b[0ma\u001b[0m\u001b[1;33m.\u001b[0m\u001b[0mvalue\u001b[0m\u001b[1;33m,\u001b[0m \u001b[0mdtype\u001b[0m\u001b[1;33m=\u001b[0m\u001b[1;34m'<i2'\u001b[0m\u001b[1;33m,\u001b[0m \u001b[0mcount\u001b[0m\u001b[1;33m=\u001b[0m\u001b[1;36m381\u001b[0m\u001b[1;33m*\u001b[0m\u001b[1;36m553\u001b[0m\u001b[1;33m*\u001b[0m\u001b[1;36m288\u001b[0m\u001b[1;33m)\u001b[0m\u001b[1;33m\u001b[0m\u001b[1;33m\u001b[0m\u001b[0m\n\u001b[0m",
      "\u001b[1;31mValueError\u001b[0m: buffer is smaller than requested size"
     ]
    }
   ],
   "source": [
    "arr = np.frombuffer(a.value, dtype='<i2', count=381*553*288)"
   ]
  },
  {
   "cell_type": "code",
   "execution_count": 33,
   "metadata": {},
   "outputs": [
    {
     "data": {
      "text/plain": [
       "7937904"
      ]
     },
     "execution_count": 33,
     "metadata": {},
     "output_type": "execute_result"
    }
   ],
   "source": [
    "7937904"
   ]
  },
  {
   "cell_type": "code",
   "execution_count": 21,
   "metadata": {},
   "outputs": [
    {
     "data": {
      "text/plain": [
       "array([ -257,     0,    72, ...,     0, 21415,     0], dtype=int16)"
      ]
     },
     "execution_count": 21,
     "metadata": {},
     "output_type": "execute_result"
    }
   ],
   "source": [
    "arr"
   ]
  },
  {
   "cell_type": "code",
   "execution_count": 23,
   "metadata": {},
   "outputs": [
    {
     "data": {
      "image/png": "[encoded data removed]",
      "text/plain": [
       "<Figure size 432x288 with 1 Axes>"
      ]
     },
     "metadata": {
      "needs_background": "light"
     },
     "output_type": "display_data"
    }
   ],
   "source": [
    "plt.hist(arr, bins=100)\n",
    "plt.semilogy()\n",
    "plt.show()"
   ]
  },
  {
   "cell_type": "code",
   "execution_count": 61,
   "metadata": {},
   "outputs": [
    {
     "data": {
      "text/plain": [
       "b'\\xff\\xfe\\x00\\x00H\\x00\\x00\\x00x\\x00\\x00\\x00\\xb8\\x15\\x00\\x00x\\x15\\x00\\x00'"
      ]
     },
     "execution_count": 61,
     "metadata": {},
     "output_type": "execute_result"
    }
   ],
   "source": [
    "a.value[0:20]"
   ]
  },
  {
   "cell_type": "code",
   "execution_count": 50,
   "metadata": {},
   "outputs": [],
   "source": [
    "ll = str(a.value[0:100]).split('\\\\')"
   ]
  },
  {
   "cell_type": "code",
   "execution_count": 54,
   "metadata": {},
   "outputs": [
    {
     "data": {
      "text/plain": [
       "bytes"
      ]
     },
     "execution_count": 54,
     "metadata": {},
     "output_type": "execute_result"
    }
   ],
   "source": [
    "type(a.value[0:100])"
   ]
  },
  {
   "cell_type": "code",
   "execution_count": 56,
   "metadata": {},
   "outputs": [
    {
     "data": {
      "text/plain": [
       "[10082,\n",
       " 6710904,\n",
       " 6645368,\n",
       " 3158136,\n",
       " 1211117688,\n",
       " 3158136,\n",
       " 3158136,\n",
       " 2016424056,\n",
       " 3158136,\n",
       " 3158136,\n",
       " 3158136,\n",
       " 3695224,\n",
       " 3486072,\n",
       " 3158136,\n",
       " 2016424056,\n",
       " 3486072,\n",
       " 3158136,\n",
       " 3158136,\n",
       " 3171960,\n",
       " 3486072,\n",
       " 3158136,\n",
       " 1211117688,\n",
       " 6500728,\n",
       " 3158136,\n",
       " 942682232,\n",
       " 6434936,\n",
       " 3158136,\n",
       " 3158136,\n",
       " 3170680,\n",
       " 6566264,\n",
       " 3158136,\n",
       " 3158136,\n",
       " 3171704,\n",
       " 3486072,\n",
       " 3158136,\n",
       " 942682232,\n",
       " 3354744,\n",
       " 3158136,\n",
       " 1613770872,\n",
       " 3223928,\n",
       " 3158136,\n",
       " 3158136,\n",
       " 3171448,\n",
       " 3486072,\n",
       " 3158136,\n",
       " 1076899960,\n",
       " 6697336,\n",
       " 3158136,\n",
       " 1613770872,\n",
       " 6697336,\n",
       " 3158136,\n",
       " 3158136,\n",
       " 3171192,\n",
       " 6697336,\n",
       " 3158136,\n",
       " 3158136,\n",
       " 3158136,\n",
       " 3158136,\n",
       " 3158136,\n",
       " 3158136,\n",
       " 3158136,\n",
       " 3158136,\n",
       " 3158136,\n",
       " 3158136,\n",
       " 3682424,\n",
       " 3158136,\n",
       " 3158136,\n",
       " 3158136,\n",
       " 3158136,\n",
       " 3158136,\n",
       " 3158136,\n",
       " 1865429112,\n",
       " 3616888,\n",
       " 3158136,\n",
       " 3160184,\n",
       " 3158136,\n",
       " 3158136,\n",
       " 3158136,\n",
       " 3158136,\n",
       " 3223672,\n",
       " 3158136,\n",
       " 3158136,\n",
       " 3158136,\n",
       " 3158136,\n",
       " 3158136,\n",
       " 3158136,\n",
       " 68681898930296,\n",
       " 657928312]"
      ]
     },
     "execution_count": 56,
     "metadata": {},
     "output_type": "execute_result"
    }
   ],
   "source": [
    "[int.from_bytes(bytes(l, 'utf-8'), byteorder='little') for l in ll]"
   ]
  },
  {
   "cell_type": "code",
   "execution_count": 43,
   "metadata": {},
   "outputs": [
    {
     "data": {
      "text/plain": [
       "b'\\xff\\xfe\\x00\\x00H\\x00\\x00\\x00x\\x00\\x00\\x00\\xb8\\x15\\x00\\x00x\\x15\\x00\\x00'"
      ]
     },
     "execution_count": 43,
     "metadata": {},
     "output_type": "execute_result"
    }
   ],
   "source": [
    "a.value[0:20]"
   ]
  },
  {
   "cell_type": "code",
   "execution_count": null,
   "metadata": {},
   "outputs": [],
   "source": []
  }
 ],
 "metadata": {
  "kernelspec": {
   "display_name": "Python 3",
   "language": "python",
   "name": "python3"
  },
  "language_info": {
   "codemirror_mode": {
    "name": "ipython",
    "version": 3
   },
   "file_extension": ".py",
   "mimetype": "text/x-python",
   "name": "python",
   "nbconvert_exporter": "python",
   "pygments_lexer": "ipython3",
   "version": "3.8.5"
  }
 },
 "nbformat": 4,
 "nbformat_minor": 4
}
