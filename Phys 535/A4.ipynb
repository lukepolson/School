{
 "cells": [
  {
   "cell_type": "code",
   "execution_count": 1,
   "metadata": {},
   "outputs": [],
   "source": [
    "import numpy as np\n",
    "import matplotlib.pyplot as plt\n",
    "import pandas as pd\n",
    "from scipy import interpolate\n",
    "plt.style.use(['science', 'notebook'])\n",
    "from openpyxl import load_workbook\n",
    "import imageio\n",
    "from scipy.interpolate import interp1d, interp2d\n",
    "from scipy.optimize import minimize"
   ]
  },
  {
   "cell_type": "markdown",
   "metadata": {},
   "source": [
    "Load spreadsheets"
   ]
  },
  {
   "cell_type": "code",
   "execution_count": 2,
   "metadata": {},
   "outputs": [],
   "source": [
    "def get_data_datasheet(file, sheet, skiprows, usecols, nrows, add_init=None):\n",
    "    arr = pd.read_excel(file, sheet_name=sheet, skiprows=skiprows[0], nrows=nrows[0], usecols=usecols[0]).to_numpy().ravel()\n",
    "    idx = pd.read_excel(file, sheet_name=sheet, skiprows=skiprows[1], nrows=nrows[1], usecols=usecols[1]).to_numpy().ravel()\n",
    "    return np.append(add_init[0], idx), np.append(add_init[1], arr), \n",
    "\n",
    "def get_interp_datasheet_1D(file, sheet, skiprows, usecols, nrows, add_init=None, scale=1):\n",
    "    arr = pd.read_excel(file, sheet_name=sheet, skiprows=skiprows[0], nrows=nrows[0], usecols=usecols[0]).to_numpy().ravel()/scale\n",
    "    idx = pd.read_excel(file, sheet_name=sheet, skiprows=skiprows[1], nrows=nrows[1], usecols=usecols[1]).to_numpy().ravel()\n",
    "    if add_init:\n",
    "        idx = np.insert(idx,0,add_init[0])\n",
    "        arr = np.insert(arr,0,add_init[1])\n",
    "    #return interp1d(idx, arr, kind='linear', bounds_error=False, fill_value=(arr.ravel()[0], arr.ravel()[-1]))\n",
    "    return np.vectorize(interp1d(idx, arr, kind='linear', bounds_error=False, fill_value='extrapolate'))\n",
    "\n",
    "def get_interp_datasheet_2D(file, sheet, skiprows, usecols, nrows, scale=1):\n",
    "    arr = pd.read_excel(file, sheet_name=sheet, skiprows=skiprows[0], nrows=nrows[0], usecols=usecols[0]).to_numpy()/scale\n",
    "    idx1 = pd.read_excel(file, sheet_name=sheet, skiprows=skiprows[2], nrows=nrows[2], usecols=usecols[2]).to_numpy().ravel()\n",
    "    idx2 = pd.read_excel(file, sheet_name=sheet, skiprows=skiprows[1], nrows=nrows[1], usecols=usecols[1]).to_numpy().ravel()\n",
    "    return np.vectorize(interp2d(idx1, idx2, arr))\n"
   ]
  },
  {
   "cell_type": "markdown",
   "metadata": {},
   "source": [
    "Get interpolation functions"
   ]
  },
  {
   "cell_type": "code",
   "execution_count": 3,
   "metadata": {
    "tags": []
   },
   "outputs": [],
   "source": [
    "# Arguments: rd, d\n",
    "TMR_int = get_interp_datasheet_2D('DATA1.xlsm', '6 MV TMR', skiprows=[3,3,2],\n",
    "                                     usecols=['B:K', 'A', 'B:K'], nrows=[40,40,1])\n",
    "# Arguments: rd\n",
    "Sp_int = get_interp_datasheet_1D('DATA1.xlsm', 'Linac outputs', skiprows=[28, 27],\n",
    "                                     usecols=['C:L', 'C:L'], nrows=[1,1])\n",
    "# Arguments: Yc, Xc\n",
    "Sc_int = get_interp_datasheet_2D('DATA1.xlsm', 'Linac outputs', skiprows=[3,2,3],\n",
    "                                 usecols=['D:L', 'D:L', 'C'], nrows=[9,1,9])\n",
    "# Arguments: r, d\n",
    "PDD_int = get_interp_datasheet_2D('DATA1.xlsm', '6 MV PDD', skiprows=[3,3,2],\n",
    "                                     usecols=['B:K', 'A', 'B:K'], nrows=[40,40,1],\n",
    "                                 scale=100)\n",
    "# Arguments: r, d\n",
    "PDD18_int = get_interp_datasheet_2D('DATA1.xlsm', '18 MV PDD', skiprows=[3,3,1],\n",
    "                                     usecols=['B:K', 'A', 'B:K'], nrows=[28,28,1],\n",
    "                                 scale=100)\n",
    "\n",
    "# Arguments: d\n",
    "PDD9e_int = get_interp_datasheet_1D('DATA3.xlsm', '9 MeV PDD', skiprows=[8,8],\n",
    "                                     usecols=['B', 'A'], nrows=[75,75], scale=100)\n",
    "\n",
    "# Arguments: d\n",
    "PDD20e_int = get_interp_datasheet_1D('DATA3.xlsm', ' 12-20 MeV PDD', skiprows=[8,8],\n",
    "                                     usecols=['D', 'A'], nrows=[75,75], scale=100)\n",
    "# Arguments: d, x\n",
    "OAR_int = get_interp_datasheet_2D('DATA2.xlsm', '6 MV OARs', skiprows=[4,4,3],\n",
    "                                     usecols=['B:E', 'A', 'B:E'], nrows=[21,21,1])\n",
    "# Arguments: theta, p\n",
    "WF_int = get_interp_datasheet_2D('DATA2.xlsm', '6MV Dynamic WF', skiprows=[5,5,4],\n",
    "                                     usecols=['B:H', 'A', 'B:H'], nrows=[21,21,1])\n",
    "# Arguments: d, x\n",
    "WOAR15_int = get_interp_datasheet_2D('DATA2.xlsm', '6 MV OARs', skiprows=[4,4,3],\n",
    "                                     usecols=['H:K', 'A', 'H:K'], nrows=[21,21,1])\n",
    "# Arguments: d, x\n",
    "WOAR30_int = get_interp_datasheet_2D('DATA2.xlsm', '6 MV OARs', skiprows=[4,4,3],\n",
    "                                     usecols=['N:Q', 'A', 'N:Q'], nrows=[21,21,1])\n",
    "# From example\n",
    "D0p_SSD = 0.971"
   ]
  },
  {
   "cell_type": "markdown",
   "metadata": {},
   "source": [
    "# Question 1"
   ]
  },
  {
   "cell_type": "markdown",
   "metadata": {},
   "source": [
    "## Part A"
   ]
  },
  {
   "cell_type": "markdown",
   "metadata": {},
   "source": [
    "The dose at point $Q$ (purple) is the sum from both diagrams below:"
   ]
  },
  {
   "cell_type": "markdown",
   "metadata": {},
   "source": [
    "<p align=\"center\">\n",
    "  <img src=\"images/a4p1.png\" alt=\"drawing\" width=\"500\" align=\"center\"/>\n",
    "</p>"
   ]
  },
  {
   "cell_type": "markdown",
   "metadata": {},
   "source": [
    "**Above**:\n",
    "\n",
    "$$D_N' = \\text{WF}(\\theta=15^{\\circ}, p=0) \\cdot S_c(r_c=15)S_p(r_d=15) \\cdot 1~\\text{cGy/MU}$$\n",
    "$$D_Q' = \\text{TMR}(d=13, r_d=15) \\cdot \\text{WOAR}(x=7.5, d=13) D_N'$$\n",
    "\n",
    "**Below**:\n",
    "\n",
    "$$D_N' = \\cdot S_c(r_c=15)S_p(r_d=15) \\cdot 1~\\text{cGy/MU}$$\n",
    "$$D_Q' = \\text{TMR}(d=13, r_d=15) \\cdot \\text{OAR}(x=7.5, d=13) \\left(\\frac{\\text{TMR}(d_m+d_2+d_3, r_d)}{\\text{TMR}(d_m+d_3, r_d)}\\right)^{\\rho_e-1} \\cdot D_N'$$"
   ]
  },
  {
   "cell_type": "code",
   "execution_count": 4,
   "metadata": {},
   "outputs": [],
   "source": [
    "DNp_above = WF_int(15, 0) * Sc_int(15,15) * Sp_int(15)\n",
    "DQp_above = TMR_int(15,13) * WOAR15_int(13, 7.5) * DNp_above\n",
    "\n",
    "DNp_below = Sc_int(15,15) * Sp_int(15)\n",
    "CF = (TMR_int(15, 5.5+5)/TMR_int(15,5))**(0.25-1)\n",
    "DQp_below = TMR_int(15,13) * OAR_int(13, 7.5)* CF * DNp_below "
   ]
  },
  {
   "cell_type": "markdown",
   "metadata": {},
   "source": [
    "Since the weighting factor (TMR) between beams is 1\n",
    "\n",
    "$$\\dot{D}_N^{(above)}MU_{above} -  \\dot{D}_N^{(below)}MU_{below} = 0$$\n",
    "$$\\dot{D}_Q^{(above)}MU_{above} + \\dot{D}_Q^{(below)}MU_{below} = 300$$\n",
    "\n",
    "This can be setup as a matrix equation, and the monitor units can be solved for"
   ]
  },
  {
   "cell_type": "code",
   "execution_count": 5,
   "metadata": {},
   "outputs": [],
   "source": [
    "A = np.array([[DNp_above[0],-DNp_below[0]],\n",
    "              [DQp_above[0], DQp_below[0]]])\n",
    "b = np.array([0,300])\n",
    "MUabove, MUbelow = np.linalg.inv(A)@b"
   ]
  },
  {
   "cell_type": "markdown",
   "metadata": {},
   "source": [
    "Print number of monitor units:"
   ]
  },
  {
   "cell_type": "code",
   "execution_count": 6,
   "metadata": {},
   "outputs": [
    {
     "name": "stdout",
     "output_type": "stream",
     "text": [
      "Number of monitor units per fraction above 192.00MU\n",
      "Number of monitor units per fraction below 193.15MU\n"
     ]
    }
   ],
   "source": [
    "print(f'Number of monitor units per fraction above {MUabove:.2f}MU')\n",
    "print(f'Number of monitor units per fraction below {MUbelow:.2f}MU')"
   ]
  },
  {
   "cell_type": "markdown",
   "metadata": {},
   "source": [
    "## Part B"
   ]
  },
  {
   "cell_type": "markdown",
   "metadata": {},
   "source": [
    "The dose point is located near the center of the patient so it is likely that this treatment is for the cancer of an internal organ. The purpose of the wedge on the upper field is likely to minimize dose to breast tissue, as this may cause biological consequences for the patient later on. The assmetric collimation permits central alignment of the patient while still avoiding dose to the spinal cord and lung."
   ]
  },
  {
   "cell_type": "markdown",
   "metadata": {},
   "source": [
    "# Question 2"
   ]
  },
  {
   "cell_type": "markdown",
   "metadata": {},
   "source": [
    "## Part A"
   ]
  },
  {
   "cell_type": "markdown",
   "metadata": {},
   "source": [
    "<p align=\"center\">\n",
    "  <img src=\"images/a4p2.png\" alt=\"drawing\" width=\"300\" align=\"center\"/>\n",
    "</p>"
   ]
  },
  {
   "cell_type": "markdown",
   "metadata": {},
   "source": [
    "The gantry needs to be tilted by an angle \n",
    "\n",
    "$$\\theta = \\tan^{-1}\\left( \\frac{Y_2^{(\\text{init})}}{SAD}\\right) $$"
   ]
  },
  {
   "cell_type": "code",
   "execution_count": 7,
   "metadata": {},
   "outputs": [
    {
     "name": "stdout",
     "output_type": "stream",
     "text": [
      "Theta = 10.20 degrees\n"
     ]
    }
   ],
   "source": [
    "theta = np.arctan(18/100)\n",
    "print(f'Theta = {theta*180/np.pi:.2f} degrees')"
   ]
  },
  {
   "cell_type": "markdown",
   "metadata": {},
   "source": [
    "(counter clockwise in the main diagram of question 2)"
   ]
  },
  {
   "cell_type": "markdown",
   "metadata": {},
   "source": [
    "## Part B"
   ]
  },
  {
   "cell_type": "markdown",
   "metadata": {
    "tags": []
   },
   "source": [
    "<p align=\"center\">\n",
    "  <img src=\"images/a4p3.png\" alt=\"drawing\" width=\"600\" align=\"center\"/>\n",
    "</p>"
   ]
  },
  {
   "cell_type": "markdown",
   "metadata": {},
   "source": [
    "The goal of this problem is to solve for $Y_2$ given $SAD$, $Y_0$, $d_A$, $d_B$, $h$, and $L$. First note the following relations:\n",
    "\n",
    "* $Y_0' = Y_0\\frac{SAD+h+d_A}{SAD}$\n",
    "* $D = \\sqrt{Y_0'^2 + (SAD+h+d_A)^2}$\n",
    "* $a = L - 2Y_0'$\n",
    "* $SAD+h+d_A - b$\n",
    "* $\\tan^{-1}((Y_0'+a)/(SAD+h+d_B)) = \\theta+\\mu$\n",
    "* $\\tan(\\mu) = Y_2/SAD$"
   ]
  },
  {
   "cell_type": "code",
   "execution_count": 8,
   "metadata": {},
   "outputs": [],
   "source": [
    "SAD = 100\n",
    "Y0 = 18\n",
    "dA = 11.5\n",
    "dB = 3\n",
    "h = 30\n",
    "L = 59\n",
    "Y0p = Y0 * (SAD+h+dA)/SAD\n",
    "D = np.sqrt(Y0p**2 + (SAD+h+dA)**2)\n",
    "a = L-2*Y0p\n",
    "b = dA-dB\n",
    "mu = np.arctan((Y0p+a)/(SAD+h+dB)) - theta\n",
    "Y2 = SAD*np.tan(mu)"
   ]
  },
  {
   "cell_type": "markdown",
   "metadata": {},
   "source": [
    "Let minimize to get the optimal value of Y2"
   ]
  },
  {
   "cell_type": "code",
   "execution_count": 9,
   "metadata": {},
   "outputs": [
    {
     "name": "stdout",
     "output_type": "stream",
     "text": [
      "Value of Y2: 6.90cm\n"
     ]
    }
   ],
   "source": [
    "print(f'Value of Y2: {Y2:.2f}cm')"
   ]
  },
  {
   "cell_type": "markdown",
   "metadata": {},
   "source": [
    "## Part C"
   ]
  },
  {
   "cell_type": "markdown",
   "metadata": {},
   "source": [
    "We have\n",
    "\n",
    "$$D' = {}_S D_N' \\cdot PDD(d,r,SSD_0) \\left( \\frac{SSD+d_m}{SSD+d} \\frac{SSD_0+d}{SSD_0+d_m}\\right)^2  $$\n",
    "\n",
    "where, in the following, ${}^{(0)}$ refers to at $SSD_0$\n",
    "\n",
    "$${}_S D_N' = \\frac{S_p(r_d)}{S_p(r_d^{(0)})} \\left( \\frac{SSD_0+d_m}{SSD+d_m} \\right)^2 S_c(r^{(0)})S_p(r_d^{(0)}) \\cdot D_{0,SSD}'$$\n",
    "\n",
    "Furthermore, if $r_d=12~$cm then $r=r_d \\frac{SSD_0}{SSD+d}$"
   ]
  },
  {
   "cell_type": "code",
   "execution_count": 10,
   "metadata": {},
   "outputs": [],
   "source": [
    "D = 180\n",
    "d = 5\n",
    "dm =1.5\n",
    "SSD = 130.2\n",
    "SSD0 = 100\n",
    "rd = 12\n",
    "rd0 = (SSD0+d)/(SSD+d) *rd\n",
    "r = rd * (SSD/(SSD+d))\n",
    "r0 = r * SSD0/SSD\n",
    "\n",
    "MF = ((SSD+1.5)/(SSD+d))**2 * ((SSD0+d)/(SSD0+1.5))**2\n",
    "IVL = (SSD0+dm)**2 / (SSD+dm)**2\n",
    "Sc = Sc_int(r,r)"
   ]
  },
  {
   "cell_type": "markdown",
   "metadata": {},
   "source": [
    "Compute $D'$"
   ]
  },
  {
   "cell_type": "code",
   "execution_count": 11,
   "metadata": {},
   "outputs": [],
   "source": [
    "sDNp = Sp_int(rd)/Sp_int(rd0) * IVL * Sc * Sp_int(rd0) * D0p_SSD\n",
    "Dp = sDNp * PDD_int(r, d) * MF"
   ]
  },
  {
   "cell_type": "markdown",
   "metadata": {},
   "source": [
    "Compute monitor units"
   ]
  },
  {
   "cell_type": "code",
   "execution_count": 12,
   "metadata": {},
   "outputs": [
    {
     "name": "stdout",
     "output_type": "stream",
     "text": [
      "Number of monitor units required: 349.50 MU\n"
     ]
    }
   ],
   "source": [
    "MU = D/Dp\n",
    "print(f'Number of monitor units required: {MU[0]:.2f} MU')"
   ]
  },
  {
   "cell_type": "markdown",
   "metadata": {},
   "source": [
    "## Part D"
   ]
  },
  {
   "cell_type": "markdown",
   "metadata": {},
   "source": [
    "Assuming the right boundary of the of the brain field is setup to coincide with the boundary of the spine field at all depths, we must have\n",
    "\n",
    "$$\\theta_c = \\tan^{-1}(Y_0/SAD)$$\n",
    "\n",
    "which is pricesly the same angle as the gantry tilt before (only this time the collimators must be rotated **clockwise** in the main image reference frame)"
   ]
  },
  {
   "cell_type": "code",
   "execution_count": 13,
   "metadata": {},
   "outputs": [
    {
     "name": "stdout",
     "output_type": "stream",
     "text": [
      "Theta = 10.20 degrees\n"
     ]
    }
   ],
   "source": [
    "print(f'Theta = {theta*180/np.pi:.2f} degrees')"
   ]
  },
  {
   "cell_type": "markdown",
   "metadata": {},
   "source": [
    "## Part E"
   ]
  },
  {
   "cell_type": "markdown",
   "metadata": {},
   "source": [
    "Since this problem is symmetric, we can consider how many monitor units are required to give 90cGy from one beam. We have\n",
    "\n",
    "$$D' = S_c(r_c)S_p(r_d) \\cdot TMR(d_b, r_d)OAR(x_b, d_b)$$"
   ]
  },
  {
   "cell_type": "markdown",
   "metadata": {},
   "source": [
    "Since the field is unwedged, the off-axis distance, x, \n",
    "is determined by measuring radially from the CAX to the point of interest."
   ]
  },
  {
   "cell_type": "code",
   "execution_count": 14,
   "metadata": {},
   "outputs": [],
   "source": [
    "db = 8\n",
    "rd = 20\n",
    "xb = 9.3\n",
    "Yc = 24\n",
    "Xc = 30"
   ]
  },
  {
   "cell_type": "markdown",
   "metadata": {},
   "source": [
    "Thus"
   ]
  },
  {
   "cell_type": "code",
   "execution_count": 15,
   "metadata": {},
   "outputs": [],
   "source": [
    "Dp = Sc_int(Yc, Xc)*Sp_int(rd)*TMR_int(rd,db)*OAR_int(db,xb)"
   ]
  },
  {
   "cell_type": "markdown",
   "metadata": {},
   "source": [
    "And the monitor units is given by"
   ]
  },
  {
   "cell_type": "code",
   "execution_count": 16,
   "metadata": {},
   "outputs": [
    {
     "name": "stdout",
     "output_type": "stream",
     "text": [
      "Number of monitor units required: 95.11 MU\n"
     ]
    }
   ],
   "source": [
    "MU = 90 / Dp\n",
    "print(f'Number of monitor units required: {MU[0]:.2f} MU')"
   ]
  },
  {
   "cell_type": "markdown",
   "metadata": {},
   "source": [
    "# Question 3"
   ]
  },
  {
   "cell_type": "markdown",
   "metadata": {},
   "source": [
    "The equation for the dose at all the points is given by:"
   ]
  },
  {
   "cell_type": "markdown",
   "metadata": {},
   "source": [
    "$${}_sD_N' = \\text{WF}(\\theta=30^{\\circ}, p=0) \\cdot S_c(r_c=8\\times 10)S_p(r_d) \\cdot 1~\\text{cGy/MU}$$\n",
    "\n",
    "$$D_Q' = \\text{PDD}(d=d_Q, r) \\cdot \\left(\\frac{\\text{TMR}(d_{eff}^{(Q)}, r_Q)}{\\text{TMR}(d^{(Q)}, r_Q)}\\right) {}_sD_N'$$\n",
    "\n",
    "$$D_B' = \\text{PDD}(d=d_B, r) \\cdot IVL_B \\cdot \\text{WOAR}(x=x_B, d=d_B) \\left(\\frac{\\text{TMR}(d_{eff}^{(B)}, r_B)}{\\text{TMR}(d^{(B)}, r_B)}\\right){}_sD_N'$$\n",
    "\n",
    "$$D_A' = \\text{PDD}(d_A, r) \\cdot IVL_A \\cdot \\text{WOAR}(x=x_A, d=d_A) \\left(\\frac{\\text{TMR}(d_{eff}^{(A)}, r_A)}{\\text{TMR}(d^{(A)}, r_A)}\\right) {}_sD_N'$$"
   ]
  },
  {
   "cell_type": "markdown",
   "metadata": {},
   "source": [
    "Define all appropriate quantities"
   ]
  },
  {
   "cell_type": "code",
   "execution_count": 17,
   "metadata": {},
   "outputs": [],
   "source": [
    "rhobone = 1.5\n",
    "dm=1.5\n",
    "dQ = 6.6\n",
    "dA = 6.5\n",
    "dB = 5.2\n",
    "deffQ = (dQ-2) + 2*rhobone\n",
    "deffA = (dA-2) + 2*rhobone\n",
    "deffB = (dB-2) + 2*rhobone\n",
    "DeltaA = 7.4-dA\n",
    "DeltaB = 4.8-dB\n",
    "rQs = 8.900 \n",
    "rAs = rQs * (100+DeltaA)/100\n",
    "rBs = rAs * (100+DeltaA)/100\n",
    "rQ = rQs * (100+dQ)/100\n",
    "rA = rAs * (100+DeltaA+dA)/100\n",
    "rB = rBs * (100+DeltaB+dB)/100\n",
    "rd = rQs*(100+dm)/100\n",
    "xA = -3.5 * 100 / (dA+DeltaA+100)\n",
    "xB = 1.9 * 100 / (dB+DeltaB+100)"
   ]
  },
  {
   "cell_type": "markdown",
   "metadata": {},
   "source": [
    "Compute dose rates (`p` means \"prime\")"
   ]
  },
  {
   "cell_type": "code",
   "execution_count": 18,
   "metadata": {},
   "outputs": [],
   "source": [
    "ISLA = ((100 + dA)/(100+DeltaA+dA))**2\n",
    "ISLB = ((100 + dB)/(100+DeltaB+dB))**2\n",
    "\n",
    "sDNp = WF_int(30,5) * Sc_int(10,8)*Sp_int(rd) * D0p_SSD\n",
    "DQp = PDD_int(rQs,dQ) * (TMR_int(rQ, deffQ)/TMR_int(rQ, dQ))*sDNp\n",
    "DAp = PDD_int(rAs,dA) * (TMR_int(rA, deffA)/TMR_int(rA, dA))*ISLA*Sp_int(rQs)/Sp_int(rAs)*WOAR30_int(dA, xA)*sDNp\n",
    "DBp = PDD_int(rBs,dB) * (TMR_int(rB, deffB)/TMR_int(rB, dB))*ISLB*Sp_int(rQs)/Sp_int(rBs)*WOAR30_int(dB, xB)*sDNp"
   ]
  },
  {
   "cell_type": "markdown",
   "metadata": {},
   "source": [
    "Since 80cGy is delivered, the number of monitor units is"
   ]
  },
  {
   "cell_type": "code",
   "execution_count": 19,
   "metadata": {},
   "outputs": [],
   "source": [
    "MU = 80 / DQp[0]"
   ]
  },
  {
   "cell_type": "markdown",
   "metadata": {},
   "source": [
    "And so the dose at $A$ and $B$ is"
   ]
  },
  {
   "cell_type": "code",
   "execution_count": 20,
   "metadata": {},
   "outputs": [
    {
     "name": "stdout",
     "output_type": "stream",
     "text": [
      "Dose at point A: 86.59cGy\n",
      "Dose at point B: 83.04cGy\n"
     ]
    }
   ],
   "source": [
    "print(f'Dose at point A: {DAp[0]*MU:.2f}cGy')\n",
    "print(f'Dose at point B: {DBp[0]*MU:.2f}cGy')"
   ]
  },
  {
   "cell_type": "markdown",
   "metadata": {},
   "source": [
    "# Question 4"
   ]
  },
  {
   "cell_type": "markdown",
   "metadata": {},
   "source": [
    "Since the setup uses standard beam sizes with no complicated structure, we have\n",
    "\n",
    "$$D_A^{(\\text{photon})} =D_0^{(\\text{SSD})'} \\cdot PDD_p(d+\\Delta_B,10) MU_p$$\n",
    "$$D_A^{(\\text{electron})} = 1\\text{cGy/MU} \\cdot  PDD_e(d,10) MU_e$$\n",
    "\n",
    "where $\\Delta_B$ is the bolus thickness and $d$ is the depth in the patient. The net percent depth dose is\n",
    "\n",
    "$$\\begin{align*}PDD_{tot} & \\propto D_A^{(\\text{photon})} + D_A^{(\\text{electron})}\\\\ &= D_0^{(\\text{SSD})'} PDD_p(d+\\Delta_B,10) MU_p + (1\\text{cGy/MU}) PDD_e(d,10) MU_e\\\\ &\\propto D_0^{(\\text{SSD})'} PDD(d+\\Delta_B,10) \\frac{MU_p}{MU_e}+ (1\\text{cGy/MU})  PDD(d,10)\\end{align*}$$\n",
    "\n",
    "We then just need to normalize by the appropriate constant to ensure that the maximum percent is 100%. Since each beam gives an equal dose at $d=6.5$cm\n",
    "\n",
    "$$1 = \\frac{D_A^{(\\text{photon})}}{D_A^{(\\text{electron})}} = \\frac{ D_0^{(\\text{SSD})'}PDD_p(d+\\Delta_B,10) MU_p}{ (1\\text{cGy/MU}) PDD_e(d,10) MU_e}$$\n",
    "\n",
    "we get\n",
    "\n",
    "$$\\frac{MU_p}{MU_e} = \\frac{(1\\text{cGy/MU}) PDD_e(d,10)}{D_0^{(\\text{SSD})'} PDD_p(d+\\Delta_B,10)}$$\n",
    "\n",
    "It follows that \n",
    "\n",
    "$$PDD_{tot}  \\propto  PDD_p(d+\\Delta_B,10) \\frac{1}{0.971}\\frac{PDD_e(d,10)}{PDD_p(d+\\Delta_B,10)}+ PDD_e(d,10)$$"
   ]
  },
  {
   "cell_type": "code",
   "execution_count": 21,
   "metadata": {},
   "outputs": [],
   "source": [
    "B = 0.4\n",
    "d = 6.5\n",
    "PDD_ratio = PDD20e_int(6.5)/PDD18_int(10,d+B) / D0p_SSD"
   ]
  },
  {
   "cell_type": "markdown",
   "metadata": {},
   "source": [
    "Then we can plot"
   ]
  },
  {
   "cell_type": "code",
   "execution_count": 22,
   "metadata": {},
   "outputs": [],
   "source": [
    "d_small = np.array([0,0.5,1,1.5,2,2.5,3])\n",
    "PDD_small = np.array([12.2,56.8,81.7,91,96.1,99.2,99.9])/100\n",
    "d_large = np.linspace(3,20,100)\n",
    "PDD_large = PDD18_int(10,d_large)\n",
    "PDD_full_int = interp1d(np.concatenate([d_small, d_large]),\n",
    "                        np.concatenate([PDD_small, PDD_large]),\n",
    "                        kind='linear', bounds_error=False)"
   ]
  },
  {
   "cell_type": "code",
   "execution_count": 23,
   "metadata": {},
   "outputs": [],
   "source": [
    "d = np.linspace(0,20,1000)\n",
    "PDD = PDD20e_int(d) + PDD_full_int(d+B)*PDD_ratio[0]"
   ]
  },
  {
   "cell_type": "markdown",
   "metadata": {},
   "source": [
    "Now we need to normalize so that 95% of the prescribed dose corresponds to point A"
   ]
  },
  {
   "cell_type": "code",
   "execution_count": 24,
   "metadata": {},
   "outputs": [],
   "source": [
    "PPD = PDD * 95/PDD[np.argmin(np.abs(d-6.5))]"
   ]
  },
  {
   "cell_type": "markdown",
   "metadata": {},
   "source": [
    "Plot\n",
    "\n",
    "* Shown are the boundaries of the PTV ( red vertical lines) and the 95% isodose (purple horizontal line)"
   ]
  },
  {
   "cell_type": "code",
   "execution_count": 25,
   "metadata": {},
   "outputs": [
    {
     "data": {
      "image/png": "[encoded data removed]",
      "text/plain": [
       "<Figure size 800x300 with 1 Axes>"
      ]
     },
     "metadata": {},
     "output_type": "display_data"
    }
   ],
   "source": [
    "plt.figure(figsize=(8,3))\n",
    "plt.plot(d, PPD, color='b')\n",
    "plt.xlabel('Depth in Patient [cm]', fontsize=10)\n",
    "plt.ylabel('% Prescribed Dose', fontsize=10)\n",
    "plt.axvline(1, color='r', ls='--')\n",
    "plt.axvline(6.5, color='r', ls='--')\n",
    "plt.axhline(95, color='purple', ls='--')\n",
    "plt.grid()\n",
    "plt.ylim(bottom=0)\n",
    "plt.show()"
   ]
  },
  {
   "cell_type": "markdown",
   "metadata": {},
   "source": [
    "## Part B"
   ]
  },
  {
   "cell_type": "markdown",
   "metadata": {},
   "source": [
    "The ICRU criteria is that the PTV is covered by the $95\\%$ isodose line but also less than 107%. As seen in the plot above, The PTV contains above 95% isodose in the entire treatment volume along the central axis, but the maximum PPD is 108%. Thus, **the ICRU criteria is not satisfied**."
   ]
  },
  {
   "cell_type": "code",
   "execution_count": 26,
   "metadata": {},
   "outputs": [
    {
     "name": "stdout",
     "output_type": "stream",
     "text": [
      "108.23758946335572\n"
     ]
    }
   ],
   "source": [
    "print(max(PPD))"
   ]
  },
  {
   "cell_type": "markdown",
   "metadata": {},
   "source": [
    "# Question 5"
   ]
  },
  {
   "cell_type": "markdown",
   "metadata": {},
   "source": [
    "## Part A"
   ]
  },
  {
   "cell_type": "markdown",
   "metadata": {},
   "source": [
    "We can express this quantity as\n",
    "\n",
    "$$\\begin{align*} \\frac{2|D_A-D_B|}{D_A+D_B} &= 2\\frac{\\left|(D(0)-D(d)) + \\left(D_A^{(b)}(0,\\delta) -D_B^{(b)}(d,\\delta)\\right)\\right|}{(D(0)+D(d)) + \\left(D_A^{(b)}(0,\\delta) + D_B^{(b)}(d,\\delta)\\right)}\\\\ & =2\\frac{\\left|1-D(d)/D(0)) + \\left(D_A^{(b)}(0,\\delta)/D(0) -D_B^{(b)}(d,\\delta)/D(0)\\right)\\right|}{(1+D(d)/D(0)) + \\left(D_A^{(b)}(0,\\delta)/D(0) + D_B^{(b)}(d,\\delta)/D(0)\\right)}\\\\ \\end{align*}$$\n",
    "\n",
    "where\n",
    "\n",
    "* $\\frac{D(d)}{D(0)} = \\frac{\\text{PDD}(d)}{\\text{PDD}(0)}$\n",
    "\n",
    "* $\\frac{D^{(b)}(d,\\delta)}{D(0)} = \\frac{D_b(0)e^{-k(\\delta+\\Delta-d)}}{D(0)} = \\frac{D(d^{(i)})(EBF-1)e^{-k(\\delta+\\Delta-d)}}{D(0)} = \\frac{\\text{PDD}(d^{(i)}) (EBF-1)e^{-k(\\delta+\\Delta-d)}}{\\text{PDD}(0)}  $\n",
    "\n",
    "and further, where...\n",
    "\n",
    "* $EBF = 1+0.735e^{-0.052E(\\Delta+\\delta)}$\n",
    "* $k = 6.1(E(\\delta+\\Delta))^{-0.62}$\n",
    "* $E(d) = E(0)(1-d/R_p)$\n",
    "* $d^{(i)}$ is the depth to tungesten\n",
    "* $\\Delta=0.3$cm"
   ]
  },
  {
   "cell_type": "markdown",
   "metadata": {},
   "source": [
    "Required functions"
   ]
  },
  {
   "cell_type": "code",
   "execution_count": 27,
   "metadata": {},
   "outputs": [],
   "source": [
    "def get_Ed(x, E0=9, Rp=4.5):\n",
    "    return E0*(1-x/Rp)\n",
    "\n",
    "def get_EBF(x):\n",
    "    return 1+0.735*np.exp(-0.052*get_Ed(x))\n",
    "\n",
    "def get_k(x):\n",
    "    return 6.1*(get_Ed(x))**(-0.62)\n",
    "\n",
    "def get_backratio(x, delta):\n",
    "    EBF = get_EBF(0.3+delta)\n",
    "    k = get_k(0.3+delta)\n",
    "    return PDD_ratio(0.3+delta)*(EBF-1)*np.exp(-k*(0.3+delta-x))\n",
    "\n",
    "def PDD_ratio(x):\n",
    "    return PDD9e_int(x)/PDD9e_int(0)\n",
    "\n",
    "def minimizer(dA, dB, delta):\n",
    "    numerator = (1-PDD_ratio(dB)) + (get_backratio(dA, delta) - get_backratio(dB, delta))\n",
    "    denominator = (1+PDD_ratio(dB)) + (get_backratio(dA, delta) + get_backratio(dB, delta))\n",
    "    return 2*np.abs(numerator)/denominator"
   ]
  },
  {
   "cell_type": "markdown",
   "metadata": {},
   "source": [
    "Get some values and plot"
   ]
  },
  {
   "cell_type": "code",
   "execution_count": 28,
   "metadata": {},
   "outputs": [],
   "source": [
    "deltas = np.linspace(0,4,1000)\n",
    "mins = minimizer(0,0.3,deltas)"
   ]
  },
  {
   "cell_type": "markdown",
   "metadata": {},
   "source": [
    "Plot"
   ]
  },
  {
   "cell_type": "code",
   "execution_count": 29,
   "metadata": {},
   "outputs": [
    {
     "data": {
      "image/png": "[encoded data removed]",
      "text/plain": [
       "<Figure size 800x400 with 1 Axes>"
      ]
     },
     "metadata": {},
     "output_type": "display_data"
    }
   ],
   "source": [
    "plt.figure(figsize=(8,4))\n",
    "plt.plot(deltas, mins)\n",
    "plt.xlabel('$\\delta$ [cm]')\n",
    "plt.ylabel('$2|D_A-D_B|/(D_A+D_B)$')\n",
    "plt.grid()\n",
    "plt.show()"
   ]
  },
  {
   "cell_type": "markdown",
   "metadata": {},
   "source": [
    "Lets find the minimum value of $\\delta$ that makes this quantity less than 0.12"
   ]
  },
  {
   "cell_type": "code",
   "execution_count": 30,
   "metadata": {},
   "outputs": [
    {
     "name": "stdout",
     "output_type": "stream",
     "text": [
      "The minimum value of delta is 0.517cm\n"
     ]
    }
   ],
   "source": [
    "delta_min = deltas[mins<=0.12][0]\n",
    "print(f'The minimum value of delta is {delta_min:.3f}cm')"
   ]
  },
  {
   "cell_type": "markdown",
   "metadata": {},
   "source": [
    "To the nearest 0.2mm, **this is 5.2mm**.\n",
    "\n",
    "* **Note to Marker**: I used PDD(0) = 0.798. If, however, PDD(0) = 0.8 is used (from excel interpolation, which rounds), the result changes to be about $\\approx 0.49$. As such, the amount of shielding is highly sensitive to the PDD at a depth of zero"
   ]
  },
  {
   "cell_type": "markdown",
   "metadata": {},
   "source": [
    "## Part B"
   ]
  },
  {
   "cell_type": "markdown",
   "metadata": {},
   "source": [
    "The **effective distance** of a material is $\\rho \\cdot x$. So to have equal effective distances $\\rho_w x_w = \\rho_a x_a$ and thus $x_a= \\frac{\\rho_w}{\\rho_a}x_w$"
   ]
  },
  {
   "cell_type": "code",
   "execution_count": 31,
   "metadata": {},
   "outputs": [
    {
     "name": "stdout",
     "output_type": "stream",
     "text": [
      "Required distance of aluminum = 0.190cm\n"
     ]
    }
   ],
   "source": [
    "rho_a = 2.718\n",
    "rho_w = 1\n",
    "x_a = rho_w/rho_a * delta_min\n",
    "print(f'Required distance of aluminum = {x_a:.3f}cm')"
   ]
  },
  {
   "cell_type": "markdown",
   "metadata": {},
   "source": [
    "## Part C"
   ]
  },
  {
   "cell_type": "markdown",
   "metadata": {},
   "source": [
    "Since this is an SSD setup under standard conditions with backscatter\n",
    "\n",
    "$$D_i' = \\left(S_e(3.5,3.5) \\cdot PDD(d_i) \\cdot 1~\\text{cGy/MU}\\right) + \\left((EBF-1)e^{-k(\\delta+\\Delta-d)} \\cdot 1~\\text{cGy/MU}\\right)$$\n",
    "\n",
    "and $D_i = D_i' \\cdot MU$. For our two points then\n",
    "\n",
    "$$MU = \\frac{2}{D_A'+D_b'} \\cdot 200~\\text{cGy}$$"
   ]
  },
  {
   "cell_type": "code",
   "execution_count": 32,
   "metadata": {},
   "outputs": [],
   "source": [
    "def get_scatter(d, delta):\n",
    "    EBF = get_EBF(0.3+delta)\n",
    "    k = get_k(0.3+delta)\n",
    "    return PDD9e_int(0.3+delta)*(EBF-1)*np.exp(-k*(0.3+delta-d))"
   ]
  },
  {
   "cell_type": "markdown",
   "metadata": {},
   "source": [
    "Compute quantities. Note that $S_e$ was extrapolated from excel spreadsheet stuff"
   ]
  },
  {
   "cell_type": "code",
   "execution_count": 33,
   "metadata": {},
   "outputs": [],
   "source": [
    "Se = 0.95 * 0.985 # from electron data table\n",
    "DAp = Se * PDD9e_int(0) + get_scatter(0, delta_min)\n",
    "DBp = Se * PDD9e_int(0.3) + get_scatter(0.3, delta_min)\n",
    "MU = 2/(DAp+DBp) * 200"
   ]
  },
  {
   "cell_type": "markdown",
   "metadata": {},
   "source": [
    "Print number of monitor units required."
   ]
  },
  {
   "cell_type": "code",
   "execution_count": 34,
   "metadata": {},
   "outputs": [
    {
     "name": "stdout",
     "output_type": "stream",
     "text": [
      "Number of monitor units required: 219.88MU\n"
     ]
    }
   ],
   "source": [
    "print(f'Number of monitor units required: {MU:.2f}MU')"
   ]
  }
 ],
 "metadata": {
  "kernelspec": {
   "display_name": "Python 3",
   "language": "python",
   "name": "python3"
  },
  "language_info": {
   "codemirror_mode": {
    "name": "ipython",
    "version": 3
   },
   "file_extension": ".py",
   "mimetype": "text/x-python",
   "name": "python",
   "nbconvert_exporter": "python",
   "pygments_lexer": "ipython3",
   "version": "3.8.5"
  }
 },
 "nbformat": 4,
 "nbformat_minor": 4
}
