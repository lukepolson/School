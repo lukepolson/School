{
 "cells": [
  {
   "cell_type": "code",
   "execution_count": 1,
   "metadata": {},
   "outputs": [],
   "source": [
    "import numpy as np\n",
    "import matplotlib.pyplot as plt\n",
    "import pandas as pd\n",
    "from scipy import interpolate\n",
    "plt.style.use(['science', 'notebook'])\n",
    "from openpyxl import load_workbook\n",
    "import imageio\n",
    "from scipy.interpolate import interp1d, interp2d"
   ]
  },
  {
   "cell_type": "markdown",
   "metadata": {},
   "source": [
    "Load spreadsheets"
   ]
  },
  {
   "cell_type": "code",
   "execution_count": 2,
   "metadata": {},
   "outputs": [],
   "source": [
    "def get_data_datasheet(file, sheet, skiprows, usecols, nrows, add_init=None):\n",
    "    arr = pd.read_excel(file, sheet_name=sheet, skiprows=skiprows[0], nrows=nrows[0], usecols=usecols[0]).to_numpy().ravel()\n",
    "    idx = pd.read_excel(file, sheet_name=sheet, skiprows=skiprows[1], nrows=nrows[1], usecols=usecols[1]).to_numpy().ravel()\n",
    "    return np.append(add_init[0], idx), np.append(add_init[1], arr), \n",
    "\n",
    "def get_interp_datasheet_1D(file, sheet, skiprows, usecols, nrows, add_init=None, scale=1):\n",
    "    arr = pd.read_excel(file, sheet_name=sheet, skiprows=skiprows[0], nrows=nrows[0], usecols=usecols[0]).to_numpy().ravel()/scale\n",
    "    idx = pd.read_excel(file, sheet_name=sheet, skiprows=skiprows[1], nrows=nrows[1], usecols=usecols[1]).to_numpy().ravel()\n",
    "    if add_init:\n",
    "        idx = np.insert(idx,0,add_init[0])\n",
    "        arr = np.insert(arr,0,add_init[1])\n",
    "    #return interp1d(idx, arr, kind='linear', bounds_error=False, fill_value=(arr.ravel()[0], arr.ravel()[-1]))\n",
    "    return np.vectorize(interp1d(idx, arr, kind='linear', bounds_error=False, fill_value='extrapolate'))\n",
    "\n",
    "def get_interp_datasheet_2D(file, sheet, skiprows, usecols, nrows, scale=1):\n",
    "    arr = pd.read_excel(file, sheet_name=sheet, skiprows=skiprows[0], nrows=nrows[0], usecols=usecols[0]).to_numpy()/scale\n",
    "    idx1 = pd.read_excel(file, sheet_name=sheet, skiprows=skiprows[2], nrows=nrows[2], usecols=usecols[2]).to_numpy().ravel()\n",
    "    idx2 = pd.read_excel(file, sheet_name=sheet, skiprows=skiprows[1], nrows=nrows[1], usecols=usecols[1]).to_numpy().ravel()\n",
    "    return np.vectorize(interp2d(idx1, idx2, arr))\n"
   ]
  },
  {
   "cell_type": "markdown",
   "metadata": {},
   "source": [
    "Get interpolation functions"
   ]
  },
  {
   "cell_type": "code",
   "execution_count": 3,
   "metadata": {
    "tags": []
   },
   "outputs": [],
   "source": [
    "# Arguments: rd, d\n",
    "TMR_int = get_interp_datasheet_2D('DATA1.xlsm', '6 MV TMR', skiprows=[3,3,2],\n",
    "                                     usecols=['B:K', 'A', 'B:K'], nrows=[40,40,1])\n",
    "# Arguments: rd\n",
    "Sp_int = get_interp_datasheet_1D('DATA1.xlsm', 'Linac outputs', skiprows=[28, 27],\n",
    "                                     usecols=['C:L', 'C:L'], nrows=[1,1])\n",
    "# Arguments: Yc, Xc\n",
    "Sc_int = get_interp_datasheet_2D('DATA1.xlsm', 'Linac outputs', skiprows=[3,2,3],\n",
    "                                 usecols=['D:L', 'D:L', 'C'], nrows=[9,1,9])\n",
    "# Arguments: r, d\n",
    "PDD_int = get_interp_datasheet_2D('DATA1.xlsm', '6 MV PDD', skiprows=[3,3,2],\n",
    "                                     usecols=['B:K', 'A', 'B:K'], nrows=[40,40,1],\n",
    "                                 scale=100)\n",
    "# Arguments: d\n",
    "PDD18_int = get_interp_datasheet_1D('DATA3.xlsm', ' 12-20 MeV PDD', skiprows=[8,8],\n",
    "                                     usecols=['C', 'A'], nrows=[75,75],\n",
    "                                 scale=100)\n",
    "# Arguments: d, x\n",
    "OAR_int = get_interp_datasheet_2D('DATA2.xlsm', '6 MV OARs', skiprows=[4,4,3],\n",
    "                                     usecols=['B:E', 'A', 'B:E'], nrows=[21,21,1])\n",
    "# Arguments: d, x\n",
    "WOAR45_int = get_interp_datasheet_2D('DATA2.xlsm', '6 MV OARs', skiprows=[4,4,3],\n",
    "                                     usecols=['T:W', 'A', 'T:W'], nrows=[21,21,1])"
   ]
  },
  {
   "cell_type": "markdown",
   "metadata": {},
   "source": [
    "# Question 1"
   ]
  },
  {
   "cell_type": "markdown",
   "metadata": {},
   "source": [
    "Read in data"
   ]
  },
  {
   "cell_type": "code",
   "execution_count": 4,
   "metadata": {},
   "outputs": [],
   "source": [
    "d_sup = np.arange(0, 3.5, 0.5)\n",
    "P_sup = np.array([19.1, 66.8, 85.7, 94.6, 98.8, 99.9, 100])\n",
    "P_interp = get_interp_datasheet_1D('DATA1.xlsm', '18 MV PDD', skiprows=[3,3],\n",
    "                          usecols=['F', 'A'], nrows=[40,40],\n",
    "                         add_init = [d_sup, P_sup])"
   ]
  },
  {
   "cell_type": "markdown",
   "metadata": {},
   "source": [
    "## Part A"
   ]
  },
  {
   "cell_type": "markdown",
   "metadata": {},
   "source": [
    "Note that in this problem\n",
    "\n",
    "* Equal weighting: $D_{Q} = \\sum_i D_{Q_i} = D_{Q_1} + D_{Q_2}$\n",
    "* Equal ${}_{S}D_{N}$ gives $D_{Q_i} = {}_{S}D_{(Q/N)_i} \\cdot {}_{S}D_{N_i} = \\frac{1}{2} {}_{S}D_{N} \\cdot {}_{S}D_{(Q/N)_i}$\n",
    "\n",
    "So we can plot the dose profile given by\n",
    "\n",
    "$$\\frac{D_{Q}}{{}_{S}D_{N}} = \\frac{1}{2}\\left({}_{S}D_{(Q/N)_1} + {}_{S}D_{(Q/N)_2} \\right)$$\n",
    "\n",
    "Furthermore, since we are not entering off axis or at an oblique angle, and the $SSD$ is standard, we can express this as \n",
    "\n",
    "$$\\frac{D_{Q}}{{}_{S}D_{N}} = \\frac{1}{2}\\left(P(d, 15, 100) + P(22-d, 15, 100) \\right)$$\n",
    "\n",
    "Due to the symmetry of the problem, we need only evaluate this for the first 11cm; the result is mirrored.\n"
   ]
  },
  {
   "cell_type": "code",
   "execution_count": 5,
   "metadata": {},
   "outputs": [],
   "source": [
    "d = np.linspace(0, 11, 1000)\n",
    "dose_profile_f = lambda d: 1/2 * (P_interp(d) + P_interp(22-d))\n",
    "dose_profile = dose_profile_f(d)\n",
    "# Mirror over central axis\n",
    "d= np.append(d, 22-np.flip(d))\n",
    "dose_profile = np.append(dose_profile, np.flip(dose_profile))"
   ]
  },
  {
   "cell_type": "markdown",
   "metadata": {},
   "source": [
    "Plot"
   ]
  },
  {
   "cell_type": "code",
   "execution_count": 6,
   "metadata": {},
   "outputs": [
    {
     "data": {
      "image/png": "[encoded data removed]",
      "text/plain": [
       "<Figure size 504x216 with 1 Axes>"
      ]
     },
     "metadata": {
      "needs_background": "light"
     },
     "output_type": "display_data"
    }
   ],
   "source": [
    "plt.figure(figsize=(7,3))\n",
    "plt.plot(d, dose_profile)\n",
    "plt.title('Ratio of Dose to Total Normalization Dose')\n",
    "plt.xlabel('Depth [cm]')\n",
    "plt.ylabel('$D~/~{}_{S}D_{N}$ [%]')\n",
    "plt.grid()\n",
    "plt.show()"
   ]
  },
  {
   "cell_type": "markdown",
   "metadata": {},
   "source": [
    "## Part B"
   ]
  },
  {
   "cell_type": "markdown",
   "metadata": {},
   "source": [
    "We scale the data above so that it corresponds to 2.2Gy at 11cm"
   ]
  },
  {
   "cell_type": "code",
   "execution_count": 7,
   "metadata": {},
   "outputs": [],
   "source": [
    "dose = dose_profile * 2.2 / dose_profile_f(11)"
   ]
  },
  {
   "cell_type": "markdown",
   "metadata": {},
   "source": [
    "And then find the maximum"
   ]
  },
  {
   "cell_type": "code",
   "execution_count": 8,
   "metadata": {},
   "outputs": [
    {
     "name": "stdout",
     "output_type": "stream",
     "text": [
      "The maximum dose along the central beam axis is 2.2580Gy\n"
     ]
    }
   ],
   "source": [
    "print(f'The maximum dose along the central beam axis is {max(dose):.4f}Gy')"
   ]
  },
  {
   "cell_type": "markdown",
   "metadata": {},
   "source": [
    "## Part C"
   ]
  },
  {
   "cell_type": "markdown",
   "metadata": {},
   "source": [
    "We extract the value at the surface"
   ]
  },
  {
   "cell_type": "code",
   "execution_count": 9,
   "metadata": {},
   "outputs": [
    {
     "name": "stdout",
     "output_type": "stream",
     "text": [
      "The skin dose on the central beam axis is 0.9854Gy\n"
     ]
    }
   ],
   "source": [
    "print(f'The skin dose on the central beam axis is {dose[0]:.4f}Gy')"
   ]
  },
  {
   "cell_type": "markdown",
   "metadata": {},
   "source": [
    "# Question 2"
   ]
  },
  {
   "cell_type": "markdown",
   "metadata": {},
   "source": [
    "## Part A"
   ]
  },
  {
   "cell_type": "markdown",
   "metadata": {},
   "source": [
    "Isocentric setups are generally preferred for multiple beam therapy, since the isocenter can be established for all beam directions and the patient does not need to be moved throughout the treatment procedure."
   ]
  },
  {
   "cell_type": "markdown",
   "metadata": {},
   "source": [
    "## Part B"
   ]
  },
  {
   "cell_type": "markdown",
   "metadata": {},
   "source": [
    "* Treatments (orthovoltage) where the target area is at the surface.\n",
    "\n",
    "* An SSD setup would be preferred if the positioning of an applicator on a patient's body isn't possible due to anatomical limitations. In this case, extended SSD would need to be used.\n",
    "\n",
    "* For single field treatments, SSD can be used, since there is no benefit to using an SAD formalism (in this case, it doesn't matter)."
   ]
  },
  {
   "cell_type": "markdown",
   "metadata": {},
   "source": [
    "## Part C"
   ]
  },
  {
   "cell_type": "code",
   "execution_count": 10,
   "metadata": {},
   "outputs": [],
   "source": [
    "theta = np.arctan(11/16)\n",
    "d = np.sqrt((11**2+16**2) /4)\n",
    "x = 16 - d*np.cos(theta)\n",
    "y = d*np.sin(theta)"
   ]
  },
  {
   "cell_type": "markdown",
   "metadata": {},
   "source": [
    "Thus, assuming a standard reference frame of $\\hat{x}$ pointing towards \"LEFT\" and $\\hat{y}$ pointing up the page, "
   ]
  },
  {
   "cell_type": "code",
   "execution_count": 11,
   "metadata": {},
   "outputs": [
    {
     "name": "stdout",
     "output_type": "stream",
     "text": [
      "The patient should be moved (-8.0, -5.5) cm\n"
     ]
    }
   ],
   "source": [
    "print(f'The patient should be moved ({-x}, {-y}) cm')"
   ]
  },
  {
   "cell_type": "markdown",
   "metadata": {},
   "source": [
    "## Part D"
   ]
  },
  {
   "cell_type": "markdown",
   "metadata": {},
   "source": [
    "The SSD is given by  $SAD - d$  where $SAD=100$cm and $d$ is the distance from the left setup mark to the treatment isocenter."
   ]
  },
  {
   "cell_type": "code",
   "execution_count": 12,
   "metadata": {},
   "outputs": [
    {
     "name": "stdout",
     "output_type": "stream",
     "text": [
      "The source to surface distance is 90.29cm\n"
     ]
    }
   ],
   "source": [
    "SSD = 100 - d\n",
    "print(f'The source to surface distance is {100-d:.2f}cm')"
   ]
  },
  {
   "cell_type": "markdown",
   "metadata": {},
   "source": [
    "## Part E"
   ]
  },
  {
   "cell_type": "markdown",
   "metadata": {},
   "source": [
    "The right lateral setup mark can be used with the left lateral setup mark  to ensure the patient is lying flat before treatment begins."
   ]
  },
  {
   "cell_type": "markdown",
   "metadata": {},
   "source": [
    "# Question 3"
   ]
  },
  {
   "cell_type": "markdown",
   "metadata": {},
   "source": [
    "## Part A"
   ]
  },
  {
   "cell_type": "markdown",
   "metadata": {},
   "source": [
    "To find the weights, we can use\n",
    "\n",
    "$$w_i = \\left(\\sum w_i\\right) \\frac{D_{Q_i}}{D_Q} $$\n",
    "\n",
    "Or, if the weights are normalized,\n",
    "\n",
    "$$w_i = \\frac{D_{Q_i}}{\\sum D_{Q_i}} $$\n",
    "\n",
    "Thus we just need to find the normalization dose correpsonding to each row. This is given by\n",
    "\n",
    "$$D_{N_i} = D_{0(iso)}' \\cdot S_c(r_c)S_p(r_d) \\cdot WF(\\theta, r_c) \\cdot  MU_i $$\n",
    "\n",
    "$$D_{Q_i} = TMR(d_i, r_{d_i}) D_{N_i}$$\n",
    "\n",
    "since the dose rate is always the same for these points. The equivalent square is $r_d=9.87$ from the data tables. The wedge factor for the 60 degree dynamic wedge is 0.265 from the data tables"
   ]
  },
  {
   "cell_type": "code",
   "execution_count": 48,
   "metadata": {},
   "outputs": [],
   "source": [
    "ds = np.array([8,9,8,9])\n",
    "MU = np.array([112,116,133,137])\n",
    "WFs = np.array([1, 1, 0.265, 0.266])\n",
    "DQis = 1 * TMR_int(9.870, ds)* Sc_int(16,10) * Sp_int(9.87) * WFs* MU\n",
    "ws = DQis/DQis.sum()"
   ]
  },
  {
   "cell_type": "markdown",
   "metadata": {},
   "source": [
    "The weight column is thus:"
   ]
  },
  {
   "cell_type": "code",
   "execution_count": 57,
   "metadata": {},
   "outputs": [
    {
     "data": {
      "text/plain": [
       "array([0.38041557, 0.38037548, 0.11971202, 0.11949693])"
      ]
     },
     "execution_count": 57,
     "metadata": {},
     "output_type": "execute_result"
    }
   ],
   "source": [
    "ws"
   ]
  },
  {
   "cell_type": "markdown",
   "metadata": {},
   "source": [
    "The dose delivered at the isocenter is given by\n",
    "\n",
    "$$D_Q = \\sum_i D_{Q_i}$$\n",
    "\n",
    "and $r_{d_i}=9.870$ is the equivalent (square) field size at the isocenter of the breast tissue (obtained by converting 7.3 x 16 in data tables)."
   ]
  },
  {
   "cell_type": "code",
   "execution_count": 55,
   "metadata": {},
   "outputs": [
    {
     "name": "stdout",
     "output_type": "stream",
     "text": [
      "Dose delivered to isocenter: 250.562 cGy\n"
     ]
    }
   ],
   "source": [
    "DQ = sum(DQis)\n",
    "print(f'Dose delivered to isocenter: {DQ:.3f} cGy')"
   ]
  },
  {
   "cell_type": "markdown",
   "metadata": {},
   "source": [
    "## Part B"
   ]
  },
  {
   "cell_type": "markdown",
   "metadata": {},
   "source": [
    "<p align=\"center\">\n",
    "  <img src=\"images/a3p1.png\" alt=\"drawing\" width=\"600\" align=\"center\"/>\n",
    "</p>"
   ]
  },
  {
   "cell_type": "markdown",
   "metadata": {},
   "source": [
    "The beam arrangement shown is ideal because it spares breast tissue that does not need to be irradiated (see upper left). In addition, both beams are sufficiently far from the spinal cord and internal organs."
   ]
  },
  {
   "cell_type": "markdown",
   "metadata": {},
   "source": [
    "# Question 4"
   ]
  },
  {
   "cell_type": "markdown",
   "metadata": {},
   "source": [
    "The setup of the question is as follows"
   ]
  },
  {
   "cell_type": "markdown",
   "metadata": {},
   "source": [
    "<p align=\"center\">\n",
    "  <img src=\"images/a3p2.png\" alt=\"drawing\" width=\"600\" align=\"center\"/>\n",
    "</p>"
   ]
  },
  {
   "cell_type": "markdown",
   "metadata": {},
   "source": [
    "Let $D^{(1)}$ represent dose from the right beam, $D^{(2)}$ represent dose from the left beam, and $D = D^{(1)} + D^{(2)}$ represent the total dose at any point. We have\n",
    "\n",
    "* $D_Q = D_Q^{(1)}+D_Q^{(2)} = 3750~\\text{cGy}$\n",
    "* $D_a^{(1)} = 4000~\\text{cGy}$"
   ]
  },
  {
   "cell_type": "code",
   "execution_count": 58,
   "metadata": {},
   "outputs": [],
   "source": [
    "DQ = 3750 /16\n",
    "Da1 = 4000 /16\n",
    "dm = 1.5\n",
    "dQ = 8\n",
    "da1 = 3\n",
    "da2 = 2*dQ - da1\n",
    "rc1 = 12\n",
    "r1 = 11\n",
    "rc2 = 8\n",
    "r2 = 8\n",
    "SSD = 100"
   ]
  },
  {
   "cell_type": "markdown",
   "metadata": {},
   "source": [
    "## Part A"
   ]
  },
  {
   "cell_type": "markdown",
   "metadata": {},
   "source": [
    "Compute ${}_s D_{(a/N)}^{(1)}$ and use this to get ${}_s D_{N}^{(1)}$\n",
    "\n",
    "* ${}_s D_{(a/N)}^{(1)}$ only given by PDD here"
   ]
  },
  {
   "cell_type": "code",
   "execution_count": 59,
   "metadata": {},
   "outputs": [],
   "source": [
    "sDaN_1 = PDD_int(r1, da1)[0]\n",
    "sDN1 = 1/sDaN_1 * Da1"
   ]
  },
  {
   "cell_type": "markdown",
   "metadata": {},
   "source": [
    "Use this to get $D_{Q}^{(1)} = {}_s D_{(Q/N)}^{(1)} {}_s D_{N}^{(1)}$\n",
    "\n",
    "* ${}_s D_{(Q/N)}^{(1)}$ only given by PDD here"
   ]
  },
  {
   "cell_type": "code",
   "execution_count": 60,
   "metadata": {},
   "outputs": [],
   "source": [
    "sDQN_1 = PDD_int(r1, dQ)[0]\n",
    "DQ1 = sDN1 * sDQN_1"
   ]
  },
  {
   "cell_type": "markdown",
   "metadata": {},
   "source": [
    "Use this to get $D_Q^{(2)}$ using $D_Q = D_Q^{(1)} + D_Q^{(2)}$"
   ]
  },
  {
   "cell_type": "code",
   "execution_count": 61,
   "metadata": {},
   "outputs": [],
   "source": [
    "DQ2 = DQ - DQ1"
   ]
  },
  {
   "cell_type": "markdown",
   "metadata": {},
   "source": [
    "Use this to get $ {}_s D_{N}^{(2)}$ using $D_{Q}^{(2)} = {}_s D_{(Q/N)}^{(2)} {}_s D_{N}^{(2)}$\n",
    "\n",
    "* ${}_s D_{(Q/N)}^{(2)}$ only given by PDD here"
   ]
  },
  {
   "cell_type": "code",
   "execution_count": 62,
   "metadata": {},
   "outputs": [],
   "source": [
    "sDN2 = DQ2 / PDD_int(r2, dQ)[0]"
   ]
  },
  {
   "cell_type": "markdown",
   "metadata": {},
   "source": [
    "It follows that"
   ]
  },
  {
   "cell_type": "code",
   "execution_count": 64,
   "metadata": {},
   "outputs": [
    {
     "name": "stdout",
     "output_type": "stream",
     "text": [
      "sDN1 = 262.83 cGy per fraction\n",
      "sDN2 = 49.71 cGy per fraction\n"
     ]
    }
   ],
   "source": [
    "print(f'sDN1 = {sDN1:.2f} cGy per fraction')\n",
    "print(f'sDN2 = {sDN2:.2f} cGy per fraction')"
   ]
  },
  {
   "cell_type": "markdown",
   "metadata": {},
   "source": [
    "## Part B"
   ]
  },
  {
   "cell_type": "markdown",
   "metadata": {},
   "source": [
    "We already know $D_a^{(1)}$; we just need $D_a^{(2)}$, which is related to ${}_s D_{N}^{(2)}$ through $D_a^{(2)} = {}_s D_{(a/N)}^{(1)} {}_s D_{N}^{(2)}$\n",
    "\n",
    "* ${}_s D_{(a/N)}^{(1)}$ given only by PDD in this case"
   ]
  },
  {
   "cell_type": "code",
   "execution_count": 65,
   "metadata": {},
   "outputs": [
    {
     "name": "stdout",
     "output_type": "stream",
     "text": [
      "The total dose is 4447.75 cGy\n"
     ]
    }
   ],
   "source": [
    "Da2 = PDD_int(r2, da2)[0] * sDN2\n",
    "Da = Da1 + Da2\n",
    "print(f'The total dose is {16*Da:.2f} cGy')"
   ]
  },
  {
   "cell_type": "markdown",
   "metadata": {},
   "source": [
    "## Part C"
   ]
  },
  {
   "cell_type": "markdown",
   "metadata": {},
   "source": [
    "Let's look at dose along the entire CAX, from left to right (corresponds to figure above)"
   ]
  },
  {
   "cell_type": "code",
   "execution_count": 66,
   "metadata": {},
   "outputs": [],
   "source": [
    "d2 = np.linspace(dm, 2*dQ-dm, 1000)\n",
    "d1 = 2*dQ - d2\n",
    "D = PDD_int(r1, d1) * sDN1 \\\n",
    "    + PDD_int(r2, d2) * sDN2 "
   ]
  },
  {
   "cell_type": "markdown",
   "metadata": {},
   "source": [
    "Plot"
   ]
  },
  {
   "cell_type": "code",
   "execution_count": 67,
   "metadata": {},
   "outputs": [
    {
     "data": {
      "image/png": "[encoded data removed]",
      "text/plain": [
       "<Figure size 504x216 with 1 Axes>"
      ]
     },
     "metadata": {
      "needs_background": "light"
     },
     "output_type": "display_data"
    }
   ],
   "source": [
    "plt.figure(figsize=(7,3))\n",
    "plt.plot(d2, D)\n",
    "plt.xlabel('Distance from Posterior [cm]')\n",
    "plt.ylabel('Dose/Fraction [cGy]')\n",
    "plt.grid()"
   ]
  },
  {
   "cell_type": "markdown",
   "metadata": {},
   "source": [
    "As expected, the maximum dose corresponds to $d_m$ from the anterior surface"
   ]
  },
  {
   "cell_type": "code",
   "execution_count": 68,
   "metadata": {},
   "outputs": [
    {
     "name": "stdout",
     "output_type": "stream",
     "text": [
      "The maximum dose along the CAX is 288.5 cGy/fraction (4616.8cGy total)\n"
     ]
    }
   ],
   "source": [
    "print(f'The maximum dose along the CAX is {D[-1]:.1f} cGy/fraction ({16*D[-1]:.1f}cGy total)')"
   ]
  },
  {
   "cell_type": "markdown",
   "metadata": {},
   "source": [
    "The off axis ratio can be added to ${}_s D_{(m/N)}^{(i)}$ for each beam ($m$ specifies max dose point)"
   ]
  },
  {
   "cell_type": "code",
   "execution_count": 79,
   "metadata": {},
   "outputs": [
    {
     "name": "stdout",
     "output_type": "stream",
     "text": [
      "The off axis dose (x=2cm) at the specified point is 291.57 cGy/fraction (4665.2cGy total)\n"
     ]
    }
   ],
   "source": [
    "x1 = 2\n",
    "x2 = 2\n",
    "d1 = 1.5\n",
    "d2 = 2*dQ - 1.5\n",
    "sDmN_1 = OAR_int(d1, x1)[0]\n",
    "sDmN_2 = OAR_int(d2, x2)[0] * PDD_int(r2, d2)[0]\n",
    "D_off = sDmN_1 * sDN1 + sDmN_2 * sDN2\n",
    "print(f'The off axis dose (x=2cm) at the specified point is {D_off:.2f} cGy/fraction ({16*D_off:.1f}cGy total)')"
   ]
  },
  {
   "cell_type": "markdown",
   "metadata": {},
   "source": [
    "The dose at the off axis point will be smaller, because this locations is at the edge 8x8cm$^2$ field, meaning it is in the penumbra region (and the dose rapidly decreases here).\n",
    "\n",
    "The dose at an off axis point of $4~$cm will be greater. This is because the off axis dose increases at $d_m$. The reason this occurs is\n",
    "\n",
    "* (i) due to scatter in the patient which causes radiation to spread out\n",
    "* (ii) due to the radial dependence of both fluence and energy fluence in the field at the surface. In particular, the beam is not a constant 6MeV (this is simply the maximum energy), and many of the lower energy photons (which are far more abundant and contribute significantly to the radiation dose) are further from the central axis."
   ]
  },
  {
   "cell_type": "markdown",
   "metadata": {},
   "source": [
    "## Part D"
   ]
  },
  {
   "cell_type": "markdown",
   "metadata": {},
   "source": [
    "Assuming an SSD setup where $\\dot{D}_{0,{SSD}} = 1~$cGy/MU we have\n",
    "\n",
    "$${}_s D_N^{(i)} = S_p(r_d)S_c(r_c) \\dot{D}_{0,{SSD}} \\cdot MU$$\n",
    "\n",
    "and we can use this to solve for the monitor units in each case"
   ]
  },
  {
   "cell_type": "code",
   "execution_count": 80,
   "metadata": {},
   "outputs": [
    {
     "name": "stdout",
     "output_type": "stream",
     "text": [
      "Monitor units from anterior position: 260.5 MU/fraction (4167.8 MU total)\n",
      "Monitor units from anterior position: 50.6 MU/fraction (809.5 MU total)\n"
     ]
    }
   ],
   "source": [
    "MU1 = sDN1 / (Sp_int(r1*(SSD+dm)/SSD)[()]*Sc_int(rc1,rc1)[0])\n",
    "MU2 = sDN2 / (Sp_int(r2*(SSD+dm)/SSD)[()]*Sc_int(rc2,rc2)[0])\n",
    "print(f'Monitor units from anterior position: {MU1:.1f} MU/fraction ({16*MU1:.1f} MU total)')\n",
    "print(f'Monitor units from anterior position: {MU2:.1f} MU/fraction ({16*MU2:.1f} MU total)')"
   ]
  },
  {
   "cell_type": "markdown",
   "metadata": {},
   "source": [
    "## Part E"
   ]
  },
  {
   "cell_type": "markdown",
   "metadata": {},
   "source": [
    "If the maxmimum tissue dose was restricted to 4500cGy, one could give proportionally more radiation from the field pointing at the posterior side. This would involve increasing the number of MU from the \"posterior-entering beam\", and decreasing the number of MU from the \"anterior-entering\" beam."
   ]
  },
  {
   "cell_type": "markdown",
   "metadata": {},
   "source": [
    "# Question 5"
   ]
  },
  {
   "cell_type": "markdown",
   "metadata": {},
   "source": [
    "## Part A"
   ]
  },
  {
   "cell_type": "markdown",
   "metadata": {},
   "source": [
    "The idea is to use the wedges to shield the areas that contain significant \"curvature\". Such surfaces, which differ significantly from ideal perpendulular and flat surfaces, result in increased surface dose. This is not ideal."
   ]
  },
  {
   "cell_type": "markdown",
   "metadata": {},
   "source": [
    "<p align=\"center\">\n",
    "  <img src=\"images/a3p3.png\" alt=\"drawing\" width=\"600\" align=\"center\"/>\n",
    "</p>"
   ]
  },
  {
   "cell_type": "markdown",
   "metadata": {},
   "source": [
    "## Part B"
   ]
  },
  {
   "cell_type": "markdown",
   "metadata": {},
   "source": [
    "The dose at $Q$ from each field $i$ is\n",
    "\n",
    "$$D_Q^{(i)} = \\frac{w_i}{\\sum_i w_i} D_Q $$\n",
    "\n",
    "This can be used to find $D_{N_i}$\n",
    "\n",
    "$$D_{Q_i} = TMR(d_i, r_{d_i}) D_{N_i}$$\n",
    "\n",
    "and then\n",
    "\n",
    "$$D_N^{(i)} = WF \\cdot S_p(r_d)S_c(r_c) \\dot{D}_{0,{iso}} \\cdot MU$$\n",
    "\n",
    "assuming that $\\dot{D}_{0,{iso}}=1$cGy/MU"
   ]
  },
  {
   "cell_type": "code",
   "execution_count": 95,
   "metadata": {},
   "outputs": [],
   "source": [
    "SAD = 100\n",
    "dm = 1.5\n",
    "ds = np.array([6,7,6,7])\n",
    "rcs = np.array([(10,16),(10,16),(16,10),(16,10)]) #y,x\n",
    "rds = np.array([12.200]*4)  \n",
    "WFs = np.array([0.853, 0.853, 0.87, 0.87])\n",
    "wis = np.array([75, 75, 25, 25])\n",
    "DQ = 180"
   ]
  },
  {
   "cell_type": "markdown",
   "metadata": {},
   "source": [
    "Compute"
   ]
  },
  {
   "cell_type": "code",
   "execution_count": 96,
   "metadata": {},
   "outputs": [],
   "source": [
    "DQs = wis / sum(wis) * DQ\n",
    "DNis = DQs / TMR_int(rds, ds)\n",
    "MUs = DNis / (WFs * Sp_int(rds) * Sc_int(rcs[:,0], rcs[:,1]))"
   ]
  },
  {
   "cell_type": "markdown",
   "metadata": {},
   "source": [
    "In order of rows 1 to 4, the number of monitor units required is thus:"
   ]
  },
  {
   "cell_type": "code",
   "execution_count": 97,
   "metadata": {},
   "outputs": [
    {
     "name": "stdout",
     "output_type": "stream",
     "text": [
      "Number of monitor units for field 0: 86.636 MU\n",
      "Number of monitor units for field 1: 89.371 MU\n",
      "Number of monitor units for field 2: 28.129 MU\n",
      "Number of monitor units for field 3: 29.018 MU\n"
     ]
    }
   ],
   "source": [
    "[print(f'Number of monitor units for field {i}: {MUs[i]:.3f} MU') for i in range(4)];"
   ]
  },
  {
   "cell_type": "markdown",
   "metadata": {},
   "source": [
    "# Question 6"
   ]
  },
  {
   "cell_type": "markdown",
   "metadata": {},
   "source": [
    "Under regular conditions (i.e. no brass compensator), and assuming no contour correction factor, we would have\n",
    "\n",
    "$$D_{Q_i} = S_p(r_{d_i})S_c(r_c)TMR(d_i, r_{d_i})OAR(d_i, x_i) D_{0,ssd} $$\n",
    "\n",
    "The brass compensator, however, affects the intensity of the beam by $I = I_0e^{-\\mu y}$ where $y$ is the thickness of the compensator. Since $D \\propto I$, we can express ratios of doses in the plane of the isocenter\n",
    "\n",
    "$$\\frac{D_{Q_1}}{D_{Q_2}} = \\frac{TMR(d_1, r_{d_1})OAR(d_1, x_1)e^{-\\mu y_1}}{TMR(d_2, r_{d_2})OAR(d_2, x_2)e^{-\\mu y_2}} $$\n",
    "\n",
    "To enforce that such ratios of doses are equal to 1 in the plane of the isocenter, given $y_1$ at one depth, we can solve for $y_2$ at any other position:\n",
    "\n",
    "$$y_2 = -\\frac{1}{\\mu}\\ln\\left(\\frac{TMR(d_1, r_{d_1})}{TMR(d_2, r_{d_2})} \\cdot \\frac{OAR(d_1, x_1)}{OAR(d_2, x_2)} \\cdot e^{-\\mu y_1} \\right) $$"
   ]
  },
  {
   "cell_type": "markdown",
   "metadata": {},
   "source": [
    "Define values"
   ]
  },
  {
   "cell_type": "code",
   "execution_count": 113,
   "metadata": {},
   "outputs": [],
   "source": [
    "rd = 13\n",
    "dA = 18\n",
    "xA = 5\n",
    "dC = 13.4\n",
    "xC = -5\n",
    "dQ = 14.2\n",
    "xQ = 0\n",
    "mu = 0.34\n",
    "yQ = 0.4"
   ]
  },
  {
   "cell_type": "markdown",
   "metadata": {},
   "source": [
    "Get values"
   ]
  },
  {
   "cell_type": "code",
   "execution_count": 114,
   "metadata": {},
   "outputs": [
    {
     "name": "stdout",
     "output_type": "stream",
     "text": [
      "Thickness along ray line A: 0.0148 cm\n",
      "Thickness along ray line C: 0.5325 cm\n"
     ]
    }
   ],
   "source": [
    "yA = - 1/mu * np.log(TMR_int(rd, dQ)*OAR_int(dQ, xQ) \\\n",
    "                     /(TMR_int(rd, dA)*OAR_int(dA, xA))\\\n",
    "                     * np.exp(-mu*yQ))[0]\n",
    "yC = - 1/mu * np.log(TMR_int(rd, dQ)*OAR_int(dQ, xQ) \\\n",
    "                     /(TMR_int(rd, dC)*OAR_int(dC, xC))\\\n",
    "                     * np.exp(-mu*yQ))[0]\n",
    "print(f'Thickness along ray line A: {yA:.4f} cm')\n",
    "print(f'Thickness along ray line C: {yC:.4f} cm')"
   ]
  },
  {
   "cell_type": "markdown",
   "metadata": {},
   "source": [
    "# Question 7"
   ]
  },
  {
   "cell_type": "markdown",
   "metadata": {},
   "source": [
    "Let (1) denote the upper beam and (2) denote the lower beam. For both beams, we have\n",
    "\n",
    "$$\\dot{D}_N^{(i)} = S_p(r_{d_i})S_c(r_{c_i})WF(45^{\\circ}, 2) \\dot{D}_{0,iso}$$"
   ]
  },
  {
   "cell_type": "code",
   "execution_count": 122,
   "metadata": {},
   "outputs": [],
   "source": [
    "SAD = 100\n",
    "dQ0_1 = 6\n",
    "dQ0_2 = 7\n",
    "rQ0_1 = rQ0_2 = 6\n",
    "rc1 = rc2 = 6\n",
    "WF1 = WF2 = 0.861 #0.911\n",
    "DN1 = Sp_int(rQ0_1)[()]*Sc_int(rc1,rc1)[0]*WF1\n",
    "DN2 = Sp_int(rQ0_2)[()]*Sc_int(rc2,rc2)[0]*WF2"
   ]
  },
  {
   "cell_type": "markdown",
   "metadata": {},
   "source": [
    "The dose at the isocenter is then given by\n",
    "\n",
    "$$\\dot{D}_{Q_0}^{(i)} = TMR(d_{Q_0}^{(i)}, r_{Q_0}^{(i)})\\dot{D}_N^{(i)}$$"
   ]
  },
  {
   "cell_type": "code",
   "execution_count": 124,
   "metadata": {},
   "outputs": [
    {
     "name": "stdout",
     "output_type": "stream",
     "text": [
      "Field 1: 0.729cGy/MU at isocenter\n",
      "Field 2: 0.703cGy/MU at isocenter\n"
     ]
    }
   ],
   "source": [
    "DQ0_1 = TMR_int(rQ0_1, dQ0_1)[0] * DN1\n",
    "DQ0_2 = TMR_int(rQ0_2, dQ0_2)[0] * DN2\n",
    "print(f'Field 1: {DQ0_1:.3f}cGy/MU at isocenter')\n",
    "print(f'Field 2: {DQ0_2:.3f}cGy/MU at isocenter')"
   ]
  },
  {
   "cell_type": "markdown",
   "metadata": {},
   "source": [
    "The dose at the point $Q$ is given by\n",
    "\n",
    "$$\\dot{D}_{Q}^{(i)} = TMR(d_{Q}^{(i)}, r_{Q}^{(i)})\\cdot WOAR(d_{Q}^{(i)}, x_i) \\cdot \\left(\\frac{SAD}{SAD-(d_{Q_0}^{(i)}-d_{Q}^{(i)})}\\right)^2 \\cdot \\frac{S_p(r_{Q}^{(i)})}{S_p(r_{Q_0}^{(i)})} \\dot{D}_N^{(i)}$$"
   ]
  },
  {
   "cell_type": "code",
   "execution_count": 117,
   "metadata": {},
   "outputs": [],
   "source": [
    "dQ_1 = 4.3\n",
    "dQ_2 = 5.2\n",
    "x1 = 1.1 * SAD/(SAD-(dQ0_1 - dQ_1))\n",
    "x2 = 1.1 * SAD/(SAD-(dQ0_2 - dQ_2))\n",
    "rQ_1 = rQ0_1 * (SAD-(dQ0_1 - dQ_1))/SAD\n",
    "rQ_2 = rQ0_2 * (SAD-(dQ0_2 - dQ_2))/SAD"
   ]
  },
  {
   "cell_type": "markdown",
   "metadata": {},
   "source": [
    "Compute dose"
   ]
  },
  {
   "cell_type": "code",
   "execution_count": 118,
   "metadata": {},
   "outputs": [
    {
     "name": "stdout",
     "output_type": "stream",
     "text": [
      "Field 1: 0.759cGy/MU at point Q\n",
      "Field 2: 0.766cGy/MU at point Q\n"
     ]
    }
   ],
   "source": [
    "DQ1 = TMR_int(dQ_1, rQ_1) * WOAR45_int(dQ_1, x1) * (SAD/(SAD-(dQ0_1-dQ_1)))**2 * Sp_int(rQ_1)/Sp_int(rQ0_1) * DN1\n",
    "DQ2 = TMR_int(dQ_2, rQ_2) * WOAR45_int(dQ_2, x2) * (SAD/(SAD-(dQ0_2-dQ_2)))**2 * Sp_int(rQ_2)/Sp_int(rQ0_2) * DN2\n",
    "DQ1 = DQ1[0]; DQ2 = DQ2[0]\n",
    "print(f'Field 1: {DQ1:.3f}cGy/MU at point Q')\n",
    "print(f'Field 2: {DQ2:.3f}cGy/MU at point Q')"
   ]
  },
  {
   "cell_type": "markdown",
   "metadata": {},
   "source": [
    "## Part B"
   ]
  },
  {
   "cell_type": "markdown",
   "metadata": {},
   "source": [
    "We have the following system of linear equations\n",
    "\n",
    "$$\\dot{D}_{Q}^{(1)} MU_1+ \\dot{D}_{Q}^{(2)} MU_2 = 200$$\n",
    "$$\\dot{D}_{Q_0}^{(1)} MU_1 - 0.8\\dot{D}_{Q_0}^{(2)} MU_2 = 0$$\n",
    "\n",
    "* Equation 1 enforces 200cGy is given to point $Q$\n",
    "* Equation 2 enforces the weighting scheme of 0.8:1 at the isocenter\n",
    "\n",
    "This can be written as a matrix equation, which can easily be inverted to get $MU_1$ and $MU_2$:\n",
    "\n",
    "$$\\begin{bmatrix}\\dot{D}_{Q}^{(1)} & \\dot{D}_{Q}^{(2)}\\\\\\dot{D}_{Q_0}^{(1)} &  - 0.8\\dot{D}_{Q_0}^{(2)}\\end{bmatrix} \\begin{bmatrix}MU_1 \\\\ MU_2 \\end{bmatrix} = \\begin{bmatrix}200 \\\\ 0 \\end{bmatrix}$$"
   ]
  },
  {
   "cell_type": "markdown",
   "metadata": {},
   "source": [
    "where $MU_1$ is the number of monitor units from beam 1 and MU2 is the number of monitor units from beam 2"
   ]
  },
  {
   "cell_type": "code",
   "execution_count": 125,
   "metadata": {},
   "outputs": [
    {
     "name": "stdout",
     "output_type": "stream",
     "text": [
      "Number of monitor units beam 1: 114.12 MU\n",
      "Number of monitor units beam 2: 148.02 MU\n"
     ]
    }
   ],
   "source": [
    "A = np.array([[DQ1, DQ2],[DQ0_1, -0.8*DQ0_2]])\n",
    "b = np.array([200,0])\n",
    "MU1, MU2 = np.linalg.inv(A)@b\n",
    "print(f'Number of monitor units beam 1: {MU1:.2f} MU')\n",
    "print(f'Number of monitor units beam 2: {MU2:.2f} MU')"
   ]
  },
  {
   "cell_type": "markdown",
   "metadata": {},
   "source": [
    "## Part C\n",
    "\n",
    "This is the same as part B, except that the weighting is now at point $Q$, and the weights are equal (changes only the second equation)\n",
    "\n",
    "$$\\dot{D}_Q^{(1)} MU_1 + \\dot{D}_Q^{(2)} MU_2 = 200$$\n",
    "$$\\dot{D}_Q^{(1)} MU_1 - \\dot{D}_Q^{(2)} MU_2 = 0$$"
   ]
  },
  {
   "cell_type": "code",
   "execution_count": 126,
   "metadata": {},
   "outputs": [
    {
     "name": "stdout",
     "output_type": "stream",
     "text": [
      "Number of monitor units beam 1: 131.71 MU\n",
      "Number of monitor units beam 2: 130.58 MU\n"
     ]
    }
   ],
   "source": [
    "A = np.array([[DQ1, DQ2],[DQ1, -DQ2]])\n",
    "b = np.array([200,0])\n",
    "MU1, MU2 = np.linalg.inv(A)@b\n",
    "print(f'Number of monitor units beam 1: {MU1:.2f} MU')\n",
    "print(f'Number of monitor units beam 2: {MU2:.2f} MU')"
   ]
  },
  {
   "cell_type": "markdown",
   "metadata": {},
   "source": [
    "# Question 8"
   ]
  },
  {
   "cell_type": "markdown",
   "metadata": {},
   "source": [
    "## Part A"
   ]
  },
  {
   "cell_type": "markdown",
   "metadata": {},
   "source": [
    "Note that $d=0.5$cm gives 95\\%"
   ]
  },
  {
   "cell_type": "code",
   "execution_count": 127,
   "metadata": {},
   "outputs": [
    {
     "data": {
      "text/plain": [
       "0.95"
      ]
     },
     "execution_count": 127,
     "metadata": {},
     "output_type": "execute_result"
    }
   ],
   "source": [
    "PDD18_int(0.5)[()]"
   ]
  },
  {
   "cell_type": "markdown",
   "metadata": {},
   "source": [
    "## Part B"
   ]
  },
  {
   "cell_type": "markdown",
   "metadata": {},
   "source": [
    "We have\n",
    "\n",
    "$${}_s D_N = \\dot{D}_{0,{SSD}} \\cdot MU$$\n",
    "\n",
    "since the applicator and insert factors (which give $S_e$) for a $r_c=10 \\times 10$cm$^2$ field with $r=10$cm are both equal to 1. We also have\n",
    "\n",
    "$$D_A = P(d_A + d_B, r_d) {}_s D_N$$\n",
    "\n",
    "where $D_A = 0.95 D$ is 95\\% of the prescribed dose. These equaitons can be used to solve for the $MU$:\n",
    "\n",
    "$$MU = \\frac{0.95 D}{P(d_A + d_B, r) \\dot{D}_{0,{SSD}}}$$\n",
    "\n",
    "* $d_A = 4.5$cm\n",
    "* $d_B = 0.5$cm\n",
    "* $r = 10$cm\n",
    "* $r_c = 10 \\times 10$cm$^2$\n",
    "* $D = 4000$cGy"
   ]
  },
  {
   "cell_type": "code",
   "execution_count": 134,
   "metadata": {},
   "outputs": [
    {
     "name": "stdout",
     "output_type": "stream",
     "text": [
      "Monitor units required: 4108.1 MU\n"
     ]
    }
   ],
   "source": [
    "dA = 4.5\n",
    "dB = 0.5\n",
    "D = 4000\n",
    "r = 10\n",
    "MU = 0.95 * D / (PDD18_int(dA+dB) * 1)\n",
    "print(f'Monitor units required: {MU:.1f} MU')"
   ]
  },
  {
   "cell_type": "markdown",
   "metadata": {},
   "source": [
    "## Part C"
   ]
  },
  {
   "cell_type": "markdown",
   "metadata": {},
   "source": [
    "According to the data table, the PDD is maximized (100%) at 2-3.8cm depth (corresponding to 1.5-3.3cm depth in the patient, when taking into account the Bolus depth). The dose is"
   ]
  },
  {
   "cell_type": "code",
   "execution_count": 137,
   "metadata": {},
   "outputs": [
    {
     "name": "stdout",
     "output_type": "stream",
     "text": [
      "The dose in this range is 4108.11cGy\n"
     ]
    }
   ],
   "source": [
    "print(f'The dose in this range is {MU:.2f}cGy')"
   ]
  },
  {
   "cell_type": "markdown",
   "metadata": {},
   "source": [
    "The doses at all the points are given by\n",
    "\n",
    "$$D_i = P(d_i) {}_s D_N$$"
   ]
  },
  {
   "cell_type": "code",
   "execution_count": 138,
   "metadata": {},
   "outputs": [],
   "source": [
    "dS = 0.5\n",
    "dB = dS + 8\n",
    "dC = dB + 8 - 2.5\n",
    "ds = np.array([dS, dB, dC])\n",
    "ll = ['S', 'B', 'C']"
   ]
  },
  {
   "cell_type": "markdown",
   "metadata": {},
   "source": [
    "Print doses:"
   ]
  },
  {
   "cell_type": "code",
   "execution_count": 141,
   "metadata": {},
   "outputs": [
    {
     "name": "stdout",
     "output_type": "stream",
     "text": [
      "Dose at point S: 3902.70cGy\n",
      "Dose at point B: 269.08cGy\n",
      "Dose at point C: 147.89cGy\n"
     ]
    }
   ],
   "source": [
    "Ds = PDD18_int(ds) * MU\n",
    "[print(f'Dose at point {l}: {D:.2f}cGy') for (l,D) in zip (ll,Ds)];"
   ]
  }
 ],
 "metadata": {
  "kernelspec": {
   "display_name": "Python 3",
   "language": "python",
   "name": "python3"
  },
  "language_info": {
   "codemirror_mode": {
    "name": "ipython",
    "version": 3
   },
   "file_extension": ".py",
   "mimetype": "text/x-python",
   "name": "python",
   "nbconvert_exporter": "python",
   "pygments_lexer": "ipython3",
   "version": "3.8.5"
  }
 },
 "nbformat": 4,
 "nbformat_minor": 4
}
