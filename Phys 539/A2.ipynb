{
 "cells": [
  {
   "cell_type": "code",
   "execution_count": 1,
   "metadata": {},
   "outputs": [],
   "source": [
    "import numpy as np\n",
    "import matplotlib.pyplot as plt\n",
    "import sympy as smp\n",
    "plt.style.use(['science', 'notebook'])"
   ]
  },
  {
   "cell_type": "markdown",
   "metadata": {},
   "source": [
    "# Question 1"
   ]
  },
  {
   "cell_type": "markdown",
   "metadata": {},
   "source": [
    "<p align=\"center\">\n",
    "  <img src=\"compton.JPG\" alt=\"drawing\" width=\"300\" align=\"center\"/>\n",
    "</p>"
   ]
  },
  {
   "cell_type": "markdown",
   "metadata": {},
   "source": [
    "## Part A"
   ]
  },
  {
   "cell_type": "markdown",
   "metadata": {},
   "source": [
    "Let $c=\\hbar=1$, let the initial and final photon four vector be denoted $k_{\\mu}$ and let the initial and final electron four vector be denoted $p_{\\mu}$ Then we have\n",
    "\n",
    "$$p_{\\mu}^{\\text{init}} + k_{\\mu}^{\\text{init}} = p_{\\mu}^{\\text{fin}} + k_{\\mu}^{\\text{fin}} $$\n",
    "\n",
    "Rearranging yields\n",
    "\n",
    "$$p_{\\mu}^{\\text{init}} + k_{\\mu}^{\\text{init}} - k_{\\mu}^{\\text{fin}} = p_{\\mu}^{\\text{fin}} $$\n",
    "\n",
    "We'll drop the $\\mu$ subscript and define the notation $k^2 \\equiv k_{\\mu}k^{\\mu}$ and $k_{\\mu}p^{\\mu} = k^{\\mu}p_{\\mu} \\equiv k \\cdot p$ as the scalar product. Taking the scalar product (minkowski metric) of each side with itself yields\n",
    "\n",
    "\n",
    "$$p_i^2 + (p_i \\cdot k_i) - (p_i \\cdot k_f) + (k_i \\cdot p_i) + k_i^2 - (k_i \\cdot k_f) - (k_f \\cdot p_i) - (k_f \\cdot k_i) + k_f^2 = p_f^2$$\n",
    "\n",
    "$$ \\implies p_i^2 + k_i^2 + k_f^2 - 2p_ik_f +2k_ip_i - 2k_f k_i = p_f^2  $$\n",
    "\n",
    "Lets find what these terms are equal to\n",
    "\n",
    "* $k_i^2 = k_f^2 = 0$ (no rest mass)\n",
    "* $p_i^2 = p_f^2 = m^2$ (mass of electron)\n",
    "* $p_i \\cdot k_i = (m,0,0,0) \\cdot (E,E,0,0) = Em$\n",
    "* $p_i \\cdot k_f = (m,0,0,0) \\cdot (E',E'\\cos\\theta,0,0) = E'm$\n",
    "* $k_f \\cdot k_i = (E', E'\\cos\\theta, E'\\sin\\theta, 0) \\cdot (E,E,0,0) = EE'-EE'\\cos\\theta = EE'(1-\\cos\\theta)$\n",
    "\n",
    "So\n",
    "\n",
    "$$m^2 -2E'm + 2Em - 2EE'(1-\\cos\\theta) = m^2$$\n",
    "\n",
    "Cancelling out the $m^2$ and rearranging yields\n",
    "\n",
    "$$E'(-2E(1-\\cos\\theta) -2m) = -2Em$$\n",
    "\n",
    "$$\\boxed{\\implies E' = \\frac{2Em}{2m+2E(1-\\cos\\theta)} = \\frac{E}{1+\\frac{E}{m}(1-\\cos\\theta)}}$$\n",
    "\n",
    "The kinetic of the electron is $T=E-E'$ by energy conservation\n",
    "\n",
    "$$\\boxed{T = E - \\frac{E}{1+\\frac{E}{m}(1-\\cos\\theta)} = \\frac{E(1+\\frac{E}{m}(1-\\cos\\theta)) - E}{1+\\frac{E}{m}(1-\\cos\\theta)} = \\frac{E\\alpha(1-\\cos\\theta)}{1+\\alpha(1-\\cos\\theta)}}$$\n",
    "\n",
    "where $\\alpha = E/m$ (or in standard units $\\alpha = E/(mc^2))$"
   ]
  },
  {
   "cell_type": "markdown",
   "metadata": {},
   "source": [
    "## Part B"
   ]
  },
  {
   "cell_type": "markdown",
   "metadata": {},
   "source": [
    "The four vector of the electron in its final state is $(T+m, q\\cos\\psi, q\\sin\\psi, 0)$. Taking the scaler product we get\n",
    "\n",
    "$$p_{\\mu}p^{\\mu} = m^2$$\n",
    "\n",
    "Thus\n",
    "\n",
    "$$(T+m)^2 - q^2 = m^2 \\implies q^2 = T^2 + 2Tm$$\n",
    "\n",
    "Now clearly $\\lim_{\\alpha \\to 0} T =0$ but\n",
    "\n",
    "$$\\lim_{\\alpha \\to 0} Tm = \\lim_{\\alpha \\to 0} \\frac{E^2}{1+\\alpha(1-\\cos\\theta)}{1+\\alpha(1-\\cos\\theta) = E^2(1-\\cos\\theta)}$$\n",
    "\n",
    "Thus\n",
    "\n",
    "$$q^2 = 2E^2(1-\\cos\\theta) = 2E^2 \\cdot \\sin^2(\\theta/2)$$\n",
    "\n",
    "and taking the square root yields\n",
    "\n",
    "$$\\boxed{q = 2E\\sin(\\theta/2)}$$\n",
    "\n",
    "In standard units, note we need to divide by $c$ to get momentum yielding $q = 2(E/c)\\sin(\\theta/2) = 2(h\\nu/c)\\sin(\\theta/2)$."
   ]
  },
  {
   "cell_type": "markdown",
   "metadata": {},
   "source": [
    "## Part C"
   ]
  },
  {
   "cell_type": "markdown",
   "metadata": {},
   "source": [
    "(Note that we are in $c=1$ units here so energy=momentum for photons)\n",
    "\n",
    "* Since $E$ is the initial x-momentum of the photon and $E'\\cos\\theta$ is the final x-momenutm \n",
    "\n",
    "$$q\\cos\\psi = E - E'\\cos\\theta$$\n",
    "\n",
    "* Since $0$ is the initial y-momentum of the photon and $E'\\sin\\theta$ is the final y-momenutm \n",
    "\n",
    "$$q\\sin\\psi = E'\\sin\\theta$$\n",
    "\n",
    "Substituting in $E'$ and then dividing the second equation by the first yields\n",
    "\n",
    "\n",
    "$\\tan\\psi=$\n",
    "\n",
    "<p align=\"center\">\n",
    "  <img src=\"a2p1.JPG\" alt=\"drawing\" width=\"600\" align=\"center\"/>\n",
    "</p>\n",
    "\n",
    "It follows that \n",
    "\n",
    "$$\\boxed{\\tan\\psi = \\frac{\\cot(\\theta/2)}{1+\\alpha}}$$"
   ]
  },
  {
   "cell_type": "markdown",
   "metadata": {},
   "source": [
    "## Part D"
   ]
  },
  {
   "cell_type": "markdown",
   "metadata": {},
   "source": [
    "Consider $E>>m$ and $\\theta \\to \\pi$ in the compton energy formula\n",
    "\n",
    "$$E' = \\frac{E}{1+\\frac{E}{m}(1-\\cos\\theta)} \\approx \\frac{E}{1+2\\frac{E}{m}} \\approx \\frac{E}{2\\frac{E}{m}} = \\frac{m}{2}$$\n",
    "\n",
    "Since $m = 511~\\text{keV}$ we get $E' = 511~\\text{keV}/2 = 255~\\text{keV}$"
   ]
  },
  {
   "cell_type": "markdown",
   "metadata": {},
   "source": [
    "# Question 4"
   ]
  },
  {
   "cell_type": "markdown",
   "metadata": {},
   "source": [
    "## Part A"
   ]
  },
  {
   "cell_type": "markdown",
   "metadata": {},
   "source": [
    "Taking $\\alpha \\to 0$ (the limit where the incoming photon energy is much much less than the rest mass of the electron) we get\n",
    "\n",
    "$$\\frac{d\\sigma^{cl}}{d\\Omega} = \\frac{r_e^2}{2}(1+\\cos^2\\theta)$$\n",
    "\n",
    "Also, since\n",
    "\n",
    "$$\\begin{align} \\sigma &= \\int d\\sigma\\\\ \n",
    "&=\\int \\frac{d\\sigma}{d\\Omega} d\\Omega\\\\\n",
    "&= \\int_{0}^{2\\pi} \\int_{0}^{\\pi} \\frac{d\\sigma}{d\\Omega} \\sin\\theta d\\theta d\\phi\\\\\n",
    "&= \\int_{0}^{\\pi} \\left( \\int_{0}^{2\\pi}  \\frac{d\\sigma}{d\\Omega} \\sin\\theta d\\phi \\right) d\\theta \\end{align}$$\n",
    "\n",
    "We can identify the bracket term as $d\\sigma/d\\theta$:\n",
    "\n",
    "$$\\begin{align}\\frac{d\\sigma^{cl}}{d\\theta} &= \\int_{0}^{2\\pi}  \\frac{d\\sigma^{cl}}{d\\Omega} \\sin\\theta d\\phi\\\\\n",
    "& = \\pi r_e^2 \\sin(\\theta)(1+\\cos^2\\theta)\\end{align}$$"
   ]
  },
  {
   "cell_type": "markdown",
   "metadata": {},
   "source": [
    "Get data"
   ]
  },
  {
   "cell_type": "code",
   "execution_count": 2,
   "metadata": {},
   "outputs": [],
   "source": [
    "theta = np.linspace(0, np.pi, 1000)\n",
    "dsdo = 0.5*(1+np.cos(theta)**2)\n",
    "dsdt = np.pi*np.sin(theta)*(1+np.cos(theta)**2)"
   ]
  },
  {
   "cell_type": "markdown",
   "metadata": {},
   "source": [
    "Plot"
   ]
  },
  {
   "cell_type": "code",
   "execution_count": 3,
   "metadata": {},
   "outputs": [
    {
     "data": {
      "image/png": "[encoded data removed]",
      "text/plain": [
       "<Figure size 648x216 with 2 Axes>"
      ]
     },
     "metadata": {
      "needs_background": "light"
     },
     "output_type": "display_data"
    }
   ],
   "source": [
    "fig, ax = plt.subplots(1, 2, figsize=(9,3))\n",
    "ax[0].plot(theta, dsdo)\n",
    "ax[1].plot(theta, dsdt)\n",
    "ax[0].set_xlabel(r'$\\theta$', fontsize=20)\n",
    "ax[0].set_ylabel(r'$\\frac{1}{r_e^2}\\frac{d\\sigma^{cl}}{d\\Omega}$', fontsize=20)\n",
    "ax[1].set_xlabel(r'$\\theta$', fontsize=20)\n",
    "ax[1].set_ylabel(r'$\\frac{1}{r_e^2}\\frac{d\\sigma^{cl}}{d\\theta}$', fontsize=20)\n",
    "fig.suptitle('Cross Section of Thomson Scattering', fontsize=20)\n",
    "fig.tight_layout()\n",
    "plt.show()"
   ]
  },
  {
   "cell_type": "markdown",
   "metadata": {},
   "source": [
    "Note that $d\\sigma/d\\theta$ is smaller closer to $0$ and $\\pi$ and relatively larger at $\\pi/2$; this is because we are integratting over $\\phi$, which takes into account the larger probabilities near the center $\\pi/2$ due to a larger circumfrance than at the poles of $0$ and $\\pi$"
   ]
  },
  {
   "cell_type": "markdown",
   "metadata": {},
   "source": [
    "Finding the extrema of $d\\sigma/d\\theta$:"
   ]
  },
  {
   "cell_type": "code",
   "execution_count": 4,
   "metadata": {},
   "outputs": [
    {
     "data": {
      "text/plain": [
       "[pi/2, 2*atan(sqrt(2 - sqrt(3))), 2*atan(sqrt(sqrt(3) + 2))]"
      ]
     },
     "execution_count": 4,
     "metadata": {},
     "output_type": "execute_result"
    }
   ],
   "source": [
    "theta = smp.symbols(r'\\theta', real=True, positive=True)\n",
    "expr = smp.sin(theta)*(1+smp.cos(theta)**2)\n",
    "smp.solve(smp.diff(expr,theta))"
   ]
  },
  {
   "cell_type": "markdown",
   "metadata": {},
   "source": [
    "### Minima and Maxima\n",
    "\n",
    "* $d\\sigma^{cl}/d\\Omega$: **Maxima** at the poles $\\theta=0$ and $\\theta=\\pi$ and **Minimum** at the center $\\theta=\\pi/2$. \n",
    "* $d\\sigma^{cl}/d\\theta$: **Maxima** at the points $\\theta=2\\tan^{-1}\\left(\\sqrt{2 \\pm \\sqrt{3}}\\right)$ and **Minimum** at the poles $\\theta=0$ and $\\theta=\\pi$. "
   ]
  },
  {
   "cell_type": "markdown",
   "metadata": {},
   "source": [
    "## Part B"
   ]
  },
  {
   "cell_type": "markdown",
   "metadata": {},
   "source": [
    "The total cross section is given by\n",
    "\n",
    "$$\\sigma = \\int_{0}^{\\pi} \\frac{d\\sigma^{cl}}{d\\theta} d\\theta$$"
   ]
  },
  {
   "cell_type": "code",
   "execution_count": 5,
   "metadata": {},
   "outputs": [
    {
     "data": {
      "text/latex": [
       "$\\displaystyle \\frac{8 \\pi}{3}$"
      ],
      "text/plain": [
       "8*pi/3"
      ]
     },
     "execution_count": 5,
     "metadata": {},
     "output_type": "execute_result"
    }
   ],
   "source": [
    "dsdt = smp.pi*smp.sin(theta)*(1+smp.cos(theta)**2)\n",
    "smp.integrate(dsdt, (theta, 0, smp.pi))"
   ]
  },
  {
   "cell_type": "markdown",
   "metadata": {},
   "source": [
    "So the total cross section is $$\\boxed{\\sigma^{cl} = \\frac{8\\pi}{3}r_e^2}$$"
   ]
  },
  {
   "cell_type": "markdown",
   "metadata": {},
   "source": [
    "## Part C"
   ]
  },
  {
   "cell_type": "markdown",
   "metadata": {},
   "source": [
    "This is a tough one. Through applications of chain rule, we get\n",
    "\n",
    "$$\\frac{d\\sigma}{dT} = \\frac{d\\sigma}{d\\Omega}\\left(\\frac{dT}{d\\Omega}\\right)^{-1} = 2\\pi\\sin\\theta \\frac{d\\sigma}{d\\Omega}\\left(\\frac{dT}{d\\theta}\\right)^{-1\n",
    "}$$\n",
    "\n",
    "(we also used $\\frac{dT}{d\\Omega} = \\frac{1}{2\\pi\\sin\\theta} \\frac{dT}{d\\theta}$ through similar logic to that of Question 4 Part A)\n",
    "\n",
    "**I will solve this using the symbolic programming package sympy. If this is solveable by hand, then props to whoever attempted it**.\n"
   ]
  },
  {
   "cell_type": "markdown",
   "metadata": {},
   "source": [
    "Define all variables needed, including expression for kinetic energy in terms of $\\alpha$, $E$, and $\\theta$"
   ]
  },
  {
   "cell_type": "code",
   "execution_count": 6,
   "metadata": {},
   "outputs": [
    {
     "data": {
      "text/latex": [
       "$\\displaystyle \\frac{E \\alpha \\left(1 - \\cos{\\left(\\theta \\right)}\\right)}{\\alpha \\left(1 - \\cos{\\left(\\theta \\right)}\\right) + 1}$"
      ],
      "text/plain": [
       "E*\\alpha*(1 - cos(\\theta))/(\\alpha*(1 - cos(\\theta)) + 1)"
      ]
     },
     "execution_count": 6,
     "metadata": {},
     "output_type": "execute_result"
    }
   ],
   "source": [
    "E, alpha, T = smp.symbols(r'E \\alpha T', real=True, positive=True)\n",
    "T_expr = E*alpha*(1-smp.cos(theta))/(1+alpha*(1-smp.cos(theta)))\n",
    "T_expr"
   ]
  },
  {
   "cell_type": "markdown",
   "metadata": {},
   "source": [
    "Solve the expression above for $\\theta$ to get $\\theta(T)$. We will need to substitute this into many expressions, since in the end we want everything as a function of $\\theta$ and not of $T$"
   ]
  },
  {
   "cell_type": "code",
   "execution_count": 7,
   "metadata": {},
   "outputs": [
    {
     "data": {
      "text/latex": [
       "$\\displaystyle \\operatorname{acos}{\\left(\\frac{E \\alpha - T \\alpha - T}{\\alpha \\left(E - T\\right)} \\right)}$"
      ],
      "text/plain": [
       "acos((E*\\alpha - T*\\alpha - T)/(\\alpha*(E - T)))"
      ]
     },
     "execution_count": 7,
     "metadata": {},
     "output_type": "execute_result"
    }
   ],
   "source": [
    "theta_expr = smp.solve(T-T_expr, theta)[1]\n",
    "theta_expr"
   ]
  },
  {
   "cell_type": "markdown",
   "metadata": {},
   "source": [
    "Define $d\\sigma/d\\Omega$ for compton:"
   ]
  },
  {
   "cell_type": "code",
   "execution_count": 8,
   "metadata": {},
   "outputs": [
    {
     "data": {
      "text/latex": [
       "$\\displaystyle \\frac{\\left(\\frac{\\alpha^{2} \\left(1 - \\cos{\\left(\\theta \\right)}\\right)^{2}}{\\left(\\alpha \\left(1 - \\cos{\\left(\\theta \\right)}\\right) + 1\\right) \\left(\\cos^{2}{\\left(\\theta \\right)} + 1\\right)} + 1\\right) \\left(\\frac{\\cos^{2}{\\left(\\theta \\right)}}{2} + \\frac{1}{2}\\right)}{\\left(\\alpha \\left(1 - \\cos{\\left(\\theta \\right)}\\right) + 1\\right)^{2}}$"
      ],
      "text/plain": [
       "(\\alpha**2*(1 - cos(\\theta))**2/((\\alpha*(1 - cos(\\theta)) + 1)*(cos(\\theta)**2 + 1)) + 1)*(cos(\\theta)**2/2 + 1/2)/(\\alpha*(1 - cos(\\theta)) + 1)**2"
      ]
     },
     "execution_count": 8,
     "metadata": {},
     "output_type": "execute_result"
    }
   ],
   "source": [
    "dsdo_expr = smp.Rational(1,2)*(1+smp.cos(theta)**2)/(1+alpha*(1-smp.cos(theta)))**2 * \\\n",
    "            ( 1 + alpha**2 * (1-smp.cos(theta))**2 / ((1+smp.cos(theta)**2)*(1+alpha*(1-smp.cos(theta)))))\n",
    "dsdo_expr"
   ]
  },
  {
   "cell_type": "markdown",
   "metadata": {},
   "source": [
    "Find $d\\sigma/dT$ using\n",
    "\n",
    "$$\\frac{d\\sigma}{dT} = \\frac{d\\sigma}{d\\Omega}\\left(\\frac{dT}{d\\Omega}\\right)^{-1} = 2\\pi\\sin\\theta \\frac{d\\sigma}{d\\Omega}\\left(\\frac{dT}{d\\theta}\\right)^{-1\n",
    "}$$\n",
    "\n",
    "In the second line of the cell below, I replace any instance of $\\theta$ with $\\theta(T)$ so everything is expressed in terms of kinetic energy"
   ]
  },
  {
   "cell_type": "code",
   "execution_count": 9,
   "metadata": {},
   "outputs": [
    {
     "data": {
      "text/latex": [
       "$\\displaystyle \\frac{\\pi \\left(2 E^{3} \\alpha^{2} - 4 E^{2} T \\alpha^{2} - 2 E^{2} T \\alpha + 3 E T^{2} \\alpha^{2} + 2 E T^{2} \\alpha + E T^{2} - T^{3} \\alpha^{2}\\right)}{E^{2} \\alpha^{3} \\left(E^{2} - 2 E T + T^{2}\\right)}$"
      ],
      "text/plain": [
       "pi*(2*E**3*\\alpha**2 - 4*E**2*T*\\alpha**2 - 2*E**2*T*\\alpha + 3*E*T**2*\\alpha**2 + 2*E*T**2*\\alpha + E*T**2 - T**3*\\alpha**2)/(E**2*\\alpha**3*(E**2 - 2*E*T + T**2))"
      ]
     },
     "execution_count": 9,
     "metadata": {},
     "output_type": "execute_result"
    }
   ],
   "source": [
    "dsdT = 2*smp.pi*smp.sin(theta) * dsdo_expr / smp.diff(T_expr, theta)\n",
    "dsdT = dsdT.subs(theta, theta_expr).simplify()\n",
    "dsdT"
   ]
  },
  {
   "cell_type": "markdown",
   "metadata": {},
   "source": [
    "**So $d\\sigma/dT$ is simply the expression directly above multiplied with $r_e^2$**"
   ]
  },
  {
   "cell_type": "markdown",
   "metadata": {},
   "source": [
    "### Consistency Check"
   ]
  },
  {
   "cell_type": "markdown",
   "metadata": {},
   "source": [
    "Lets make sure that the two differential cross sections $d\\sigma/d\\Omega$ and $d\\sigma/dT$ give the same total cross section:\n",
    "\n",
    "$$\\sigma = \\int \\frac{d\\sigma}{d\\Omega} = \\int_{0}^{\\pi} \\left( \\int_{0}^{2\\pi}  \\frac{d\\sigma}{d\\Omega} \\sin\\theta d\\phi \\right) d\\theta$$\n",
    "$$\\sigma = \\int_{T_{min}}^{T_{max}} \\frac{d\\sigma}{dT} dT$$"
   ]
  },
  {
   "cell_type": "markdown",
   "metadata": {},
   "source": [
    "Obtained through angular integration:"
   ]
  },
  {
   "cell_type": "code",
   "execution_count": 10,
   "metadata": {},
   "outputs": [
    {
     "data": {
      "text/latex": [
       "$\\displaystyle \\frac{\\pi \\left(2 \\alpha^{4} + 18 \\alpha^{3} + 16 \\alpha^{2} + 4 \\alpha + \\left(4 \\alpha^{4} - 4 \\alpha^{3} - 15 \\alpha^{2} - 10 \\alpha - 2\\right) \\log{\\left(2 \\alpha + 1 \\right)}\\right)}{\\alpha^{3} \\left(4 \\alpha^{2} + 4 \\alpha + 1\\right)}$"
      ],
      "text/plain": [
       "pi*(2*\\alpha**4 + 18*\\alpha**3 + 16*\\alpha**2 + 4*\\alpha + (4*\\alpha**4 - 4*\\alpha**3 - 15*\\alpha**2 - 10*\\alpha - 2)*log(2*\\alpha + 1))/(\\alpha**3*(4*\\alpha**2 + 4*\\alpha + 1))"
      ]
     },
     "execution_count": 10,
     "metadata": {},
     "output_type": "execute_result"
    }
   ],
   "source": [
    "sigma = smp.integrate(dsdo_expr*2*smp.pi*smp.sin(theta), (theta, 0, smp.pi)).simplify().simplify()\n",
    "sigma"
   ]
  },
  {
   "cell_type": "markdown",
   "metadata": {},
   "source": [
    "Obtained through kinetic energy. Given the expression for $T$ from Question 3 Part A, we can get the minimum and maximum kinetic energies given to the electron."
   ]
  },
  {
   "cell_type": "code",
   "execution_count": 11,
   "metadata": {},
   "outputs": [
    {
     "data": {
      "text/latex": [
       "$\\displaystyle \\frac{\\pi \\left(2 \\alpha^{4} + 18 \\alpha^{3} + 16 \\alpha^{2} + 4 \\alpha + \\left(4 \\alpha^{4} - 4 \\alpha^{3} - 15 \\alpha^{2} - 10 \\alpha - 2\\right) \\log{\\left(2 \\alpha + 1 \\right)}\\right)}{\\alpha^{3} \\left(4 \\alpha^{2} + 4 \\alpha + 1\\right)}$"
      ],
      "text/plain": [
       "pi*(2*\\alpha**4 + 18*\\alpha**3 + 16*\\alpha**2 + 4*\\alpha + (4*\\alpha**4 - 4*\\alpha**3 - 15*\\alpha**2 - 10*\\alpha - 2)*log(2*\\alpha + 1))/(\\alpha**3*(4*\\alpha**2 + 4*\\alpha + 1))"
      ]
     },
     "execution_count": 11,
     "metadata": {},
     "output_type": "execute_result"
    }
   ],
   "source": [
    "Tmin = 0 \n",
    "Tmax = 2*E*alpha/(1+2*alpha)\n",
    "sigma_check = smp.integrate(dsdT, (T, Tmin, Tmax)).expand().simplify().simplify()\n",
    "sigma_check"
   ]
  },
  {
   "cell_type": "markdown",
   "metadata": {},
   "source": [
    "These factors are indeed the same; thus we can be confident that the $d\\sigma/dT$ that we found is indeed the true cross section with respect to kinetic energy."
   ]
  },
  {
   "cell_type": "markdown",
   "metadata": {},
   "source": [
    "### Neat Plots"
   ]
  },
  {
   "cell_type": "markdown",
   "metadata": {},
   "source": [
    "I'm kind of curious what the probability density function looks like in kinetic energy. Let's normalize by total cross section"
   ]
  },
  {
   "cell_type": "code",
   "execution_count": 48,
   "metadata": {},
   "outputs": [],
   "source": [
    "pdf = dsdT / sigma_check\n",
    "pdf_f = smp.lambdify([T, alpha, E], pdf)"
   ]
  },
  {
   "cell_type": "markdown",
   "metadata": {},
   "source": [
    "Look at kinetic energy ranges for a few different values of $\\alpha$"
   ]
  },
  {
   "cell_type": "code",
   "execution_count": 69,
   "metadata": {},
   "outputs": [],
   "source": [
    "m = 0.511\n",
    "alphas = np.arange(1, 7, 1)\n",
    "Es = alphas*m\n",
    "Ts = [np.linspace(0, 2*E*alpha/(1+2*alpha), 1000) for (alpha, E) in zip(alphas, Es)]"
   ]
  },
  {
   "cell_type": "markdown",
   "metadata": {},
   "source": [
    "Plot"
   ]
  },
  {
   "cell_type": "code",
   "execution_count": 77,
   "metadata": {},
   "outputs": [
    {
     "data": {
      "image/png": "[encoded data removed]",
      "text/plain": [
       "<Figure size 576x288 with 1 Axes>"
      ]
     },
     "metadata": {
      "needs_background": "light"
     },
     "output_type": "display_data"
    }
   ],
   "source": [
    "plt.figure(figsize=(8,4))\n",
    "[plt.plot(T, pdf_f(T, alpha, E), label=r'$\\alpha=$'+f'{alpha}') for (T, alpha, E) in zip(Ts, alphas, Es)]\n",
    "plt.legend(ncol=2, fontsize=15, facecolor='white', framealpha=1, frameon=True, loc='upper right')\n",
    "plt.xlabel('$T$ [MeV]')\n",
    "plt.ylabel('$f(T)$ [Prob]')\n",
    "plt.grid()\n",
    "plt.show()"
   ]
  }
 ],
 "metadata": {
  "kernelspec": {
   "display_name": "Python 3",
   "language": "python",
   "name": "python3"
  },
  "language_info": {
   "codemirror_mode": {
    "name": "ipython",
    "version": 3
   },
   "file_extension": ".py",
   "mimetype": "text/x-python",
   "name": "python",
   "nbconvert_exporter": "python",
   "pygments_lexer": "ipython3",
   "version": "3.8.5"
  }
 },
 "nbformat": 4,
 "nbformat_minor": 4
}
