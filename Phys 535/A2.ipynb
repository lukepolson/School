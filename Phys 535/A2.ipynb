{
 "cells": [
  {
   "cell_type": "code",
   "execution_count": 82,
   "metadata": {},
   "outputs": [],
   "source": [
    "import numpy as np\n",
    "import matplotlib.pyplot as plt\n",
    "import pandas as pd\n",
    "from scipy import interpolate\n",
    "plt.style.use(['science', 'notebook'])\n",
    "from openpyxl import load_workbook"
   ]
  },
  {
   "cell_type": "markdown",
   "metadata": {},
   "source": [
    "Load spreadsheets"
   ]
  },
  {
   "cell_type": "code",
   "execution_count": 101,
   "metadata": {},
   "outputs": [],
   "source": []
  },
  {
   "cell_type": "markdown",
   "metadata": {},
   "source": [
    "# Question 1"
   ]
  },
  {
   "cell_type": "markdown",
   "metadata": {},
   "source": [
    "Since \n",
    "\n",
    "* $SMR(d, r_d, E) = TMR(d,r_d,E)PSF(r^{(m)}_{d},E)-TMR(d,0,E)$\n",
    "* $PSF(r^{(m)}_{d},E)= S_p(r^{(m)}_{d},E)PSF(r^{(m)}_0,E)$\n",
    "* $TMR(d,0,E)=e^{-\\mu(d-d_m)}$\n",
    "\n",
    "where $(m)$ means at the position of maximum dose, and $r_d \\approx r_d^{(m)}$, we get\n",
    "\n",
    "$$SMR(d, r_d, E) = TMR(d,r_d,E)S_p(r_{d},E)PSF(r_0,E)-e^{-\\mu(d-d_m)}$$\n",
    "\n",
    "\n"
   ]
  },
  {
   "cell_type": "markdown",
   "metadata": {},
   "source": [
    "Get data:"
   ]
  },
  {
   "cell_type": "code",
   "execution_count": 137,
   "metadata": {},
   "outputs": [],
   "source": [
    "d = np.array([5, 10, 20])\n",
    "rd = np.array([5, 10, 30])\n",
    "rd_mesh, d_mesh = np.meshgrid(rd, d)\n",
    "TMRs = np.array([[0.910,0.745,0.484],\n",
    "                 [0.928,0.786,0.532],\n",
    "                 [0.945,0.837,0.620]]).T\n",
    "Sps = np.array([[0.983,1,1.033]]*3)\n",
    "mu = 0.043\n",
    "PSF0 = 1.078\n",
    "data = TMRs*Sps*PSF0-np.exp(-mu*(d_mesh-1.5))"
   ]
  },
  {
   "cell_type": "markdown",
   "metadata": {},
   "source": [
    "Print table:"
   ]
  },
  {
   "cell_type": "code",
   "execution_count": 138,
   "metadata": {},
   "outputs": [
    {
     "data": {
      "text/html": [
       "<div>\n",
       "<style scoped>\n",
       "    .dataframe tbody tr th:only-of-type {\n",
       "        vertical-align: middle;\n",
       "    }\n",
       "\n",
       "    .dataframe tbody tr th {\n",
       "        vertical-align: top;\n",
       "    }\n",
       "\n",
       "    .dataframe thead th {\n",
       "        text-align: right;\n",
       "    }\n",
       "</style>\n",
       "<table border=\"1\" class=\"dataframe\">\n",
       "  <thead>\n",
       "    <tr style=\"text-align: right;\">\n",
       "      <th></th>\n",
       "      <th>SMR(d, 5, 6MV)</th>\n",
       "      <th>SMR(d, 10, 6MV)</th>\n",
       "      <th>SMR(d, 30, 6MV)</th>\n",
       "    </tr>\n",
       "  </thead>\n",
       "  <tbody>\n",
       "    <tr>\n",
       "      <th>d=5</th>\n",
       "      <td>0.104026</td>\n",
       "      <td>0.140106</td>\n",
       "      <td>0.192050</td>\n",
       "    </tr>\n",
       "    <tr>\n",
       "      <th>d=10</th>\n",
       "      <td>0.095607</td>\n",
       "      <td>0.153458</td>\n",
       "      <td>0.238212</td>\n",
       "    </tr>\n",
       "    <tr>\n",
       "      <th>d=20</th>\n",
       "      <td>0.061527</td>\n",
       "      <td>0.122140</td>\n",
       "      <td>0.239060</td>\n",
       "    </tr>\n",
       "  </tbody>\n",
       "</table>\n",
       "</div>"
      ],
      "text/plain": [
       "      SMR(d, 5, 6MV)  SMR(d, 10, 6MV)  SMR(d, 30, 6MV)\n",
       "d=5         0.104026         0.140106         0.192050\n",
       "d=10        0.095607         0.153458         0.238212\n",
       "d=20        0.061527         0.122140         0.239060"
      ]
     },
     "execution_count": 138,
     "metadata": {},
     "output_type": "execute_result"
    }
   ],
   "source": [
    "pd.DataFrame(data, columns=[f'SMR(d, {rdi}, 6MV)' for rdi in rd],\n",
    "                   index=[f'd={di}' for di in d])"
   ]
  },
  {
   "cell_type": "markdown",
   "metadata": {},
   "source": [
    "# Question 2"
   ]
  },
  {
   "cell_type": "code",
   "execution_count": null,
   "metadata": {},
   "outputs": [],
   "source": []
  }
 ],
 "metadata": {
  "kernelspec": {
   "display_name": "Python 3",
   "language": "python",
   "name": "python3"
  },
  "language_info": {
   "codemirror_mode": {
    "name": "ipython",
    "version": 3
   },
   "file_extension": ".py",
   "mimetype": "text/x-python",
   "name": "python",
   "nbconvert_exporter": "python",
   "pygments_lexer": "ipython3",
   "version": "3.8.5"
  }
 },
 "nbformat": 4,
 "nbformat_minor": 4
}
