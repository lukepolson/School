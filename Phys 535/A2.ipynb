{
 "cells": [
  {
   "cell_type": "code",
   "execution_count": 1,
   "metadata": {},
   "outputs": [],
   "source": [
    "import numpy as np\n",
    "import matplotlib.pyplot as plt\n",
    "import pandas as pd\n",
    "from scipy import interpolate\n",
    "plt.style.use(['science', 'notebook'])\n",
    "from openpyxl import load_workbook\n",
    "import imageio\n",
    "from scipy.interpolate import interp1d, interp2d"
   ]
  },
  {
   "cell_type": "markdown",
   "metadata": {},
   "source": [
    "Load spreadsheets"
   ]
  },
  {
   "cell_type": "code",
   "execution_count": 2,
   "metadata": {},
   "outputs": [],
   "source": [
    "def get_interp_datasheet_1D(file, sheet, skiprows, usecols, nrows, add_init=None):\n",
    "    arr = pd.read_excel(file, sheet_name=sheet, skiprows=skiprows[0], nrows=nrows[0], usecols=usecols[0]).to_numpy().ravel()\n",
    "    idx = pd.read_excel(file, sheet_name=sheet, skiprows=skiprows[1], nrows=nrows[1], usecols=usecols[1]).to_numpy().ravel()\n",
    "    if add_init:\n",
    "        idx = np.insert(idx,0,add_init[0])\n",
    "        arr = np.insert(arr,0,add_init[1])\n",
    "    #return interp1d(idx, arr, kind='linear', bounds_error=False, fill_value=(arr.ravel()[0], arr.ravel()[-1]))\n",
    "    return interp1d(idx, arr, kind='linear', bounds_error=False, fill_value='extrapolate')\n",
    "\n",
    "def get_interp_datasheet_2D(file, sheet, skiprows, usecols, nrows):\n",
    "    arr = pd.read_excel(file, sheet_name=sheet, skiprows=skiprows[0], nrows=nrows[0], usecols=usecols[0]).to_numpy()\n",
    "    idx1 = pd.read_excel(file, sheet_name=sheet, skiprows=skiprows[2], nrows=nrows[2], usecols=usecols[2]).to_numpy().ravel()\n",
    "    idx2 = pd.read_excel(file, sheet_name=sheet, skiprows=skiprows[1], nrows=nrows[1], usecols=usecols[1]).to_numpy().ravel()\n",
    "    return interp2d(idx1, idx2, arr)\n"
   ]
  },
  {
   "cell_type": "markdown",
   "metadata": {},
   "source": [
    "Get interpolation functions\n",
    "\n",
    "* **Note: Additional point added for $S_p$ of the 6MV beam for question 4D. In particular, when $r_d=0$ we have $S_p=1/1.078$. We use this to interpolate values between $r_d=0$ and $r_d=4$.**"
   ]
  },
  {
   "cell_type": "code",
   "execution_count": 3,
   "metadata": {
    "tags": []
   },
   "outputs": [],
   "source": [
    "# Arguments: rd, d\n",
    "TMR_int = get_interp_datasheet_2D('DATA1.xlsm', '6 MV TMR', skiprows=[3,3,2],\n",
    "                                     usecols=['B:K', 'A', 'B:K'], nrows=[40,40,1])\n",
    "# Arguments: rd\n",
    "Sp_int = get_interp_datasheet_1D('DATA1.xlsm', 'Linac outputs', skiprows=[28, 27],\n",
    "                                     usecols=['C:L', 'C:L'], nrows=[1,1],\n",
    "                                     add_init=[0,1/1.078])\n",
    "\n",
    "# Arguments: rd\n",
    "Sp250_int = get_interp_datasheet_1D('DATA1.xlsm', '250 kVp data', skiprows=[26, 24],\n",
    "                                     usecols=['B:L', 'B:L'], nrows=[1,1])"
   ]
  },
  {
   "cell_type": "markdown",
   "metadata": {},
   "source": [
    "# Question 1"
   ]
  },
  {
   "cell_type": "markdown",
   "metadata": {},
   "source": [
    "Since \n",
    "\n",
    "* $SMR(d, r_d, E) = TMR(d,r_d,E)PSF(r^{(m)}_{d},E)-TMR(d,0,E)$\n",
    "* $PSF(r^{(m)}_{d},E)= S_p(r^{(m)}_{d},E)PSF(r^{(m)}_0,E)$\n",
    "* $TMR(d,0,E)=e^{-\\mu(d-d_m)}$\n",
    "\n",
    "where $(m)$ means at the position of maximum dose, and $r_d \\approx r_d^{(m)}$, we get\n",
    "\n",
    "$$SMR(d, r_d, E) = TMR(d,r_d,E)S_p(r_{d},E)PSF(r_0,E)-e^{-\\mu(d-d_m)}$$\n",
    "\n",
    "\n"
   ]
  },
  {
   "cell_type": "markdown",
   "metadata": {},
   "source": [
    "Get data:"
   ]
  },
  {
   "cell_type": "code",
   "execution_count": 4,
   "metadata": {},
   "outputs": [],
   "source": [
    "d = np.array([5, 10, 20])\n",
    "rd = np.array([5, 10, 30])\n",
    "rd_mesh, d_mesh = np.meshgrid(rd, d)\n",
    "#interpolate\n",
    "TMRs = TMR_int(rd, d)\n",
    "Sps = np.repeat(Sp_int(rd), 3).reshape(3,3).T\n",
    "#data\n",
    "mu = 0.043\n",
    "PSF0 = 1.078\n",
    "data = TMRs*Sps*PSF0-np.exp(-mu*(d_mesh-1.5))"
   ]
  },
  {
   "cell_type": "markdown",
   "metadata": {},
   "source": [
    "Print table:"
   ]
  },
  {
   "cell_type": "code",
   "execution_count": 5,
   "metadata": {},
   "outputs": [
    {
     "data": {
      "text/html": [
       "<div>\n",
       "<style scoped>\n",
       "    .dataframe tbody tr th:only-of-type {\n",
       "        vertical-align: middle;\n",
       "    }\n",
       "\n",
       "    .dataframe tbody tr th {\n",
       "        vertical-align: top;\n",
       "    }\n",
       "\n",
       "    .dataframe thead th {\n",
       "        text-align: right;\n",
       "    }\n",
       "</style>\n",
       "<table border=\"1\" class=\"dataframe\">\n",
       "  <thead>\n",
       "    <tr style=\"text-align: right;\">\n",
       "      <th></th>\n",
       "      <th>SMR(d, 5, 6MV)</th>\n",
       "      <th>SMR(d, 10, 6MV)</th>\n",
       "      <th>SMR(d, 30, 6MV)</th>\n",
       "    </tr>\n",
       "  </thead>\n",
       "  <tbody>\n",
       "    <tr>\n",
       "      <th>d=5</th>\n",
       "      <td>0.103496</td>\n",
       "      <td>0.140106</td>\n",
       "      <td>0.192050</td>\n",
       "    </tr>\n",
       "    <tr>\n",
       "      <th>d=10</th>\n",
       "      <td>0.095607</td>\n",
       "      <td>0.153458</td>\n",
       "      <td>0.238212</td>\n",
       "    </tr>\n",
       "    <tr>\n",
       "      <th>d=20</th>\n",
       "      <td>0.061527</td>\n",
       "      <td>0.122140</td>\n",
       "      <td>0.239060</td>\n",
       "    </tr>\n",
       "  </tbody>\n",
       "</table>\n",
       "</div>"
      ],
      "text/plain": [
       "      SMR(d, 5, 6MV)  SMR(d, 10, 6MV)  SMR(d, 30, 6MV)\n",
       "d=5         0.103496         0.140106         0.192050\n",
       "d=10        0.095607         0.153458         0.238212\n",
       "d=20        0.061527         0.122140         0.239060"
      ]
     },
     "execution_count": 5,
     "metadata": {},
     "output_type": "execute_result"
    }
   ],
   "source": [
    "pd.DataFrame(data, columns=[f'SMR(d, {rdi}, 6MV)' for rdi in rd],\n",
    "                   index=[f'd={di}' for di in d])"
   ]
  },
  {
   "cell_type": "markdown",
   "metadata": {},
   "source": [
    "**Comments**: Interestingly, while SMR decreases with depth for a field size of $5$cm, it actually increases in depth for a field size of $10$cm at $d=10$cm but then decreases at $d=20$cm. For a field size of $30$cm, the SMR increases throughout.\n",
    "\n",
    "Mathematically, it is related to the relative rate of change between $TMR \\cdot S_o \\cdot PSF_0$ and $e^{-\\mu(d-1.5)}$ as a function of depth $d$. $SMR$ can only increase as a function of depth if $TMR \\cdot S_p \\cdot PSF_0$ is decreasing slower than the $e^{-\\mu(d-1.5)}$ primary beam attenuation term. Since $TMR$ is the only term that is a function of $d$, it requires that $TMR$ decrease slowly enough. This can only occur with sufficient phantom scatter, which is present in larger field sizes."
   ]
  },
  {
   "cell_type": "markdown",
   "metadata": {},
   "source": [
    "# Question 2"
   ]
  },
  {
   "cell_type": "markdown",
   "metadata": {},
   "source": [
    "## Part A\n",
    "\n",
    "Given the dimensions of the problem, it is reasonable that a rectangular, $8 \\times 15$cm applicator should be used, since it it is the smallest applicator that covers the entire area.\n",
    "\n",
    "## Part B"
   ]
  },
  {
   "cell_type": "markdown",
   "metadata": {},
   "source": [
    "Read in the diagram"
   ]
  },
  {
   "cell_type": "code",
   "execution_count": 6,
   "metadata": {},
   "outputs": [],
   "source": [
    "im = imageio.imread('a2diagram.png').sum(axis=-1)"
   ]
  },
  {
   "cell_type": "markdown",
   "metadata": {},
   "source": [
    "Plot and place lines on the diagram. Red lines are used to calibrate units, blue lines give region of rectangle:"
   ]
  },
  {
   "cell_type": "code",
   "execution_count": 7,
   "metadata": {},
   "outputs": [
    {
     "data": {
      "image/png": "[encoded data removed]",
      "text/plain": [
       "<Figure size 576x432 with 1 Axes>"
      ]
     },
     "metadata": {
      "needs_background": "light"
     },
     "output_type": "display_data"
    }
   ],
   "source": [
    "plt.imshow(im, cmap='gray')\n",
    "plt.axvline(20, color='r', ls='--')\n",
    "plt.axvline(650, color='r', ls='--')\n",
    "plt.axhline(100, color='r', ls='--')\n",
    "plt.axhline(1070, color='r', ls='--')\n",
    "plt.axvline(150, color='b', ls='--')\n",
    "plt.axvline(620, color='b', ls='--')\n",
    "plt.axhline(130, color='b', ls='--')\n",
    "plt.axhline(1020, color='b', ls='--')\n",
    "plt.show()"
   ]
  },
  {
   "cell_type": "markdown",
   "metadata": {},
   "source": [
    "The distance per unit is calculated from the red lines:"
   ]
  },
  {
   "cell_type": "code",
   "execution_count": 8,
   "metadata": {},
   "outputs": [],
   "source": [
    "d = 11.8/(1070-100)"
   ]
  },
  {
   "cell_type": "markdown",
   "metadata": {},
   "source": [
    "The area of the recangle is given by the blue lines"
   ]
  },
  {
   "cell_type": "code",
   "execution_count": 9,
   "metadata": {},
   "outputs": [
    {
     "name": "stdout",
     "output_type": "stream",
     "text": [
      "a=5.72\n",
      "b=10.83\n"
     ]
    }
   ],
   "source": [
    "a = d*(620-150)\n",
    "b = d*(1020-130)\n",
    "print(f'a={a:.2f}')\n",
    "print(f'b={b:.2f}')"
   ]
  },
  {
   "cell_type": "markdown",
   "metadata": {},
   "source": [
    "The approximate equivalent square field is thus"
   ]
  },
  {
   "cell_type": "code",
   "execution_count": 10,
   "metadata": {},
   "outputs": [
    {
     "data": {
      "text/plain": [
       "7.483232261976955"
      ]
     },
     "execution_count": 10,
     "metadata": {},
     "output_type": "execute_result"
    }
   ],
   "source": [
    "rd = 2*a*b/(a+b)\n",
    "rd"
   ]
  },
  {
   "cell_type": "markdown",
   "metadata": {},
   "source": [
    "Or about $7.5 \\times 7.5$cm."
   ]
  },
  {
   "cell_type": "markdown",
   "metadata": {},
   "source": [
    "## Part C"
   ]
  },
  {
   "cell_type": "markdown",
   "metadata": {},
   "source": [
    "The attenuation coefficient is given by\n",
    "\n",
    "$\\mu = \\rho \\cdot (\\mu/\\rho)$\n",
    "\n",
    "where $\\rho=11.35$g/cm$^3$ and $\\mu/\\rho$ is interpolated from the table:"
   ]
  },
  {
   "cell_type": "code",
   "execution_count": 11,
   "metadata": {},
   "outputs": [],
   "source": [
    "x1 = 2e-1\n",
    "x2 = 3e-1\n",
    "y1 = 9.985e-1\n",
    "y2 = 4.035e-1\n",
    "m = (y2-y1)/(x2-x1)\n",
    "mu_rho = y1+m*(2.5e-1 - x1)\n",
    "mu = mu_rho*11.35"
   ]
  },
  {
   "cell_type": "markdown",
   "metadata": {},
   "source": [
    "Give that $I/I_0 = e^{-\\mu x}$  we have\n",
    "\n",
    "$$x = -\\frac{1}{\\mu} \\cdot \\ln(I/I_0) $$"
   ]
  },
  {
   "cell_type": "code",
   "execution_count": 12,
   "metadata": {},
   "outputs": [
    {
     "name": "stdout",
     "output_type": "stream",
     "text": [
      "Thickness of Lead Required: 0.441cm\n"
     ]
    }
   ],
   "source": [
    "x = -(1/mu)*np.log(0.03)\n",
    "print(f'Thickness of Lead Required: {x:.3f}cm')"
   ]
  },
  {
   "cell_type": "markdown",
   "metadata": {},
   "source": [
    "# Question 3"
   ]
  },
  {
   "cell_type": "markdown",
   "metadata": {},
   "source": [
    "## Part A\n",
    "\n",
    "The rate at which the dose is administered is given by\n",
    "\n",
    "$$D' = D_0' S_c(r_c, E)S_p(r,E) = D_0'S_{c,p}(r_c,r_0,E) \\cdot \\frac{S_p(r)}{S_p(r_0)} $$\n",
    "\n",
    "* $D_0'=61$cGy/min\n",
    "* $r_c=6 \\times 10$cm\n",
    "* $r_0=7.5$cm (uniquely obtained from $r_c$)\n",
    "* $r=6.5$cm (specified by lead cut-out)\n",
    "\n",
    "The scatter factors are obtained from the 250kVp sheet. The time is then given by\n",
    "\n",
    "$$t = D/D'$$\n",
    "\n",
    "where $D=250$cGy"
   ]
  },
  {
   "cell_type": "code",
   "execution_count": 13,
   "metadata": {},
   "outputs": [
    {
     "name": "stdout",
     "output_type": "stream",
     "text": [
      "Time Required: 4.31min\n"
     ]
    }
   ],
   "source": [
    "D = 250\n",
    "D0p = 61.7\n",
    "Scp = 0.957\n",
    "Sp_r = Sp250_int([6.5])[0]\n",
    "Sp_r0 = Sp250_int([7.5])[0]\n",
    "Dp = D0p*Scp*Sp_r/Sp_r0\n",
    "t = D/Dp\n",
    "print(f'Time Required: {t:.2f}min')"
   ]
  },
  {
   "cell_type": "markdown",
   "metadata": {},
   "source": [
    "## Part B"
   ]
  },
  {
   "cell_type": "markdown",
   "metadata": {},
   "source": [
    "We know that\n",
    "\n",
    "$D(d) = D(0) \\cdot P(r, d, E)$\n",
    "\n",
    "where $P$ is percent depth dose. So we want to find $d$ such that\n",
    "\n",
    "$P(6.5,d,E) = \\frac{100}{250} = 0.4$\n",
    "\n",
    "which, through trial and error in the excel spread sheet occurs at approximately $\\boxed{d=8\\text{cm}}$"
   ]
  },
  {
   "cell_type": "markdown",
   "metadata": {},
   "source": [
    "## Part C"
   ]
  },
  {
   "cell_type": "markdown",
   "metadata": {},
   "source": [
    "Since the field size at the surface and collimator setting are the same, we need only multiply by the inverse square factor to account for the SSD increasing"
   ]
  },
  {
   "cell_type": "markdown",
   "metadata": {},
   "source": [
    "$$D' \\to \\left(\\frac{SSD_0}{SSD}\\right)^2 D'$$"
   ]
  },
  {
   "cell_type": "code",
   "execution_count": 14,
   "metadata": {},
   "outputs": [],
   "source": [
    "SSD0 = 50\n",
    "SSDnew = 52.5"
   ]
  },
  {
   "cell_type": "markdown",
   "metadata": {},
   "source": [
    "Calculate new dose"
   ]
  },
  {
   "cell_type": "code",
   "execution_count": 15,
   "metadata": {},
   "outputs": [
    {
     "name": "stdout",
     "output_type": "stream",
     "text": [
      "Time Required: 4.75min\n"
     ]
    }
   ],
   "source": [
    "Dpnew = Dp*(SSD0/SSDnew)**2\n",
    "t = D / Dpnew\n",
    "print(f'Time Required: {t:.2f}min')"
   ]
  },
  {
   "cell_type": "markdown",
   "metadata": {},
   "source": [
    "# Question 4"
   ]
  },
  {
   "cell_type": "markdown",
   "metadata": {},
   "source": [
    "## Part A"
   ]
  },
  {
   "cell_type": "markdown",
   "metadata": {},
   "source": [
    "Noting that \n",
    "\n",
    "$$SAR(d,r_d,E) = TMR(d,r_d,E)PSF(r_d,E) - TMR(d_m,0,E) = PSF(r_d,E) - 1$$\n",
    "\n",
    "at $d=d_m$ (since $TMR(d_m,r_d,E)=1$), we need to compute $PSF$s for different values of $r_d$. These values are related to the three intersections we need to consider:"
   ]
  },
  {
   "cell_type": "markdown",
   "metadata": {},
   "source": [
    "<p align=\"center\">\n",
    "  <img src=\"images/a2p2.png\" alt=\"drawing\" width=\"600\" align=\"center\"/>\n",
    "</p>"
   ]
  },
  {
   "cell_type": "markdown",
   "metadata": {},
   "source": [
    "It is clear that\n",
    "\n",
    "* $R_1=3.5$cm\n",
    "* $R_2=5.5$cm\n",
    "\n",
    "$R_3$ can be calculated as follows. The height of point $A$ is $6.5/2 + 0.45$cm $=3.7$cm. This is the same as the height on the right triangle. Since $x/y$ is constant along the slope of the right triangle, the $x$ location along the triangle is $x_2 = 3.7 \\cdot 6.3/4.8 =4.85625$cm or $6.3-4.85625 = 1.44375$cm from the right of the field. Thus $R_3 = 4.5 + 10.5 - 1.44375 = 13.55625$cm\n",
    "\n",
    "* $R_3=13.55625$cm"
   ]
  },
  {
   "cell_type": "markdown",
   "metadata": {},
   "source": [
    "**Computing PSF**:"
   ]
  },
  {
   "cell_type": "markdown",
   "metadata": {},
   "source": [
    "Since $PSF(10,E)=1.078$ (lecture 3 page 34), the formula $PSF(r_d,E)=S_p(r_d,E)PSF(10,E)$ can be used to compute individual PSFs for $R_1$, $R_2$, and $R_3$. Note that $r_i = \\sqrt{\\pi}R_i$"
   ]
  },
  {
   "cell_type": "code",
   "execution_count": 16,
   "metadata": {},
   "outputs": [
    {
     "name": "stdout",
     "output_type": "stream",
     "text": [
      "6.203588478169306\n",
      "9.748496179980338\n",
      "24.0278275163379\n"
     ]
    }
   ],
   "source": [
    "r1 = np.sqrt(np.pi)*3.5\n",
    "r2 = np.sqrt(np.pi)*5.5\n",
    "r3 = np.sqrt(np.pi)*13.55625\n",
    "print(r1)\n",
    "print(r2)\n",
    "print(r3)"
   ]
  },
  {
   "cell_type": "markdown",
   "metadata": {},
   "source": [
    "These can be used to find the Sp's and thus the PSFs for each of the R's."
   ]
  },
  {
   "cell_type": "code",
   "execution_count": 17,
   "metadata": {},
   "outputs": [],
   "source": [
    "Sp1 = Sp_int([r1])[0]\n",
    "Sp2 = Sp_int([r2])[0]\n",
    "Sp3 = Sp_int([r3])[0]\n",
    "PSF0 = 1.078\n",
    "PSF1, PSF2, PSF3 = PSF0*np.array([Sp1,Sp2,Sp3])"
   ]
  },
  {
   "cell_type": "markdown",
   "metadata": {},
   "source": [
    "The total PSF is given by"
   ]
  },
  {
   "cell_type": "code",
   "execution_count": 18,
   "metadata": {},
   "outputs": [
    {
     "name": "stdout",
     "output_type": "stream",
     "text": [
      "The PSF of segment 1 is 1.096\n"
     ]
    }
   ],
   "source": [
    "PSF = PSF1 - PSF2 + PSF3 \n",
    "print(f'The PSF of segment 1 is {PSF:.3f}')"
   ]
  },
  {
   "cell_type": "markdown",
   "metadata": {},
   "source": [
    "The SAR is given by"
   ]
  },
  {
   "cell_type": "code",
   "execution_count": 19,
   "metadata": {},
   "outputs": [
    {
     "name": "stdout",
     "output_type": "stream",
     "text": [
      "The SAR of segment 1 is 0.096\n"
     ]
    }
   ],
   "source": [
    "SAR = (PSF1-1)-(PSF2-1)+(PSF3-1)\n",
    "print(f'The SAR of segment 1 is {SAR:.3f}')"
   ]
  },
  {
   "cell_type": "markdown",
   "metadata": {},
   "source": [
    "## Part B"
   ]
  },
  {
   "cell_type": "markdown",
   "metadata": {},
   "source": [
    "Since $PSF(r_d,E)=S_p(r_d,E)PSF(10,E)$, we are looking for the value of $r_d$ that makes $S_p = 1.069/1.078=0.99165$. From the interpolation sheet, this occurs precisely when $r_d = 7.3285$ "
   ]
  },
  {
   "cell_type": "markdown",
   "metadata": {},
   "source": [
    "The area of the unshaded regions is given by"
   ]
  },
  {
   "cell_type": "code",
   "execution_count": 20,
   "metadata": {},
   "outputs": [
    {
     "data": {
      "text/plain": [
       "93.26"
      ]
     },
     "execution_count": 20,
     "metadata": {},
     "output_type": "execute_result"
    }
   ],
   "source": [
    "A = 21*6.5 - 2*(0.5*4.8*6.3) - 2*6.5\n",
    "A"
   ]
  },
  {
   "cell_type": "markdown",
   "metadata": {},
   "source": [
    "This area is much larger than the area of the equivalent square:"
   ]
  },
  {
   "cell_type": "code",
   "execution_count": 21,
   "metadata": {},
   "outputs": [
    {
     "data": {
      "text/plain": [
       "53.70691225"
      ]
     },
     "execution_count": 21,
     "metadata": {},
     "output_type": "execute_result"
    }
   ],
   "source": [
    "7.3285**2"
   ]
  },
  {
   "cell_type": "markdown",
   "metadata": {},
   "source": [
    "This discrepancy is due to the fact that Clarkson integration takes into account the effects of scatter: since the area of the unshaded regions is spread out throughout the image (blocked by shielding in various regions), less scatter contribution occurs than if the area were all confined to a single, fully-connected region. In addition, point A is located off the CAX and thus has less scatter contribution (which corresponds to a smaller equivalent square area)."
   ]
  },
  {
   "cell_type": "markdown",
   "metadata": {},
   "source": [
    "## Part C"
   ]
  },
  {
   "cell_type": "markdown",
   "metadata": {},
   "source": [
    "The following relationships hold\n",
    "\n",
    "* $D_{P_A} = \\frac{D_A}{PSF_A}$\n",
    "* $D_{P_A} = 1.035D_{P_N}$\n",
    "* $D_{P_N} =  \\frac{D_N}{PSF_N} =\\frac{D_N}{PSF(10)S_p(7.3285)} $\n",
    "\n",
    "These relationships allow us to get $D_N$, which is proportional to the number of monitor units used"
   ]
  },
  {
   "cell_type": "code",
   "execution_count": 22,
   "metadata": {},
   "outputs": [],
   "source": [
    "DA = 180\n",
    "PSFA = 1.069\n",
    "Sp = 0.99164975\n",
    "\n",
    "DPA = DA/PSFA\n",
    "DPN = DPA/1.031\n",
    "DN = Sp*PSF0 *DPN"
   ]
  },
  {
   "cell_type": "markdown",
   "metadata": {},
   "source": [
    "Since 1cGy/MU is delivered for $D_B$, the number of monitor units is:"
   ]
  },
  {
   "cell_type": "code",
   "execution_count": 23,
   "metadata": {},
   "outputs": [
    {
     "name": "stdout",
     "output_type": "stream",
     "text": [
      "The number of monitor units required is 174.59\n"
     ]
    }
   ],
   "source": [
    "print(f'The number of monitor units required is {DN:.2f}')"
   ]
  },
  {
   "cell_type": "markdown",
   "metadata": {},
   "source": [
    "## Part D"
   ]
  },
  {
   "cell_type": "markdown",
   "metadata": {},
   "source": [
    "Construct the image for Clarkson integration. Everything is scaled by a factor of 100"
   ]
  },
  {
   "cell_type": "code",
   "execution_count": 24,
   "metadata": {},
   "outputs": [],
   "source": [
    "I = np.zeros((650,2100))\n",
    "x = np.arange(0, 2100)\n",
    "y = np.arange(0, 650)\n",
    "xv,yv = np.meshgrid(x,y)\n",
    "I[(xv>950)*(xv<1150)] = 1\n",
    "I[yv<(480-480/630*xv)] = 2\n",
    "I[yv<(480/630*(xv-(2100-630)))] = 2\n",
    "\n",
    "origin = 100*np.array([10.5, 3.25])"
   ]
  },
  {
   "cell_type": "markdown",
   "metadata": {},
   "source": [
    "Get the lines which we will use for Clarkson integration"
   ]
  },
  {
   "cell_type": "code",
   "execution_count": 25,
   "metadata": {},
   "outputs": [],
   "source": [
    "thetas = np.linspace(80, -80, 9) *2*np.pi / 360\n",
    "t = np.arange(0,3000,1)\n",
    "xs = [origin[0] + t*np.cos(theta) for theta in thetas]\n",
    "ys = [origin[1] + t*np.sin(theta) for theta in thetas]\n",
    "for i, (xi, yi) in enumerate(zip(xs, ys)):\n",
    "    mask = (xi<2100)*(xi>0)*(yi<650)*(yi>0)\n",
    "    xs[i] = xi[mask]\n",
    "    ys[i] = yi[mask]"
   ]
  },
  {
   "cell_type": "markdown",
   "metadata": {},
   "source": [
    "Plot the image and lines:"
   ]
  },
  {
   "cell_type": "code",
   "execution_count": 26,
   "metadata": {
    "tags": []
   },
   "outputs": [
    {
     "data": {
      "image/png": "[encoded data removed]",
      "text/plain": [
       "<Figure size 576x432 with 1 Axes>"
      ]
     },
     "metadata": {
      "needs_background": "light"
     },
     "output_type": "display_data"
    }
   ],
   "source": [
    "plt.imshow(I, origin='lower')\n",
    "[plt.plot(x, y, color='r', lw=1) for x, y in zip(xs, ys)]\n",
    "plt.xlim(0,2100)\n",
    "plt.ylim(0,650)\n",
    "plt.show()"
   ]
  },
  {
   "cell_type": "markdown",
   "metadata": {},
   "source": [
    "Get interpolation of shielding"
   ]
  },
  {
   "cell_type": "code",
   "execution_count": 27,
   "metadata": {},
   "outputs": [],
   "source": [
    "fI = interp2d(x, y, I)"
   ]
  },
  {
   "cell_type": "markdown",
   "metadata": {},
   "source": [
    "Compute $R$ values needed for Clarkson integration"
   ]
  },
  {
   "cell_type": "code",
   "execution_count": 28,
   "metadata": {},
   "outputs": [],
   "source": [
    "R1s = []\n",
    "R2s = []\n",
    "for xi, yi in zip(xs, ys):\n",
    "    ls = np.array([fI(x, y) for (x, y) in zip(xi, yi)]).ravel().round().astype(int)\n",
    "    R1 = sum(ls==1)\n",
    "    R2 = R1 + sum(ls==0)\n",
    "    R1s.append(R1)\n",
    "    R2s.append(R2)\n",
    "# unscale by the factor of 100 used\n",
    "R1s = np.array(R1s)/100 \n",
    "R2s = np.array(R2s)/100 \n",
    "r1s = np.sqrt(np.pi)*R1s\n",
    "r2s = np.sqrt(np.pi)*R2s"
   ]
  },
  {
   "cell_type": "markdown",
   "metadata": {},
   "source": [
    "Compute mean value of $SAR$s. Note that we;ve only taken half the required lines in the diagram above, but because the shielding pattern is symmetric, the mean will be the same."
   ]
  },
  {
   "cell_type": "code",
   "execution_count": 29,
   "metadata": {},
   "outputs": [
    {
     "data": {
      "text/plain": [
       "0.03472165562746891"
      ]
     },
     "execution_count": 29,
     "metadata": {},
     "output_type": "execute_result"
    }
   ],
   "source": [
    "PSF1s = PSF0* np.array([Sp_int(r) for r in r1s])\n",
    "PSF2s = PSF0* np.array([Sp_int(r) for r in r2s])\n",
    "SARs = (PSF2s-1)-(PSF1s-1)\n",
    "SARs = SARs.ravel()\n",
    "SAR_mean = np.mean(SARs)\n",
    "SAR_mean"
   ]
  },
  {
   "cell_type": "markdown",
   "metadata": {},
   "source": [
    "Now we know that\n",
    "\n",
    "$$D_B = 0.03D_{P_m} + \\text{Mean}(SAR) \\cdot D_{P_m}$$\n",
    "\n",
    "where the first term is the primary beam contribution and the second term is the scatter contribution"
   ]
  },
  {
   "cell_type": "code",
   "execution_count": 30,
   "metadata": {},
   "outputs": [
    {
     "name": "stdout",
     "output_type": "stream",
     "text": [
      "The dose administered is 10.57cGy\n"
     ]
    }
   ],
   "source": [
    "D = 0.03*DPN + SAR_mean*DPN\n",
    "print(f'The dose administered is {D:.2f}cGy')"
   ]
  },
  {
   "cell_type": "markdown",
   "metadata": {},
   "source": [
    "# Question 5"
   ]
  },
  {
   "cell_type": "markdown",
   "metadata": {},
   "source": [
    "Before beginning, we will need to find $d_A$ and $d_C$ on the diagram below"
   ]
  },
  {
   "cell_type": "markdown",
   "metadata": {},
   "source": [
    "<p align=\"center\">\n",
    "  <img src=\"images/a2p3.png\" alt=\"drawing\" width=\"600\" align=\"center\"/>\n",
    "</p>"
   ]
  },
  {
   "cell_type": "markdown",
   "metadata": {},
   "source": [
    "For $d_A$, note that\n",
    "\n",
    "$$\\tan(25^{\\circ}) = \\frac{4.5-d_A}{2.7}$$\n",
    "\n",
    "Solving for $d_A$ yields"
   ]
  },
  {
   "cell_type": "code",
   "execution_count": 31,
   "metadata": {},
   "outputs": [
    {
     "data": {
      "text/plain": [
       "3.2409693229815035"
      ]
     },
     "execution_count": 31,
     "metadata": {},
     "output_type": "execute_result"
    }
   ],
   "source": [
    "dA = 4.5-2.7*np.tan(25*2*np.pi/360)\n",
    "dA"
   ]
  },
  {
   "cell_type": "markdown",
   "metadata": {},
   "source": [
    "For $d_C$, we have\n",
    "\n",
    "$$\\tan(25^{\\circ}) = \\frac{d_C-4.5}{2.7}$$"
   ]
  },
  {
   "cell_type": "code",
   "execution_count": 32,
   "metadata": {},
   "outputs": [
    {
     "data": {
      "text/plain": [
       "5.7590306770184965"
      ]
     },
     "execution_count": 32,
     "metadata": {},
     "output_type": "execute_result"
    }
   ],
   "source": [
    "dC = 4.5+2.7*np.tan(25*2*np.pi/360)\n",
    "dC"
   ]
  },
  {
   "cell_type": "markdown",
   "metadata": {},
   "source": [
    "## Part A"
   ]
  },
  {
   "cell_type": "markdown",
   "metadata": {},
   "source": [
    "### Part (i)"
   ]
  },
  {
   "cell_type": "markdown",
   "metadata": {},
   "source": [
    "This whole problem is made quite simple when noting that\n",
    "\n",
    "$$D \\propto TMR \\cdot OAR \\cdot S_p \\cdot SPD^{-2}$$\n",
    "\n",
    "* $TMR$ takes into account how much phantom is above the dose point (takes into account slanting surfaces at the top)\n",
    "* $OAR$ takes into account the distance from the central axis (distance $x$ used is hoz distance between ray and isocenter)\n",
    "* $S_p$ takes into account phantom scatter effects\n",
    "* Inverse square law takes into account decreased beam intensity\n",
    "\n",
    "This is summaried by the diagram:\n",
    "\n",
    "<p align=\"center\">\n",
    "  <img src=\"images/a2p4.png\" alt=\"drawing\" width=\"600\" align=\"center\"/>\n",
    "</p>\n",
    "\n",
    "Furthermore, by definition, $TMR=OAR=1$ at $d_m$ along the CAX at the isocenter (dose point $D_N$).\n",
    "\n",
    "Thus\n",
    "\n",
    "$$D_i = D_N\\cdot TMR(d_i, r_i) \\cdot OAR(d_i,x_i)\\frac{S_p(r_i)}{S_p(r_{d_N})}\\left(\\frac{SAD}{SSD_i+d_i}\\right)^2$$"
   ]
  },
  {
   "cell_type": "markdown",
   "metadata": {
    "tags": []
   },
   "source": [
    "To obtain $D_N$, note that\n",
    "\n",
    "$$\\frac{D_E}{D_N} = TMR(d_E, r_{d_E}) \\frac{S_p(r_{d_E})}{S_p(r_{d_N})}\\left(\\frac{SAD}{SAD+d_E}\\right)^2$$\n",
    "\n",
    "since the SSD is the SAD for $E$. "
   ]
  },
  {
   "cell_type": "code",
   "execution_count": 33,
   "metadata": {},
   "outputs": [],
   "source": [
    "dm = 1.5\n",
    "SAD = 100\n",
    "dE = 6+3+2\n",
    "rdN = 12\n",
    "rdE = 12*(SAD+dE)/SAD"
   ]
  },
  {
   "cell_type": "markdown",
   "metadata": {},
   "source": [
    "These can be used to get TMRs and Sps (using interpolation function)"
   ]
  },
  {
   "cell_type": "code",
   "execution_count": 34,
   "metadata": {},
   "outputs": [
    {
     "name": "stdout",
     "output_type": "stream",
     "text": [
      "TMR = 0.77\n",
      "Sp_rdE = 1.01\n",
      "Sp_rdN = 1.01\n"
     ]
    }
   ],
   "source": [
    "TMR = TMR_int(rdE,dE)[0]\n",
    "Sp_rdE = Sp_int([rdE])[0]\n",
    "Sp_rdN = Sp_int([rdN])[0]\n",
    "print(f'TMR = {TMR:.2f}')\n",
    "print(f'Sp_rdE = {Sp_rdE:.2f}')\n",
    "print(f'Sp_rdN = {Sp_rdN:.2f}')"
   ]
  },
  {
   "cell_type": "markdown",
   "metadata": {},
   "source": [
    "Then DN can be obtained"
   ]
  },
  {
   "cell_type": "code",
   "execution_count": 35,
   "metadata": {},
   "outputs": [
    {
     "data": {
      "text/plain": [
       "158.7937519284251"
      ]
     },
     "execution_count": 35,
     "metadata": {},
     "output_type": "execute_result"
    }
   ],
   "source": [
    "DE = 100\n",
    "DN = DE/(TMR*Sp_rdE/Sp_rdN * (SAD/(SAD+dE))**2)\n",
    "DN"
   ]
  },
  {
   "cell_type": "markdown",
   "metadata": {},
   "source": [
    "Now all the other quantities can be obtained to get the other doses (in order: A, B, C, D, F). For the off axis distances, we choose the coordinate system such that positive $x$ is towards the thick side of the wedge (to the left)"
   ]
  },
  {
   "cell_type": "code",
   "execution_count": 36,
   "metadata": {},
   "outputs": [
    {
     "name": "stdout",
     "output_type": "stream",
     "text": [
      "A: d=3.24, rd=12.540, x=2.58\n",
      "B: d=4.50, rd=12.540, x=0.00\n",
      "C: d=5.76, rd=12.540, x=-2.58\n",
      "D: d=9.74, rd=13.320, x=2.43\n",
      "F: d=12.26, rd=13.320, x=-2.43\n"
     ]
    }
   ],
   "source": [
    "order = ['A', 'B', 'C', 'D', 'F']\n",
    "ds = [dA,\n",
    "      4.5,\n",
    "      dC,\n",
    "      dA+1.5+3+2,\n",
    "      dC+1.5+3+2]\n",
    "rds = 3*[12*(SAD+4.5)/SAD] + 2*[12*(SAD+dE)/SAD]\n",
    "xs = np.array([2.7, 0, -2.7, 2.7, -2.7])\n",
    "# Adjust xs so that they correspond to axial distance at isocenter\n",
    "xs*= np.array([SAD/(SAD+4.5)]*3 + [SAD/(SAD+11)]*2)\n",
    "SPDs = 3*[SAD+4.5] + 2*[SAD+dE]\n",
    "[print(f'{o}: d={d:.2f}, rd={rd:.3f}, x={x:.2f}') \\\n",
    "     for (o, d, rd, x) in zip(order, ds, rds, xs)];"
   ]
  },
  {
   "cell_type": "markdown",
   "metadata": {},
   "source": [
    "These can be used to get TMRS and Sp's"
   ]
  },
  {
   "cell_type": "code",
   "execution_count": 37,
   "metadata": {},
   "outputs": [
    {
     "name": "stdout",
     "output_type": "stream",
     "text": [
      "A: TMR=0.97385, Sp=1.00660, OAR=1.01300\n",
      "B: TMR=0.94379, Sp=1.00660, OAR=1.00000\n",
      "C: TMR=0.91146, Sp=1.00660, OAR=1.01200\n",
      "D: TMR=0.80734, Sp=1.00863, OAR=1.00900\n",
      "F: TMR=0.73970, Sp=1.00863, OAR=1.00800\n"
     ]
    }
   ],
   "source": [
    "TMRs = [TMR_int(rd,d)[0] for (rd,d) in zip(rds,ds)]\n",
    "Sps = [Sp_int([rd])[0] for rd in rds]\n",
    "OARs = [1.013, 1, 1.012, 1.009, 1.008]\n",
    "[print(f'{o}: TMR={TMR:.5f}, Sp={Sp:.5f}, OAR={OAR:.5f}') \\\n",
    "     for (o, TMR, Sp, OAR) in zip(order, TMRs, Sps, OARs)];"
   ]
  },
  {
   "cell_type": "markdown",
   "metadata": {},
   "source": [
    "Then we can compute Doses"
   ]
  },
  {
   "cell_type": "code",
   "execution_count": 38,
   "metadata": {},
   "outputs": [
    {
     "name": "stdout",
     "output_type": "stream",
     "text": [
      "A: D=143.65Gy\n",
      "B: D=137.43Gy\n",
      "C: D=134.32Gy\n",
      "D: D=105.35Gy\n",
      "F: D=96.42Gy\n"
     ]
    }
   ],
   "source": [
    "def compute_dose(DN, TMR, Sp, SPD, OAR):\n",
    "    return DN*TMR*OAR*(Sp/Sp_rdN)*(SAD/SPD)**2\n",
    "\n",
    "doses = [compute_dose(DN, TMRi, Spi, SPDi, OARi) \\\n",
    "         for (TMRi, Spi, SPDi, OARi) in zip(TMRs, Sps, SPDs, OARs)]\n",
    "[print(f'{o}: D={D:.2f}Gy') for (o, D) in zip(order, doses)];"
   ]
  },
  {
   "cell_type": "markdown",
   "metadata": {},
   "source": [
    "### Part (ii)"
   ]
  },
  {
   "cell_type": "markdown",
   "metadata": {},
   "source": [
    "The only thing that changes here is the OARs"
   ]
  },
  {
   "cell_type": "code",
   "execution_count": 39,
   "metadata": {},
   "outputs": [
    {
     "name": "stdout",
     "output_type": "stream",
     "text": [
      "A: D=133.58Gy\n",
      "B: D=137.43Gy\n",
      "C: D=142.68Gy\n",
      "D: D=98.77Gy\n",
      "F: D=102.07Gy\n"
     ]
    }
   ],
   "source": [
    "WOARs = [0.942, 1, 1.075, 0.946, 1.067]\n",
    "doses = [compute_dose(DN, TMRi, Spi, SPDi, WOARi) \\\n",
    "         for (TMRi, Spi, SPDi, WOARi) in zip(TMRs, Sps, SPDs, WOARs)]\n",
    "[print(f'{o}: D={D:.2f}Gy') for (o, D) in zip(order, doses)];"
   ]
  },
  {
   "cell_type": "markdown",
   "metadata": {},
   "source": [
    "Note that $F$ gets more dose, but this is because the beam is still prescribed to give 100Gy to point E (and since part of the wedge is in the way, it means the beam is either more intense/runs for longer)."
   ]
  },
  {
   "cell_type": "markdown",
   "metadata": {},
   "source": [
    "## Part B"
   ]
  },
  {
   "cell_type": "markdown",
   "metadata": {},
   "source": [
    "### Part (i)"
   ]
  },
  {
   "cell_type": "markdown",
   "metadata": {},
   "source": [
    "Since $E$ recieves 100Gy, we first need to use this to find $D_N$, which we can eventually use to find all other doses."
   ]
  },
  {
   "cell_type": "markdown",
   "metadata": {},
   "source": [
    "Get effective distance to point E"
   ]
  },
  {
   "cell_type": "code",
   "execution_count": 40,
   "metadata": {},
   "outputs": [
    {
     "name": "stdout",
     "output_type": "stream",
     "text": [
      "Effective Distance to E: 9.20\n"
     ]
    }
   ],
   "source": [
    "rhos = np.array([1,0.4,1])\n",
    "ds_E = np.array([6, 3, 2])\n",
    "deff_E = np.dot(rhos, ds_E)\n",
    "print(f'Effective Distance to E: {deff_E:.2f}')"
   ]
  },
  {
   "cell_type": "markdown",
   "metadata": {},
   "source": [
    "Now point E is still prescribed to receive 100Gy; this can be used to recalculate $D_N$. We need the TMR that corresponds to the effective distance of $E$ above"
   ]
  },
  {
   "cell_type": "code",
   "execution_count": 41,
   "metadata": {},
   "outputs": [
    {
     "name": "stdout",
     "output_type": "stream",
     "text": [
      "DN=149.487Gy\n"
     ]
    }
   ],
   "source": [
    "DE = 100\n",
    "TMR = TMR_int(rdE,dE)[0]\n",
    "TMR_deff = TMR_int(rdE,deff_E)[0]\n",
    "CF = TMR_deff/TMR\n",
    "DN = DE/(CF*TMR* (Sp_rdE/Sp_rdN) * (SAD/(SAD+dE))**2)\n",
    "print(f'DN={DN:.3f}Gy')"
   ]
  },
  {
   "cell_type": "markdown",
   "metadata": {},
   "source": [
    "Now we can recompute the dose to the other points, provided we reevaluate the TMR values. The only TMRs that change are those for D and F. Lets bring back up the values of $r_d$ for all the different points (A,B,C,D,F):"
   ]
  },
  {
   "cell_type": "code",
   "execution_count": 42,
   "metadata": {},
   "outputs": [
    {
     "name": "stdout",
     "output_type": "stream",
     "text": [
      "[12.54, 12.54, 12.54, 13.32, 13.32]\n"
     ]
    }
   ],
   "source": [
    "print(rds)"
   ]
  },
  {
   "cell_type": "markdown",
   "metadata": {},
   "source": [
    "These, along with the effective distances above to (D, E, F) and the actual distances to (A,C), can be used to calculate TMRs from our interpolation function `TMR_int`:"
   ]
  },
  {
   "cell_type": "code",
   "execution_count": 43,
   "metadata": {},
   "outputs": [
    {
     "name": "stdout",
     "output_type": "stream",
     "text": [
      "[0.9738510041736863, 0.943794, 0.9114599037952583, 0.8557840734783568, 0.7880599374130225]\n"
     ]
    }
   ],
   "source": [
    "ds_D = np.array([dA+1.5, 3, 2])\n",
    "ds_F = np.array([dC+1.5, 3, 2])\n",
    "deffs = np.array([dA,4.5,dC] + [np.dot(rhos, ds) for ds in [ds_D, ds_F]])\n",
    "TMRs = [TMR_int(rd,d)[0] for (rd,d) in zip(rds,deffs)]\n",
    "print(TMRs)"
   ]
  },
  {
   "cell_type": "markdown",
   "metadata": {},
   "source": [
    "Now lets recompute all the doses:"
   ]
  },
  {
   "cell_type": "code",
   "execution_count": 44,
   "metadata": {},
   "outputs": [
    {
     "name": "stdout",
     "output_type": "stream",
     "text": [
      "A: D=135.23Gy\n",
      "B: D=129.38Gy\n",
      "C: D=126.44Gy\n",
      "D: D=105.12Gy\n",
      "F: D=96.71Gy\n"
     ]
    }
   ],
   "source": [
    "OARs = [1.013, 1, 1.012, 1.009, 1.008]\n",
    "doses = [compute_dose(DN, TMRi, Spi, SPDi, OARi) \\\n",
    "         for (TMRi, Spi, SPDi, OARi) in zip(TMRs, Sps, SPDs, OARs)]\n",
    "[print(f'{o}: D={D:.2f}Gy') for (o, D) in zip(order, doses)];"
   ]
  },
  {
   "cell_type": "markdown",
   "metadata": {},
   "source": [
    "### Part (ii)"
   ]
  },
  {
   "cell_type": "markdown",
   "metadata": {},
   "source": [
    "The only thing that changes is the OARs, which are the same as in part A with the dynamic wedge:"
   ]
  },
  {
   "cell_type": "code",
   "execution_count": 45,
   "metadata": {},
   "outputs": [
    {
     "name": "stdout",
     "output_type": "stream",
     "text": [
      "A: D=125.75Gy\n",
      "B: D=129.38Gy\n",
      "C: D=134.31Gy\n",
      "D: D=98.56Gy\n",
      "F: D=102.37Gy\n"
     ]
    }
   ],
   "source": [
    "WOARs = [0.942, 1, 1.075, 0.946, 1.067]\n",
    "doses = [compute_dose(DN, TMRi, Spi, SPDi, WOARi) \\\n",
    "         for (TMRi, Spi, SPDi, WOARi) in zip(TMRs, Sps, SPDs, WOARs)]\n",
    "[print(f'{o}: D={D:.2f}Gy') for (o, D) in zip(order, doses)];"
   ]
  },
  {
   "cell_type": "markdown",
   "metadata": {},
   "source": [
    "## Part C"
   ]
  },
  {
   "cell_type": "markdown",
   "metadata": {},
   "source": [
    "**Without the homogeneity:**"
   ]
  },
  {
   "cell_type": "markdown",
   "metadata": {},
   "source": [
    "TMR uses distance from surface to $E$ (sum of `ds_E` segments)"
   ]
  },
  {
   "cell_type": "code",
   "execution_count": 46,
   "metadata": {},
   "outputs": [
    {
     "name": "stdout",
     "output_type": "stream",
     "text": [
      "158.79 monitor units are required\n"
     ]
    }
   ],
   "source": [
    "DE = 100\n",
    "TMR = TMR_int(13.32, sum(ds_E))[0]\n",
    "DN = DE/(TMR*Sp_rdE/Sp_rdN * (SAD/(SAD+dE))**2)\n",
    "print(f'{DN:.2f} monitor units are required')"
   ]
  },
  {
   "cell_type": "markdown",
   "metadata": {},
   "source": [
    "**With the homogenity**"
   ]
  },
  {
   "cell_type": "markdown",
   "metadata": {},
   "source": [
    "TMR uses effective distance from surface to $E$ (dot product of `ds_E` segments and `rhos` segment)"
   ]
  },
  {
   "cell_type": "code",
   "execution_count": 47,
   "metadata": {},
   "outputs": [
    {
     "name": "stdout",
     "output_type": "stream",
     "text": [
      "149.49 monitor units are required\n"
     ]
    }
   ],
   "source": [
    "DE = 100\n",
    "TMR = TMR_int(13.32, np.dot(rhos, ds_E))[0]\n",
    "DN = DE/(TMR*Sp_rdE/Sp_rdN * (SAD/(SAD+dE))**2)\n",
    "print(f'{DN:.2f} monitor units are required')"
   ]
  },
  {
   "cell_type": "markdown",
   "metadata": {},
   "source": [
    "# Question 6"
   ]
  },
  {
   "cell_type": "markdown",
   "metadata": {},
   "source": [
    "## Part A"
   ]
  },
  {
   "cell_type": "markdown",
   "metadata": {},
   "source": [
    "### No Wedge"
   ]
  },
  {
   "cell_type": "markdown",
   "metadata": {},
   "source": [
    "We can write\n",
    "\n",
    "$$\\frac{D_E}{D_N} = TMR(d_E, r_{d_E})$$\n",
    "\n",
    "where $D_E$ is the dose without inhomogenity. The dose received is $D_E^* = 100$cGy where\n",
    "\n",
    "$$D_E^* = CF \\cdot D_E = \\left( \\frac{TMR(3+2, r_{d_E})}{TMR(2, r_{d_E})} \\right)^{0.4-1} D_E$$\n",
    "\n",
    "Thus \n",
    "\n",
    "$$D_N = \\frac{1}{CF \\cdot TMR(d_E, r_{d_E})} D_E^* $$ \n",
    "\n",
    "where $r_{d_E}=12$ and $d_E=11$"
   ]
  },
  {
   "cell_type": "code",
   "execution_count": 48,
   "metadata": {},
   "outputs": [],
   "source": [
    "DE_star = 100\n",
    "TMR_E = TMR_int(12, 11)[0]\n",
    "TMR_5 = TMR_int(12, 5)[0]\n",
    "TMR_2 = TMR_int(12, 2)[0]\n",
    "CF = (TMR_5/TMR_2)**(-0.6)\n",
    "DN = 1/(CF*TMR_E) * DE_star"
   ]
  },
  {
   "cell_type": "markdown",
   "metadata": {},
   "source": [
    "With $D_N$ we can compute the monitor units using\n",
    "\n",
    "$$D_N' = \\frac{D_N}{MU} = (1\\text{cGy/MU})\\cdot S_c(r_c) S_p(r_d) $$"
   ]
  },
  {
   "cell_type": "code",
   "execution_count": 49,
   "metadata": {},
   "outputs": [
    {
     "name": "stdout",
     "output_type": "stream",
     "text": [
      "123.671 monitor units are required\n"
     ]
    }
   ],
   "source": [
    "Sc = 1.006\n",
    "Sp = 1.005\n",
    "MU_nw = DN/(Sc*Sp)\n",
    "print(f'{MU_nw:.3f} monitor units are required')"
   ]
  },
  {
   "cell_type": "markdown",
   "metadata": {},
   "source": [
    "For the dose at point $D$ and $F$, we can invert the formula above for $D_N$ and add the OAR\n",
    "\n",
    "$$D_X = OAR(d_X, r_{d_X})TMR(d_X, r_{d_X}) CF \\cdot D_N $$ \n",
    "\n",
    "where $X=$ D or F."
   ]
  },
  {
   "cell_type": "code",
   "execution_count": 50,
   "metadata": {},
   "outputs": [
    {
     "name": "stdout",
     "output_type": "stream",
     "text": [
      "9.740969322981503 12.259030677018497\n"
     ]
    }
   ],
   "source": [
    "dD = dA+1.5+3+2\n",
    "dF = dC+1.5+3+2\n",
    "print(dD, dF)"
   ]
  },
  {
   "cell_type": "markdown",
   "metadata": {},
   "source": [
    "Thus, from interpolation, the TMRs OARs are"
   ]
  },
  {
   "cell_type": "code",
   "execution_count": 51,
   "metadata": {},
   "outputs": [],
   "source": [
    "TMR_D = TMR_int(12, dD)[0]\n",
    "TMR_F = TMR_int(12, dF)[0]\n",
    "OAR_D = 1.011\n",
    "OAR_F = 1.009"
   ]
  },
  {
   "cell_type": "markdown",
   "metadata": {},
   "source": [
    "The corresponding doses are (`nw` means no wedge)"
   ]
  },
  {
   "cell_type": "code",
   "execution_count": 52,
   "metadata": {},
   "outputs": [],
   "source": [
    "DD_nw = DN*TMR_D*OAR_D * CF\n",
    "DF_nw = DN*TMR_F*OAR_F * CF"
   ]
  },
  {
   "cell_type": "markdown",
   "metadata": {},
   "source": [
    "### With Wedge"
   ]
  },
  {
   "cell_type": "markdown",
   "metadata": {},
   "source": [
    "With the wedge, $D_N$ is he same but the monitor units are different: we need to consider the wedge factor. \n",
    "\n",
    "$$D_N' = \\frac{D_N}{MU} = (1\\text{cGy/MU})\\cdot S_c(r_c) S_p(r_d) WF $$"
   ]
  },
  {
   "cell_type": "code",
   "execution_count": 53,
   "metadata": {},
   "outputs": [
    {
     "name": "stdout",
     "output_type": "stream",
     "text": [
      "456.350 monitor units are required\n"
     ]
    }
   ],
   "source": [
    "Sc = 1.006\n",
    "Sp = 1.005\n",
    "WF = 0.271\n",
    "MU_w = DN/(Sc*Sp*WF)\n",
    "print(f'{MU_w:.3f} monitor units are required')"
   ]
  },
  {
   "cell_type": "markdown",
   "metadata": {},
   "source": [
    "The off axis ratios also need to be adjusted"
   ]
  },
  {
   "cell_type": "code",
   "execution_count": 54,
   "metadata": {},
   "outputs": [],
   "source": [
    "WOAR_D = 0.818\n",
    "WOAR_F = 1.225"
   ]
  },
  {
   "cell_type": "markdown",
   "metadata": {},
   "source": [
    "The corresponding doses are (`w` means wedge)"
   ]
  },
  {
   "cell_type": "code",
   "execution_count": 55,
   "metadata": {},
   "outputs": [],
   "source": [
    "DD_w = DN*TMR_D*WOAR_D * CF\n",
    "DF_w = DN*TMR_F*WOAR_F * CF"
   ]
  },
  {
   "cell_type": "markdown",
   "metadata": {},
   "source": [
    "### The table"
   ]
  },
  {
   "cell_type": "code",
   "execution_count": 56,
   "metadata": {},
   "outputs": [
    {
     "data": {
      "text/html": [
       "<div>\n",
       "<style scoped>\n",
       "    .dataframe tbody tr th:only-of-type {\n",
       "        vertical-align: middle;\n",
       "    }\n",
       "\n",
       "    .dataframe tbody tr th {\n",
       "        vertical-align: top;\n",
       "    }\n",
       "\n",
       "    .dataframe thead th {\n",
       "        text-align: right;\n",
       "    }\n",
       "</style>\n",
       "<table border=\"1\" class=\"dataframe\">\n",
       "  <thead>\n",
       "    <tr style=\"text-align: right;\">\n",
       "      <th></th>\n",
       "      <th>6MV No Wedge</th>\n",
       "      <th>6MV, With Wedge</th>\n",
       "    </tr>\n",
       "  </thead>\n",
       "  <tbody>\n",
       "    <tr>\n",
       "      <th>Dose to E</th>\n",
       "      <td>100.000000</td>\n",
       "      <td>100.000000</td>\n",
       "    </tr>\n",
       "    <tr>\n",
       "      <th>MU</th>\n",
       "      <td>123.670844</td>\n",
       "      <td>456.349977</td>\n",
       "    </tr>\n",
       "    <tr>\n",
       "      <th>Dose to D</th>\n",
       "      <td>105.651875</td>\n",
       "      <td>85.482922</td>\n",
       "    </tr>\n",
       "    <tr>\n",
       "      <th>Dose to F</th>\n",
       "      <td>96.371707</td>\n",
       "      <td>117.002320</td>\n",
       "    </tr>\n",
       "  </tbody>\n",
       "</table>\n",
       "</div>"
      ],
      "text/plain": [
       "           6MV No Wedge  6MV, With Wedge\n",
       "Dose to E    100.000000       100.000000\n",
       "MU           123.670844       456.349977\n",
       "Dose to D    105.651875        85.482922\n",
       "Dose to F     96.371707       117.002320"
      ]
     },
     "execution_count": 56,
     "metadata": {},
     "output_type": "execute_result"
    }
   ],
   "source": [
    "data = np.array([[100,100],[MU_nw,MU_w],[DD_nw,DD_w],[DF_nw, DF_w]])\n",
    "pd.DataFrame(data, columns=['6MV No Wedge', '6MV, With Wedge'],\n",
    "                   index=['Dose to E', 'MU', 'Dose to D', 'Dose to F'])"
   ]
  },
  {
   "cell_type": "markdown",
   "metadata": {},
   "source": [
    "## Part B"
   ]
  },
  {
   "cell_type": "markdown",
   "metadata": {},
   "source": [
    "The aim here is to minimize the variance of the dose at points $D$, $E$, and $F$. We can expresss our doses as\n",
    "\n",
    "$$D_D = fD_D^{(w)} + (1-f)D_D^{(nw)}$$\n",
    "$$D_F = fD_F^{(w)} + (1-f)D_F^{(nw)}$$\n",
    "\n",
    "where $f$ is the fraction of beam with the wedge, and $1-f$ is the fraction of beam without the wedge. The optimal value of $f$ is the one that minimizes the following **objective function** (the variance of the three doses):\n",
    "\n",
    "$$\\sum_{X} (D_X - \\bar{D})^2$$\n",
    "\n",
    "where $X$ specifies one of the dose points (D,E,F) and $\\bar{D}=\\sum_X D_x / N$ is the mean dose of the 3 locations ($N$ is number of dose points). This **objective function** above can actually be minimized **analytically** for an arbitrary number of dose points $D_X$ (see appendix), the solution is\n",
    "\n",
    "$$f = \\frac{\\frac{1}{N}\\left( \\sum_X a_x \\right)\\left(\\sum_X D_X^{(nw)} \\right) - \\sum_X a_X D_X^{(nw)}}{\\sum_X a_XD_X^{(w)} - \\sum_X a_XD_X^{(nw)} - \\frac{1}{N}\\left(\\sum_X a_X\\right)\\left(\\sum_X D_X^{(w)}\\right) + \\frac{1}{N}\\left(\\sum_X a_X\\right)\\left(\\sum_X D_X^{(nw)}\\right)} $$\n",
    "\n",
    "where\n",
    "\n",
    "$$a_X = D_X^{(w)} - D_X^{(nw)} - \\frac{1}{N} \\sum_Y \\left(D_Y^{(w)} - D_Y^{(nw)}\\right)$$"
   ]
  },
  {
   "cell_type": "code",
   "execution_count": 57,
   "metadata": {},
   "outputs": [
    {
     "name": "stdout",
     "output_type": "stream",
     "text": [
      "Fraction of Beam on time with wedge: 22.73%\n",
      "Fraction of Beam on time without wedge: 77.27%\n"
     ]
    }
   ],
   "source": [
    "DX_nw = np.array([100, DD_nw, DF_nw])\n",
    "DX_w = np.array([100, DD_w, DF_w])\n",
    "nn = 1/3 #normalization for mean\n",
    "ax = DX_w - DX_nw - nn*sum(DX_w-DX_nw)\n",
    "\n",
    "f = (nn*sum(ax)*sum(DX_nw) - sum(ax*DX_nw)) \\\n",
    "/(sum(ax*DX_w) - sum(ax*DX_nw)-nn*sum(ax)*sum(DX_w)+nn*sum(ax)*sum(DX_nw))\n",
    "\n",
    "print(f'Fraction of Beam on time with wedge: {f*100:.2f}%')\n",
    "print(f'Fraction of Beam on time without wedge: {(1-f)*100:.2f}%')"
   ]
  },
  {
   "cell_type": "markdown",
   "metadata": {},
   "source": [
    "The corresponding doses at the three locations are"
   ]
  },
  {
   "cell_type": "code",
   "execution_count": 58,
   "metadata": {},
   "outputs": [
    {
     "data": {
      "text/plain": [
       "array([100.        , 101.0682635 , 101.06023529])"
      ]
     },
     "execution_count": 58,
     "metadata": {},
     "output_type": "execute_result"
    }
   ],
   "source": [
    "Ds = f*DX_w + (1-f)*DX_nw\n",
    "Ds"
   ]
  },
  {
   "cell_type": "markdown",
   "metadata": {},
   "source": [
    "# Appendix"
   ]
  },
  {
   "cell_type": "markdown",
   "metadata": {},
   "source": [
    "## Question 6"
   ]
  },
  {
   "cell_type": "markdown",
   "metadata": {},
   "source": [
    "<p align=\"center\">\n",
    "  <img src=\"images/a2q6pb.jpg\" alt=\"drawing\" width=\"600\" align=\"center\"/>\n",
    "</p>"
   ]
  },
  {
   "cell_type": "code",
   "execution_count": null,
   "metadata": {},
   "outputs": [],
   "source": []
  }
 ],
 "metadata": {
  "kernelspec": {
   "display_name": "Python 3",
   "language": "python",
   "name": "python3"
  },
  "language_info": {
   "codemirror_mode": {
    "name": "ipython",
    "version": 3
   },
   "file_extension": ".py",
   "mimetype": "text/x-python",
   "name": "python",
   "nbconvert_exporter": "python",
   "pygments_lexer": "ipython3",
   "version": "3.8.5"
  }
 },
 "nbformat": 4,
 "nbformat_minor": 4
}
