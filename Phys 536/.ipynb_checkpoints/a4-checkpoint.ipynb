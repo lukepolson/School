{
 "cells": [
  {
   "cell_type": "code",
   "execution_count": 1,
   "metadata": {},
   "outputs": [],
   "source": [
    "import numpy as np\n",
    "import scipy as sp\n",
    "import matplotlib.pyplot as plt\n",
    "plt.style.use(['science', 'notebook'])"
   ]
  },
  {
   "cell_type": "markdown",
   "metadata": {},
   "source": [
    "## Question 1"
   ]
  },
  {
   "cell_type": "markdown",
   "metadata": {},
   "source": [
    "Let $X$ be a r.v. specifying the location at which a decay occurs and $f(x)$ be the corresponding probability density function for a particle interacting between $x=x_0$ and $x=\\infty$. Since $p(x)=f(x)dx \\propto x^{-2}$ we can write\n",
    "\n",
    "$$f(x)dx = Ax^{-2}dx \\hspace{5mm} x_0<x<\\infty$$\n",
    "\n",
    "where $A$ is a normalizing constant given by\n",
    "\n",
    "$$\\int_{x_0}^{\\infty}Ax^{-2}dx = 1 \\implies \\frac{A}{x_0}=1 \\implies A=x_0$$\n",
    "\n",
    "This tells us that our probability density function is given by $f(x)=x_0x^{-2}$. The CDF is given by\n",
    "\n",
    "$$F(x) = \\int_{x_0}^{x} f(x')dx' = \\int_{x_0}^{x}x_0x^{-2} dx' = 1-\\frac{x_0}{x}$$"
   ]
  },
  {
   "cell_type": "markdown",
   "metadata": {},
   "source": [
    "## Question 2"
   ]
  },
  {
   "cell_type": "markdown",
   "metadata": {},
   "source": [
    "Using \n",
    "\n",
    "$$F[F^{-1}(x)] = x \\implies 1-\\frac{x_0}{F^{-1}(x)} = x \\implies F^{-1}(x)= \\frac{x_0}{1-x}$$\n",
    "\n",
    "The probability integral transform tells us that if r.v $X$ has cdf $F$ then $F^{-1}(U)$ (where $U$ is a uniform r.v. between 0 and 1) also has cdf $F$.\n",
    "\n",
    "$$\\implies F^{-1}(U) = \\frac{x_0}{1-U} \\sim X$$\n",
    "\n",
    "where $\\sim$ means that the two distributions are identical."
   ]
  },
  {
   "cell_type": "markdown",
   "metadata": {},
   "source": [
    "## Question 3"
   ]
  },
  {
   "cell_type": "markdown",
   "metadata": {},
   "source": [
    "Define $x_0$ and $F^{-1}(x)$. Run simulation for 100 random uniform numbers"
   ]
  },
  {
   "cell_type": "code",
   "execution_count": 34,
   "metadata": {},
   "outputs": [],
   "source": [
    "x0 = 5 # cm\n",
    "r = np.random.rand(100)\n",
    "x = x0/(1-r)\n",
    "# Events less than 30 cm\n",
    "x_l30 = x[x<30]"
   ]
  },
  {
   "cell_type": "markdown",
   "metadata": {},
   "source": [
    "Make a plot with binning every 5cm"
   ]
  },
  {
   "cell_type": "code",
   "execution_count": 35,
   "metadata": {},
   "outputs": [
    {
     "data": {
      "image/png": "[encoded data removed]",
      "text/plain": [
       "<Figure size 576x216 with 1 Axes>"
      ]
     },
     "metadata": {
      "needs_background": "light"
     },
     "output_type": "display_data"
    }
   ],
   "source": [
    "bins = np.arange(5,35,5)\n",
    "plt.figure(figsize=(8,3))\n",
    "plt.hist(x_l30, bins=bins)\n",
    "plt.ylabel('Occurences')\n",
    "plt.xlabel('Depth of Interaction [cm]')\n",
    "plt.show()"
   ]
  },
  {
   "cell_type": "markdown",
   "metadata": {},
   "source": [
    "The proportion of events we expect to reach beyond 30cm are\n",
    "\n",
    "$$1-F(x=30\\text{cm}) = \\frac{5}{30} = 1/6$$\n",
    "\n",
    "The total proportion of simulated events that occured beyond 30cm are printed below:"
   ]
  },
  {
   "cell_type": "code",
   "execution_count": 36,
   "metadata": {},
   "outputs": [
    {
     "data": {
      "text/plain": [
       "0.17"
      ]
     },
     "execution_count": 36,
     "metadata": {},
     "output_type": "execute_result"
    }
   ],
   "source": [
    "len(x[x>30])/len(x)"
   ]
  }
 ],
 "metadata": {
  "kernelspec": {
   "display_name": "Python 3",
   "language": "python",
   "name": "python3"
  },
  "language_info": {
   "codemirror_mode": {
    "name": "ipython",
    "version": 3
   },
   "file_extension": ".py",
   "mimetype": "text/x-python",
   "name": "python",
   "nbconvert_exporter": "python",
   "pygments_lexer": "ipython3",
   "version": "3.8.5"
  }
 },
 "nbformat": 4,
 "nbformat_minor": 4
}
