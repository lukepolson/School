{
 "cells": [
  {
   "cell_type": "code",
   "execution_count": 1,
   "metadata": {},
   "outputs": [],
   "source": [
    "import numpy as np\n",
    "import matplotlib.pyplot as plt\n",
    "from scipy.integrate import quad\n",
    "import pandas as pd"
   ]
  },
  {
   "cell_type": "code",
   "execution_count": 67,
   "metadata": {},
   "outputs": [],
   "source": [
    "coilradius=0.0442\n",
    "maglength=0.087\n",
    "magradius=0.0025\n",
    "numdipoles=15\n",
    "changepoint=1*coilradius #Where the far field approximation takes full effect"
   ]
  },
  {
   "cell_type": "code",
   "execution_count": 21,
   "metadata": {},
   "outputs": [],
   "source": [
    "df_meas = pd.read_excel('Book1.xlsx', names=['times','coil1','coil2','coil3','coil4'])\n",
    "df_theo = pd.read_excel('theovoltagefromlab.xlsx', names=['coil1','coil2','coil3','coil4'])"
   ]
  },
  {
   "cell_type": "markdown",
   "metadata": {},
   "source": [
    "Sigmoid function $$S(x; m_i, m_x) = m_i + (m_x-m_i) * f\\left(\\frac{x-m_i}{m_x-m_i} \\right)$$\n",
    "\n",
    "where $$f(x)= \\frac{1}{1+200^{-t+0.5}} $$\n",
    "\n",
    "This is used as a smooth step function when the magnetic dipole changes from far field to close field approximation."
   ]
  },
  {
   "cell_type": "code",
   "execution_count": 32,
   "metadata": {},
   "outputs": [],
   "source": [
    "def sigmoid(x,mi, mx): return mi + (mx-mi)*(lambda t: (1+200**(-t+0.5))**(-1) )( (x-mi)/(mx-mi) )"
   ]
  },
  {
   "cell_type": "markdown",
   "metadata": {},
   "source": [
    "Sample plot."
   ]
  },
  {
   "cell_type": "code",
   "execution_count": 47,
   "metadata": {},
   "outputs": [
    {
     "data": {
      "image/png": "[encoded data removed]",
      "text/plain": [
       "<Figure size 576x360 with 1 Axes>"
      ]
     },
     "metadata": {
      "needs_background": "light"
     },
     "output_type": "display_data"
    }
   ],
   "source": [
    "xx = np.arange(-1, 1, 0.01)\n",
    "mx1 = 0.05; mx2 = 0.1; mx3 = 0.5; mi=0\n",
    "\n",
    "fig, ax = plt.subplots(1,1,figsize=(8,5))\n",
    "ax.plot(xx, sigmoid(xx,mi,mx1), label='$m_x=0.05$')\n",
    "ax.plot(xx, sigmoid(xx,mi,mx2), label='$m_x=0.1$')\n",
    "ax.plot(xx, sigmoid(xx,mi,mx3), label='$m_x=0.5$')\n",
    "ax.legend()\n",
    "ax.grid()\n",
    "plt.show()"
   ]
  },
  {
   "cell_type": "code",
   "execution_count": 72,
   "metadata": {},
   "outputs": [],
   "source": [
    "#This correpsponds to the contribution from the close field approximation for each dipole.\n",
    "\n",
    "def sigmoidcontribution(height):\n",
    "    int_func = lambda x: x*(8*np.pi/3)*(1-sigmoid(x,0,1.45*coilradius))*(1-sigmoid(abs(height),0,1.45*changepoint))\n",
    "    return 2*np.pi*quad(int_func, 0, coilradius)[0]\n",
    "\n",
    "# Calculates the flux through the loop due to a dipole located at some height above the loop\n",
    "\n",
    "def fluxthroughloopfromdipole(height):\n",
    "    dipolebound=changepoint\n",
    "    return 2*np.pi*(coilradius**2)/(coilradius**2+height**2)**(1.5)+sigmoidcontribution(height)\n",
    "\n",
    "# Calculates the total flux through the loop due to the center of the magnet at some height above the coil\n",
    "\n",
    "def fluxthroughloop(height):\n",
    "    deltah=maglength/(numdipoles+1)\n",
    "    x=-maglength/2+deltah\n",
    "    flux=0\n",
    "    while(x<maglength/2):\n",
    "        flux=flux+fluxthroughloopfromdipole(height+x)\n",
    "        x=x+deltah\n",
    "    return flux"
   ]
  },
  {
   "cell_type": "code",
   "execution_count": 73,
   "metadata": {},
   "outputs": [],
   "source": [
    "# Returns the height above each of the 4 loops as a function of time (t)\n",
    "\n",
    "def heightaboveloop1(t):\n",
    "    return 0.141-4.833*t*t\n",
    "\n",
    "def heightaboveloop2(t):\n",
    "    return 0.392-4.833*t*t\n",
    "\n",
    "def heightaboveloop3(t):\n",
    "    return 0.640-4.833*t*t\n",
    "\n",
    "def heightaboveloop4(t):\n",
    "    return 0.893-4.833*t*t\n",
    "\n",
    "def velocity(t):\n",
    "    return -9.666*t\n",
    "\n",
    "# Calculates the induced EMF through each of the 4 loops at a time t\n",
    "\n",
    "def voltage1(t):\n",
    "    N=20.0\n",
    "    deltah=-maglength/10000\n",
    "    deltat=0.00001\n",
    "    return N*(fluxthroughloop(heightaboveloop1(t)+deltah)-fluxthroughloop(heightaboveloop1(t)))*velocity(t)/deltah\n",
    "\n",
    "def voltage2(t):\n",
    "    N=20.0\n",
    "    deltah=-maglength/10000\n",
    "    deltat=0.00001\n",
    "    return N*(fluxthroughloop(heightaboveloop2(t)+deltah)-fluxthroughloop(heightaboveloop2(t)))*velocity(t)/deltah\n",
    "\n",
    "def voltage3(t):\n",
    "    N=20.0\n",
    "    deltah=-maglength/10000\n",
    "    deltat=0.00001\n",
    "    return N*(fluxthroughloop(heightaboveloop3(t)+deltah)-fluxthroughloop(heightaboveloop3(t)))*velocity(t)/deltah\n",
    "\n",
    "def voltage4(t):\n",
    "    N=20.0\n",
    "    deltah=-maglength/10000\n",
    "    deltat=0.00001\n",
    "    return N*(fluxthroughloop(heightaboveloop4(t)+deltah)-fluxthroughloop(heightaboveloop4(t)))*velocity(t)/deltah"
   ]
  },
  {
   "cell_type": "code",
   "execution_count": 79,
   "metadata": {},
   "outputs": [],
   "source": [
    "# Extracts the lab data, the single dipole approxmation data, and puts them in appropriate data structures. Note that the time values\n",
    "# used are from this data: this makes matching the plots easier.\n",
    "\n",
    "tvalues = df_meas['times'].values\n",
    "v1values = df_meas['coil1']\n",
    "v2values = df_meas['coil2']\n",
    "v3values = df_meas['coil3']\n",
    "v4values = df_meas['coil4']\n",
    "v1theolabvalues = df_theo['coil1']\n",
    "v2theolabvalues = df_theo['coil2']\n",
    "v3theolabvalues = df_theo['coil3']\n",
    "v4theolabvalues = df_theo['coil4']\n",
    "\n",
    "\n",
    "# This section is where we can change the value of the magnetic moment of each of the n dipoles. Changing this value increases the y scaling\n",
    "# of the plots created from the code.\n",
    "\n",
    "magneticmoment=0.462485703\n",
    "scalefactor=numdipoles/(magneticmoment*10**(-7))"
   ]
  },
  {
   "cell_type": "code",
   "execution_count": 80,
   "metadata": {},
   "outputs": [],
   "source": [
    "theo_imp = df_meas['test'].values"
   ]
  },
  {
   "cell_type": "code",
   "execution_count": 81,
   "metadata": {},
   "outputs": [
    {
     "data": {
      "image/png": "[encoded data removed]",
      "text/plain": [
       "<Figure size 432x288 with 1 Axes>"
      ]
     },
     "metadata": {
      "needs_background": "light"
     },
     "output_type": "display_data"
    }
   ],
   "source": [
    "# Creates the plots\n",
    "\n",
    "label1='Theoretical from Code'\n",
    "label2='Theoretical from Lab'\n",
    "label3='Actual Voltage'\n",
    "\n",
    "plt.figure(1)\n",
    "plotcur=plt.plot(tvalues, v1theolabvalues, '-g', label=label2)\n",
    "plt.plot(tvalues, theo_imp/scalefactor, 'r',label=label1)\n",
    "plt.plot(tvalues, v1values, '-b', label=label3)\n",
    "plt.xlabel(r\"$t$\")\n",
    "plt.ylabel(r\"$\\frac{4 \\pi}{u_0 M_0}$\")\n",
    "plt.legend(loc='upper right')\n",
    "plt.title(\"Voltage Through Loop 1\")\n",
    "plt.tight_layout()\n",
    "plt.show()"
   ]
  },
  {
   "cell_type": "code",
   "execution_count": null,
   "metadata": {},
   "outputs": [],
   "source": [
    "plt.figure(2)\n",
    "plotcur=plt.plot(tvalues, v2theolabvalues, '-g', label=label2)\n",
    "plt.plot(tvalues, voltage2(tvalues)/scalefactor, 'r',label=label1)\n",
    "plt.plot(tvalues, v2values, '-b', label=label3)\n",
    "plt.xlabel(r\"$t$\")\n",
    "plt.ylabel(r\"$\\frac{4 \\pi}{u_0 M_0}$\")\n",
    "plt.legend(loc='upper left')\n",
    "plt.title(\"Voltage Through Loop 2\")\n",
    "plt.tight_layout()\n",
    "plt.savefig('sumlabplots/15dipoles2.png', dpi=500)\n",
    "\n",
    "plt.figure(3)\n",
    "plotcur=plt.plot(tvalues, v3theolabvalues, '-g', label=label2)\n",
    "plt.plot(tvalues, voltage3(tvalues)/scalefactor, 'r',label=label1)\n",
    "plt.plot(tvalues, v3values, '-b', label=label3)\n",
    "plt.xlabel(r\"$t$\")\n",
    "plt.ylabel(r\"$\\frac{4 \\pi}{u_0 M_0}$\")\n",
    "plt.legend(loc='upper left')\n",
    "plt.title(\"Voltage Through Loop 3\")\n",
    "plt.tight_layout()\n",
    "plt.savefig('sumlabplots/15dipoles3.png', dpi=500)\n",
    "\n",
    "plt.figure(4)\n",
    "plotcur=plt.plot(tvalues, v4theolabvalues, '-g', label=label2)\n",
    "plt.plot(tvalues, voltage4(tvalues)/scalefactor, 'r',label=label1)\n",
    "plt.plot(tvalues, v4values, '-b', label=label3)\n",
    "plt.xlabel(r\"$t$\")\n",
    "plt.ylabel(r\"$\\frac{4 \\pi}{u_0 M_0}$\")\n",
    "plt.legend(loc='upper left')\n",
    "plt.title(\"Voltage Through Loop 4\")\n",
    "plt.tight_layout()"
   ]
  },
  {
   "cell_type": "code",
   "execution_count": null,
   "metadata": {},
   "outputs": [],
   "source": []
  }
 ],
 "metadata": {
  "kernelspec": {
   "display_name": "Python 3",
   "language": "python",
   "name": "python3"
  },
  "language_info": {
   "codemirror_mode": {
    "name": "ipython",
    "version": 3
   },
   "file_extension": ".py",
   "mimetype": "text/x-python",
   "name": "python",
   "nbconvert_exporter": "python",
   "pygments_lexer": "ipython3",
   "version": "3.6.9"
  }
 },
 "nbformat": 4,
 "nbformat_minor": 4
}
