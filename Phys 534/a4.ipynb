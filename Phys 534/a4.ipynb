{
 "cells": [
  {
   "cell_type": "code",
   "execution_count": 1,
   "metadata": {},
   "outputs": [],
   "source": [
    "import numpy as np\n",
    "import matplotlib.pyplot as plt\n",
    "import pint"
   ]
  },
  {
   "cell_type": "markdown",
   "metadata": {},
   "source": [
    "Here the `pint` module is used because dealing with units is a real pain and this package makes them very easy to manage in python."
   ]
  },
  {
   "cell_type": "code",
   "execution_count": 2,
   "metadata": {},
   "outputs": [],
   "source": [
    "u = pint.UnitRegistry()"
   ]
  },
  {
   "cell_type": "markdown",
   "metadata": {},
   "source": [
    "# Question 1"
   ]
  },
  {
   "cell_type": "markdown",
   "metadata": {},
   "source": [
    "Some functions that will help us"
   ]
  },
  {
   "cell_type": "code",
   "execution_count": 3,
   "metadata": {},
   "outputs": [],
   "source": [
    "def compute_I_atom(Z):\n",
    "    return np.piecewise(Z,\n",
    "                        [Z<=13, Z>13],\n",
    "                        [lambda Z: 7+12*Z, lambda Z: 9.76+58.8*Z**(-0.19)])\n",
    "\n",
    "def compute_I_compound(Ns, Zs):\n",
    "    Is = compute_I_atom(Zs)\n",
    "    numerator = sum(Ns*Zs*np.log(Is))\n",
    "    denominator = sum(Ns*Zs)\n",
    "    return np.exp(numerator/denominator)"
   ]
  },
  {
   "cell_type": "markdown",
   "metadata": {},
   "source": [
    "## Part A"
   ]
  },
  {
   "cell_type": "code",
   "execution_count": 4,
   "metadata": {},
   "outputs": [],
   "source": [
    "# Atomic Number of Hydrogen and Oxygen\n",
    "Zs = np.array([1, 8])\n",
    "# Atomic Weights of Hydrogen and Oxygen\n",
    "Ws = np.array([1.0079, 15.999])\n",
    "# Number of Species of Hydrogen and Oxygen\n",
    "Ns = np.array([2, 1])\n",
    "\n",
    "I_water_m1 = compute_I_compound(Ws*Ns, Zs)\n",
    "I_water_m2 = compute_I_compound(Ns, Zs)"
   ]
  },
  {
   "cell_type": "markdown",
   "metadata": {},
   "source": [
    "We can obtain an estimate using either the total atomic weight or the number of species i present in the compound:"
   ]
  },
  {
   "cell_type": "code",
   "execution_count": 5,
   "metadata": {},
   "outputs": [
    {
     "name": "stdout",
     "output_type": "stream",
     "text": [
      "Using Total Atomic Weight: I=100.34eV\n",
      "Using Number of Species: I=73.45eV\n"
     ]
    }
   ],
   "source": [
    "print(f'Using Total Atomic Weight: I={I_water_m1:.2f}eV')\n",
    "print(f'Using Number of Species: I={I_water_m2:.2f}eV')"
   ]
  },
  {
   "cell_type": "markdown",
   "metadata": {},
   "source": [
    "The more accurate answer, in this case, is using the total number of species."
   ]
  },
  {
   "cell_type": "markdown",
   "metadata": {},
   "source": [
    "## Part B"
   ]
  },
  {
   "cell_type": "code",
   "execution_count": 6,
   "metadata": {},
   "outputs": [],
   "source": [
    "# Atomic Number of Carbon, Hydrogen and Oxygen\n",
    "Zs = np.array([6, 1, 8])\n",
    "# Atomic Weights of Carbon, Hydrogen and Oxygen\n",
    "Ws = np.array([12.0107, 1.0079, 15.999])\n",
    "# Number of Species of Carbon, Hydrogen and Oxygen\n",
    "Ns = np.array([5, 8, 2])\n",
    "\n",
    "I_acrylic_m1 = compute_I_compound(Ws*Ns, Zs)\n",
    "I_acrylic_m2 = compute_I_compound(Ns, Zs)"
   ]
  },
  {
   "cell_type": "markdown",
   "metadata": {},
   "source": [
    "We can obtain an estimate using either the total atomic weight or the number of species i present in the compound:"
   ]
  },
  {
   "cell_type": "code",
   "execution_count": 7,
   "metadata": {},
   "outputs": [
    {
     "name": "stdout",
     "output_type": "stream",
     "text": [
      "Using Total Atomic Weight: I=86.47eV\n",
      "Using Number of Species: I=69.20eV\n"
     ]
    }
   ],
   "source": [
    "print(f'Using Total Atomic Weight: I={I_acrylic_m1:.2f}eV')\n",
    "print(f'Using Number of Species: I={I_acrylic_m2:.2f}eV')"
   ]
  },
  {
   "cell_type": "markdown",
   "metadata": {},
   "source": [
    "## Part C"
   ]
  },
  {
   "cell_type": "markdown",
   "metadata": {},
   "source": [
    "The mean ionization potential $I$ is a geometric mean of all ionization and excitation potentials of atoms of the absorbing material. It is through these absorption pathways in the material (excitiation and ionization) that an incident charged particle beam will lose energy and transfer it to the material. As such, $I$ plays a crucial role in determining the stopping power of a material, since stopping power is a measure of how a charged particle beam will deposit energy in a material. Furthermore, stopping power is a statistical average: this is precisely why **only the mean ionization potential** is required: not all excitation pathways need to be concidered in the formula. If one, however, was interested in the stochastic quantity $dE/dx$, the relative probability of individual excitiation and ionization pathways would need to be considered (and the formula, which would now be of random variables, would be significantly more complicated)."
   ]
  },
  {
   "cell_type": "markdown",
   "metadata": {},
   "source": [
    "## Part D"
   ]
  },
  {
   "cell_type": "markdown",
   "metadata": {},
   "source": [
    "One way to measure $I$ is to send a beam of monoenergetic charged particles with initial energy $E_0$ through a material of length $L$ and measure the outgoing energy distribution $E_f$, which will likely be narrow with a well defined mode. One can then solve the differential equation for stopping power $-\\left<dE/dx\\right>$ with the condition $E(x=0)=E_0$ and choose a value of $I$ that gives the closest solution to $E(x=L) = \\left<E_f\\right>$. This could be done through some sort of minimization algorithm. It is important to note that the energy range for the experiment should be within the valid region of the Bethe-Bloche equation."
   ]
  },
  {
   "cell_type": "markdown",
   "metadata": {},
   "source": [
    "## Part E"
   ]
  },
  {
   "cell_type": "markdown",
   "metadata": {},
   "source": [
    "Acrylic has a slightly lower mean ionization potential than water: while the stopping power is thus slightly greater ($S \\propto \\ln(1/I)$), it is also within a similar order of magnitude:"
   ]
  },
  {
   "cell_type": "code",
   "execution_count": 8,
   "metadata": {},
   "outputs": [
    {
     "data": {
      "text/plain": [
       "1.0140983305083777"
      ]
     },
     "execution_count": 8,
     "metadata": {},
     "output_type": "execute_result"
    }
   ],
   "source": [
    "np.log(1/I_water_m2)/np.log(1/I_acrylic_m2)"
   ]
  },
  {
   "cell_type": "markdown",
   "metadata": {},
   "source": [
    "so it should make a good substitute."
   ]
  },
  {
   "cell_type": "markdown",
   "metadata": {},
   "source": [
    "# Question 2"
   ]
  },
  {
   "cell_type": "markdown",
   "metadata": {},
   "source": [
    "Since\n",
    "\n",
    "$$E_k = \\left(\\frac{1}{\\sqrt{1-\\beta^2}}-1\\right)mc^2$$\n",
    "\n",
    "we have\n",
    "\n",
    "$$\\beta^2 = 1-\\frac{mc^2}{(E_k+mc^2)^2}$$"
   ]
  },
  {
   "cell_type": "code",
   "execution_count": 9,
   "metadata": {},
   "outputs": [],
   "source": [
    "Z = 10\n",
    "NA = 6.02e23\n",
    "A = 18*u.g\n",
    "e = 1.602e-19 * u.C\n",
    "me = 9.11e-31 * u.kg\n",
    "mp = 1.67e-27 * u.kg\n",
    "c = 3e8 * u.m/u.s\n",
    "z = 1\n",
    "eps0 = 8.854e-12 * u.F/u.m\n",
    "rho = 1*u.g / u.cm**3\n",
    "I = I_water_m2 * u.eV"
   ]
  },
  {
   "cell_type": "markdown",
   "metadata": {},
   "source": [
    "## Part A"
   ]
  },
  {
   "cell_type": "markdown",
   "metadata": {},
   "source": [
    "Use $E_k$ to get $\\beta^2$"
   ]
  },
  {
   "cell_type": "code",
   "execution_count": 10,
   "metadata": {},
   "outputs": [],
   "source": [
    "Ek = 100*u.MeV\n",
    "beta2 = 1 - (mp*c**2 / (Ek+mp*c**2))**2"
   ]
  },
  {
   "cell_type": "code",
   "execution_count": 11,
   "metadata": {},
   "outputs": [
    {
     "data": {
      "text/html": [
       "0.18338042882932593 dimensionless"
      ],
      "text/latex": [
       "$0.18338042882932593\\ dimensionless$"
      ],
      "text/plain": [
       "0.18338042882932593 <Unit('dimensionless')>"
      ]
     },
     "execution_count": 11,
     "metadata": {},
     "output_type": "execute_result"
    }
   ],
   "source": [
    "beta2"
   ]
  },
  {
   "cell_type": "markdown",
   "metadata": {},
   "source": [
    "Get mass stopping power"
   ]
  },
  {
   "cell_type": "code",
   "execution_count": 12,
   "metadata": {},
   "outputs": [],
   "source": [
    "C = 4*np.pi*(Z*NA/A)*(e**2 / (4*np.pi*eps0))**2 * (z**2/(me*c**2*beta2))\n",
    "f = np.log(2*me*c**2/I) + np.log(beta2/(1-beta2)) -beta2\n",
    "S = C*f"
   ]
  },
  {
   "cell_type": "markdown",
   "metadata": {},
   "source": [
    "Print value"
   ]
  },
  {
   "cell_type": "code",
   "execution_count": 13,
   "metadata": {},
   "outputs": [
    {
     "name": "stdout",
     "output_type": "stream",
     "text": [
      "7.300673054177806 centimeter ** 2 * megaelectron_volt / gram\n"
     ]
    }
   ],
   "source": [
    "print(S.to(u.MeV*u.cm**2/u.g))"
   ]
  },
  {
   "cell_type": "markdown",
   "metadata": {},
   "source": [
    "## Part B"
   ]
  },
  {
   "cell_type": "code",
   "execution_count": 14,
   "metadata": {},
   "outputs": [
    {
     "name": "stdout",
     "output_type": "stream",
     "text": [
      "46.06267272747041 centimeter ** 2 * megaelectron_volt / gram\n"
     ]
    }
   ],
   "source": [
    "Ek = 10*u.MeV\n",
    "beta2 = 1 - (mp*c**2 / (Ek+mp*c**2))**2\n",
    "C = 4*np.pi*(Z*NA/A)*(e**2 / (4*np.pi*eps0))**2 * (z**2/(me*c**2*beta2))\n",
    "f = np.log(2*me*c**2/I) + np.log(beta2/(1-beta2)) -beta2\n",
    "S = C*f\n",
    "print(S.to(u.MeV*u.cm**2/u.g))"
   ]
  },
  {
   "cell_type": "markdown",
   "metadata": {},
   "source": [
    "## Part C"
   ]
  },
  {
   "cell_type": "code",
   "execution_count": 15,
   "metadata": {},
   "outputs": [
    {
     "name": "stdout",
     "output_type": "stream",
     "text": [
      "271.0776530716801 centimeter ** 2 * megaelectron_volt / gram\n"
     ]
    }
   ],
   "source": [
    "Ek = 1*u.MeV\n",
    "beta2 = 1 - (mp*c**2 / (Ek+mp*c**2))**2\n",
    "C = 4*np.pi*(Z*NA/A)*(e**2 / (4*np.pi*eps0))**2 * (z**2/(me*c**2*beta2))\n",
    "f = np.log(2*me*c**2/I) + np.log(beta2/(1-beta2)) -beta2\n",
    "S = C*f\n",
    "print(S.to(u.MeV*u.cm**2/u.g))"
   ]
  },
  {
   "cell_type": "markdown",
   "metadata": {},
   "source": [
    "## Part D"
   ]
  },
  {
   "cell_type": "markdown",
   "metadata": {},
   "source": [
    "According to the paper, the values are\n",
    "\n",
    "* $E_k=100$MeV $\\implies$ $S_{\\text{col}}/\\rho=7.25$MeV$\\cdot$cm$^2$/g\n",
    "* $E_k=10$MeV $\\implies$ $S_{\\text{col}}/\\rho=45.32$MeV$\\cdot$cm$^2$/g\n",
    "* $E_k=1$MeV $\\implies$ $S_{\\text{col}}/\\rho=257.4$MeV$\\cdot$cm$^2$/g\n",
    "\n",
    "The values obtained in Parts A,B,C are all within 10% of these values. Possible discrepancies may be due to using an incorrect ionization potential for water (note the true value is 78eV but the value used here is 73eV from Question 1) and discrepancies in the stopping power formula at lower energies (see the first figure here: https://en.wikipedia.org/wiki/Bethe_formula) "
   ]
  },
  {
   "cell_type": "markdown",
   "metadata": {},
   "source": [
    "# Question 3"
   ]
  },
  {
   "cell_type": "markdown",
   "metadata": {},
   "source": [
    "## Part A"
   ]
  },
  {
   "cell_type": "markdown",
   "metadata": {},
   "source": [
    "Refering to the diagram in Lecture 9 Slide 13, the exposure can be derived as follows. Assume that\n",
    "\n",
    "1. $L<<f$, so that the quadrilateral EFGH is approximately a square\n",
    "2. The electric field is contained mostly between the two plates (i.e. little fringing fields outside the boundaries of the plates)\n",
    "3. The gap between the parallel plates is sufficiently large so that electrons liberated/created by photons **in the volume EFGH** lose all their energy (i.e. ionize as much other matter as possible) before striking the plates\n",
    "\n",
    "If follows that the volume of air that will be ionized by the beam **with ions affected by the electric field of the capacitor** is $A_f L$ where $A_f$ is the cross sectional. The mass of air in that region is $m=\\rho V=\\rho A_f l$. Provided that the ionization of matter is uniform within the volume (which can be satisfied if the volume is small enough)\n",
    "\n",
    "$$X = \\frac{dQ}{dm} \\approx \\frac{\\Delta Q}{\\Delta m} = \\frac{\\Delta Q}{\\rho A_f l}$$"
   ]
  },
  {
   "cell_type": "markdown",
   "metadata": {},
   "source": [
    "## Part B"
   ]
  },
  {
   "cell_type": "markdown",
   "metadata": {},
   "source": [
    "Provided one has access to the current measured as a function of time$I(t)$ (through an ammeter or some other apparatus) the charge ionized as a function of time $\\Delta Q(T)$ can be measured using\n",
    "\n",
    "$$\\Delta Q(T) = \\int_{t'=0}^{T} \\frac{dQ}{dt}dt = \\int_{t=0}^{T} I(t) dt$$\n",
    "\n",
    "The parameter $T$ controls how long you want to measure the exposure for: clearly as the beam runs for longer and longer, the air gains a larger and larger exposure."
   ]
  },
  {
   "cell_type": "markdown",
   "metadata": {},
   "source": [
    "## Part C"
   ]
  },
  {
   "cell_type": "markdown",
   "metadata": {},
   "source": [
    "We know that in air\n",
    "\n",
    "$$K_{\\text{col}} = \\frac{W_{\\text{air}}}{e}X$$\n",
    "\n",
    "and at charged particle equilibrium (and approximately past that point as well), $D_{\\text{med}}=K_{\\text{col}}$. Furthermore, since $D_{\\text{med}}=\\Phi(S_{\\text{col}}/\\rho)$ (monoenergetic) we have\n",
    "\n",
    "$$S_{col}/\\rho = \\frac{W_{\\text{air}}}{\\Phi e}X$$\n",
    "\n",
    "It can be useful to write $\\Phi(T) \\approx N(T)/A$ where $N(T)$ is the total number of particles incident in a sphere of cross sectional area $A$ after a time $T$. As time $T$ increases, $N(T)$ gets larger and larger. It can be approximated as \n",
    "\n",
    "$$N(T) = \\phi A \\cdot \\frac{vT}{2\\sqrt{A/\\pi}} = \\frac{1}{2}\\phi A^{1/2} \\pi^{1/2} c \\left(1-\\frac{mc^2}{(E_k+mc^2)^2)}\\right)^{1/2}$$\n",
    "\n",
    "The expression above follows from:\n",
    "\n",
    "* $n=\\phi A$ is the instantaneous number of photons in a sphere of cross sectional area $A$\n",
    "* $r=\\sqrt{A/\\pi}$ is the radius of this sphere of cross section area $A$\n",
    "* $vT/2r$ gives the number of times the sphere of cross sectional area $A$ is completely replaced by new particles.\n",
    "* $v=\\beta c =  c \\left(1-\\frac{mc^2}{(E_k+mc^2)^2)}\\right)^{1/2}$\n",
    "\n",
    "If we assume that most of the stopping power is due to collisional stopping power, then\n",
    "\n",
    "$$R = \\int_{0}^{E_k} S_{col}^{-1} dE_k = \\int_{0}^{E_k} \\frac{N(T) e}{A \\rho W_{\\text{air}}}\\frac{1}{X}dE_k $$\n",
    "\n",
    "Exposure $X$ can be measured experimentally as a function of energy and time $X=X(E_k; T)$. If $R_0$ is the largest feasible range to fit in a labratory, then the highest feasible energy of beam is\n",
    "\n",
    "$$\\boxed{E_k \\hspace{1mm} \\text{such that} \\hspace{1mm} \\left(1-\\frac{mc^2}{(E_k+mc^2)^2)}\\right)^{-1/2} \\int_{0}^{E_k} \\frac{1}{X(E_k'; T)} dE_k' < \\frac{\\pi^{1/2} R_0 c \\phi \\rho W_{\\text{air}}}{ 2A^{1/2}e}  }$$\n",
    "\n",
    "where \n",
    "\n",
    "$$X(E_k; T) = \\frac{1}{\\rho A_f l} \\int_{t=0}^{T} I(t;E_k) dt$$\n",
    "\n",
    "The time $T$ can be measured for any preferred length, but the longer $T$ is, the more accurate the formula for $N(T)$ will be. So that the volumes are equal, it should also be the case that $A_f l = 4A^{3/2}3\\pi^{1/2}$ (the expression on the right is the volume of a sphere written in terms of its cross sectional area)."
   ]
  },
  {
   "cell_type": "code",
   "execution_count": null,
   "metadata": {},
   "outputs": [],
   "source": []
  }
 ],
 "metadata": {
  "kernelspec": {
   "display_name": "Python 3",
   "language": "python",
   "name": "python3"
  },
  "language_info": {
   "codemirror_mode": {
    "name": "ipython",
    "version": 3
   },
   "file_extension": ".py",
   "mimetype": "text/x-python",
   "name": "python",
   "nbconvert_exporter": "python",
   "pygments_lexer": "ipython3",
   "version": "3.8.5"
  }
 },
 "nbformat": 4,
 "nbformat_minor": 4
}
