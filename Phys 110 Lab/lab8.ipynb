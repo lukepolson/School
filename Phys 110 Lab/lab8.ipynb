{
 "cells": [
  {
   "cell_type": "code",
   "execution_count": 1,
   "metadata": {},
   "outputs": [],
   "source": [
    "import numpy as np"
   ]
  },
  {
   "cell_type": "code",
   "execution_count": 139,
   "metadata": {},
   "outputs": [],
   "source": [
    "a = 0.1e-3; da=0.005e-3 #slit width \n",
    "d = 0.25e-3; dd = 0.005e-3 #slit spacing\n",
    "lam_true = 650e-9; dlam_true=20e-9 #True wavelength\n",
    "\n",
    "\n",
    "L = 1830e-3 ; dL=4e-3 #Length\n",
    "D=17.9e-3; dD=1e-3 # MEasured distance\n",
    "\n",
    "DeltaY = 5e-3"
   ]
  },
  {
   "cell_type": "markdown",
   "metadata": {},
   "source": [
    "# Part 1"
   ]
  },
  {
   "cell_type": "code",
   "execution_count": 140,
   "metadata": {},
   "outputs": [
    {
     "name": "stdout",
     "output_type": "stream",
     "text": [
      "lambda = 489.07103825136613 += 28.39141210546747\n"
     ]
    }
   ],
   "source": [
    "lam = D*a/(2*L)\n",
    "dlam = (dD/D + dL/L ) * lam\n",
    "print('lambda = {} += {}'.format(lam*1e9, dlam*1e9))"
   ]
  },
  {
   "cell_type": "code",
   "execution_count": 141,
   "metadata": {},
   "outputs": [
    {
     "data": {
      "text/plain": [
       "0.058051714137436275"
      ]
     },
     "execution_count": 141,
     "metadata": {},
     "output_type": "execute_result"
    }
   ],
   "source": [
    "dlam/lam"
   ]
  },
  {
   "cell_type": "markdown",
   "metadata": {},
   "source": [
    "# Part 2"
   ]
  },
  {
   "cell_type": "code",
   "execution_count": 142,
   "metadata": {},
   "outputs": [
    {
     "name": "stdout",
     "output_type": "stream",
     "text": [
      "deltaY_pred= 0.004758 += 0.00025195999999999997\n"
     ]
    }
   ],
   "source": [
    "deltaY_pred = lam_true*L/d\n",
    "ddeltaY_pred = (dlam_true/lam_true + dL/L+dd/d)*deltaY_pred\n",
    "print('deltaY_pred= {} += {}'.format(deltaY_pred, ddeltaY_pred))"
   ]
  },
  {
   "cell_type": "code",
   "execution_count": 143,
   "metadata": {},
   "outputs": [
    {
     "data": {
      "text/plain": [
       "0.052955023118957535"
      ]
     },
     "execution_count": 143,
     "metadata": {},
     "output_type": "execute_result"
    }
   ],
   "source": [
    "ddeltaY_pred/deltaY_pred"
   ]
  },
  {
   "cell_type": "code",
   "execution_count": 144,
   "metadata": {},
   "outputs": [],
   "source": [
    "import random"
   ]
  },
  {
   "cell_type": "code",
   "execution_count": null,
   "metadata": {},
   "outputs": [],
   "source": []
  }
 ],
 "metadata": {
  "kernelspec": {
   "display_name": "Python 3",
   "language": "python",
   "name": "python3"
  },
  "language_info": {
   "codemirror_mode": {
    "name": "ipython",
    "version": 3
   },
   "file_extension": ".py",
   "mimetype": "text/x-python",
   "name": "python",
   "nbconvert_exporter": "python",
   "pygments_lexer": "ipython3",
   "version": "3.6.9"
  }
 },
 "nbformat": 4,
 "nbformat_minor": 2
}
