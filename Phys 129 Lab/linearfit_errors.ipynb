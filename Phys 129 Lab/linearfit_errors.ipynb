{
 "cells": [
  {
   "cell_type": "markdown",
   "metadata": {},
   "source": [
    "Import all necessary python packages"
   ]
  },
  {
   "cell_type": "code",
   "execution_count": 2,
   "metadata": {},
   "outputs": [],
   "source": [
    "import numpy as np\n",
    "import matplotlib.pyplot as plt\n",
    "from scipy.optimize import curve_fit\n",
    "%matplotlib inline"
   ]
  },
  {
   "cell_type": "markdown",
   "metadata": {},
   "source": [
    "# Lab 2"
   ]
  },
  {
   "cell_type": "markdown",
   "metadata": {},
   "source": [
    "Open data"
   ]
  },
  {
   "cell_type": "code",
   "execution_count": 7,
   "metadata": {},
   "outputs": [],
   "source": [
    "masses = np.array([100, 150, 200, 250, 300]) / 1e3\n",
    "periods = np.array([6.3, 7.68, 8.85, 9.97, 10.95]) / 10\n",
    "trials = np.array([7.98, 7.95, 7.95, 7.97, 7.92])\n",
    "dP = np.ones(len(masses)) * np.std(trials) /10\n",
    "data = np.array([masses, periods, dP])"
   ]
  },
  {
   "cell_type": "markdown",
   "metadata": {},
   "source": [
    "Get variables from the data"
   ]
  },
  {
   "cell_type": "code",
   "execution_count": 8,
   "metadata": {},
   "outputs": [
    {
     "name": "stdout",
     "output_type": "stream",
     "text": [
      "Length of the 1st vector: 5\n"
     ]
    }
   ],
   "source": [
    "xvar = data[0]\n",
    "yvar = data[1]   \n",
    "dyvar = data[2] \n",
    "print(\"Length of the 1st vector:\",len(xvar))"
   ]
  },
  {
   "cell_type": "markdown",
   "metadata": {},
   "source": [
    "Plot data"
   ]
  },
  {
   "cell_type": "code",
   "execution_count": 11,
   "metadata": {},
   "outputs": [
    {
     "data": {
      "image/png": "[encoded data removed]",
      "text/plain": [
       "<Figure size 576x216 with 1 Axes>"
      ]
     },
     "metadata": {
      "needs_background": "light"
     },
     "output_type": "display_data"
    }
   ],
   "source": [
    "plt.figure(figsize=(8,3))\n",
    "plt.errorbar(xvar,yvar,yerr=dyvar,fmt='o',ms=5,color='blue',alpha=0.75)\n",
    "plt.grid(True) \n",
    "plt.title('Period vs. Mass Simulation',fontsize=25) #Plot title\n",
    "plt.show()"
   ]
  },
  {
   "cell_type": "markdown",
   "metadata": {},
   "source": [
    "$T^2 = \\frac{4\\pi^2}{k}M$"
   ]
  },
  {
   "cell_type": "markdown",
   "metadata": {},
   "source": [
    "Function that takes in data $x$ and $y$ and returns the $\\chi^2$ minimized value of parameters $m$ and $b$ when fitting the data to a linear line"
   ]
  },
  {
   "cell_type": "code",
   "execution_count": 12,
   "metadata": {},
   "outputs": [],
   "source": [
    "def OLSfit(x, y, dy=None):\n",
    "    if dy is None:\n",
    "        #if no error bars, weight every point the same\n",
    "        dy = np.ones(x.size)\n",
    "    denom = np.sum(1 / dy**2) * np.sum((x / dy)**2) - (np.sum(x / dy**2))**2\n",
    "    m = (np.sum(1 / dy**2) * np.sum(x * y / dy**2) - \n",
    "         np.sum(x / dy**2) * np.sum(y / dy**2)) / denom\n",
    "    b = (np.sum(x**2 / dy**2) * np.sum(y / dy**2) - \n",
    "         np.sum(x / dy**2) * np.sum(x * y / dy**2)) / denom\n",
    "    dm = np.sqrt(np.sum(1 / dy**2) / denom)\n",
    "    db = np.sqrt(np.sum(x / dy**2) / denom)\n",
    "    return m, dm, b, db"
   ]
  },
  {
   "cell_type": "markdown",
   "metadata": {},
   "source": [
    "**Analytic Formula (Linear Least Squares)**"
   ]
  },
  {
   "cell_type": "code",
   "execution_count": 24,
   "metadata": {},
   "outputs": [],
   "source": [
    "mopt, dmopt, bopt, dbopt = OLSfit(xvar,yvar**2,2*yvar*dyvar)"
   ]
  },
  {
   "cell_type": "markdown",
   "metadata": {},
   "source": [
    "**Non Linear Least Squares**"
   ]
  },
  {
   "cell_type": "code",
   "execution_count": 25,
   "metadata": {},
   "outputs": [],
   "source": [
    "def line(x, m, b):\n",
    "    return m*x+b\n",
    "popt, pcov = curve_fit(line, xvar, yvar**2, sigma=2*yvar*dyvar, absolute_sigma=True)"
   ]
  },
  {
   "cell_type": "markdown",
   "metadata": {},
   "source": [
    "Compute $k$ uisng linear regression analytic formula and using non-linear least squares `curve_fit` function"
   ]
  },
  {
   "cell_type": "code",
   "execution_count": 26,
   "metadata": {},
   "outputs": [
    {
     "name": "stdout",
     "output_type": "stream",
     "text": [
      "9.884965483854653\n",
      "9.884965485040885\n"
     ]
    }
   ],
   "source": [
    "k1 = 4*np.pi**2 / mopt\n",
    "k2 = 4*np.pi**2 / popt[0]\n",
    "print(k1)\n",
    "print(k2)"
   ]
  },
  {
   "cell_type": "markdown",
   "metadata": {},
   "source": [
    "Compute error on $k$"
   ]
  },
  {
   "cell_type": "code",
   "execution_count": 27,
   "metadata": {},
   "outputs": [
    {
     "name": "stdout",
     "output_type": "stream",
     "text": [
      "0.05474495632568516\n",
      "0.05474495623818982\n"
     ]
    }
   ],
   "source": [
    "dk1 = 4*np.pi**2 / mopt**2 *dmopt\n",
    "dk2 = 4*np.pi**2 / popt[0]**2 * np.sqrt(pcov[0][0])\n",
    "print(dk1)\n",
    "print(dk2)"
   ]
  },
  {
   "cell_type": "markdown",
   "metadata": {},
   "source": [
    "# Lab 2"
   ]
  },
  {
   "cell_type": "markdown",
   "metadata": {},
   "source": [
    "Open data"
   ]
  },
  {
   "cell_type": "code",
   "execution_count": 101,
   "metadata": {},
   "outputs": [],
   "source": [
    "data = np.genfromtxt(datafile,delimiter=',',dtype=float)\n",
    "xvar = data[:,0]\n",
    "yvar = data[:,1]   \n",
    "dyvar = data[:,2] "
   ]
  },
  {
   "cell_type": "markdown",
   "metadata": {},
   "source": [
    "Get optimal parameters"
   ]
  },
  {
   "cell_type": "code",
   "execution_count": 102,
   "metadata": {},
   "outputs": [],
   "source": [
    "mopt, dmopt, bopt, dbopt = bestfit = OLSfit(xvar,yvar,dyvar)"
   ]
  },
  {
   "cell_type": "code",
   "execution_count": 103,
   "metadata": {},
   "outputs": [
    {
     "data": {
      "text/plain": [
       "11.934306569343066"
      ]
     },
     "execution_count": 103,
     "metadata": {},
     "output_type": "execute_result"
    }
   ],
   "source": [
    "k = 9.81/mopt\n",
    "k"
   ]
  },
  {
   "cell_type": "code",
   "execution_count": 104,
   "metadata": {},
   "outputs": [
    {
     "data": {
      "text/plain": [
       "0.04591191125770598"
      ]
     },
     "execution_count": 104,
     "metadata": {},
     "output_type": "execute_result"
    }
   ],
   "source": [
    "dk = 9.81/mopt**2 * dmopt\n",
    "dk"
   ]
  },
  {
   "cell_type": "code",
   "execution_count": 9,
   "metadata": {},
   "outputs": [],
   "source": [
    "# Create an array of values starting at 1st xvar = 1750, going up to 2100, with steps of 10 (for the climate data)\n",
    "#Change the following values to cover the range of your x variables\n",
    "xForLine = np.arange(1750.,2150.,10.) \n",
    "# Calculate the value of the best fit line to be printed on plots: y = slope * x + intercept \n",
    "yForLine = slope*xForLine + intercept"
   ]
  },
  {
   "cell_type": "code",
   "execution_count": 10,
   "metadata": {},
   "outputs": [
    {
     "name": "stdout",
     "output_type": "stream",
     "text": [
      "Chisq 8.2520\n"
     ]
    }
   ],
   "source": [
    "#Calculate the residuals for each year and the overall value of Chi-square\n",
    "residual=yvar-(slope*xvar+intercept)\n",
    "# Calculate the Chi-sq; number of degrees of freedom, ndof=no. entries - no. parameters -1\n",
    "ndof=len(xvar)-2-1\n",
    "ru=residual/dyvar\n",
    "chisq=np.sum(np.power(ru,2))/ndof\n",
    "print(\"Chisq\", str.format('{0:.4f}',chisq))#Print 4 significant figures\n",
    "#"
   ]
  },
  {
   "cell_type": "code",
   "execution_count": 11,
   "metadata": {},
   "outputs": [
    {
     "data": {
      "image/png": "[encoded data removed]",
      "text/plain": [
       "<Figure size 1080x720 with 1 Axes>"
      ]
     },
     "metadata": {
      "needs_background": "light"
     },
     "output_type": "display_data"
    }
   ],
   "source": [
    "#Plot the residuals\n",
    "plt.errorbar(xvar,residual,yerr=dyvar,fmt='o',ms=5,color='black',alpha=0.75)\n",
    "plt.gcf().set_size_inches(15,10) # This sets the size of the plot\n",
    "# The next 2 lines set the range for plotting the Y and x variables:\n",
    "plt.ylim(ymin_residuals,ymax_residuals) # This sets the range of the y-axis\n",
    "plt.xlim(xmin,xmax) # This sets the range of the x-axis\n",
    "#\n",
    "plt.grid(True) # This toggles whether gridlines are displayed\n",
    "# Set the labels and title for your residuals plot\n",
    "plt.xlabel(xlabel,fontsize=16)\n",
    "plt.ylabel('Residuals',fontsize=16)\n",
    "plt.title('Residuals',fontsize=25) \n",
    "# Add the value of Chi-sq to the plot; locate this relative to the x and y axes.\n",
    "#f in front of the string'....' allows the variable in {chsq} to be printed\n",
    "# This allows selecting the no. sig. digits and rounding to be printed on plot\n",
    "#chi = \"Chi-sq ={:.3f}\".format(round(chsq, 3))\n",
    "#chi = \"Chi-sq ={:.2f}\".format(chsq)#rounds to 2 sig. digits\n",
    "#plt.annotate(chi ,xy=(1900,8),  xytext=(1900,8),color=\"blue\",fontsize=24)\n",
    "plt.savefig(plot2,bbox_inches='tight',dpi=300)# Add the line"
   ]
  },
  {
   "cell_type": "code",
   "execution_count": 12,
   "metadata": {},
   "outputs": [
    {
     "name": "stdout",
     "output_type": "stream",
     "text": [
      "Bestfit:\n",
      "     slope            m= 0.014593\n",
      "     slope error     dm= 0.000351\n",
      "     intercept        b= -25.835436\n",
      "     intercept error db= 0.015636\n",
      "Chisq 8.2520\n"
     ]
    },
    {
     "data": {
      "image/png": "[encoded data removed]",
      "text/plain": [
       "<Figure size 1080x720 with 1 Axes>"
      ]
     },
     "metadata": {
      "needs_background": "light"
     },
     "output_type": "display_data"
    }
   ],
   "source": [
    "#Plot the best fit line with the data\n",
    "plt.errorbar(xvar,yvar,yerr=dyvar,fmt='o',ms=5,color='black',alpha=0.75)\n",
    "plt.gcf().set_size_inches(15,10) # This sets the size of the plot\n",
    "plt.ylim(ymin,ymax) # This sets the range of the y-axis\n",
    "plt.xlim(xmin,xmax) # This sets the range of the x-axis\n",
    "plt.grid(True) # This toggles whether gridlines are displayed\n",
    "plt.xlabel(xlabel,fontsize=16)\n",
    "plt.ylabel(ylabel,fontsize=16)\n",
    "plt.title(title,fontsize=25)\n",
    "\n",
    "# Add the line to the plot\n",
    "plt.plot(xForLine,yForLine,lw=3,color='red',alpha=0.5,label='Line of Best Fit')\n",
    "# Add the value of Chi-sq to the plot; locate this relative to the x and y axes.\n",
    "#chi = \"Chi-sq ={:.3f}\".format(round(chsq, 3))\n",
    "#plt.annotate(chi ,xy=(1900,8),  xytext=(1900,8),color=\"blue\",fontsize=20)\n",
    "# Add the values of the slope and intercepts (and their errors) to the plot\n",
    "#sp=\"Slope m={:.5f}\".format(round(bestfit[0],5)),\"dm= {:.5f}\".format(round(bestfit[1],5))\n",
    "#plt.annotate(sp ,xy=(1900,7),  xytext=(1900,7),color=\"blue\",fontsize=20)\n",
    "#ic=\"Intercept b={:.3f}\".format(round(bestfit[2],3)),\"db= {:.3f}\".format(round(bestfit[3],3))\n",
    "#plt.annotate(ic ,xy=(1900,6),  xytext=(1900,6),color=\"blue\",fontsize=20)\n",
    "# Add a legend\n",
    "plt.legend()\n",
    "plt.savefig(plot3,bbox_inches='tight',dpi=300)\n",
    "print(\"Bestfit:\")\n",
    "print(\"     slope            m=\",str.format('{0:.6f}',bestfit[0]))\n",
    "print(\"     slope error     dm=\",str.format('{0:.6f}',bestfit[1]))\n",
    "print(\"     intercept        b=\",str.format('{0:.6f}',bestfit[2]))\n",
    "print(\"     intercept error db=\",str.format('{0:.6f}',bestfit[3]))\n",
    "print(\"Chisq\", str.format('{0:.4f}',chisq))#Print 4 significant figures\n"
   ]
  },
  {
   "cell_type": "code",
   "execution_count": null,
   "metadata": {},
   "outputs": [],
   "source": []
  },
  {
   "cell_type": "code",
   "execution_count": null,
   "metadata": {},
   "outputs": [],
   "source": []
  },
  {
   "cell_type": "markdown",
   "metadata": {},
   "source": [
    "# Today"
   ]
  },
  {
   "cell_type": "code",
   "execution_count": 60,
   "metadata": {},
   "outputs": [],
   "source": [
    "xvar = np.arange(0,10)\n",
    "yvar = 5*xvar+9 + 3*np.random.randn(len(xvar))\n",
    "dyvar = np.random.randn(len(xvar))"
   ]
  },
  {
   "cell_type": "code",
   "execution_count": 61,
   "metadata": {},
   "outputs": [
    {
     "data": {
      "text/plain": [
       "<matplotlib.collections.PathCollection at 0x26877627f40>"
      ]
     },
     "execution_count": 61,
     "metadata": {},
     "output_type": "execute_result"
    },
    {
     "data": {
      "image/png": "[encoded data removed]",
      "text/plain": [
       "<Figure size 432x288 with 1 Axes>"
      ]
     },
     "metadata": {
      "needs_background": "light"
     },
     "output_type": "display_data"
    }
   ],
   "source": [
    "plt.scatter(xvar, yvar)"
   ]
  },
  {
   "cell_type": "markdown",
   "metadata": {},
   "source": [
    "# Method 1"
   ]
  },
  {
   "cell_type": "markdown",
   "metadata": {},
   "source": [
    "From lab 2. Uses OLS fit"
   ]
  },
  {
   "cell_type": "code",
   "execution_count": 75,
   "metadata": {},
   "outputs": [],
   "source": [
    "def OLSfit(x, y, dy=None):\n",
    "    if dy is None:\n",
    "        #if no error bars, weight every point the same\n",
    "        dy = np.ones(x.size)\n",
    "    denom = np.sum(1 / dy**2) * np.sum((x / dy)**2) - (np.sum(x / dy**2))**2\n",
    "    m = (np.sum(1 / dy**2) * np.sum(x * y / dy**2) - \n",
    "         np.sum(x / dy**2) * np.sum(y / dy**2)) / denom\n",
    "    b = (np.sum(x**2 / dy**2) * np.sum(y / dy**2) - \n",
    "         np.sum(x / dy**2) * np.sum(x * y / dy**2)) / denom\n",
    "    dm = np.sqrt(np.sum(1 / dy**2) / denom)\n",
    "    db = np.sqrt(np.sum(x**2 / dy**2) / denom)\n",
    "    return m, dm, b, db"
   ]
  },
  {
   "cell_type": "markdown",
   "metadata": {},
   "source": [
    "Get parameters (`opt` means \"optimal parameters\")"
   ]
  },
  {
   "cell_type": "code",
   "execution_count": 63,
   "metadata": {},
   "outputs": [],
   "source": [
    "mopt, dmopt, bopt, dbopt = OLSfit(xvar,yvar,dyvar)"
   ]
  },
  {
   "cell_type": "markdown",
   "metadata": {},
   "source": [
    "Look at them"
   ]
  },
  {
   "cell_type": "code",
   "execution_count": 64,
   "metadata": {},
   "outputs": [
    {
     "data": {
      "text/plain": [
       "4.884922018352474"
      ]
     },
     "execution_count": 64,
     "metadata": {},
     "output_type": "execute_result"
    }
   ],
   "source": [
    "mopt"
   ]
  },
  {
   "cell_type": "code",
   "execution_count": 65,
   "metadata": {},
   "outputs": [
    {
     "data": {
      "text/plain": [
       "0.035686718167345574"
      ]
     },
     "execution_count": 65,
     "metadata": {},
     "output_type": "execute_result"
    }
   ],
   "source": [
    "dmopt"
   ]
  },
  {
   "cell_type": "code",
   "execution_count": 66,
   "metadata": {},
   "outputs": [
    {
     "data": {
      "text/plain": [
       "0.08847827489990213"
      ]
     },
     "execution_count": 66,
     "metadata": {},
     "output_type": "execute_result"
    }
   ],
   "source": [
    "dbopt"
   ]
  },
  {
   "cell_type": "markdown",
   "metadata": {},
   "source": [
    "# Method 2"
   ]
  },
  {
   "cell_type": "markdown",
   "metadata": {},
   "source": [
    "From today's lab using scipy's `curve_fit` function"
   ]
  },
  {
   "cell_type": "code",
   "execution_count": 67,
   "metadata": {},
   "outputs": [],
   "source": [
    "def line(x, m, b):\n",
    "    return m*x+b\n",
    "popt, pcov = curve_fit(line, xvar, yvar, sigma=dyvar, absolute_sigma=True)"
   ]
  },
  {
   "cell_type": "markdown",
   "metadata": {},
   "source": [
    "Get parameters"
   ]
  },
  {
   "cell_type": "code",
   "execution_count": 68,
   "metadata": {},
   "outputs": [],
   "source": [
    "mopt, bopt = popt\n",
    "dmopt = np.sqrt(pcov[0][0])\n",
    "dbopt = np.sqrt(pcov[1][1])"
   ]
  },
  {
   "cell_type": "markdown",
   "metadata": {},
   "source": [
    "Print them out"
   ]
  },
  {
   "cell_type": "code",
   "execution_count": 69,
   "metadata": {},
   "outputs": [
    {
     "data": {
      "text/plain": [
       "4.884922014045534"
      ]
     },
     "execution_count": 69,
     "metadata": {},
     "output_type": "execute_result"
    }
   ],
   "source": [
    "mopt"
   ]
  },
  {
   "cell_type": "code",
   "execution_count": 70,
   "metadata": {},
   "outputs": [
    {
     "data": {
      "text/plain": [
       "0.03568671856737505"
      ]
     },
     "execution_count": 70,
     "metadata": {},
     "output_type": "execute_result"
    }
   ],
   "source": [
    "dmopt"
   ]
  },
  {
   "cell_type": "code",
   "execution_count": 71,
   "metadata": {},
   "outputs": [
    {
     "data": {
      "text/plain": [
       "0.24579131944109509"
      ]
     },
     "execution_count": 71,
     "metadata": {},
     "output_type": "execute_result"
    }
   ],
   "source": [
    "dbopt"
   ]
  }
 ],
 "metadata": {
  "kernelspec": {
   "display_name": "Python 3",
   "language": "python",
   "name": "python3"
  },
  "language_info": {
   "codemirror_mode": {
    "name": "ipython",
    "version": 3
   },
   "file_extension": ".py",
   "mimetype": "text/x-python",
   "name": "python",
   "nbconvert_exporter": "python",
   "pygments_lexer": "ipython3",
   "version": "3.8.5"
  }
 },
 "nbformat": 4,
 "nbformat_minor": 4
}
