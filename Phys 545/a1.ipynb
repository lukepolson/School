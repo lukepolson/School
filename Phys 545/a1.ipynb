{
 "cells": [
  {
   "cell_type": "code",
   "execution_count": 1,
   "metadata": {},
   "outputs": [],
   "source": [
    "import numpy as np\n",
    "import matplotlib.pyplot as plt\n",
    "from scipy.stats import ttest_ind, ttest_rel\n",
    "from scipy.stats import t"
   ]
  },
  {
   "cell_type": "markdown",
   "metadata": {},
   "source": [
    "Load in data"
   ]
  },
  {
   "cell_type": "code",
   "execution_count": 2,
   "metadata": {},
   "outputs": [],
   "source": [
    "ind1 = np.array([22, 23, 32, 38, 47 ])\n",
    "ind2 = np.array([27, 28, 36, 41, 51 ])\n",
    "pair1 = np.array([22, 23, 32, 38, 47])\n",
    "pair2 = np.array([27, 28, 36, 41, 51])"
   ]
  },
  {
   "cell_type": "markdown",
   "metadata": {},
   "source": [
    "# Question 1"
   ]
  },
  {
   "cell_type": "markdown",
   "metadata": {},
   "source": [
    "Compute statistics for **independent data**"
   ]
  },
  {
   "cell_type": "code",
   "execution_count": 3,
   "metadata": {},
   "outputs": [],
   "source": [
    "DOF = 2*len(ind1)-2\n",
    "sp= np.sqrt((np.var(ind1) + np.var(ind2))/(DOF/2))\n",
    "dM = np.mean(ind1) - np.mean(ind2)\n",
    "tval = dM/sp\n",
    "pval = 2*t.cdf(tval, df=DOF)\n",
    "CI95 = dM + np.array([-sp, sp])*t.ppf(0.975, df=DOF)"
   ]
  },
  {
   "cell_type": "markdown",
   "metadata": {},
   "source": [
    "Print"
   ]
  },
  {
   "cell_type": "code",
   "execution_count": 4,
   "metadata": {},
   "outputs": [
    {
     "name": "stdout",
     "output_type": "stream",
     "text": [
      "P-Value: 0.53\n",
      "95% CI: (-19.09, 10.69)\n",
      "T-Value: -0.65\n",
      "Standard Error Of Difference: 6.46\n",
      "Mean Group 1: 32.40, Mean Group 2: 36.60\n",
      "(Uncorrected) SD Group 1: 9.39, SD Group 2: 8.87\n",
      "(Corrected) SD Group 1: 10.50, SD Group 2: 9.91\n"
     ]
    }
   ],
   "source": [
    "print(f'P-Value: {pval:.2f}')\n",
    "print(f'95% CI: ({CI95[0]:.2f}, {CI95[1]:.2f})')\n",
    "print(f'T-Value: {tval:.2f}')\n",
    "print(f'Standard Error Of Difference: {sp:.2f}')\n",
    "print(f'Mean Group 1: {np.mean(ind1):.2f}, Mean Group 2: {np.mean(ind2):.2f}')\n",
    "print(f'(Uncorrected) SD Group 1: {np.std(pair1):.2f}, SD Group 2: {np.std(pair2):.2f}')\n",
    "print(f'(Corrected) SD Group 1: {np.std(pair1,ddof=1):.2f}, SD Group 2: {np.std(pair2,ddof=1):.2f}')"
   ]
  },
  {
   "cell_type": "markdown",
   "metadata": {},
   "source": [
    "Compute statistics for **dependent data**:"
   ]
  },
  {
   "cell_type": "code",
   "execution_count": 5,
   "metadata": {},
   "outputs": [],
   "source": [
    "DOF = len(pair1)-1\n",
    "XD = np.mean(pair1 - pair2)\n",
    "sp = np.std(pair1-pair2)/np.sqrt(DOF)\n",
    "tval = XD/sp\n",
    "pval = 2*t.cdf(tval, df=DOF)\n",
    "CI95 = XD + np.array([-sp, sp])*t.ppf(0.975, df=DOF)"
   ]
  },
  {
   "cell_type": "markdown",
   "metadata": {},
   "source": [
    "Print"
   ]
  },
  {
   "cell_type": "code",
   "execution_count": 6,
   "metadata": {},
   "outputs": [
    {
     "name": "stdout",
     "output_type": "stream",
     "text": [
      "P-Value: 0.0003587353\n",
      "95% CI: (-5.24, -3.16)\n",
      "T-Value: -11.22\n",
      "Standard Error Of Difference: 0.37\n",
      "(Uncorrected) SD Group 1: 9.39, SD Group 2: 8.87\n",
      "(Corrected) SD Group 1: 10.50, SD Group 2: 9.91\n"
     ]
    }
   ],
   "source": [
    "print(f'P-Value: {pval:.10f}')\n",
    "print(f'95% CI: ({CI95[0]:.2f}, {CI95[1]:.2f})')\n",
    "print(f'T-Value: {tval:.2f}')\n",
    "print(f'Standard Error Of Difference: {sp:.2f}')\n",
    "print(f'(Uncorrected) SD Group 1: {np.std(ind1):.2f}, SD Group 2: {np.std(ind2):.2f}')\n",
    "print(f'(Corrected) SD Group 1: {np.std(ind1,ddof=1):.2f}, SD Group 2: {np.std(ind2,ddof=1):.2f}')"
   ]
  },
  {
   "cell_type": "markdown",
   "metadata": {},
   "source": [
    "# Question 2"
   ]
  },
  {
   "cell_type": "markdown",
   "metadata": {},
   "source": [
    "The null hypothesis for this experiment is that intervention 1 and intervention 2 have the same effect. More specifically, if $X_1$ is a r.v. representing the effect of treatment 1 on a randomly sampled member of the general population, and $X_2$ is a r.v. representing the effect of treatment 2 on a randomly sampled member of the general population, then $X_1$ and $X_2$ follow the same distribution."
   ]
  },
  {
   "cell_type": "markdown",
   "metadata": {},
   "source": [
    "# Question 3"
   ]
  },
  {
   "cell_type": "markdown",
   "metadata": {},
   "source": [
    "**Assuming the null hypothesis stated above**, let $\\vec{X}_i = (A_i, B_i)$ represent a random vector of column-wise pairs of listed data; $A_i$ representes intervention 1 and $B_i$ represents intervention 2. (For example, the first realization of $\\vec{X}_i$ is (22, 27) in the data given)\n",
    "\n",
    "* For the independent case, $A_i$ and $B_i$ are assumed to be independent and identically distributed (iid) random variables.\n",
    "* For the paired case, $A_i$ and $B_i$ are assumed only to be identically distributed, but not independent.\n",
    "\n",
    "In practice, in the independent test, *consistent* improvements are not considered. Note that all $t$ and $p$ value statistics are derived from sample statistics from each set of data seperately (e.g. compute the SD of $\\{A_i\\}$ and $\\{B_i\\}$ seperately, then use these to get $t$ value statistic). In the dependent test, however, $t$ and $p$ value statistics are computed by examining residuals between $A_i$ and $B_i$ (e.g. computing the SD of $\\{A_i-B_i\\}$) which provides a measure of pair-wise consistency between treatments 1 and 2.\n",
    "\n",
    "Since *consistent* improvements are taken into account with the dependent test, a minor improvement seen across all patients is statistically unlikely under the null, which can result in a lower p-value. More specifically, while a minor improvement may be likely for signle patient, such a result would be quite unlikely for all patients (analgous, but not exactly similar, to flipping a coin 5 times and obtaining 5 heads)."
   ]
  },
  {
   "cell_type": "markdown",
   "metadata": {},
   "source": [
    "# Question 4"
   ]
  },
  {
   "cell_type": "markdown",
   "metadata": {},
   "source": [
    "## Part A\n",
    "\n",
    "A **true** 95% confidence interval $C_{95}$ is such that \n",
    "\n",
    "$$P(X \\in C_{95}|H_0) = 0.95$$\n",
    "\n",
    "where $X$ is a random variable, $C_{95}$ is an interval represented by two real numbers, and $P(A|H_0)$ represents the probability of event $A$ occuring given the null $H_0$.\n",
    "\n",
    "In practice, 95% confidence intervals are estimated from collected data; in this case, $C_{95}$ is itself random variable, and the following holds (under ideal conditions):\n",
    "\n",
    "$$P(X \\in E[C_{95}]|H_0) = 0.95$$\n",
    "\n",
    "where $E$ represents the expectation value of $C_{95}$. In our experiment, the 95% confidence interval represents the following:\n",
    "\n",
    "* If the null $H_0$ is true, *and* assuming $C_{95} \\approx E[C_{95}]$, 95% of repeated experiments (i.e. same sample size, same treatment) would produce a difference of means between the two groups between -21.2 and 17.5."
   ]
  },
  {
   "cell_type": "markdown",
   "metadata": {},
   "source": [
    "## Part B\n",
    "\n",
    "The investigator should conclude that they have insuffucient evidence to reject the null hypothesis (i.e. they haven't found any evidence of an effect)."
   ]
  },
  {
   "cell_type": "markdown",
   "metadata": {},
   "source": [
    "# Question 5\n",
    "\n",
    "The central limit theorem states that the standard error on the mean of $N$ random variables approaches a Gaussian distribution with $\\sigma_{\\bar{X}} = \\frac{\\sigma_X}{\\sqrt{N}}$\n",
    "\n",
    "Thus $\\sigma_{X} = \\sqrt{N} \\times \\sigma_{\\bar{X}}$"
   ]
  },
  {
   "cell_type": "code",
   "execution_count": 7,
   "metadata": {},
   "outputs": [
    {
     "name": "stdout",
     "output_type": "stream",
     "text": [
      "The standard deviation of group 1 is 26.83\n"
     ]
    }
   ],
   "source": [
    "sigma = np.sqrt(5) * 12\n",
    "print(f'The standard deviation of group 1 is {sigma:.2f}')"
   ]
  }
 ],
 "metadata": {
  "kernelspec": {
   "display_name": "Python 3",
   "language": "python",
   "name": "python3"
  },
  "language_info": {
   "codemirror_mode": {
    "name": "ipython",
    "version": 3
   },
   "file_extension": ".py",
   "mimetype": "text/x-python",
   "name": "python",
   "nbconvert_exporter": "python",
   "pygments_lexer": "ipython3",
   "version": "3.8.5"
  }
 },
 "nbformat": 4,
 "nbformat_minor": 4
}
