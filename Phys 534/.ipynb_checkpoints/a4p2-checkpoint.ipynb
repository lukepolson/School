{
 "cells": [
  {
   "cell_type": "code",
   "execution_count": 33,
   "metadata": {},
   "outputs": [],
   "source": [
    "import numpy as np\n",
    "import matplotlib.pyplot as plt\n",
    "import pint\n",
    "import sympy as smp"
   ]
  },
  {
   "cell_type": "markdown",
   "metadata": {},
   "source": [
    "Here the `pint` module is used because dealing with units is a real pain and this package makes them very easy to manage in python."
   ]
  },
  {
   "cell_type": "code",
   "execution_count": 11,
   "metadata": {},
   "outputs": [],
   "source": [
    "u = pint.UnitRegistry()"
   ]
  },
  {
   "cell_type": "markdown",
   "metadata": {},
   "source": [
    "# Question 1"
   ]
  },
  {
   "cell_type": "markdown",
   "metadata": {},
   "source": [
    "Using \n",
    "\n",
    "$$KE=(\\gamma-1)m_0c^2$$\n",
    "\n",
    "we get\n",
    "\n",
    "$$\\gamma = 1+\\frac{KE}{m_0c^2}$$"
   ]
  },
  {
   "cell_type": "code",
   "execution_count": 12,
   "metadata": {},
   "outputs": [],
   "source": [
    "gam = 1 + 200 / 511"
   ]
  },
  {
   "cell_type": "markdown",
   "metadata": {},
   "source": [
    "And $$\\beta = \\sqrt{1-\\gamma^{-2}}$$"
   ]
  },
  {
   "cell_type": "code",
   "execution_count": 13,
   "metadata": {},
   "outputs": [
    {
     "data": {
      "text/plain": [
       "0.6953140418738832"
      ]
     },
     "execution_count": 13,
     "metadata": {},
     "output_type": "execute_result"
    }
   ],
   "source": [
    "beta = np.sqrt(1-gam**-2)\n",
    "beta"
   ]
  },
  {
   "cell_type": "markdown",
   "metadata": {},
   "source": [
    "So the **answer is C**"
   ]
  },
  {
   "cell_type": "markdown",
   "metadata": {},
   "source": [
    "# Question 2"
   ]
  },
  {
   "cell_type": "markdown",
   "metadata": {},
   "source": [
    "Supposing that at each stage, the electron beam is accelerated such that it gains approximately 10mA, we would need approximately 8 of these machines (2440kg total according to data sheet). Thus the **answer is d**."
   ]
  },
  {
   "cell_type": "markdown",
   "metadata": {},
   "source": [
    "# Question 3"
   ]
  },
  {
   "cell_type": "markdown",
   "metadata": {},
   "source": [
    "The phase velocity is given by\n",
    "\n",
    "$$v_p = \\lambda_g f$$\n",
    "\n",
    "where\n",
    "\n",
    "$$\\lambda_g = \\frac{\\lambda_f}{\\sqrt{1-(\\lambda_f/\\lambda_c)^2}}$$\n",
    "\n",
    "For electrons travelling at approximately the speed of light,\n",
    "\n",
    "$$\\lambda_f=c/f$$\n",
    "\n",
    "and the lower cutoff wavelength is given by\n",
    "\n",
    "$$\\lambda_c = 2 \\pi a / u_{0,1}$$"
   ]
  },
  {
   "cell_type": "code",
   "execution_count": 14,
   "metadata": {},
   "outputs": [],
   "source": [
    "f = 2856 * u.MHz\n",
    "c = 3e8 * u.m/u.s\n",
    "a = 10*u.cm / 2\n",
    "lam_f = c/f\n",
    "lam_c = 2*np.pi*a / 2.405\n",
    "lam_g = lam_f / np.sqrt(1-(lam_f/lam_c)**2)"
   ]
  },
  {
   "cell_type": "code",
   "execution_count": 15,
   "metadata": {},
   "outputs": [
    {
     "data": {
      "text/html": [
       "0.1767049950092453 meter"
      ],
      "text/latex": [
       "$0.1767049950092453\\ \\mathrm{meter}$"
      ],
      "text/plain": [
       "0.1767049950092453 <Unit('meter')>"
      ]
     },
     "execution_count": 15,
     "metadata": {},
     "output_type": "execute_result"
    }
   ],
   "source": [
    "lam_g.to_reduced_units()"
   ]
  },
  {
   "cell_type": "markdown",
   "metadata": {},
   "source": [
    "Or around 10cm, which was confirmed in the notes. The phase velocity is given by"
   ]
  },
  {
   "cell_type": "code",
   "execution_count": 16,
   "metadata": {},
   "outputs": [
    {
     "data": {
      "text/html": [
       "504669465.74640465 meter/second"
      ],
      "text/latex": [
       "$504669465.74640465\\ \\frac{\\mathrm{meter}}{\\mathrm{second}}$"
      ],
      "text/plain": [
       "504669465.74640465 <Unit('meter / second')>"
      ]
     },
     "execution_count": 16,
     "metadata": {},
     "output_type": "execute_result"
    }
   ],
   "source": [
    "v_p = lam_g*f\n",
    "v_p.to_reduced_units()"
   ]
  },
  {
   "cell_type": "markdown",
   "metadata": {},
   "source": [
    "So the **answer is e**."
   ]
  },
  {
   "cell_type": "markdown",
   "metadata": {},
   "source": [
    "# Question 4"
   ]
  },
  {
   "cell_type": "markdown",
   "metadata": {},
   "source": [
    "4 cavities per wavelength means that $x=\\lambda_g/4$"
   ]
  },
  {
   "cell_type": "code",
   "execution_count": 18,
   "metadata": {},
   "outputs": [
    {
     "data": {
      "text/html": [
       "0.044176248752311326 meter"
      ],
      "text/latex": [
       "$0.044176248752311326\\ \\mathrm{meter}$"
      ],
      "text/plain": [
       "0.044176248752311326 <Unit('meter')>"
      ]
     },
     "execution_count": 18,
     "metadata": {},
     "output_type": "execute_result"
    }
   ],
   "source": [
    "lam_g.to_reduced_units()/4"
   ]
  },
  {
   "cell_type": "markdown",
   "metadata": {},
   "source": [
    "# Question 6"
   ]
  },
  {
   "cell_type": "code",
   "execution_count": 128,
   "metadata": {},
   "outputs": [],
   "source": [
    "A = 600*u.mA/(u.mm**2 * u.K**2)\n",
    "Ts = np.array([1200,1600,1900,2200,2400,2600]) * u.K\n",
    "W = 4.54*u.eV\n",
    "cross_sec_area = np.pi*(2.5*u.mm)**2\n",
    "\n",
    "\n",
    "I = cross_sec_area*A*Ts**2 * np.exp(-W/(u.boltzmann_constant * Ts))"
   ]
  },
  {
   "cell_type": "markdown",
   "metadata": {},
   "source": [
    "The following is in the order of the increasing temperatures listed as a) to e) in the problem:"
   ]
  },
  {
   "cell_type": "code",
   "execution_count": 129,
   "metadata": {},
   "outputs": [
    {
     "data": {
      "text/html": [
       "<table><tbody><tr><th>Magnitude</th><td style='text-align:left;'><pre>[1.4533922208149165e-09 0.00015102557741660384 0.038571896629833395<br> 2.2685950187405597 19.86201123671504 126.15363658341802]</pre></td></tr><tr><th>Units</th><td style='text-align:left;'>milliampere</td></tr></tbody></table>"
      ],
      "text/latex": [
       "$\\begin{pmatrix}1.4533922208149165\\times 10^{-9} & 0.00015102557741660384 & 0.038571896629833395 & 2.2685950187405597 & 19.86201123671504 & 126.15363658341802\\end{pmatrix}\\ \\mathrm{milliampere}$"
      ],
      "text/plain": [
       "array([1.45339222e-09, 1.51025577e-04, 3.85718966e-02, 2.26859502e+00,\n",
       "       1.98620112e+01, 1.26153637e+02]) <Unit('milliampere')>"
      ]
     },
     "execution_count": 129,
     "metadata": {},
     "output_type": "execute_result"
    }
   ],
   "source": [
    "I"
   ]
  },
  {
   "cell_type": "markdown",
   "metadata": {},
   "source": [
    "# Question 7"
   ]
  },
  {
   "cell_type": "markdown",
   "metadata": {},
   "source": [
    "## Part A"
   ]
  },
  {
   "cell_type": "markdown",
   "metadata": {},
   "source": [
    "While this technically has an analytic solution, it is faster in this case to solve for it numerically"
   ]
  },
  {
   "cell_type": "code",
   "execution_count": 230,
   "metadata": {},
   "outputs": [],
   "source": [
    "Ts = np.linspace(2600, 2800, 10000)*u.K\n",
    "Is = cross_sec_area*A*Ts**2 * np.exp(-W/(u.boltzmann_constant * Ts))"
   ]
  },
  {
   "cell_type": "code",
   "execution_count": 231,
   "metadata": {},
   "outputs": [
    {
     "data": {
      "text/html": [
       "2612.221222122212 kelvin"
      ],
      "text/latex": [
       "$2612.221222122212\\ \\mathrm{kelvin}$"
      ],
      "text/plain": [
       "2612.221222122212 <Unit('kelvin')>"
      ]
     },
     "execution_count": 231,
     "metadata": {},
     "output_type": "execute_result"
    }
   ],
   "source": [
    "Ts[np.argmin(np.abs(Is-140*u.mA))]"
   ]
  },
  {
   "cell_type": "markdown",
   "metadata": {},
   "source": [
    "## Part B"
   ]
  },
  {
   "cell_type": "markdown",
   "metadata": {},
   "source": [
    "Given\n",
    "\n",
    "$$V_{acc} = \\sqrt{PZ}  - IZ/2$$\n",
    "\n",
    "and \n",
    "\n",
    "* $P=1.96$MW\n",
    "* $Z=55$M$\\Omega$\n",
    "* $I=14$mA\n",
    "\n",
    "we get"
   ]
  },
  {
   "cell_type": "code",
   "execution_count": 232,
   "metadata": {},
   "outputs": [
    {
     "data": {
      "text/html": [
       "9.997677881933926 megavolt"
      ],
      "text/latex": [
       "$9.997677881933926\\ \\mathrm{megavolt}$"
      ],
      "text/plain": [
       "9.997677881933926 <Unit('megavolt')>"
      ]
     },
     "execution_count": 232,
     "metadata": {},
     "output_type": "execute_result"
    }
   ],
   "source": [
    "P = 1.96*u.MW\n",
    "Z = 55*u.Mohm\n",
    "I = 14*u.mA\n",
    "\n",
    "V = (P*Z)**(1/2)-I*Z/2\n",
    "V.to('megavolts')"
   ]
  },
  {
   "cell_type": "markdown",
   "metadata": {},
   "source": [
    "So the beam energy is 10MeV (since the charge of an electron is $e$ and its being accelerated by $10$V)"
   ]
  },
  {
   "cell_type": "markdown",
   "metadata": {},
   "source": [
    "## Part C"
   ]
  },
  {
   "cell_type": "code",
   "execution_count": 233,
   "metadata": {},
   "outputs": [],
   "source": [
    "T = Ts[np.argmin(np.abs(Is-140*u.mA))]\n",
    "T_min = T-25*u.K\n",
    "T_max = T+25*u.K"
   ]
  },
  {
   "cell_type": "code",
   "execution_count": 234,
   "metadata": {},
   "outputs": [],
   "source": [
    "I_min = cross_sec_area*A*T_min**2 * np.exp(-W/(u.boltzmann_constant * T_min))\n",
    "I_max = cross_sec_area*A*T_max**2 * np.exp(-W/(u.boltzmann_constant * T_max))"
   ]
  },
  {
   "cell_type": "code",
   "execution_count": 235,
   "metadata": {},
   "outputs": [],
   "source": [
    "V_min = (P*Z)**(1/2)-(I_min/10)*Z/2\n",
    "V_max = (P*Z)**(1/2)-(I_max/10)*Z/2\n",
    "V_min = V_min.to('megavolts').magnitude\n",
    "V_max = V_max.to('megavolts').magnitude"
   ]
  },
  {
   "cell_type": "code",
   "execution_count": 236,
   "metadata": {},
   "outputs": [
    {
     "name": "stdout",
     "output_type": "stream",
     "text": [
      "Minimum Energy: 10.07MeV\n",
      "Maximum Energy: 9.91MeV\n"
     ]
    }
   ],
   "source": [
    "print(f'Minimum Energy: {V_min:.2f}MeV')\n",
    "print(f'Maximum Energy: {V_max:.2f}MeV')"
   ]
  },
  {
   "cell_type": "markdown",
   "metadata": {},
   "source": [
    "## Part D"
   ]
  },
  {
   "cell_type": "code",
   "execution_count": 237,
   "metadata": {},
   "outputs": [
    {
     "name": "stdout",
     "output_type": "stream",
     "text": [
      "Energy Range (Absolute): 0.16MeV\n",
      "Energy Range (Percent): 1.64%\n"
     ]
    }
   ],
   "source": [
    "V = V.to('megavolts').magnitude\n",
    "print(f'Energy Range (Absolute): {np.abs(V_max - V_min):.2f}MeV')\n",
    "print(f'Energy Range (Percent): {np.abs(V_max - V_min)/V *100 :.2f}%')"
   ]
  },
  {
   "cell_type": "markdown",
   "metadata": {},
   "source": [
    "# Question 8"
   ]
  },
  {
   "cell_type": "markdown",
   "metadata": {},
   "source": [
    "## Part A"
   ]
  },
  {
   "cell_type": "markdown",
   "metadata": {},
   "source": [
    "A diode gun consists of a thermionic diode. The thermionic diode itself consists of a heated cathode (from which electrons are boiled off due to a high temperature) and an anode to which electrons are attracted. By heating up the surface to boil off electrons and providing a current to accelerate these electrons, a current can be produced. A gun with grid control consists of a triode where the third \"ode\" is a grid between the cathode and electron to control current. The grid is held at a negative potential to prevent electrons from being accelerated towards the anode."
   ]
  },
  {
   "cell_type": "markdown",
   "metadata": {},
   "source": [
    "## Part B"
   ]
  },
  {
   "cell_type": "markdown",
   "metadata": {},
   "source": [
    "Using $I=pV^{3/2}$ we get"
   ]
  },
  {
   "cell_type": "code",
   "execution_count": 240,
   "metadata": {},
   "outputs": [
    {
     "data": {
      "text/html": [
       "11.166321742749934 kilovolt"
      ],
      "text/latex": [
       "$11.166321742749934\\ \\mathrm{kilovolt}$"
      ],
      "text/plain": [
       "11.166321742749934 <Unit('kilovolt')>"
      ]
     },
     "execution_count": 240,
     "metadata": {},
     "output_type": "execute_result"
    }
   ],
   "source": [
    "p = 6.7 * u.mA / u.kV**1.5\n",
    "I = 250*u.mA\n",
    "V = (I/p)**(2/3)\n",
    "V.to_reduced_units()"
   ]
  },
  {
   "cell_type": "markdown",
   "metadata": {},
   "source": [
    "## Part C"
   ]
  },
  {
   "cell_type": "code",
   "execution_count": 252,
   "metadata": {},
   "outputs": [
    {
     "name": "stdout",
     "output_type": "stream",
     "text": [
      "The beam energy is 9.70 MeV\n"
     ]
    }
   ],
   "source": [
    "Z = 55*u.Mohm\n",
    "P = 1.96*u.MW\n",
    "V = (P*Z)**(1/2)-(I/10)*Z/2\n",
    "V = V.to('MV').magnitude\n",
    "print(f'The beam energy is {V:.2f} MeV')"
   ]
  },
  {
   "cell_type": "markdown",
   "metadata": {},
   "source": [
    "## Part D"
   ]
  },
  {
   "cell_type": "markdown",
   "metadata": {},
   "source": [
    "Using $$P=(V_{acc}+IZ/2)^2/Z$$ and the fact that only 10% of the current is transferred we get"
   ]
  },
  {
   "cell_type": "code",
   "execution_count": 253,
   "metadata": {},
   "outputs": [
    {
     "name": "stdout",
     "output_type": "stream",
     "text": [
      "The applied power should be 0.81 MW\n"
     ]
    }
   ],
   "source": [
    "Vacc = 6 * u.MV\n",
    "P = (Vacc + (I/10)*Z/2)**2/Z\n",
    "P = P.to('MW').magnitude\n",
    "print(f'The applied power should be {P:.2f} MW')"
   ]
  },
  {
   "cell_type": "markdown",
   "metadata": {},
   "source": [
    "## Part E"
   ]
  },
  {
   "cell_type": "markdown",
   "metadata": {},
   "source": [
    "Using $$I=\\frac{2}{Z}\\left(\\sqrt{PZ} - V_{acc} \\right)$$\n",
    "\n",
    "and the fact that only 10% of the current is transferred we get"
   ]
  },
  {
   "cell_type": "code",
   "execution_count": 259,
   "metadata": {},
   "outputs": [
    {
     "name": "stdout",
     "output_type": "stream",
     "text": [
      "The applied current should be 1121.07 mA\n"
     ]
    }
   ],
   "source": [
    "# Assuming we still want the same V from part C\n",
    "Z = 55*u.Mohm\n",
    "P = 1.96*u.MW\n",
    "I = 250*u.mA\n",
    "V = (P*Z)**(1/2)-(I/10)*Z/2\n",
    "\n",
    "# Then use the V from above here\n",
    "P = 1.5*u.MW\n",
    "I = 20/Z * (np.sqrt(P*Z) - Vacc)\n",
    "I = I.to('mA').magnitude\n",
    "print(f'The applied current should be {I:.2f} mA')"
   ]
  }
 ],
 "metadata": {
  "kernelspec": {
   "display_name": "Python 3",
   "language": "python",
   "name": "python3"
  },
  "language_info": {
   "codemirror_mode": {
    "name": "ipython",
    "version": 3
   },
   "file_extension": ".py",
   "mimetype": "text/x-python",
   "name": "python",
   "nbconvert_exporter": "python",
   "pygments_lexer": "ipython3",
   "version": "3.8.5"
  }
 },
 "nbformat": 4,
 "nbformat_minor": 4
}
