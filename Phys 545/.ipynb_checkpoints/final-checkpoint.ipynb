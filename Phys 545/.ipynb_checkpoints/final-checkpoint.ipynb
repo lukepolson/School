{
 "cells": [
  {
   "cell_type": "code",
   "execution_count": 1,
   "metadata": {
    "tags": []
   },
   "outputs": [],
   "source": [
    "import numpy as np\n",
    "import matplotlib.pyplot as plt\n",
    "import pandas as pd"
   ]
  },
  {
   "cell_type": "markdown",
   "metadata": {},
   "source": [
    "# Anatomy"
   ]
  },
  {
   "cell_type": "markdown",
   "metadata": {},
   "source": [
    "## Question 1\n",
    "\n",
    "**Sources**:\n",
    "* Textbook: Chapters 4, 16, 19"
   ]
  },
  {
   "cell_type": "markdown",
   "metadata": {},
   "source": [
    "The digestive system is important to all the systems of the body, albeit the female reproductive system, as it provides a means of obtaining carbohydrates, proteins and fats (all essential components of **glycolysis** and the **Kreb's Cycle**) and all the necessary vitamins used throughout the various systems of the body. The digestive system gathers many of the required components to make **ATP**: the primary source of energy in the body, used to fuel all bodily functions.\n",
    "\n",
    "There are specific ways, however, in which the digestive system interacts with the female reproductive system.\n",
    "\n",
    "* **Lactation**: The most direct connection between the female reproductive system and the digestive system is lactation. Note, however, that what is being referred to here is the connection between the *mother's* reproductive system and the *infants* digestive system. Breast milk contains essential nutrients in an easy-to-digest form for infants. It is a well established fact that the extra energy required for a mother to produce breast milk for an infant has provided an evolutionary advantages for our species. Young can obtain nutrition even if food is scarce or too hard to digest (without teeth), expanding the environmental conditions the species can withstand. In addition, the initial milk produced (referred to as **colostrum**) is high in the immunoglobulin IgA, which coats the gastrointestinal tract. This helps to protect the newborn until its own immune system is functioning properly.\n",
    "\n",
    "* **Formation of Fetus**: The fetus receives its nutrients from the placenta via the umbillical vein. As such, the female reproductive system heavily relies on the circulatory system, which is closely related to the digestive system. About 80% of all nutrient absoprtion occurs in the small intenstine (sugars, amino acids, fats, waters, vitamins). The small intenstine is lined with villi, where blood picks up these essential nutrients. The circulatory systems circulates these nutrients throughout the body via arteries and veins: some of the nutrients are transported to the placenta and thus to the developing fetus."
   ]
  },
  {
   "cell_type": "markdown",
   "metadata": {},
   "source": [
    "## Question 2\n",
    "\n",
    "**Sources**:\n",
    "* Textbook: Chapters 12, 19\n",
    "* Oxytocin Information: https://academic.oup.com/jcem/article-abstract/64/1/27/2653453?redirectedFrom=fulltext&login=false"
   ]
  },
  {
   "cell_type": "markdown",
   "metadata": {},
   "source": [
    "The primary interaction between the male reproductive system and the endocrine system is via the testes, which function as an organ in both systems. While the testes produce sperm, they also produce male sex hormones, thus functioning as endocrine glands as well. The primary hormone produced is **testosterone**, responsible for the development of male reproductive structures, and the enlargement of the testes and the penis at puberty. Testosterone also promotes the development of the male sexual drive, which (*I suspect we all agree*) is vital for the functioning of the male reproductive system. Furthermore, testosterone functions to develop secondary male sexual characteristics, such as the growth of facial/chest hair, voice deepening, muscular development, and bone growth resulting in broad shoulders and narrow hips.\n",
    "\n",
    "The hormones excreted by the **pituitary gland**, a major organ in the endocrine system, affect the function of other endocrine glands such as the testes. For example, the **lutenizing hormone** (produced by gonadotropic cells in the anterior pituitary gland) stimulates the synthesis of testosterone in the testes to maintin sperm cell production. As another example, the **lactogenic Hormone** increases sensitivty to the lutenizing hormone, and may actually cause a decrease in male sex hormones. **Oxytocin** hormone levels (produced by the posterior pituitary gland) have been shown to increase in blood plasma during sexual stimulation and orgasm (for both men and women). They are thus, at the very least, correlated to use of the male reproductive system."
   ]
  },
  {
   "cell_type": "markdown",
   "metadata": {},
   "source": [
    "## Question 3\n",
    "\n",
    "**Sources**:\n",
    "\n",
    "* Textbook: Chapters 5, 7, 9, 14"
   ]
  },
  {
   "cell_type": "markdown",
   "metadata": {},
   "source": [
    "Before getting into specific muscle types, the general way in which muscles function is first discussed. Groups of muscle cells innervated by a single motor neuron is called a motor unit. The stimulation of a single motor neuron thus causes weak (but steady) contractions in a broad area of the muscle rather than a strong contraction at a tiny point. This allows us to not overwork individual muscle fibres when we are engaging in activities that don't require a lot of strength. Chemically, the muscle cell operates as follows. There are more potassium ions inside the cell than outside, and there are more sodium ions outside the cell than inside. While they are all positively charged, there is also an uneven charge distribution inside and outside the cell, resulting in potential gradient across the surface of the cell. A nerve impulse triggers an axon to release acetylcholine, which affects the muscle membrane, allowing sodium ions to rush inside the cell (electric field points inside the cell). This rapid influx changes the electric potential of the cell, which is the signal for the cell to contract.\n",
    "\n",
    "\n",
    "**Smooth Muscle**: Smooth muscle cells are long, unicellular, and nonstriated. They are involuntary (controlled by the autonomic nervous system) and found in the digestive tract, arteries and veins, and the ureters of the kidneys. For example, the smooth muscle in the large intestine aids in digestine through mechanisms such as haustral churning and peristalisis. Peristalisis creates wave-like movements on the outside of a tube that push the contents through the tube.\n",
    "\n",
    "**Striated Skeletal Muscle**: These muscles are long, multicellular, and are voluntary (connected to the somatic nervous system). A favorite amongst many body-builder folk would likely be the long head of the biceps brachii, responsible for flexing the arm and forearm, and supinating the hand. This muscle is part of the muscular system.\n",
    "\n",
    "**Cardiac Muscle**: These cells are striated, uninucleated, and cylindrical in shape with branches that connect to branches of other cardiac cells via intercalated disks. These muscles are also involuntary (connected to the autonomic nervous system) and are responsible for pumping blood through the heart. As such, this muscle is essential for proper functioning of the cardiac system."
   ]
  },
  {
   "cell_type": "markdown",
   "metadata": {},
   "source": [
    "## Question 4\n",
    "\n",
    "**Sources**:\n",
    "\n",
    "* Textbook: Chapter 7, 10\n",
    "* For differences between CT and MRI scans for diagnosis: https://josephspine.com/mri-vs-ct-scan-diagnosing-spine-neck-injuries-degenerative-diseases/\n",
    "* For treatment options: https://www.nichd.nih.gov/health/topics/spinalinjury/conditioninfo/treatments"
   ]
  },
  {
   "cell_type": "markdown",
   "metadata": {},
   "source": [
    "### Part A\n",
    "\n",
    "An acute spinal cord injury from a traumatic injury generally falls into one of three categories: a bruise, a partial tear, or a complete tear of the spinal cord. The location on the spinal cord affects how severe the symptoms are.\n",
    "\n",
    "**Symptoms**: The most common symptoms of an acute spinal cord injury are muscle weakness, loss of voluntary movement in the chest, arms, or legs, breathing problems, loss of feeling in the chest, arms, or legs, and loss of bowel and bladder function.\n",
    "\n",
    "**Diagnosis**: The two primary imaging modalities used to diagnose an injury are CT (or X-Ray) and MRI. MRI scans are better for imaging water-containing tissue. An MRI is often better at detecting abnormalities of the spinal cord, such as bulging discs, small disc herniation’s, pinched nerves and additional soft tissue problems. MRIs are also used in cases where taking an Xray is not possible, such as with pregnant women. Since people with metallic implants cannot undergo an MRI scan due to the high magnetic field, CT scans are sometimes the only option. A CT scan is better than an MRI for imaging calcified tissues, like bones. CT scans produce excellent detail used to diagnose osteoarthritis and fractures, which may also be present in acute spinal cord injuries.\n",
    "\n",
    "**Treatment Options**: Unfortunately, there is no way to repair a damaged or bruised spinal cord. Surgery is typically required to evaluate the fractuered area, stabilize any fractured backbones, release pressure from the injured area, and to manage any of the other injuries that may be present as a result of the accident. Most treatment includes *observation* in an ICU, *medicines* (such as corticosteroids) to decrease swelling, *ventilators* to assist with breathing, and often bladder catheters and feeding tubes in extreme cases where bodily functions are impared. Recovery from a spinal cord injury typically requires long-term hospitalization and rehabilitation, and requires interdisciplinary teams to monitor and control all affected bodily functions. "
   ]
  },
  {
   "cell_type": "markdown",
   "metadata": {},
   "source": [
    "### Part B\n",
    "\n",
    "Nerve impulses are sent from the brain to the rest of the body, so the more **superior** an injury of the spinal cord is, the worse the outcomes will be for the affected. For example, while an injury to the thoracic spine may only affect the legs and lower body (causing **paraplegia**), an injury to the thoracic or cervial portion of the spine may result in more loss of bodily function. Every nerve impulse occuring **inferior** to the location of injury on the spinal cord has the potential to be affected by the spinal cord injury. Note that injuries can either be **complete** or **incomplete**: in a complete injury, communication is completely shut off between the brain and the rest of the central nervous system inferior to the location of injury. In an incomplete injury, some functioning may still be possible. Injuries can affect nerves in both the autonomic and somatic nervous systems, and thus impair both voluntary movements, and the regulation of smooth muscles, such as those in the digestive tract, and cardiac muscles, which regulate the heart beat. \n",
    "\n",
    "**Lumbar Spine**: Depending on the severity of the injury, some form of paraplegia may result. This results in limited or full loss of sensation below the injury site, the need for a manual wheelchair (can be controlled by arms), weakness, numbness, and loss of function in the hips, groin and legs. In addition, loss of control of bladder and bowel functions may result.\n",
    "\n",
    "**Thoracic Spine**: This injury is worse than a lumbar spine injury, since the thoracic spine is located superior to the lumbar spine. The thoracic spine is seperated into 12 levels: T1:T12. The higher the level, the more functions could be affected. T1-T5 injuries affect muscles in the upper chest, mid back, and inner arms/ This can affect the ability to sit upright due to a lack of trunk stability. T6-T12 affect motor control around the trunk and abdominal muscles. Individuals with injuries in these regions can typically still have enough trunk control to sit upright and perform transfers (wheelchair to couch, for example) indepdently.\n",
    "\n",
    "**Cervical Spine**: This is the most severe type of spinal cord injury, since it occurs superior to the other regions of the spine. The many symptoms of injury includes all those listed above, in addition to (i) **tetraplegia**: which impedes mobility in the arms, legs, and below the site of injury (ii) phantom pain in limbs and arms (iii) difficulty breathing without assistance (iv) increased risk of respiratory illnesses (v) heart rhythem irregularities due to damage to the nerves connecting the spinal cord to the smooth muscles of the heart (vi) weight gain from decreased activity (vii) inability to walk or stand (viii) changes in fertility and sexual functioning."
   ]
  },
  {
   "cell_type": "markdown",
   "metadata": {},
   "source": [
    "# Statistics"
   ]
  },
  {
   "cell_type": "markdown",
   "metadata": {},
   "source": [
    "## Question 5"
   ]
  },
  {
   "cell_type": "markdown",
   "metadata": {},
   "source": [
    "**Part A**"
   ]
  },
  {
   "cell_type": "markdown",
   "metadata": {},
   "source": [
    "**Mathematical Description**: In general, an experiment measures a random quantity $X$ (could be scalar or vector) and this information is used to infer something about the unknown parameters of a system $\\theta$. Let $\\Theta_0$ represent the subspace of $\\theta$ corresponding to the null hypothesis $H_0$, and $\\Theta_0^c$ represent the subspace corresponding to the alternative hypothesis.\n",
    "\n",
    "* **Example**: Random quantity $X=(x_1,x_2)$ where $x_1$ and $x_2$ are sampled from two (perhaps different) Gaussian distributions. Null hypothesis $H_0$: The mean of two Gaussian distributions are equal ($\\mu_1=\\mu_2$) so $\\Theta_0=\\{(\\mu_1, \\mu_2)|\\mu_1=\\mu_2\\}$ and $\\Theta_0^c=\\{(\\mu_1, \\mu_2)|\\mu_1 \\neq \\mu_2\\}$\n",
    "\n",
    "In general, a hypothesis test requires defining a rejection region $R$ such that if $X \\in R$, then the alternative hypothesis is accepted.\n",
    "\n",
    "* **Example Continued**: To test the null above, $x_1$ and $x_2$ are random variables drawn from the seperate Gaussian distributions with unknown mean with unit standard deviation and and the rejection region is defined as $R=\\{(x_1,x_2)| (x_1-x_2)^2 > 1\\}$\n",
    "\n",
    "**A type 1 error occurs when $\\theta \\in \\Theta_0$ but $X \\in R$ (the the test makes a mistake). This occurs with probability $\\boxed{P_{\\theta}(X \\in R) \\equiv \\beta(\\theta)}$. Note that this quantity is specifically a function of $\\theta$.**\n",
    "\n",
    "* **Example Continued**:$P_{\\theta}(X \\in R) = P((x_1-x_2)^2>1 | \\mu_1=\\mu_2)$. Since the distribution corresponding to the difference between identical Gaussian rvs is known, this can be expressed as an integral.\n",
    "\n",
    "As such, the explanation for a false positive result is that $X$ was measured, the parameters were such that $\\theta \\in \\Theta_0$, but the particular realization of the experiment (due to unluckiness) was that $X \\in R$. To reduce this outcome from occuring, one needs to minimize $P_{\\theta}(X \\in R)$ in the region $\\theta \\in \\Theta_0$. In the case where $X$ is a vector of repeated iid measurements from some disitrbution, this can typically be accomplished by sampling more data. Thus the dimesionality of $X$ increases ($R$ needs to be adjusted correspondingly), and $P_{\\theta}(X \\in R)$ becomes smaller."
   ]
  },
  {
   "cell_type": "markdown",
   "metadata": {},
   "source": [
    "**Part B**"
   ]
  },
  {
   "cell_type": "markdown",
   "metadata": {},
   "source": [
    "Continuing from the example above, we have\n",
    "\n",
    "**A type 2 error occurs when $\\theta \\in \\Theta_0^c$ but the test fails to reject the null hypothesis. This occurs with probability $\\boxed{P_{\\theta}(X \\in R^c) = 1-P_{\\theta}(X \\in R)=1-\\beta(\\theta)}$. Note that this quantity is specifically a function of $\\theta$.**\n",
    "\n",
    "As such, the explanation for a false positive result is that $X$ was measured, the parameters were such that $\\theta \\in \\Theta_0^c$, but the particular realization of the experiment (due to unluckiness) was that $X \\in R^c$. To reduce this outcome from occuring, one needs to minimize $1-\\beta(\\theta)$ in region $\\theta \\in \\Theta_0^c$. In the case where $X$ is a vector of repeated iid measurements from some disitrbution, this can typically be accomplished by sampling more data."
   ]
  },
  {
   "cell_type": "markdown",
   "metadata": {},
   "source": [
    "To summarize the results of both Part A and B, consider an experiment where the null hypothesis is $\\theta<0$ and the alternative is $\\theta \\geq 0$. Let $\\beta(\\theta) = P_{\\theta}(X \\in R)$ be represented by the black line:"
   ]
  },
  {
   "cell_type": "code",
   "execution_count": 2,
   "metadata": {
    "jupyter": {
     "source_hidden": true
    },
    "tags": []
   },
   "outputs": [
    {
     "data": {
      "image/png": "[encoded data removed]",
      "text/plain": [
       "<Figure size 500x200 with 1 Axes>"
      ]
     },
     "metadata": {},
     "output_type": "display_data"
    }
   ],
   "source": [
    "theta = np.linspace(-1, 1, 100)\n",
    "beta = (np.arctan(theta)+1)/2\n",
    "\n",
    "plt.figure(figsize=(5,2))\n",
    "plt.plot(theta, beta, color='k')\n",
    "plt.xlabel(r'$\\theta$')\n",
    "plt.ylabel(r'$\\beta(\\theta)$')\n",
    "plt.axvline(0, color='r')\n",
    "plt.axhline(1, color='r')\n",
    "plt.axhline(0, color='r')\n",
    "plt.fill_between(theta[theta<0], beta[theta<0])\n",
    "plt.fill_between(theta[theta>0], 1, beta[theta>0], color='g')\n",
    "plt.xlim(-1,1)\n",
    "plt.grid()\n",
    "plt.show()"
   ]
  },
  {
   "cell_type": "markdown",
   "metadata": {},
   "source": [
    "For $\\theta<0$ (where $\\theta \\in \\Theta_0$), the probability of of incorrectly rejecting the null is $\\beta(\\theta)$ (blue region). For $\\theta>0$ (where $\\theta \\in \\Theta_0^c$), the probability of incorrectly accepting the null is $1-\\beta(\\theta)$ (the green region). Thus the best type of hypothesis test is one that sees $\\beta(\\theta)$ assume a sharp sigmoid shape, where the area of the blue and green regions are both minimized. In most cases (i.e. sequence of observations $x_i$ sampled from a Gaussian distribution with 1 or 2 unknown parameters) **this can be accomplished by sampling more data**. This occurs because the standard deviation shrinks with increasing sample size $n$. In this situation, $\\beta(\\theta)$ is proportional to the corresponding erf function of that Gaussian. A narrow Gaussian provides an erf function that resembles a sharp sigmoid function, which effectively minimizes the area of the blue and green regions on the plot above."
   ]
  },
  {
   "cell_type": "markdown",
   "metadata": {},
   "source": [
    "## Question 6"
   ]
  },
  {
   "cell_type": "markdown",
   "metadata": {},
   "source": [
    "**Part A**"
   ]
  },
  {
   "cell_type": "markdown",
   "metadata": {},
   "source": [
    "Set up table"
   ]
  },
  {
   "cell_type": "code",
   "execution_count": 3,
   "metadata": {},
   "outputs": [],
   "source": [
    "TP = 150\n",
    "FP = 50\n",
    "TN = 300\n",
    "FN = 100"
   ]
  },
  {
   "cell_type": "markdown",
   "metadata": {},
   "source": [
    "Print table:"
   ]
  },
  {
   "cell_type": "code",
   "execution_count": 4,
   "metadata": {},
   "outputs": [
    {
     "data": {
      "text/html": [
       "<div>\n",
       "<style scoped>\n",
       "    .dataframe tbody tr th:only-of-type {\n",
       "        vertical-align: middle;\n",
       "    }\n",
       "\n",
       "    .dataframe tbody tr th {\n",
       "        vertical-align: top;\n",
       "    }\n",
       "\n",
       "    .dataframe thead th {\n",
       "        text-align: right;\n",
       "    }\n",
       "</style>\n",
       "<table border=\"1\" class=\"dataframe\">\n",
       "  <thead>\n",
       "    <tr style=\"text-align: right;\">\n",
       "      <th></th>\n",
       "      <th>Has Disease</th>\n",
       "      <th>No Disease</th>\n",
       "    </tr>\n",
       "  </thead>\n",
       "  <tbody>\n",
       "    <tr>\n",
       "      <th>Test Positive</th>\n",
       "      <td>150</td>\n",
       "      <td>50</td>\n",
       "    </tr>\n",
       "    <tr>\n",
       "      <th>Test Negative</th>\n",
       "      <td>100</td>\n",
       "      <td>300</td>\n",
       "    </tr>\n",
       "  </tbody>\n",
       "</table>\n",
       "</div>"
      ],
      "text/plain": [
       "               Has Disease  No Disease\n",
       "Test Positive          150          50\n",
       "Test Negative          100         300"
      ]
     },
     "execution_count": 4,
     "metadata": {},
     "output_type": "execute_result"
    }
   ],
   "source": [
    "pd.DataFrame(np.array([[TP ,FP],[FN,TN]]),\n",
    "            columns=['Has Disease', 'No Disease'],\n",
    "            index = ['Test Positive', 'Test Negative'])"
   ]
  },
  {
   "cell_type": "markdown",
   "metadata": {},
   "source": [
    "**Part B**"
   ]
  },
  {
   "cell_type": "markdown",
   "metadata": {},
   "source": [
    "Obtain and print all quantities:"
   ]
  },
  {
   "cell_type": "code",
   "execution_count": 5,
   "metadata": {},
   "outputs": [
    {
     "name": "stdout",
     "output_type": "stream",
     "text": [
      "Sensitivity: 0.60\n",
      "Specificity: 0.86\n",
      "Positive Preditive Value: 75.00%\n",
      "Negative Preditive Value: 75.00%\n"
     ]
    }
   ],
   "source": [
    "sens = TP/(TP+FN)\n",
    "spec = TN/(TN+FP)\n",
    "prev = (TP+FN)/(TP+FN+FP+TN)\n",
    "ppv = sens*prev/(sens*prev + (1-spec)*(1-prev))\n",
    "npv = spec*(1-prev)/((1-sens)*prev + spec*(1-prev))\n",
    "print(f'Sensitivity: {sens:.2f}')\n",
    "print(f'Specificity: {spec:.2f}')\n",
    "print(f'Positive Preditive Value: {100*ppv:.2f}%')\n",
    "print(f'Negative Preditive Value: {100*npv:.2f}%')"
   ]
  },
  {
   "cell_type": "markdown",
   "metadata": {},
   "source": [
    "Of all the quantities obtained, the tests' greatest strength is its specificity. In other words, the accuracy of the test is best for patients who are negative. The sensitivity of the test is low, so it provides less predictive capabilities for patients who are positive. For diagnostic purposes, however, these quantities (without knowledge of disease prevalence) aren't sufficient for evaluating the test.\n",
    "\n",
    "In reality, one obtains either a positive or negative result, and a clinician wants to infer whether or not a patient has a disease or not. For both situaitons, if the population prevalence the same as the study, the positive predictive value and negative predictive value are both 75%, suggesting that the test is equally good at ruling in/out disease. However:\n",
    "\n",
    "* If the population had a **higher disease prevalence** than the sample considered, the **PPV would be higher** and the **NPV would be lower**. In such a scenario, the test could be much better at ruling in the disease, and could be justified for such purposes.\n",
    "\n",
    "* If the population had a **lower disease prevalence** than the sample considered, the **NPV would be higher** and the **PPV would be lower**. In such a scenario, the test could be much better at ruling out the disease, and could be justified for such purposes.\n",
    "\n",
    "**Supposing the prevlance in the population is the same as that in the study**, one might suggest that the test, on its own, is not useful due to a 25% misclassification rate for both those who test positive and negative. A few things need to be considered.\n",
    "\n",
    "* **Scenario 1: This is The Only Test Used**. In such a scenario, a doctor can only know with 75% certainty whether or not a patient has a disease, no matter the test result. Is this test sufficient for diagnostic purposes? I would argue that depends on the severity of both the untreated disease and the consequences of whatever treatment is used to treat the disease. For example, for a disease like cancer, where radiation therapy/chemotherapy is extremely damaging to a patient, one would certainly want to know with more than 75% confidence that they have the disease before commiting to therapy. Conversely, leaving the disease untreated could also prove fatal, so one would want to know with more than 75% certainty that a negative result is indeed the correct result. However, for more minor illnesses that cause temporary discomfort for a patient, and where the treatment for such an illness does not have damaging consequences, the 25% misclassification rate is fine. For example, such a test may be used to test for a minor cold, where drugs could be used to give a patient relief. A false negative does not have horrible consequences (the patient can deal with the symptoms). Conversely, the drugs (i.e. antibiotics) associated with the test likely won't harm an incorrectly diagnosed patient. A patient will likely know whether or not they were correctly diagnosed simply by whether or not the drugs were working. As such (provided the test is cheap enough), such a test could be useful.\n",
    "\n",
    "* **Scenario 2: The Test is Used with Other Tests**. Provided the results of the test provide independent information from other tests used, the 75% correct classification rate could be combined with the information obtained from other tests to increase the probability of getting a correct classification. In this scenario, it is a no brainer. For all diseases, this test should be combined with others to yield a better diagnosis. This is also independent of the disease prevalence in the population."
   ]
  },
  {
   "cell_type": "markdown",
   "metadata": {},
   "source": [
    "## Question 7"
   ]
  },
  {
   "cell_type": "code",
   "execution_count": 6,
   "metadata": {},
   "outputs": [],
   "source": [
    "def compute_risks(arr):\n",
    "    risk_drug = arr[0,0]/np.sum(arr[0])\n",
    "    risk_nodrug = arr[1,0]/np.sum(arr[1])\n",
    "    rr = risk_drug/risk_nodrug\n",
    "    return risk_drug, risk_nodrug, rr\n",
    "\n",
    "def setup_tab(arr):\n",
    "    risks = compute_risks(arr)\n",
    "    di = {'Developed': arr[:,0],\n",
    "          'Did not Develop': arr[:,1], \n",
    "          'Risk': [risks[0], risks[1]],\n",
    "         'Relative Risk': [risks[2], np.nan]}\n",
    "    \n",
    "    return pd.DataFrame(di, index=['Drug A', 'No Drug A'])"
   ]
  },
  {
   "cell_type": "markdown",
   "metadata": {},
   "source": [
    "Define data"
   ]
  },
  {
   "cell_type": "code",
   "execution_count": 7,
   "metadata": {},
   "outputs": [],
   "source": [
    "nondrinkers = np.array([[89,1056],[46,144]])\n",
    "drinkers = np.array([[52,126],[9,23]])\n",
    "tot = drinkers+nondrinkers"
   ]
  },
  {
   "cell_type": "markdown",
   "metadata": {},
   "source": [
    "### Part A"
   ]
  },
  {
   "cell_type": "markdown",
   "metadata": {},
   "source": [
    "See top right entry for relative risk:"
   ]
  },
  {
   "cell_type": "code",
   "execution_count": 8,
   "metadata": {},
   "outputs": [
    {
     "data": {
      "text/html": [
       "<div>\n",
       "<style scoped>\n",
       "    .dataframe tbody tr th:only-of-type {\n",
       "        vertical-align: middle;\n",
       "    }\n",
       "\n",
       "    .dataframe tbody tr th {\n",
       "        vertical-align: top;\n",
       "    }\n",
       "\n",
       "    .dataframe thead th {\n",
       "        text-align: right;\n",
       "    }\n",
       "</style>\n",
       "<table border=\"1\" class=\"dataframe\">\n",
       "  <thead>\n",
       "    <tr style=\"text-align: right;\">\n",
       "      <th></th>\n",
       "      <th>Developed</th>\n",
       "      <th>Did not Develop</th>\n",
       "      <th>Risk</th>\n",
       "      <th>Relative Risk</th>\n",
       "    </tr>\n",
       "  </thead>\n",
       "  <tbody>\n",
       "    <tr>\n",
       "      <th>Drug A</th>\n",
       "      <td>141</td>\n",
       "      <td>1182</td>\n",
       "      <td>0.106576</td>\n",
       "      <td>0.430179</td>\n",
       "    </tr>\n",
       "    <tr>\n",
       "      <th>No Drug A</th>\n",
       "      <td>55</td>\n",
       "      <td>167</td>\n",
       "      <td>0.247748</td>\n",
       "      <td>NaN</td>\n",
       "    </tr>\n",
       "  </tbody>\n",
       "</table>\n",
       "</div>"
      ],
      "text/plain": [
       "           Developed  Did not Develop      Risk  Relative Risk\n",
       "Drug A           141             1182  0.106576       0.430179\n",
       "No Drug A         55              167  0.247748            NaN"
      ]
     },
     "execution_count": 8,
     "metadata": {},
     "output_type": "execute_result"
    }
   ],
   "source": [
    "setup_tab(tot)"
   ]
  },
  {
   "cell_type": "markdown",
   "metadata": {},
   "source": [
    "### Part B"
   ]
  },
  {
   "cell_type": "markdown",
   "metadata": {},
   "source": [
    "See top right entry for relative risk:"
   ]
  },
  {
   "cell_type": "markdown",
   "metadata": {},
   "source": [
    "**Drinkers**"
   ]
  },
  {
   "cell_type": "code",
   "execution_count": 9,
   "metadata": {},
   "outputs": [
    {
     "data": {
      "text/html": [
       "<div>\n",
       "<style scoped>\n",
       "    .dataframe tbody tr th:only-of-type {\n",
       "        vertical-align: middle;\n",
       "    }\n",
       "\n",
       "    .dataframe tbody tr th {\n",
       "        vertical-align: top;\n",
       "    }\n",
       "\n",
       "    .dataframe thead th {\n",
       "        text-align: right;\n",
       "    }\n",
       "</style>\n",
       "<table border=\"1\" class=\"dataframe\">\n",
       "  <thead>\n",
       "    <tr style=\"text-align: right;\">\n",
       "      <th></th>\n",
       "      <th>Developed</th>\n",
       "      <th>Did not Develop</th>\n",
       "      <th>Risk</th>\n",
       "      <th>Relative Risk</th>\n",
       "    </tr>\n",
       "  </thead>\n",
       "  <tbody>\n",
       "    <tr>\n",
       "      <th>Drug A</th>\n",
       "      <td>52</td>\n",
       "      <td>126</td>\n",
       "      <td>0.292135</td>\n",
       "      <td>1.038702</td>\n",
       "    </tr>\n",
       "    <tr>\n",
       "      <th>No Drug A</th>\n",
       "      <td>9</td>\n",
       "      <td>23</td>\n",
       "      <td>0.281250</td>\n",
       "      <td>NaN</td>\n",
       "    </tr>\n",
       "  </tbody>\n",
       "</table>\n",
       "</div>"
      ],
      "text/plain": [
       "           Developed  Did not Develop      Risk  Relative Risk\n",
       "Drug A            52              126  0.292135       1.038702\n",
       "No Drug A          9               23  0.281250            NaN"
      ]
     },
     "execution_count": 9,
     "metadata": {},
     "output_type": "execute_result"
    }
   ],
   "source": [
    "setup_tab(drinkers)"
   ]
  },
  {
   "cell_type": "markdown",
   "metadata": {},
   "source": [
    "**Non Drinkers**"
   ]
  },
  {
   "cell_type": "code",
   "execution_count": 10,
   "metadata": {},
   "outputs": [
    {
     "data": {
      "text/html": [
       "<div>\n",
       "<style scoped>\n",
       "    .dataframe tbody tr th:only-of-type {\n",
       "        vertical-align: middle;\n",
       "    }\n",
       "\n",
       "    .dataframe tbody tr th {\n",
       "        vertical-align: top;\n",
       "    }\n",
       "\n",
       "    .dataframe thead th {\n",
       "        text-align: right;\n",
       "    }\n",
       "</style>\n",
       "<table border=\"1\" class=\"dataframe\">\n",
       "  <thead>\n",
       "    <tr style=\"text-align: right;\">\n",
       "      <th></th>\n",
       "      <th>Developed</th>\n",
       "      <th>Did not Develop</th>\n",
       "      <th>Risk</th>\n",
       "      <th>Relative Risk</th>\n",
       "    </tr>\n",
       "  </thead>\n",
       "  <tbody>\n",
       "    <tr>\n",
       "      <th>Drug A</th>\n",
       "      <td>89</td>\n",
       "      <td>1056</td>\n",
       "      <td>0.077729</td>\n",
       "      <td>0.321056</td>\n",
       "    </tr>\n",
       "    <tr>\n",
       "      <th>No Drug A</th>\n",
       "      <td>46</td>\n",
       "      <td>144</td>\n",
       "      <td>0.242105</td>\n",
       "      <td>NaN</td>\n",
       "    </tr>\n",
       "  </tbody>\n",
       "</table>\n",
       "</div>"
      ],
      "text/plain": [
       "           Developed  Did not Develop      Risk  Relative Risk\n",
       "Drug A            89             1056  0.077729       0.321056\n",
       "No Drug A         46              144  0.242105            NaN"
      ]
     },
     "execution_count": 10,
     "metadata": {},
     "output_type": "execute_result"
    }
   ],
   "source": [
    "setup_tab(nondrinkers)"
   ]
  },
  {
   "cell_type": "markdown",
   "metadata": {},
   "source": [
    "## Part C"
   ]
  },
  {
   "cell_type": "markdown",
   "metadata": {},
   "source": [
    "What's occuring in this example is a **qualtitative interaction**. In particular, there is no relationship between taking drug A and developing hypercholesterolemia in non-drinkers, but there is a strong relationship in drinkers. Perhaps the drug only combats a mechanism for obtaining hypercholesterolemia that is induced from drinking alcohol."
   ]
  }
 ],
 "metadata": {
  "kernelspec": {
   "display_name": "Python 3",
   "language": "python",
   "name": "python3"
  },
  "language_info": {
   "codemirror_mode": {
    "name": "ipython",
    "version": 3
   },
   "file_extension": ".py",
   "mimetype": "text/x-python",
   "name": "python",
   "nbconvert_exporter": "python",
   "pygments_lexer": "ipython3",
   "version": "3.8.5"
  }
 },
 "nbformat": 4,
 "nbformat_minor": 4
}
