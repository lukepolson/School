{
 "cells": [
  {
   "cell_type": "code",
   "execution_count": 1,
   "metadata": {},
   "outputs": [],
   "source": [
    "import numpy as np\n",
    "import sympy as smp"
   ]
  },
  {
   "cell_type": "code",
   "execution_count": 15,
   "metadata": {},
   "outputs": [],
   "source": [
    "w, dw, M_mag, tau, T1, T2, the = smp.symbols(r'\\omega \\delta\\omega M \\tau T_1 T_2 \\theta')\n",
    "M1_mag, M2_mag, T11, T12, T21, T22, w0, dw0 = smp.symbols(r'M_1, M_2 T_1^{(1)} T_1^{(2)} T_2^{(1)} T_2^{(2)} \\omega_0 \\delta\\omega_0')"
   ]
  },
  {
   "cell_type": "code",
   "execution_count": 16,
   "metadata": {},
   "outputs": [],
   "source": [
    "rotx, roty, rotz = smp.rot_axis1(the), smp.rot_axis2(the), smp.rot_axis3(the)"
   ]
  },
  {
   "cell_type": "markdown",
   "metadata": {},
   "source": [
    "The vectors expressed below are shown in the rotating coordinate system basis:"
   ]
  },
  {
   "cell_type": "code",
   "execution_count": 17,
   "metadata": {},
   "outputs": [
    {
     "data": {
      "text/latex": [
       "$\\displaystyle \\left[\\begin{matrix}0\\\\0\\\\M\\end{matrix}\\right]$"
      ],
      "text/plain": [
       "Matrix([\n",
       "[0],\n",
       "[0],\n",
       "[M]])"
      ]
     },
     "execution_count": 17,
     "metadata": {},
     "output_type": "execute_result"
    }
   ],
   "source": [
    "M = M_mag * smp.Matrix([0,0,1])\n",
    "M"
   ]
  },
  {
   "cell_type": "markdown",
   "metadata": {},
   "source": [
    "First we rotate the vector by $90^{\\circ}_{x'}$. This is representative in the the first RF pulse:"
   ]
  },
  {
   "cell_type": "code",
   "execution_count": 18,
   "metadata": {},
   "outputs": [
    {
     "data": {
      "text/latex": [
       "$\\displaystyle \\left[\\begin{matrix}0\\\\M\\\\0\\end{matrix}\\right]$"
      ],
      "text/plain": [
       "Matrix([\n",
       "[0],\n",
       "[M],\n",
       "[0]])"
      ]
     },
     "execution_count": 18,
     "metadata": {},
     "output_type": "execute_result"
    }
   ],
   "source": [
    "M = rotx.subs(the, smp.pi/2) @ M\n",
    "M"
   ]
  },
  {
   "cell_type": "markdown",
   "metadata": {},
   "source": [
    "Implement $T_1$ and $T_2$ relaxation and rotate by $\\delta \\omega t$ about the $z'$ axis to simulate how much the magnetization gets out of phase with the rotating reference frame"
   ]
  },
  {
   "cell_type": "code",
   "execution_count": 19,
   "metadata": {},
   "outputs": [
    {
     "data": {
      "text/latex": [
       "$\\displaystyle \\left[\\begin{matrix}M e^{- \\frac{\\tau}{T_{2}}} \\sin{\\left(\\delta\\omega \\tau \\right)}\\\\M e^{- \\frac{\\tau}{T_{2}}} \\cos{\\left(\\delta\\omega \\tau \\right)}\\\\M \\left(1 - e^{- \\frac{\\tau}{T_{1}}}\\right)\\end{matrix}\\right]$"
      ],
      "text/plain": [
       "Matrix([\n",
       "[M*exp(-\\tau/T_2)*sin(\\delta\\omega*\\tau)],\n",
       "[M*exp(-\\tau/T_2)*cos(\\delta\\omega*\\tau)],\n",
       "[                 M*(1 - exp(-\\tau/T_1))]])"
      ]
     },
     "execution_count": 19,
     "metadata": {},
     "output_type": "execute_result"
    }
   ],
   "source": [
    "M = smp.exp(-tau/T2)*rotz.subs(the, dw*tau)@M  +  (1-smp.exp(-tau/T1))*M_mag*smp.Matrix([0,0,1])\n",
    "M"
   ]
  },
  {
   "cell_type": "markdown",
   "metadata": {},
   "source": [
    "Rotate $90^{\\circ}_{y'}$"
   ]
  },
  {
   "cell_type": "code",
   "execution_count": 20,
   "metadata": {},
   "outputs": [
    {
     "data": {
      "text/latex": [
       "$\\displaystyle \\left[\\begin{matrix}- M \\left(1 - e^{- \\frac{\\tau}{T_{1}}}\\right)\\\\M e^{- \\frac{\\tau}{T_{2}}} \\cos{\\left(\\delta\\omega \\tau \\right)}\\\\M e^{- \\frac{\\tau}{T_{2}}} \\sin{\\left(\\delta\\omega \\tau \\right)}\\end{matrix}\\right]$"
      ],
      "text/plain": [
       "Matrix([\n",
       "[                -M*(1 - exp(-\\tau/T_1))],\n",
       "[M*exp(-\\tau/T_2)*cos(\\delta\\omega*\\tau)],\n",
       "[M*exp(-\\tau/T_2)*sin(\\delta\\omega*\\tau)]])"
      ]
     },
     "execution_count": 20,
     "metadata": {},
     "output_type": "execute_result"
    }
   ],
   "source": [
    "M = roty.subs(the, smp.pi/2) @ M\n",
    "M"
   ]
  },
  {
   "cell_type": "markdown",
   "metadata": {},
   "source": [
    "The vectors in the **rotating frame** are thus\n",
    "\n",
    "* **1: Isochromat with $\\omega=\\omega_0$**"
   ]
  },
  {
   "cell_type": "code",
   "execution_count": 13,
   "metadata": {},
   "outputs": [
    {
     "data": {
      "text/latex": [
       "$\\displaystyle \\left[\\begin{matrix}\\left[\\begin{matrix}M \\left(1 - e^{- \\frac{\\pi}{4 T_1^{(1)} \\delta\\omega_0}}\\right)^{2}\\\\- M \\left(1 - e^{- \\frac{\\pi}{4 T_1^{(1)} \\delta\\omega_0}}\\right) e^{- \\frac{\\pi}{4 T_{2} \\delta\\omega_0}}\\\\0\\end{matrix}\\right]\\\\\\left[\\begin{matrix}- M \\left(1 - e^{- \\frac{\\pi}{4 T_1^{(1)} \\delta\\omega_0}}\\right) e^{- \\frac{\\pi}{4 T_{2} \\delta\\omega_0}}\\\\M e^{- \\frac{\\pi}{2 T_{2} \\delta\\omega_0}}\\\\0\\end{matrix}\\right]\\\\\\left[\\begin{matrix}0\\\\0\\\\0\\end{matrix}\\right]\\end{matrix}\\right]$"
      ],
      "text/plain": [
       "Matrix([\n",
       "[Matrix([\n",
       "[                              M*(1 - exp(-pi/(4*T_1^{(1)}*\\delta\\omega_0)))**2],\n",
       "[-M*(1 - exp(-pi/(4*T_1^{(1)}*\\delta\\omega_0)))*exp(-pi/(4*T_2*\\delta\\omega_0))],\n",
       "[                                                                             0]])],\n",
       "[Matrix([\n",
       "[-M*(1 - exp(-pi/(4*T_1^{(1)}*\\delta\\omega_0)))*exp(-pi/(4*T_2*\\delta\\omega_0))],\n",
       "[                                             M*exp(-pi/(2*T_2*\\delta\\omega_0))],\n",
       "[                                                                             0]])],\n",
       "[                                                                                                                                                                                                                                       Matrix([\n",
       "[0],\n",
       "[0],\n",
       "[0]])]])"
      ]
     },
     "execution_count": 13,
     "metadata": {},
     "output_type": "execute_result"
    }
   ],
   "source": [
    "M1 = M.subs([(M_mag, M1_), (T1, T11), (T1, T12), (dw, 0), (tau, smp.pi/(4*dw0))])\n",
    "M1"
   ]
  },
  {
   "cell_type": "markdown",
   "metadata": {},
   "source": [
    "* **2: Isochromat with $\\omega=\\omega_0 + \\delta w_0$**"
   ]
  },
  {
   "cell_type": "code",
   "execution_count": 10,
   "metadata": {},
   "outputs": [
    {
     "data": {
      "text/latex": [
       "$\\displaystyle \\left[\\begin{matrix}- M \\left(1 - e^{- \\frac{\\pi}{4 T_2^{(1)} \\delta\\omega_0}}\\right)\\\\\\frac{\\sqrt{2} M e^{- \\frac{\\pi}{4 T_2^{(2)} \\delta\\omega_0}}}{2}\\\\\\frac{\\sqrt{2} M e^{- \\frac{\\pi}{4 T_2^{(2)} \\delta\\omega_0}}}{2}\\end{matrix}\\right]$"
      ],
      "text/plain": [
       "Matrix([\n",
       "[   -M*(1 - exp(-pi/(4*T_2^{(1)}*\\delta\\omega_0)))],\n",
       "[sqrt(2)*M*exp(-pi/(4*T_2^{(2)}*\\delta\\omega_0))/2],\n",
       "[sqrt(2)*M*exp(-pi/(4*T_2^{(2)}*\\delta\\omega_0))/2]])"
      ]
     },
     "execution_count": 10,
     "metadata": {},
     "output_type": "execute_result"
    }
   ],
   "source": [
    "M2 = M.subs([(M, M2), (T1, T21), (T2, T22), (dw, dw0), (tau, smp.pi/(4*dw0))])\n",
    "M2"
   ]
  },
  {
   "cell_type": "markdown",
   "metadata": {},
   "source": [
    "In the **rest frame**, the vector coordinates are given by an additional rotation of $-\\omega_0 \\tau$ about the $z$-axis\n",
    "\n",
    "* **1: Isochromat with $\\omega=\\omega_0$**"
   ]
  },
  {
   "cell_type": "code",
   "execution_count": 11,
   "metadata": {},
   "outputs": [
    {
     "data": {
      "text/latex": [
       "$\\displaystyle \\left[\\begin{matrix}- M \\left(1 - e^{- \\frac{\\pi}{4 T_1^{(1)} \\delta\\omega_0}}\\right) \\cos{\\left(\\frac{\\pi \\omega_0}{4 \\delta\\omega_0} \\right)} - M e^{- \\frac{\\pi}{4 T_{2} \\delta\\omega_0}} \\sin{\\left(\\frac{\\pi \\omega_0}{4 \\delta\\omega_0} \\right)}\\\\- M \\left(1 - e^{- \\frac{\\pi}{4 T_1^{(1)} \\delta\\omega_0}}\\right) \\sin{\\left(\\frac{\\pi \\omega_0}{4 \\delta\\omega_0} \\right)} + M e^{- \\frac{\\pi}{4 T_{2} \\delta\\omega_0}} \\cos{\\left(\\frac{\\pi \\omega_0}{4 \\delta\\omega_0} \\right)}\\\\0\\end{matrix}\\right]$"
      ],
      "text/plain": [
       "Matrix([\n",
       "[-M*(1 - exp(-pi/(4*T_1^{(1)}*\\delta\\omega_0)))*cos(pi*\\omega_0/(4*\\delta\\omega_0)) - M*exp(-pi/(4*T_2*\\delta\\omega_0))*sin(pi*\\omega_0/(4*\\delta\\omega_0))],\n",
       "[-M*(1 - exp(-pi/(4*T_1^{(1)}*\\delta\\omega_0)))*sin(pi*\\omega_0/(4*\\delta\\omega_0)) + M*exp(-pi/(4*T_2*\\delta\\omega_0))*cos(pi*\\omega_0/(4*\\delta\\omega_0))],\n",
       "[                                                                                                                                                         0]])"
      ]
     },
     "execution_count": 11,
     "metadata": {},
     "output_type": "execute_result"
    }
   ],
   "source": [
    "M1_rest = rotz.subs(the, -w0*tau).subs(tau, smp.pi/(4*dw0)) @ M1\n",
    "M1_rest"
   ]
  },
  {
   "cell_type": "markdown",
   "metadata": {},
   "source": [
    "* **2: Isochromat with $\\omega=\\omega_0 + \\delta w_0$**"
   ]
  },
  {
   "cell_type": "code",
   "execution_count": 12,
   "metadata": {},
   "outputs": [
    {
     "data": {
      "text/latex": [
       "$\\displaystyle \\left[\\begin{matrix}- M \\left(1 - e^{- \\frac{\\pi}{4 T_2^{(1)} \\delta\\omega_0}}\\right) \\cos{\\left(\\frac{\\pi \\omega_0}{4 \\delta\\omega_0} \\right)} - \\frac{\\sqrt{2} M e^{- \\frac{\\pi}{4 T_2^{(2)} \\delta\\omega_0}} \\sin{\\left(\\frac{\\pi \\omega_0}{4 \\delta\\omega_0} \\right)}}{2}\\\\- M \\left(1 - e^{- \\frac{\\pi}{4 T_2^{(1)} \\delta\\omega_0}}\\right) \\sin{\\left(\\frac{\\pi \\omega_0}{4 \\delta\\omega_0} \\right)} + \\frac{\\sqrt{2} M e^{- \\frac{\\pi}{4 T_2^{(2)} \\delta\\omega_0}} \\cos{\\left(\\frac{\\pi \\omega_0}{4 \\delta\\omega_0} \\right)}}{2}\\\\\\frac{\\sqrt{2} M e^{- \\frac{\\pi}{4 T_2^{(2)} \\delta\\omega_0}}}{2}\\end{matrix}\\right]$"
      ],
      "text/plain": [
       "Matrix([\n",
       "[-M*(1 - exp(-pi/(4*T_2^{(1)}*\\delta\\omega_0)))*cos(pi*\\omega_0/(4*\\delta\\omega_0)) - sqrt(2)*M*exp(-pi/(4*T_2^{(2)}*\\delta\\omega_0))*sin(pi*\\omega_0/(4*\\delta\\omega_0))/2],\n",
       "[-M*(1 - exp(-pi/(4*T_2^{(1)}*\\delta\\omega_0)))*sin(pi*\\omega_0/(4*\\delta\\omega_0)) + sqrt(2)*M*exp(-pi/(4*T_2^{(2)}*\\delta\\omega_0))*cos(pi*\\omega_0/(4*\\delta\\omega_0))/2],\n",
       "[                                                                                                                         sqrt(2)*M*exp(-pi/(4*T_2^{(2)}*\\delta\\omega_0))/2]])"
      ]
     },
     "execution_count": 12,
     "metadata": {},
     "output_type": "execute_result"
    }
   ],
   "source": [
    "M2_rest = rotz.subs(the, -w0*tau).subs(tau, smp.pi/(4*dw0)) @ M2\n",
    "M2_rest"
   ]
  }
 ],
 "metadata": {
  "kernelspec": {
   "display_name": "Python 3",
   "language": "python",
   "name": "python3"
  },
  "language_info": {
   "codemirror_mode": {
    "name": "ipython",
    "version": 3
   },
   "file_extension": ".py",
   "mimetype": "text/x-python",
   "name": "python",
   "nbconvert_exporter": "python",
   "pygments_lexer": "ipython3",
   "version": "3.8.5"
  }
 },
 "nbformat": 4,
 "nbformat_minor": 4
}
