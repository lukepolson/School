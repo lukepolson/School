{
 "cells": [
  {
   "cell_type": "code",
   "execution_count": 1,
   "metadata": {},
   "outputs": [],
   "source": [
    "import numpy as np\n",
    "import matplotlib.pyplot as plt\n",
    "import pandas as pd\n",
    "import pint\n",
    "import sympy as smp"
   ]
  },
  {
   "cell_type": "markdown",
   "metadata": {},
   "source": [
    "Here the `pint` module is used because dealing with units is a real pain and this package makes them very easy to manage in python."
   ]
  },
  {
   "cell_type": "code",
   "execution_count": 2,
   "metadata": {},
   "outputs": [],
   "source": [
    "u = pint.UnitRegistry()"
   ]
  },
  {
   "cell_type": "markdown",
   "metadata": {},
   "source": [
    "# Question 1"
   ]
  },
  {
   "cell_type": "markdown",
   "metadata": {},
   "source": [
    "Using \n",
    "\n",
    "$$KE=(\\gamma-1)m_0c^2$$\n",
    "\n",
    "we get\n",
    "\n",
    "$$\\gamma = 1+\\frac{KE}{m_0c^2}$$"
   ]
  },
  {
   "cell_type": "code",
   "execution_count": 3,
   "metadata": {},
   "outputs": [],
   "source": [
    "gam = 1 + 200 / 511"
   ]
  },
  {
   "cell_type": "markdown",
   "metadata": {},
   "source": [
    "And $$\\beta = \\sqrt{1-\\gamma^{-2}}$$"
   ]
  },
  {
   "cell_type": "code",
   "execution_count": 4,
   "metadata": {},
   "outputs": [
    {
     "data": {
      "text/plain": [
       "0.6953140418738832"
      ]
     },
     "execution_count": 4,
     "metadata": {},
     "output_type": "execute_result"
    }
   ],
   "source": [
    "beta = np.sqrt(1-gam**-2)\n",
    "beta"
   ]
  },
  {
   "cell_type": "markdown",
   "metadata": {},
   "source": [
    "So the **answer is C**"
   ]
  },
  {
   "cell_type": "markdown",
   "metadata": {},
   "source": [
    "# Question 2"
   ]
  },
  {
   "cell_type": "markdown",
   "metadata": {},
   "source": [
    "Supposing that at each stage, the electron beam is accelerated such that it gains approximately 10mA, we would need approximately 8 of these machines (2440kg total according to data sheet). Thus the **answer is d**."
   ]
  },
  {
   "cell_type": "markdown",
   "metadata": {},
   "source": [
    "# Question 3"
   ]
  },
  {
   "cell_type": "markdown",
   "metadata": {},
   "source": [
    "The phase velocity is given by\n",
    "\n",
    "$$v_p = \\lambda_g f$$\n",
    "\n",
    "where\n",
    "\n",
    "$$\\lambda_g = \\frac{\\lambda_f}{\\sqrt{1-(\\lambda_f/\\lambda_c)^2}}$$\n",
    "\n",
    "For electrons travelling at approximately the speed of light,\n",
    "\n",
    "$$\\lambda_f=c/f$$\n",
    "\n",
    "and the lower cutoff wavelength is given by\n",
    "\n",
    "$$\\lambda_c = 2 \\pi a / u_{0,1}$$"
   ]
  },
  {
   "cell_type": "code",
   "execution_count": 5,
   "metadata": {},
   "outputs": [],
   "source": [
    "f = 2856 * u.MHz\n",
    "c = 3e8 * u.m/u.s\n",
    "a = 10*u.cm / 2\n",
    "lam_f = c/f\n",
    "lam_c = 2*np.pi*a / 2.405\n",
    "lam_g = lam_f / np.sqrt(1-(lam_f/lam_c)**2)"
   ]
  },
  {
   "cell_type": "code",
   "execution_count": 6,
   "metadata": {},
   "outputs": [
    {
     "data": {
      "text/html": [
       "0.1767049950092453 meter"
      ],
      "text/latex": [
       "$0.1767049950092453\\ \\mathrm{meter}$"
      ],
      "text/plain": [
       "0.1767049950092453 <Unit('meter')>"
      ]
     },
     "execution_count": 6,
     "metadata": {},
     "output_type": "execute_result"
    }
   ],
   "source": [
    "lam_g.to_reduced_units()"
   ]
  },
  {
   "cell_type": "markdown",
   "metadata": {},
   "source": [
    "Or around 10cm, which was confirmed in the notes. The phase velocity is given by"
   ]
  },
  {
   "cell_type": "code",
   "execution_count": 7,
   "metadata": {},
   "outputs": [
    {
     "data": {
      "text/html": [
       "504669465.74640465 meter/second"
      ],
      "text/latex": [
       "$504669465.74640465\\ \\frac{\\mathrm{meter}}{\\mathrm{second}}$"
      ],
      "text/plain": [
       "504669465.74640465 <Unit('meter / second')>"
      ]
     },
     "execution_count": 7,
     "metadata": {},
     "output_type": "execute_result"
    }
   ],
   "source": [
    "v_p = lam_g*f\n",
    "v_p.to_reduced_units()"
   ]
  },
  {
   "cell_type": "markdown",
   "metadata": {},
   "source": [
    "So the **answer is e**."
   ]
  },
  {
   "cell_type": "markdown",
   "metadata": {},
   "source": [
    "# Question 4"
   ]
  },
  {
   "cell_type": "markdown",
   "metadata": {},
   "source": [
    "4 cavities per wavelength means that $\\lambda_g=4x$ and we want\n",
    "\n",
    "$$\\frac{\\lambda_g}{\\Delta T} = \\frac{4x}{\\Delta T} = \\beta c \\implies x=\\frac{\\Delta T \\beta c}{4}$$"
   ]
  },
  {
   "cell_type": "code",
   "execution_count": 14,
   "metadata": {},
   "outputs": [
    {
     "data": {
      "text/html": [
       "0.981619469620527 centimeter"
      ],
      "text/latex": [
       "$0.981619469620527\\ \\mathrm{centimeter}$"
      ],
      "text/plain": [
       "0.981619469620527 <Unit('centimeter')>"
      ]
     },
     "execution_count": 14,
     "metadata": {},
     "output_type": "execute_result"
    }
   ],
   "source": [
    "gam = 1 + 40 / 511\n",
    "beta = np.sqrt(1-gam**-2)\n",
    "x = 1/f * beta * u.c /4\n",
    "x.to('cm')"
   ]
  },
  {
   "cell_type": "markdown",
   "metadata": {},
   "source": [
    "So the answer is **c**"
   ]
  },
  {
   "cell_type": "markdown",
   "metadata": {},
   "source": [
    "## Question 5"
   ]
  },
  {
   "cell_type": "markdown",
   "metadata": {},
   "source": [
    "This is the same as question 4, only the kinetic energy of the electron changes."
   ]
  },
  {
   "cell_type": "code",
   "execution_count": 15,
   "metadata": {},
   "outputs": [
    {
     "data": {
      "text/html": [
       "1.9230822962390095 centimeter"
      ],
      "text/latex": [
       "$1.9230822962390095\\ \\mathrm{centimeter}$"
      ],
      "text/plain": [
       "1.9230822962390095 <Unit('centimeter')>"
      ]
     },
     "execution_count": 15,
     "metadata": {},
     "output_type": "execute_result"
    }
   ],
   "source": [
    "gam = 1 + 240 / 511\n",
    "beta = np.sqrt(1-gam**-2)\n",
    "x2 = 1/f * beta * u.c /4\n",
    "x2.to('cm')"
   ]
  },
  {
   "cell_type": "markdown",
   "metadata": {},
   "source": [
    "Need to add these together since the net position will be $x + x_2$"
   ]
  },
  {
   "cell_type": "code",
   "execution_count": 16,
   "metadata": {},
   "outputs": [
    {
     "data": {
      "text/html": [
       "2.9047017658595364 centimeter"
      ],
      "text/latex": [
       "$2.9047017658595364\\ \\mathrm{centimeter}$"
      ],
      "text/plain": [
       "2.9047017658595364 <Unit('centimeter')>"
      ]
     },
     "execution_count": 16,
     "metadata": {},
     "output_type": "execute_result"
    }
   ],
   "source": [
    "xtot = x+x2\n",
    "xtot.to('cm')"
   ]
  },
  {
   "cell_type": "markdown",
   "metadata": {},
   "source": [
    "# Question 6"
   ]
  },
  {
   "cell_type": "code",
   "execution_count": 10,
   "metadata": {},
   "outputs": [],
   "source": [
    "A = 600*u.mA/(u.mm**2 * u.K**2)\n",
    "Ts = np.array([1200,1600,1900,2200,2400,2600]) * u.K\n",
    "W = 4.54*u.eV\n",
    "cross_sec_area = np.pi*(2.5*u.mm)**2\n",
    "\n",
    "\n",
    "I = cross_sec_area*A*Ts**2 * np.exp(-W/(u.boltzmann_constant * Ts))"
   ]
  },
  {
   "cell_type": "markdown",
   "metadata": {},
   "source": [
    "The following is in the order of the increasing temperatures listed as a) to e) in the problem. The units are in milliamperes"
   ]
  },
  {
   "cell_type": "code",
   "execution_count": 11,
   "metadata": {},
   "outputs": [
    {
     "data": {
      "text/plain": [
       "array([1.45339222e-09, 1.51025577e-04, 3.85718966e-02, 2.26859502e+00,\n",
       "       1.98620112e+01, 1.26153637e+02])"
      ]
     },
     "execution_count": 11,
     "metadata": {},
     "output_type": "execute_result"
    }
   ],
   "source": [
    "I.magnitude"
   ]
  },
  {
   "cell_type": "markdown",
   "metadata": {},
   "source": [
    "# Question 7"
   ]
  },
  {
   "cell_type": "markdown",
   "metadata": {},
   "source": [
    "## Part A"
   ]
  },
  {
   "cell_type": "markdown",
   "metadata": {},
   "source": [
    "While this technically has an analytic solution, it is faster in this case to solve for it numerically"
   ]
  },
  {
   "cell_type": "code",
   "execution_count": 12,
   "metadata": {},
   "outputs": [],
   "source": [
    "Ts = np.linspace(2600, 2800, 100000)*u.K\n",
    "Is = cross_sec_area*A*Ts**2 * np.exp(-W/(u.boltzmann_constant * Ts))"
   ]
  },
  {
   "cell_type": "markdown",
   "metadata": {},
   "source": [
    "The temperature is:"
   ]
  },
  {
   "cell_type": "code",
   "execution_count": 13,
   "metadata": {},
   "outputs": [
    {
     "data": {
      "text/html": [
       "2612.2161221612214 kelvin"
      ],
      "text/latex": [
       "$2612.2161221612214\\ \\mathrm{kelvin}$"
      ],
      "text/plain": [
       "2612.2161221612214 <Unit('kelvin')>"
      ]
     },
     "execution_count": 13,
     "metadata": {},
     "output_type": "execute_result"
    }
   ],
   "source": [
    "Ts[np.argmin(np.abs(Is-140*u.mA))]"
   ]
  },
  {
   "cell_type": "markdown",
   "metadata": {},
   "source": [
    "## Part B"
   ]
  },
  {
   "cell_type": "markdown",
   "metadata": {},
   "source": [
    "Given\n",
    "\n",
    "$$V_{acc} = \\sqrt{PZ}  - IZ/2$$\n",
    "\n",
    "and \n",
    "\n",
    "* $P=1.96$MW\n",
    "* $Z=55$M$\\Omega$\n",
    "* $I=14$mA\n",
    "\n",
    "we get"
   ]
  },
  {
   "cell_type": "code",
   "execution_count": 14,
   "metadata": {},
   "outputs": [
    {
     "data": {
      "text/html": [
       "9.997677881933926 megavolt"
      ],
      "text/latex": [
       "$9.997677881933926\\ \\mathrm{megavolt}$"
      ],
      "text/plain": [
       "9.997677881933926 <Unit('megavolt')>"
      ]
     },
     "execution_count": 14,
     "metadata": {},
     "output_type": "execute_result"
    }
   ],
   "source": [
    "P = 1.96*u.MW\n",
    "Z = 55*u.Mohm\n",
    "I = 14*u.mA\n",
    "\n",
    "V = (P*Z)**(1/2)-I*Z/2\n",
    "V.to('megavolts')"
   ]
  },
  {
   "cell_type": "markdown",
   "metadata": {},
   "source": [
    "So the beam energy is 10MeV (since the charge of an electron is $e$ and its being accelerated by $10$V)"
   ]
  },
  {
   "cell_type": "markdown",
   "metadata": {},
   "source": [
    "## Part C"
   ]
  },
  {
   "cell_type": "markdown",
   "metadata": {},
   "source": [
    "Get minimum and maximum temperature"
   ]
  },
  {
   "cell_type": "code",
   "execution_count": 15,
   "metadata": {},
   "outputs": [],
   "source": [
    "T = Ts[np.argmin(np.abs(Is-140*u.mA))]\n",
    "T_min = T-25*u.K\n",
    "T_max = T+25*u.K"
   ]
  },
  {
   "cell_type": "markdown",
   "metadata": {},
   "source": [
    "Get corresponding minimum and maximum current"
   ]
  },
  {
   "cell_type": "code",
   "execution_count": 16,
   "metadata": {},
   "outputs": [],
   "source": [
    "I_min = cross_sec_area*A*T_min**2 * np.exp(-W/(u.boltzmann_constant * T_min))\n",
    "I_max = cross_sec_area*A*T_max**2 * np.exp(-W/(u.boltzmann_constant * T_max))"
   ]
  },
  {
   "cell_type": "code",
   "execution_count": 17,
   "metadata": {},
   "outputs": [
    {
     "name": "stdout",
     "output_type": "stream",
     "text": [
      "Minimum Current: 113.01 milliampereMeV\n",
      "Maximum Current: 172.76 milliampereMeV\n"
     ]
    }
   ],
   "source": [
    "print(f'Minimum Current: {I_min:.2f}MeV')\n",
    "print(f'Maximum Current: {I_max:.2f}MeV')"
   ]
  },
  {
   "cell_type": "markdown",
   "metadata": {},
   "source": [
    "## Part D"
   ]
  },
  {
   "cell_type": "markdown",
   "metadata": {},
   "source": [
    "Get the voltage range"
   ]
  },
  {
   "cell_type": "code",
   "execution_count": 18,
   "metadata": {},
   "outputs": [],
   "source": [
    "V_min = (P*Z)**(1/2)-(I_min/10)*Z/2\n",
    "V_max = (P*Z)**(1/2)-(I_max/10)*Z/2\n",
    "V_min = V_min.to('megavolts').magnitude\n",
    "V_max = V_max.to('megavolts').magnitude"
   ]
  },
  {
   "cell_type": "markdown",
   "metadata": {},
   "source": [
    "Get the energy range in absolute and percent"
   ]
  },
  {
   "cell_type": "code",
   "execution_count": 19,
   "metadata": {},
   "outputs": [
    {
     "name": "stdout",
     "output_type": "stream",
     "text": [
      "Beam energy range: 9.91eV to 10.07eV\n",
      "Energy Range (Absolute): 0.16MeV\n",
      "Energy Range (Percent): 1.64%\n"
     ]
    }
   ],
   "source": [
    "V = V.to('megavolts').magnitude\n",
    "print(f'Beam energy range: {V_max:.2f}eV to {V_min:.2f}eV')\n",
    "print(f'Energy Range (Absolute): {np.abs(V_max - V_min):.2f}MeV')\n",
    "print(f'Energy Range (Percent): {np.abs(V_max - V_min)/V *100 :.2f}%')"
   ]
  },
  {
   "cell_type": "markdown",
   "metadata": {},
   "source": [
    "# Question 8"
   ]
  },
  {
   "cell_type": "markdown",
   "metadata": {},
   "source": [
    "## Part A"
   ]
  },
  {
   "cell_type": "markdown",
   "metadata": {},
   "source": [
    "A diode gun consists of a thermionic diode. The thermionic diode itself consists of a heated cathode (from which electrons are boiled off due to a high temperature) and an anode to which electrons are attracted. By heating up the surface to boil off electrons and providing a current to accelerate these electrons, a current can be produced. A gun with grid control consists of a triode where the third \"ode\" is a grid between the cathode and electron to control current. The grid is held at a negative potential to prevent electrons from being accelerated towards the anode."
   ]
  },
  {
   "cell_type": "markdown",
   "metadata": {},
   "source": [
    "## Part B"
   ]
  },
  {
   "cell_type": "markdown",
   "metadata": {},
   "source": [
    "Using $I=pV^{3/2}$ we get"
   ]
  },
  {
   "cell_type": "code",
   "execution_count": 20,
   "metadata": {},
   "outputs": [
    {
     "data": {
      "text/html": [
       "11.166321742749934 kilovolt"
      ],
      "text/latex": [
       "$11.166321742749934\\ \\mathrm{kilovolt}$"
      ],
      "text/plain": [
       "11.166321742749934 <Unit('kilovolt')>"
      ]
     },
     "execution_count": 20,
     "metadata": {},
     "output_type": "execute_result"
    }
   ],
   "source": [
    "p = 6.7 * u.mA / u.kV**1.5\n",
    "I = 250*u.mA\n",
    "V = (I/p)**(2/3)\n",
    "V.to_reduced_units()"
   ]
  },
  {
   "cell_type": "markdown",
   "metadata": {},
   "source": [
    "## Part C"
   ]
  },
  {
   "cell_type": "code",
   "execution_count": 21,
   "metadata": {},
   "outputs": [
    {
     "name": "stdout",
     "output_type": "stream",
     "text": [
      "The beam energy is 9.70 MeV\n"
     ]
    }
   ],
   "source": [
    "Z = 55*u.Mohm\n",
    "P = 1.96*u.MW\n",
    "V = (P*Z)**(1/2)-(I/10)*Z/2\n",
    "V = V.to('MV').magnitude\n",
    "print(f'The beam energy is {V:.2f} MeV')"
   ]
  },
  {
   "cell_type": "markdown",
   "metadata": {},
   "source": [
    "## Part D"
   ]
  },
  {
   "cell_type": "markdown",
   "metadata": {},
   "source": [
    "Using $$P=(V_{acc}+IZ/2)^2/Z$$ and the fact that only 10% of the current is transferred we get"
   ]
  },
  {
   "cell_type": "code",
   "execution_count": 22,
   "metadata": {},
   "outputs": [
    {
     "name": "stdout",
     "output_type": "stream",
     "text": [
      "The applied power should be 0.81 MW\n"
     ]
    }
   ],
   "source": [
    "Vacc = 6 * u.MV\n",
    "P = (Vacc + (I/10)*Z/2)**2/Z\n",
    "P = P.to('MW').magnitude\n",
    "print(f'The applied power should be {P:.2f} MW')"
   ]
  },
  {
   "cell_type": "markdown",
   "metadata": {},
   "source": [
    "## Part E"
   ]
  },
  {
   "cell_type": "markdown",
   "metadata": {},
   "source": [
    "Using $$I=\\frac{2}{Z}\\left(\\sqrt{PZ} - V_{acc} \\right)$$\n",
    "\n",
    "and the fact that only 10% of the current is transferred we get"
   ]
  },
  {
   "cell_type": "code",
   "execution_count": 23,
   "metadata": {},
   "outputs": [
    {
     "name": "stdout",
     "output_type": "stream",
     "text": [
      "The applied current should be 1121.07 mA\n"
     ]
    }
   ],
   "source": [
    "# Assuming we still want the same V from part C\n",
    "Z = 55*u.Mohm\n",
    "P = 1.96*u.MW\n",
    "I = 250*u.mA\n",
    "V = (P*Z)**(1/2)-(I/10)*Z/2\n",
    "\n",
    "# Then use the V from above here\n",
    "P = 1.5*u.MW\n",
    "I = 20/Z * (np.sqrt(P*Z) - Vacc)\n",
    "I = I.to('mA').magnitude\n",
    "print(f'The applied current should be {I:.2f} mA')"
   ]
  },
  {
   "cell_type": "markdown",
   "metadata": {},
   "source": [
    "# Question 9"
   ]
  },
  {
   "cell_type": "markdown",
   "metadata": {},
   "source": [
    "## Part A"
   ]
  },
  {
   "cell_type": "markdown",
   "metadata": {},
   "source": [
    "The duty cycle is given by $D=Tf$ where $T$ is the pulse length and $f$ is the frequency"
   ]
  },
  {
   "cell_type": "code",
   "execution_count": 24,
   "metadata": {},
   "outputs": [],
   "source": [
    "f = 180*u.s**(-1)\n",
    "T = 6 * u.us\n",
    "D = T*f"
   ]
  },
  {
   "cell_type": "markdown",
   "metadata": {},
   "source": [
    "The duty cycle is"
   ]
  },
  {
   "cell_type": "code",
   "execution_count": 25,
   "metadata": {},
   "outputs": [
    {
     "data": {
      "text/html": [
       "0.00108 dimensionless"
      ],
      "text/latex": [
       "$0.00108\\ dimensionless$"
      ],
      "text/plain": [
       "0.00108 <Unit('dimensionless')>"
      ]
     },
     "execution_count": 25,
     "metadata": {},
     "output_type": "execute_result"
    }
   ],
   "source": [
    "D.to_reduced_units()"
   ]
  },
  {
   "cell_type": "markdown",
   "metadata": {},
   "source": [
    "## Part B"
   ]
  },
  {
   "cell_type": "markdown",
   "metadata": {},
   "source": [
    "The average power is the power input times the duty cycle"
   ]
  },
  {
   "cell_type": "code",
   "execution_count": 26,
   "metadata": {},
   "outputs": [
    {
     "data": {
      "text/html": [
       "5.4 kilowatt"
      ],
      "text/latex": [
       "$5.4\\ \\mathrm{kilowatt}$"
      ],
      "text/plain": [
       "5.4 <Unit('kilowatt')>"
      ]
     },
     "execution_count": 26,
     "metadata": {},
     "output_type": "execute_result"
    }
   ],
   "source": [
    "P_avg = 5*u.MW * D\n",
    "P_avg.to('kW')"
   ]
  },
  {
   "cell_type": "markdown",
   "metadata": {},
   "source": [
    "## Part C"
   ]
  },
  {
   "cell_type": "markdown",
   "metadata": {},
   "source": [
    "Assuming that all power is absorbed by the water, we can write\n",
    "\n",
    "* $dE=mcdT$ ($m$ is mass and $c$ is heat capacity)\n",
    "* $P=dE/dt = mc \\cdot dT/dt$ (where $P$ is the average power from part b)\n",
    "* $m = f \\rho \\Delta t$ where $f$ is the flow rate in $l/s$ and $\\rho$ is the density of water\n",
    "\n",
    "And the fact that power is constant we get\n",
    "\n",
    "$$\\frac{\\Delta T}{\\Delta t} = \\frac{P}{mc} = \\frac{P}{f \\rho c \\Delta t}$$\n",
    "\n",
    "and thus\n",
    "\n",
    "$$\\Delta T = \\frac{P}{f \\rho c}$$"
   ]
  },
  {
   "cell_type": "code",
   "execution_count": 27,
   "metadata": {},
   "outputs": [],
   "source": [
    "f = 10 * u.L / u.min\n",
    "c = 4.18 * u.J / (u.g * u.K)\n",
    "rho = 1000 * u.g/u.L"
   ]
  },
  {
   "cell_type": "markdown",
   "metadata": {},
   "source": [
    "Compute change in temperature:"
   ]
  },
  {
   "cell_type": "code",
   "execution_count": 28,
   "metadata": {},
   "outputs": [
    {
     "name": "stdout",
     "output_type": "stream",
     "text": [
      "The change in temperature is 7.75 kelvin\n"
     ]
    }
   ],
   "source": [
    "dT = P_avg/(f*rho*c)\n",
    "dT = dT.to('K')\n",
    "print(f'The change in temperature is {dT:.2f}')"
   ]
  },
  {
   "cell_type": "markdown",
   "metadata": {},
   "source": [
    "# Question 10"
   ]
  },
  {
   "cell_type": "markdown",
   "metadata": {},
   "source": [
    "## Part A\n",
    "\n",
    "The energy slits are designed to absorb energy that is too low or too high. Assuming the beam is approximately Gaussian in energy fluence with mean value equal to the specified beam energy, none of the \"peak\" energy strikes the energy slits, since the peak energy is precisely what is being selected for.\n",
    "\n",
    "As for the power, the \"peak\" power (power when beam is on) is given by"
   ]
  },
  {
   "cell_type": "code",
   "execution_count": 29,
   "metadata": {},
   "outputs": [
    {
     "data": {
      "text/html": [
       "0.5 megawatt"
      ],
      "text/latex": [
       "$0.5\\ \\mathrm{megawatt}$"
      ],
      "text/plain": [
       "0.5 <Unit('megawatt')>"
      ]
     },
     "execution_count": 29,
     "metadata": {},
     "output_type": "execute_result"
    }
   ],
   "source": [
    "E0 = 10*u.MeV\n",
    "I = 50*u.mA\n",
    "\n",
    "P = (E0 / u.e) * I\n",
    "P.to('MW')"
   ]
  },
  {
   "cell_type": "markdown",
   "metadata": {},
   "source": [
    "If 20% of everything hits the slits, then 0.1MW hits the slits."
   ]
  },
  {
   "cell_type": "markdown",
   "metadata": {},
   "source": [
    "## Part B"
   ]
  },
  {
   "cell_type": "markdown",
   "metadata": {},
   "source": [
    "Assume the beam is narrowly distributed around 10MeV so that the energy of all particles absorbed is approximately at 10MeV. In one second, the energy absorbed is\n",
    "\n",
    "$$P_{tot} = 0.2 \\cdot E_0 \\cdot T \\cdot f \\cdot I \\cdot \\frac{1}{e} $$\n",
    "\n",
    "where \n",
    "\n",
    "* $E_0$ is the energy of an individual particle of the beam\n",
    "* $Tf$ represents the duty cycle\n",
    "* $I/e$ represents the flux of electrons hitting the target"
   ]
  },
  {
   "cell_type": "code",
   "execution_count": 30,
   "metadata": {},
   "outputs": [],
   "source": [
    "T = 4*u.us\n",
    "f = 400*u.Hz\n",
    "Ptot = 0.2*E0*T*f*I/u.e"
   ]
  },
  {
   "cell_type": "code",
   "execution_count": 31,
   "metadata": {},
   "outputs": [
    {
     "data": {
      "text/html": [
       "159.99999999999997 joule/second"
      ],
      "text/latex": [
       "$159.99999999999997\\ \\frac{\\mathrm{joule}}{\\mathrm{second}}$"
      ],
      "text/plain": [
       "159.99999999999997 <Unit('joule / second')>"
      ]
     },
     "execution_count": 31,
     "metadata": {},
     "output_type": "execute_result"
    }
   ],
   "source": [
    "Ptot.to('J/s')"
   ]
  },
  {
   "cell_type": "markdown",
   "metadata": {},
   "source": [
    "So the average energy absorbed every second is about 160 joules. In terms of every pulse (400 times a second) the average energy absorbed is 160/400= 0.4 joules."
   ]
  },
  {
   "cell_type": "markdown",
   "metadata": {},
   "source": [
    "# Question 11"
   ]
  },
  {
   "cell_type": "markdown",
   "metadata": {},
   "source": [
    "Define data from table"
   ]
  },
  {
   "cell_type": "code",
   "execution_count": 32,
   "metadata": {},
   "outputs": [],
   "source": [
    "nuclides = np.array(['Cs137', 'Ir192', 'Au198', 'Ra226', 'Co60'])\n",
    "molar_masses = np.array([137, 192, 198, 226, 60]) * u.g/u.mol\n",
    "halflifes = np.array([30, 74/365.25, 2.7/365.25, 1600, 5.27])*u.year\n",
    "energies = np.array([0.662, 0.38, 0.41, 0.83, 1.25])*u.MeV\n",
    "AKS = np.array([77.3, 108, 56.2, 193.9, 309])*u.uGy*u.m**2 / (u.GBq * u.hr)"
   ]
  },
  {
   "cell_type": "markdown",
   "metadata": {},
   "source": [
    "## Part 1"
   ]
  },
  {
   "cell_type": "markdown",
   "metadata": {},
   "source": [
    "Compute specific activities"
   ]
  },
  {
   "cell_type": "code",
   "execution_count": 33,
   "metadata": {},
   "outputs": [],
   "source": [
    "SAs = u.avogadro_constant * np.log(2) / (halflifes*molar_masses)\n",
    "SAs = SAs.to(u.Ci/u.g)"
   ]
  },
  {
   "cell_type": "markdown",
   "metadata": {},
   "source": [
    "Plot"
   ]
  },
  {
   "cell_type": "code",
   "execution_count": 34,
   "metadata": {},
   "outputs": [
    {
     "name": "stderr",
     "output_type": "stream",
     "text": [
      "C:\\Users\\lukep\\anaconda3\\lib\\site-packages\\numpy\\ma\\core.py:2831: UnitStrippedWarning: The unit of the quantity is stripped when downcasting to ndarray.\n",
      "  _data = np.array(data, dtype=dtype, copy=copy,\n"
     ]
    },
    {
     "data": {
      "image/png": "[encoded data removed]",
      "text/plain": [
       "<Figure size 432x288 with 1 Axes>"
      ]
     },
     "metadata": {
      "needs_background": "light"
     },
     "output_type": "display_data"
    }
   ],
   "source": [
    "fig, ax = plt.subplots()\n",
    "plt.scatter(halflifes, SAs)\n",
    "plt.semilogy()\n",
    "plt.semilogx()\n",
    "plt.xlabel('Halflife [years]')\n",
    "plt.ylabel('Specific Activity [Ci/g]')\n",
    "for i, txt in enumerate(nuclides):\n",
    "    ax.annotate(txt, (halflifes[i].magnitude, SAs[i].magnitude), fontsize=12)\n",
    "plt.grid()\n",
    "plt.xlim(right=10**4)\n",
    "plt.show()"
   ]
  },
  {
   "cell_type": "markdown",
   "metadata": {},
   "source": [
    "From the plot it is clear that $\\ln(a)$ decreases linearly with $\\ln(T_{1/2})$ where $T_{1/2}$ is the half life and $a$ is the specific activity. In particular, the shorter the half life of a radionuclide, the larger the specific activity."
   ]
  },
  {
   "cell_type": "markdown",
   "metadata": {},
   "source": [
    "## Part 2"
   ]
  },
  {
   "cell_type": "markdown",
   "metadata": {},
   "source": [
    "This can all be combined into one plot, as was required by the question, using color and size as additional dimensions:"
   ]
  },
  {
   "cell_type": "code",
   "execution_count": 35,
   "metadata": {},
   "outputs": [
    {
     "name": "stderr",
     "output_type": "stream",
     "text": [
      "C:\\Users\\lukep\\anaconda3\\lib\\site-packages\\numpy\\core\\_asarray.py:136: UnitStrippedWarning: The unit of the quantity is stripped when downcasting to ndarray.\n",
      "  return array(a, dtype, copy=False, order=order, subok=True)\n"
     ]
    },
    {
     "data": {
      "image/png": "[encoded data removed]",
      "text/plain": [
       "<Figure size 432x288 with 2 Axes>"
      ]
     },
     "metadata": {
      "needs_background": "light"
     },
     "output_type": "display_data"
    }
   ],
   "source": [
    "fig, ax = plt.subplots()\n",
    "scatter = plt.scatter(halflifes, SAs, c=energies, s=AKS)\n",
    "plt.semilogy()\n",
    "plt.semilogx()\n",
    "plt.xlabel('Halflife [years]')\n",
    "plt.ylabel('Specific Activity [Ci/g]')\n",
    "for i, txt in enumerate(nuclides):\n",
    "    ax.annotate(txt, (halflifes[i].magnitude, SAs[i].magnitude), fontsize=12)\n",
    "plt.grid()\n",
    "plt.xlim(right=10**4)\n",
    "plt.colorbar(label='Mean Photon Energy [MeV]')\n",
    "handles, labels = scatter.legend_elements(prop=\"sizes\", alpha=0.6)\n",
    "legend2 = ax.legend(handles, labels, loc=\"upper right\", title=\"AKS\")\n",
    "plt.show()"
   ]
  },
  {
   "cell_type": "markdown",
   "metadata": {},
   "source": [
    "I have included everything one a single plot, as suggested in the question, but it also helps to look at a correlation matrix when comparing the different characteristics of each radionuclide:"
   ]
  },
  {
   "cell_type": "code",
   "execution_count": 36,
   "metadata": {},
   "outputs": [
    {
     "data": {
      "text/html": [
       "<style  type=\"text/css\" >\n",
       "#T_beac4ce3_499d_11ec_920c_7085c2063685row0_col0,#T_beac4ce3_499d_11ec_920c_7085c2063685row1_col1,#T_beac4ce3_499d_11ec_920c_7085c2063685row2_col2,#T_beac4ce3_499d_11ec_920c_7085c2063685row3_col3,#T_beac4ce3_499d_11ec_920c_7085c2063685row4_col4{\n",
       "            background-color:  #b40426;\n",
       "            color:  #f1f1f1;\n",
       "        }#T_beac4ce3_499d_11ec_920c_7085c2063685row0_col1,#T_beac4ce3_499d_11ec_920c_7085c2063685row1_col0{\n",
       "            background-color:  #dbdcde;\n",
       "            color:  #000000;\n",
       "        }#T_beac4ce3_499d_11ec_920c_7085c2063685row0_col2,#T_beac4ce3_499d_11ec_920c_7085c2063685row2_col0{\n",
       "            background-color:  #6788ee;\n",
       "            color:  #000000;\n",
       "        }#T_beac4ce3_499d_11ec_920c_7085c2063685row0_col3,#T_beac4ce3_499d_11ec_920c_7085c2063685row3_col0{\n",
       "            background-color:  #7b9ff9;\n",
       "            color:  #000000;\n",
       "        }#T_beac4ce3_499d_11ec_920c_7085c2063685row0_col4,#T_beac4ce3_499d_11ec_920c_7085c2063685row4_col0{\n",
       "            background-color:  #cedaeb;\n",
       "            color:  #000000;\n",
       "        }#T_beac4ce3_499d_11ec_920c_7085c2063685row1_col2,#T_beac4ce3_499d_11ec_920c_7085c2063685row2_col1{\n",
       "            background-color:  #f29072;\n",
       "            color:  #000000;\n",
       "        }#T_beac4ce3_499d_11ec_920c_7085c2063685row1_col3,#T_beac4ce3_499d_11ec_920c_7085c2063685row3_col1{\n",
       "            background-color:  #f6a385;\n",
       "            color:  #000000;\n",
       "        }#T_beac4ce3_499d_11ec_920c_7085c2063685row1_col4,#T_beac4ce3_499d_11ec_920c_7085c2063685row4_col1{\n",
       "            background-color:  #3b4cc0;\n",
       "            color:  #f1f1f1;\n",
       "        }#T_beac4ce3_499d_11ec_920c_7085c2063685row2_col3,#T_beac4ce3_499d_11ec_920c_7085c2063685row3_col2{\n",
       "            background-color:  #c12b30;\n",
       "            color:  #f1f1f1;\n",
       "        }#T_beac4ce3_499d_11ec_920c_7085c2063685row2_col4,#T_beac4ce3_499d_11ec_920c_7085c2063685row4_col2{\n",
       "            background-color:  #96b7ff;\n",
       "            color:  #000000;\n",
       "        }#T_beac4ce3_499d_11ec_920c_7085c2063685row3_col4,#T_beac4ce3_499d_11ec_920c_7085c2063685row4_col3{\n",
       "            background-color:  #a3c2fe;\n",
       "            color:  #000000;\n",
       "        }</style><table id=\"T_beac4ce3_499d_11ec_920c_7085c2063685\" ><thead>    <tr>        <th class=\"blank level0\" ></th>        <th class=\"col_heading level0 col0\" >MM</th>        <th class=\"col_heading level0 col1\" >log(HL)</th>        <th class=\"col_heading level0 col2\" >E</th>        <th class=\"col_heading level0 col3\" >AKS</th>        <th class=\"col_heading level0 col4\" >log(SA)</th>    </tr></thead><tbody>\n",
       "                <tr>\n",
       "                        <th id=\"T_beac4ce3_499d_11ec_920c_7085c2063685level0_row0\" class=\"row_heading level0 row0\" >MM</th>\n",
       "                        <td id=\"T_beac4ce3_499d_11ec_920c_7085c2063685row0_col0\" class=\"data row0 col0\" >1.000000</td>\n",
       "                        <td id=\"T_beac4ce3_499d_11ec_920c_7085c2063685row0_col1\" class=\"data row0 col1\" >-0.008490</td>\n",
       "                        <td id=\"T_beac4ce3_499d_11ec_920c_7085c2063685row0_col2\" class=\"data row0 col2\" >-0.713721</td>\n",
       "                        <td id=\"T_beac4ce3_499d_11ec_920c_7085c2063685row0_col3\" class=\"data row0 col3\" >-0.594180</td>\n",
       "                        <td id=\"T_beac4ce3_499d_11ec_920c_7085c2063685row0_col4\" class=\"data row0 col4\" >-0.104095</td>\n",
       "            </tr>\n",
       "            <tr>\n",
       "                        <th id=\"T_beac4ce3_499d_11ec_920c_7085c2063685level0_row1\" class=\"row_heading level0 row1\" >log(HL)</th>\n",
       "                        <td id=\"T_beac4ce3_499d_11ec_920c_7085c2063685row1_col0\" class=\"data row1 col0\" >-0.008490</td>\n",
       "                        <td id=\"T_beac4ce3_499d_11ec_920c_7085c2063685row1_col1\" class=\"data row1 col1\" >1.000000</td>\n",
       "                        <td id=\"T_beac4ce3_499d_11ec_920c_7085c2063685row1_col2\" class=\"data row1 col2\" >0.543816</td>\n",
       "                        <td id=\"T_beac4ce3_499d_11ec_920c_7085c2063685row1_col3\" class=\"data row1 col3\" >0.448625</td>\n",
       "                        <td id=\"T_beac4ce3_499d_11ec_920c_7085c2063685row1_col4\" class=\"data row1 col4\" >-0.993483</td>\n",
       "            </tr>\n",
       "            <tr>\n",
       "                        <th id=\"T_beac4ce3_499d_11ec_920c_7085c2063685level0_row2\" class=\"row_heading level0 row2\" >E</th>\n",
       "                        <td id=\"T_beac4ce3_499d_11ec_920c_7085c2063685row2_col0\" class=\"data row2 col0\" >-0.713721</td>\n",
       "                        <td id=\"T_beac4ce3_499d_11ec_920c_7085c2063685row2_col1\" class=\"data row2 col1\" >0.543816</td>\n",
       "                        <td id=\"T_beac4ce3_499d_11ec_920c_7085c2063685row2_col2\" class=\"data row2 col2\" >1.000000</td>\n",
       "                        <td id=\"T_beac4ce3_499d_11ec_920c_7085c2063685row2_col3\" class=\"data row2 col3\" >0.924473</td>\n",
       "                        <td id=\"T_beac4ce3_499d_11ec_920c_7085c2063685row2_col4\" class=\"data row2 col4\" >-0.452732</td>\n",
       "            </tr>\n",
       "            <tr>\n",
       "                        <th id=\"T_beac4ce3_499d_11ec_920c_7085c2063685level0_row3\" class=\"row_heading level0 row3\" >AKS</th>\n",
       "                        <td id=\"T_beac4ce3_499d_11ec_920c_7085c2063685row3_col0\" class=\"data row3 col0\" >-0.594180</td>\n",
       "                        <td id=\"T_beac4ce3_499d_11ec_920c_7085c2063685row3_col1\" class=\"data row3 col1\" >0.448625</td>\n",
       "                        <td id=\"T_beac4ce3_499d_11ec_920c_7085c2063685row3_col2\" class=\"data row3 col2\" >0.924473</td>\n",
       "                        <td id=\"T_beac4ce3_499d_11ec_920c_7085c2063685row3_col3\" class=\"data row3 col3\" >1.000000</td>\n",
       "                        <td id=\"T_beac4ce3_499d_11ec_920c_7085c2063685row3_col4\" class=\"data row3 col4\" >-0.367402</td>\n",
       "            </tr>\n",
       "            <tr>\n",
       "                        <th id=\"T_beac4ce3_499d_11ec_920c_7085c2063685level0_row4\" class=\"row_heading level0 row4\" >log(SA)</th>\n",
       "                        <td id=\"T_beac4ce3_499d_11ec_920c_7085c2063685row4_col0\" class=\"data row4 col0\" >-0.104095</td>\n",
       "                        <td id=\"T_beac4ce3_499d_11ec_920c_7085c2063685row4_col1\" class=\"data row4 col1\" >-0.993483</td>\n",
       "                        <td id=\"T_beac4ce3_499d_11ec_920c_7085c2063685row4_col2\" class=\"data row4 col2\" >-0.452732</td>\n",
       "                        <td id=\"T_beac4ce3_499d_11ec_920c_7085c2063685row4_col3\" class=\"data row4 col3\" >-0.367402</td>\n",
       "                        <td id=\"T_beac4ce3_499d_11ec_920c_7085c2063685row4_col4\" class=\"data row4 col4\" >1.000000</td>\n",
       "            </tr>\n",
       "    </tbody></table>"
      ],
      "text/plain": [
       "<pandas.io.formats.style.Styler at 0x1f8f8faa310>"
      ]
     },
     "execution_count": 36,
     "metadata": {},
     "output_type": "execute_result"
    }
   ],
   "source": [
    "data = {'MM': molar_masses.magnitude,\n",
    "        'log(HL)': np.log(halflifes.magnitude),\n",
    "        'E': energies.magnitude,\n",
    "        'AKS': AKS.magnitude,\n",
    "        'log(SA)': np.log(SAs.magnitude),\n",
    "        }\n",
    "df = pd.DataFrame(data,columns=['MM','log(HL)','E','AKS', 'log(SA)'])\n",
    "corr = df.corr()\n",
    "corr.style.background_gradient(cmap='coolwarm', vmin=-1, vmax=1)"
   ]
  },
  {
   "cell_type": "markdown",
   "metadata": {},
   "source": [
    "The most clear correlation is between energy and air kerma strength. In addition, energy and molar mass seem to be negatively correlated, though this may just be by chance.\n",
    "\n",
    "In terms of each feature:\n",
    "\n",
    "**Brachytherapy**: Radionuclides with high specific activity can deliver a high dose rate (HDR) to patients receiving HDR treatment. The drawback is that these radionuclides typically have low halflives, and need to be replaced often. The radionuclides Co60, Cs137, and Ra226 have much longer halflifes, and can be used in low dose rate (LDR) brachytherapy without needing to be replaced as often. Energy is strongly correlated with high air kerma strength (more energy means more energy deposited) and would result in a larger dose being given to a patient. The ability to give a larger dose in a shorter amount of time permits the use dose fractionation during therapy (a technique that is more effective for treating cancer, due to, for example, reoxygenation).\n",
    "\n",
    "**External Beam Therapy**: In external beam therapy, cobalt 60 is a good choice because it emits photons with a high energy (1.25MeV: perfect for beam therapy applications), it has a sufficient specific activity (so a reasonable flux of photons emitted) and it has a longer half life than many other gamma emitters at this energy. All other radionuclides considered in this problem have lower energy photons emitted, so they would not be as suitable for external beam therapy. "
   ]
  },
  {
   "cell_type": "markdown",
   "metadata": {},
   "source": [
    "# Question 12"
   ]
  },
  {
   "cell_type": "markdown",
   "metadata": {},
   "source": [
    "Prepare necessary columns"
   ]
  },
  {
   "cell_type": "code",
   "execution_count": 37,
   "metadata": {},
   "outputs": [],
   "source": [
    "A = np.arange(0, 360, 1)\n",
    "B = np.sin(A*np.pi/180)\n",
    "C = np.sin((A-120)*np.pi/180)\n",
    "D = np.sin((A-240)*np.pi/180)\n",
    "\n",
    "E = (A>=0)*(A<=30) * (D-C) +\\\n",
    "    (A>=31)*(A<=90) * (B-C) + \\\n",
    "    (A>=91)*(A<=150) * (B-D) + \\\n",
    "    (A>=151)*(A<=210) * (C-D) + \\\n",
    "    (A>=211)*(A<=270) * (C-B) + \\\n",
    "    (A>=271)*(A<=330) * (D-B) + \\\n",
    "    (A>=331)*(A<=360) * (D-C) \n",
    "\n",
    "F = np.ones(len(E))*np.mean(E)\n",
    "G = np.abs(F-E)/F *100"
   ]
  },
  {
   "cell_type": "markdown",
   "metadata": {},
   "source": [
    "Plot"
   ]
  },
  {
   "cell_type": "code",
   "execution_count": 38,
   "metadata": {},
   "outputs": [
    {
     "data": {
      "text/plain": [
       "<matplotlib.legend.Legend at 0x1f8f8a77b50>"
      ]
     },
     "execution_count": 38,
     "metadata": {},
     "output_type": "execute_result"
    },
    {
     "data": {
      "image/png": "[encoded data removed]",
      "text/plain": [
       "<Figure size 432x288 with 1 Axes>"
      ]
     },
     "metadata": {
      "needs_background": "light"
     },
     "output_type": "display_data"
    }
   ],
   "source": [
    "plt.plot(A,B,color='red', label='B')\n",
    "plt.plot(A,C,color='black', label='C')\n",
    "plt.plot(A,D,color='blue', label='D')\n",
    "plt.plot(A,E,color='k', label='E')\n",
    "plt.plot(A,F,'k--', label='F')\n",
    "plt.xlabel('Phase [degrees]')\n",
    "plt.ylabel('Amplitude [arb]')\n",
    "plt.legend()"
   ]
  },
  {
   "cell_type": "markdown",
   "metadata": {},
   "source": [
    "## Part A\n",
    "\n",
    "Columns B, C, and D represent different phases of a AC power source"
   ]
  },
  {
   "cell_type": "markdown",
   "metadata": {},
   "source": [
    "## Part B"
   ]
  },
  {
   "cell_type": "markdown",
   "metadata": {},
   "source": [
    "The 6 regions in the calculation are set up such that the difference taken at each phase is always the difference between the largest and smallest amplitude. This can done more easily in python however: see the following code"
   ]
  },
  {
   "cell_type": "code",
   "execution_count": 39,
   "metadata": {},
   "outputs": [
    {
     "data": {
      "image/png": "[encoded data removed]",
      "text/plain": [
       "<Figure size 432x288 with 1 Axes>"
      ]
     },
     "metadata": {
      "needs_background": "light"
     },
     "output_type": "display_data"
    }
   ],
   "source": [
    "phases = np.array([B,C,D])\n",
    "E_alt = np.choose(np.argmax(phases, axis=0), phases) - \\\n",
    "        np.choose(np.argmin(phases, axis=0), phases)\n",
    "plt.plot(A,E_alt)\n",
    "plt.xlabel('Phase [degrees]')\n",
    "plt.ylabel('Amplitude [arb]')\n",
    "plt.ylim(-1,2)\n",
    "plt.show()"
   ]
  },
  {
   "cell_type": "markdown",
   "metadata": {},
   "source": [
    "Note how easy this is; no annoying boolean indexing where we need to know the angles at which one becomes greater than another!"
   ]
  },
  {
   "cell_type": "markdown",
   "metadata": {},
   "source": [
    "## Part C\n",
    "\n",
    "The more phases there are, the closer column 'E' is to column 'F'. For example:"
   ]
  },
  {
   "cell_type": "code",
   "execution_count": 40,
   "metadata": {},
   "outputs": [
    {
     "data": {
      "image/png": "[encoded data removed]",
      "text/plain": [
       "<Figure size 432x288 with 1 Axes>"
      ]
     },
     "metadata": {
      "needs_background": "light"
     },
     "output_type": "display_data"
    }
   ],
   "source": [
    "# Here we have 12 different phases between 0 and 360\n",
    "diff_phases = np.arange(0,360,30)\n",
    "phases = np.array([np.sin((A-p)*np.pi/180) for p in diff_phases])\n",
    "E_alt = np.choose(np.argmax(phases, axis=0), phases) - \\\n",
    "        np.choose(np.argmin(phases, axis=0), phases)\n",
    "plt.plot(A,E_alt)\n",
    "plt.xlabel('Phase [degrees]')\n",
    "plt.ylabel('Amplitude [arb]')\n",
    "plt.ylim(-1,3)\n",
    "plt.show()"
   ]
  },
  {
   "cell_type": "markdown",
   "metadata": {},
   "source": [
    "With more phases, the lowest value is closer to -1 and the largest value is closest to +1. Thus the difference becomes relatively more constant and converges to 2. This can be seen below, where we use 24 difference phases (as opposed to 3 in the question)"
   ]
  },
  {
   "cell_type": "code",
   "execution_count": 41,
   "metadata": {},
   "outputs": [
    {
     "data": {
      "image/png": "[encoded data removed]",
      "text/plain": [
       "<Figure size 432x288 with 1 Axes>"
      ]
     },
     "metadata": {
      "needs_background": "light"
     },
     "output_type": "display_data"
    }
   ],
   "source": [
    "diff_phases = np.arange(0,360,15)\n",
    "phases = np.array([np.sin((A-p)*np.pi/180) for p in diff_phases])\n",
    "E_alt = np.choose(np.argmax(phases, axis=0), phases) - \\\n",
    "        np.choose(np.argmin(phases, axis=0), phases)\n",
    "plt.plot(A,E_alt)\n",
    "plt.xlabel('Phase [degrees]')\n",
    "plt.ylabel('Amplitude [arb]')\n",
    "plt.ylim(-1,3)\n",
    "plt.show()"
   ]
  },
  {
   "cell_type": "markdown",
   "metadata": {},
   "source": [
    "## Part D\n",
    "\n",
    "The colors represent different parts of the circuit. In particular, they represent $V_A$, $V_B$, and $V_C$."
   ]
  },
  {
   "cell_type": "markdown",
   "metadata": {},
   "source": [
    "## Part E"
   ]
  },
  {
   "cell_type": "markdown",
   "metadata": {},
   "source": [
    "The maximum difference:"
   ]
  },
  {
   "cell_type": "code",
   "execution_count": 42,
   "metadata": {},
   "outputs": [
    {
     "data": {
      "image/png": "[encoded data removed]",
      "text/plain": [
       "<Figure size 432x288 with 1 Axes>"
      ]
     },
     "metadata": {
      "needs_background": "light"
     },
     "output_type": "display_data"
    }
   ],
   "source": [
    "plt.plot(G)\n",
    "plt.xlabel('Phase')\n",
    "plt.ylabel('Difference [%]')\n",
    "plt.show()"
   ]
  },
  {
   "cell_type": "markdown",
   "metadata": {},
   "source": [
    "The maximum difference between the mean of $E$ (which we want: a constant voltage) and $E$ represents how \"non-DC\" the circuit is. In a truly DC system, the values on this plot would approach zero."
   ]
  },
  {
   "cell_type": "code",
   "execution_count": 43,
   "metadata": {},
   "outputs": [
    {
     "data": {
      "text/plain": [
       "9.307729572816491"
      ]
     },
     "execution_count": 43,
     "metadata": {},
     "output_type": "execute_result"
    }
   ],
   "source": [
    "max(G)"
   ]
  },
  {
   "cell_type": "markdown",
   "metadata": {},
   "source": [
    "The maximum percent difference is about 9.31%. These difference occur precisely at the angles where the column E calculation changes. In other words, this percent difference gets worse and worse until a sine curve with a new phase comes along, replaces one of the old ones (in the column E calculation)."
   ]
  }
 ],
 "metadata": {
  "kernelspec": {
   "display_name": "Python 3",
   "language": "python",
   "name": "python3"
  },
  "language_info": {
   "codemirror_mode": {
    "name": "ipython",
    "version": 3
   },
   "file_extension": ".py",
   "mimetype": "text/x-python",
   "name": "python",
   "nbconvert_exporter": "python",
   "pygments_lexer": "ipython3",
   "version": "3.8.5"
  }
 },
 "nbformat": 4,
 "nbformat_minor": 4
}
