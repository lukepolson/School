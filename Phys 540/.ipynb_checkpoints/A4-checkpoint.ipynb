{
 "cells": [
  {
   "cell_type": "code",
   "execution_count": 1,
   "metadata": {},
   "outputs": [],
   "source": [
    "import numpy as np\n",
    "import sympy as smp\n",
    "import matplotlib.pyplot as plt\n",
    "from scipy.optimize import minimize"
   ]
  },
  {
   "cell_type": "markdown",
   "metadata": {},
   "source": [
    "# Question 1"
   ]
  },
  {
   "cell_type": "markdown",
   "metadata": {},
   "source": [
    "At the Larmor frequency, the tipping angle is given by\n",
    "\n",
    "$$\\alpha = \\int_0^{\\tau} B_1(t)dt = \\gamma B_1\\tau$$\n",
    "\n",
    "For a $90^{\\circ}$ flip we have $\\alpha=\\pi/2$ so\n",
    "\n",
    "$$B_1 = \\frac{\\pi}{2\\gamma\\tau} = \\left(\\frac{\\gamma}{2\\pi}\\right)^{-1} \\frac{1}{4\\tau}$$\n",
    "\n",
    "and thus\n",
    "\n",
    "## Part A"
   ]
  },
  {
   "cell_type": "code",
   "execution_count": 2,
   "metadata": {},
   "outputs": [
    {
     "name": "stdout",
     "output_type": "stream",
     "text": [
      "B1 = 5.869e-06 T\n"
     ]
    }
   ],
   "source": [
    "gamma_2pi = 42.6e6\n",
    "tau = 1e-3\n",
    "B1 = gamma_2pi**-1 / (4*tau)\n",
    "print(f'B1 = {B1:.3e} T')"
   ]
  },
  {
   "cell_type": "markdown",
   "metadata": {},
   "source": [
    "## Part B"
   ]
  },
  {
   "cell_type": "markdown",
   "metadata": {},
   "source": [
    "Since $B \\propto \\gamma^{-1}$ we have $B_1^{\\text{electron}} = B_1^{\\text{proton}} \\frac{\\gamma_p}{\\gamma_e}$ where $\\frac{\\gamma_p}{\\gamma_e}=1/658$"
   ]
  },
  {
   "cell_type": "code",
   "execution_count": 3,
   "metadata": {},
   "outputs": [
    {
     "name": "stdout",
     "output_type": "stream",
     "text": [
      "B1 = 8.919e-09 T\n"
     ]
    }
   ],
   "source": [
    "B1_elec = 1/658 * B1\n",
    "print(f'B1 = {B1_elec:.3e} T')"
   ]
  },
  {
   "cell_type": "markdown",
   "metadata": {},
   "source": [
    "## Part C"
   ]
  },
  {
   "cell_type": "markdown",
   "metadata": {},
   "source": [
    "The magnetization is rotating with the rotating reference frame at frequency $\\vec{\\Omega} = -\\gamma \\vec{B}_0$ so the number of cycles that take place is\n",
    "\n",
    "$$N = \\frac{|\\vec{\\Omega}|}{2\\pi} t = \\frac{\\gamma B_0 t}{2\\pi}$$"
   ]
  },
  {
   "cell_type": "code",
   "execution_count": 4,
   "metadata": {},
   "outputs": [
    {
     "name": "stdout",
     "output_type": "stream",
     "text": [
      "Number of rotations: 42600\n"
     ]
    }
   ],
   "source": [
    "N = gamma_2pi * 1 * tau\n",
    "print(f'Number of rotations: {int(N)}')"
   ]
  },
  {
   "cell_type": "markdown",
   "metadata": {},
   "source": [
    "# Question 2"
   ]
  },
  {
   "cell_type": "markdown",
   "metadata": {},
   "source": [
    "Define all symbols"
   ]
  },
  {
   "cell_type": "code",
   "execution_count": 5,
   "metadata": {},
   "outputs": [],
   "source": [
    "w, dw, M_mag, tau, T1, T2, the = smp.symbols(r'\\omega \\delta\\omega M \\tau T_1 T_2 \\theta')\n",
    "M1_mag, M2_mag, T11, T12, T21, T22, w0, dw0 = smp.symbols(r'M_1, M_2 T_1^{(1)} T_1^{(2)} T_2^{(1)} T_2^{(2)} \\omega_0 \\delta\\omega_0')"
   ]
  },
  {
   "cell_type": "markdown",
   "metadata": {},
   "source": [
    "Get corresponding rotation matrices\n",
    "* **Note**: The are coordinate system transformations which effectively rotate a vector by $-\\theta$, but thats fine, becuase the convention of rotation in MRI is clockwise"
   ]
  },
  {
   "cell_type": "code",
   "execution_count": 6,
   "metadata": {},
   "outputs": [],
   "source": [
    "rotx, roty, rotz = smp.rot_axis1(the), smp.rot_axis2(the), smp.rot_axis3(the)"
   ]
  },
  {
   "cell_type": "markdown",
   "metadata": {},
   "source": [
    "The vectors expressed below are shown in the rotating coordinate system basis:"
   ]
  },
  {
   "cell_type": "code",
   "execution_count": 7,
   "metadata": {},
   "outputs": [
    {
     "data": {
      "text/latex": [
       "$\\displaystyle \\left[\\begin{matrix}0\\\\0\\\\M\\end{matrix}\\right]$"
      ],
      "text/plain": [
       "Matrix([\n",
       "[0],\n",
       "[0],\n",
       "[M]])"
      ]
     },
     "execution_count": 7,
     "metadata": {},
     "output_type": "execute_result"
    }
   ],
   "source": [
    "M = M_mag * smp.Matrix([0,0,1])\n",
    "M"
   ]
  },
  {
   "cell_type": "markdown",
   "metadata": {},
   "source": [
    "First we rotate the vector by $90^{\\circ}_{x'}$. This is representative in the the first RF pulse:"
   ]
  },
  {
   "cell_type": "code",
   "execution_count": 8,
   "metadata": {},
   "outputs": [
    {
     "data": {
      "text/latex": [
       "$\\displaystyle \\left[\\begin{matrix}0\\\\M\\\\0\\end{matrix}\\right]$"
      ],
      "text/plain": [
       "Matrix([\n",
       "[0],\n",
       "[M],\n",
       "[0]])"
      ]
     },
     "execution_count": 8,
     "metadata": {},
     "output_type": "execute_result"
    }
   ],
   "source": [
    "M = rotx.subs(the, smp.pi/2) @ M\n",
    "M"
   ]
  },
  {
   "cell_type": "markdown",
   "metadata": {},
   "source": [
    "Implement $T_1$ and $T_2$ relaxation and rotate by $\\delta \\omega t$ about the $z'$ axis to simulate how much the magnetization gets out of phase with the rotating reference frame"
   ]
  },
  {
   "cell_type": "code",
   "execution_count": 9,
   "metadata": {},
   "outputs": [
    {
     "data": {
      "text/latex": [
       "$\\displaystyle \\left[\\begin{matrix}M e^{- \\frac{\\tau}{T_{2}}} \\sin{\\left(\\delta\\omega \\tau \\right)}\\\\M e^{- \\frac{\\tau}{T_{2}}} \\cos{\\left(\\delta\\omega \\tau \\right)}\\\\M \\left(1 - e^{- \\frac{\\tau}{T_{1}}}\\right)\\end{matrix}\\right]$"
      ],
      "text/plain": [
       "Matrix([\n",
       "[M*exp(-\\tau/T_2)*sin(\\delta\\omega*\\tau)],\n",
       "[M*exp(-\\tau/T_2)*cos(\\delta\\omega*\\tau)],\n",
       "[                 M*(1 - exp(-\\tau/T_1))]])"
      ]
     },
     "execution_count": 9,
     "metadata": {},
     "output_type": "execute_result"
    }
   ],
   "source": [
    "M = smp.exp(-tau/T2)*rotz.subs(the, dw*tau)@M  +  (1-smp.exp(-tau/T1))*M_mag*smp.Matrix([0,0,1])\n",
    "M"
   ]
  },
  {
   "cell_type": "markdown",
   "metadata": {},
   "source": [
    "Rotate $90^{\\circ}_{y'}$"
   ]
  },
  {
   "cell_type": "code",
   "execution_count": 10,
   "metadata": {},
   "outputs": [
    {
     "data": {
      "text/latex": [
       "$\\displaystyle \\left[\\begin{matrix}- M \\left(1 - e^{- \\frac{\\tau}{T_{1}}}\\right)\\\\M e^{- \\frac{\\tau}{T_{2}}} \\cos{\\left(\\delta\\omega \\tau \\right)}\\\\M e^{- \\frac{\\tau}{T_{2}}} \\sin{\\left(\\delta\\omega \\tau \\right)}\\end{matrix}\\right]$"
      ],
      "text/plain": [
       "Matrix([\n",
       "[                -M*(1 - exp(-\\tau/T_1))],\n",
       "[M*exp(-\\tau/T_2)*cos(\\delta\\omega*\\tau)],\n",
       "[M*exp(-\\tau/T_2)*sin(\\delta\\omega*\\tau)]])"
      ]
     },
     "execution_count": 10,
     "metadata": {},
     "output_type": "execute_result"
    }
   ],
   "source": [
    "M = roty.subs(the, smp.pi/2) @ M\n",
    "M"
   ]
  },
  {
   "cell_type": "markdown",
   "metadata": {},
   "source": [
    "The vectors in the **rotating frame** are thus\n",
    "\n",
    "* **1: Isochromat with $\\omega=\\omega_0$**"
   ]
  },
  {
   "cell_type": "code",
   "execution_count": 11,
   "metadata": {},
   "outputs": [
    {
     "data": {
      "text/latex": [
       "$\\displaystyle \\left[\\begin{matrix}- M_{1} \\left(1 - e^{- \\frac{\\pi}{4 T_1^{(1)} \\delta\\omega_0}}\\right)\\\\M_{1} e^{- \\frac{\\pi}{4 T_{2} \\delta\\omega_0}}\\\\0\\end{matrix}\\right]$"
      ],
      "text/plain": [
       "Matrix([\n",
       "[-M_1*(1 - exp(-pi/(4*T_1^{(1)}*\\delta\\omega_0)))],\n",
       "[             M_1*exp(-pi/(4*T_2*\\delta\\omega_0))],\n",
       "[                                               0]])"
      ]
     },
     "execution_count": 11,
     "metadata": {},
     "output_type": "execute_result"
    }
   ],
   "source": [
    "M1 = M.subs([(M_mag, M1_mag), (T1, T11), (T1, T12), (dw, 0), (tau, smp.pi/(4*dw0))])\n",
    "M1"
   ]
  },
  {
   "cell_type": "markdown",
   "metadata": {},
   "source": [
    "* **2: Isochromat with $\\omega=\\omega_0 + \\delta w_0$**"
   ]
  },
  {
   "cell_type": "code",
   "execution_count": 12,
   "metadata": {},
   "outputs": [
    {
     "data": {
      "text/latex": [
       "$\\displaystyle \\left[\\begin{matrix}- M_{2} \\left(1 - e^{- \\frac{\\pi}{4 T_2^{(1)} \\delta\\omega_0}}\\right)\\\\\\frac{\\sqrt{2} M_{2} e^{- \\frac{\\pi}{4 T_2^{(2)} \\delta\\omega_0}}}{2}\\\\\\frac{\\sqrt{2} M_{2} e^{- \\frac{\\pi}{4 T_2^{(2)} \\delta\\omega_0}}}{2}\\end{matrix}\\right]$"
      ],
      "text/plain": [
       "Matrix([\n",
       "[   -M_2*(1 - exp(-pi/(4*T_2^{(1)}*\\delta\\omega_0)))],\n",
       "[sqrt(2)*M_2*exp(-pi/(4*T_2^{(2)}*\\delta\\omega_0))/2],\n",
       "[sqrt(2)*M_2*exp(-pi/(4*T_2^{(2)}*\\delta\\omega_0))/2]])"
      ]
     },
     "execution_count": 12,
     "metadata": {},
     "output_type": "execute_result"
    }
   ],
   "source": [
    "M2 = M.subs([(M_mag, M2_mag), (T1, T21), (T2, T22), (dw, dw0), (tau, smp.pi/(4*dw0))])\n",
    "M2"
   ]
  },
  {
   "cell_type": "markdown",
   "metadata": {},
   "source": [
    "In the **rest frame**, the vector coordinates are given by the coordinate transformation where the rotating reference frame has accumulated a net phase of $-\\omega_0 \\tau$ about the $z$-axis. Note that for our rotation matrices, which represent **coordinate transforms**, we make them **component transforms** by using the negative angle $-(-\\omega_0\\tau) = \\omega_0\\tau$\n",
    "\n",
    "* **1: Isochromat with $\\omega=\\omega_0$**"
   ]
  },
  {
   "cell_type": "code",
   "execution_count": 13,
   "metadata": {},
   "outputs": [
    {
     "data": {
      "text/latex": [
       "$\\displaystyle \\left[\\begin{matrix}- M_{1} \\left(1 - e^{- \\frac{\\pi}{4 T_1^{(1)} \\delta\\omega_0}}\\right) \\cos{\\left(\\frac{\\pi \\omega_0}{4 \\delta\\omega_0} \\right)} - M_{1} e^{- \\frac{\\pi}{4 T_{2} \\delta\\omega_0}} \\sin{\\left(\\frac{\\pi \\omega_0}{4 \\delta\\omega_0} \\right)}\\\\- M_{1} \\left(1 - e^{- \\frac{\\pi}{4 T_1^{(1)} \\delta\\omega_0}}\\right) \\sin{\\left(\\frac{\\pi \\omega_0}{4 \\delta\\omega_0} \\right)} + M_{1} e^{- \\frac{\\pi}{4 T_{2} \\delta\\omega_0}} \\cos{\\left(\\frac{\\pi \\omega_0}{4 \\delta\\omega_0} \\right)}\\\\0\\end{matrix}\\right]$"
      ],
      "text/plain": [
       "Matrix([\n",
       "[-M_1*(1 - exp(-pi/(4*T_1^{(1)}*\\delta\\omega_0)))*cos(pi*\\omega_0/(4*\\delta\\omega_0)) - M_1*exp(-pi/(4*T_2*\\delta\\omega_0))*sin(pi*\\omega_0/(4*\\delta\\omega_0))],\n",
       "[-M_1*(1 - exp(-pi/(4*T_1^{(1)}*\\delta\\omega_0)))*sin(pi*\\omega_0/(4*\\delta\\omega_0)) + M_1*exp(-pi/(4*T_2*\\delta\\omega_0))*cos(pi*\\omega_0/(4*\\delta\\omega_0))],\n",
       "[                                                                                                                                                             0]])"
      ]
     },
     "execution_count": 13,
     "metadata": {},
     "output_type": "execute_result"
    }
   ],
   "source": [
    "M1_rest = rotz.subs(the, w0*tau).subs(tau, smp.pi/(4*dw0)) @ M1\n",
    "M1_rest"
   ]
  },
  {
   "cell_type": "markdown",
   "metadata": {},
   "source": [
    "* **2: Isochromat with $\\omega=\\omega_0 + \\delta w_0$**"
   ]
  },
  {
   "cell_type": "code",
   "execution_count": 14,
   "metadata": {},
   "outputs": [
    {
     "data": {
      "text/latex": [
       "$\\displaystyle \\left[\\begin{matrix}- M_{2} \\left(1 - e^{- \\frac{\\pi}{4 T_2^{(1)} \\delta\\omega_0}}\\right) \\cos{\\left(\\frac{\\pi \\omega_0}{4 \\delta\\omega_0} \\right)} - \\frac{\\sqrt{2} M_{2} e^{- \\frac{\\pi}{4 T_2^{(2)} \\delta\\omega_0}} \\sin{\\left(\\frac{\\pi \\omega_0}{4 \\delta\\omega_0} \\right)}}{2}\\\\- M_{2} \\left(1 - e^{- \\frac{\\pi}{4 T_2^{(1)} \\delta\\omega_0}}\\right) \\sin{\\left(\\frac{\\pi \\omega_0}{4 \\delta\\omega_0} \\right)} + \\frac{\\sqrt{2} M_{2} e^{- \\frac{\\pi}{4 T_2^{(2)} \\delta\\omega_0}} \\cos{\\left(\\frac{\\pi \\omega_0}{4 \\delta\\omega_0} \\right)}}{2}\\\\\\frac{\\sqrt{2} M_{2} e^{- \\frac{\\pi}{4 T_2^{(2)} \\delta\\omega_0}}}{2}\\end{matrix}\\right]$"
      ],
      "text/plain": [
       "Matrix([\n",
       "[-M_2*(1 - exp(-pi/(4*T_2^{(1)}*\\delta\\omega_0)))*cos(pi*\\omega_0/(4*\\delta\\omega_0)) - sqrt(2)*M_2*exp(-pi/(4*T_2^{(2)}*\\delta\\omega_0))*sin(pi*\\omega_0/(4*\\delta\\omega_0))/2],\n",
       "[-M_2*(1 - exp(-pi/(4*T_2^{(1)}*\\delta\\omega_0)))*sin(pi*\\omega_0/(4*\\delta\\omega_0)) + sqrt(2)*M_2*exp(-pi/(4*T_2^{(2)}*\\delta\\omega_0))*cos(pi*\\omega_0/(4*\\delta\\omega_0))/2],\n",
       "[                                                                                                                           sqrt(2)*M_2*exp(-pi/(4*T_2^{(2)}*\\delta\\omega_0))/2]])"
      ]
     },
     "execution_count": 14,
     "metadata": {},
     "output_type": "execute_result"
    }
   ],
   "source": [
    "M2_rest = rotz.subs(the, w0*tau).subs(tau, smp.pi/(4*dw0)) @ M2\n",
    "M2_rest"
   ]
  },
  {
   "cell_type": "markdown",
   "metadata": {},
   "source": [
    "# Question 3"
   ]
  },
  {
   "cell_type": "markdown",
   "metadata": {},
   "source": [
    "The intensity of the signal is given by\n",
    "\n",
    "$$I = M_0 (1-e^{-TR/T_1})e^{-TE/T_2}$$\n",
    "\n",
    "where $M_0$ is directly proportional to proton density, $TR$ is time between pulse cycles, and $TE$ is time from pulse to echo. $T_1$ and $T_2$ are corresponding transverse and longitudinal relaxation times for the magnetic lattice\n",
    "\n",
    "Define all appropriate constants:"
   ]
  },
  {
   "cell_type": "code",
   "execution_count": 15,
   "metadata": {},
   "outputs": [],
   "source": [
    "T1A = 1\n",
    "T2A = 0.1\n",
    "T1B = 0.5\n",
    "T2B = 0.05\n",
    "TE_min = 0.002"
   ]
  },
  {
   "cell_type": "markdown",
   "metadata": {},
   "source": [
    "**Case 1**: $I_A=I_B$. Since the proton densities are also equal in this question ($M_0$s are the same), its likely that proton weighting was used. Since a minimum pulse echo time is $2$ms, we need to solve for the corresponding $TR$ to make these intensities equal\n",
    "\n",
    "$$I_A = I_B \\implies (1-e^{-TR/T_{1,A}})e^{-TE/T_{2,A}} - (1-e^{-TR/T_{1,B}})e^{-TE/T_{2,B}} = 0$$\n",
    "\n",
    "This can only be solved numerically:"
   ]
  },
  {
   "cell_type": "code",
   "execution_count": 16,
   "metadata": {},
   "outputs": [
    {
     "name": "stdout",
     "output_type": "stream",
     "text": [
      "Time between pulse sequences TR = 3891.41 ms\n",
      "Echo time TE = 2.00 ms\n"
     ]
    }
   ],
   "source": [
    "def func(x):\n",
    "    return ((1-np.exp(-x/T1A))*np.exp(-TE_min/T2A) - (1-np.exp(-x/T1B))*np.exp(-TE_min/T2B))**2\n",
    "TR = minimize(func, x0=1).x[0]\n",
    "print(f'Time between pulse sequences TR = {1000*TR:.2f} ms')\n",
    "print(f'Echo time TE = {1000*TE_min:.2f} ms')"
   ]
  },
  {
   "cell_type": "markdown",
   "metadata": {},
   "source": [
    "**For Cases 2 and 3**: Since $T_A>T_B$ for both relaxations we have \n",
    "\n",
    "* $(1-e^{-TR/T_{1,A}}) < (1-e^{-TR/T_{1,B}})$ so Bottle B will show up more intense\n",
    "* $e^{-TE/T_{2,A}} > e^{-TE/T_{2,B}}$ so Bottle A will show up more intense"
   ]
  },
  {
   "cell_type": "markdown",
   "metadata": {},
   "source": [
    "**Case 2**: $I_A=2I_B$. Assuming that we use the same TR as solved above (as any longer would take considerably long to obtain an image)\n",
    "\n",
    "$$I_A = 2I_B \\implies (1-e^{-TR/T_{1,A}})e^{-TE/T_{2,A}} - 2(1-e^{-TR/T_{1,B}})e^{-TE/T_{2,B}} = 0$$\n",
    "\n",
    "We can solve this for $TE$ numerically"
   ]
  },
  {
   "cell_type": "code",
   "execution_count": 17,
   "metadata": {},
   "outputs": [
    {
     "name": "stdout",
     "output_type": "stream",
     "text": [
      "Time between pulse sequences TR = 3891.41 ms\n",
      "Echo time TE = 71.34 ms\n"
     ]
    }
   ],
   "source": [
    "def func(x):\n",
    "    return ((1-np.exp(-TR/T1A))*np.exp(-x/T2A) - 2*(1-np.exp(-TR/T1B))*np.exp(-x/T2B))**2\n",
    "TE= minimize(func, x0=0.002, bounds=((0,0.1),)).x[0]\n",
    "print(f'Time between pulse sequences TR = {1000*TR:.2f} ms')\n",
    "print(f'Echo time TE = {1000*TE:.2f} ms')"
   ]
  },
  {
   "cell_type": "markdown",
   "metadata": {},
   "source": [
    "**Case 3**: $I_A=0.6I_B$. Assuming that we use the minimum possible echo time $TE=2~$ms we get\n",
    "\n",
    "$$I_A = 0.6I_B \\implies (1-e^{-TR/T_{1,A}})e^{-TE/T_{2,A}} - 0.6(1-e^{-TR/T_{1,B}})e^{-TE/T_{2,B}} = 0$$\n",
    "\n",
    "We can solve this for $TR$ numerically"
   ]
  },
  {
   "cell_type": "code",
   "execution_count": 18,
   "metadata": {},
   "outputs": [
    {
     "name": "stdout",
     "output_type": "stream",
     "text": [
      "Time between pulse sequences TR = 356.22 ms\n",
      "Echo time TE = 2.00 ms\n"
     ]
    }
   ],
   "source": [
    "def func(x):\n",
    "    return ((1-np.exp(-x/T1A))*np.exp(-TE_min/T2A) - 0.6*(1-np.exp(-x/T1B))*np.exp(-TE_min/T2B))**2\n",
    "TR= minimize(func, x0=1).x[0]\n",
    "print(f'Time between pulse sequences TR = {1000*TR:.2f} ms')\n",
    "print(f'Echo time TE = {1000*TE_min:.2f} ms')"
   ]
  },
  {
   "cell_type": "markdown",
   "metadata": {},
   "source": [
    "# Question 4"
   ]
  },
  {
   "cell_type": "markdown",
   "metadata": {},
   "source": [
    "Let $\\phi$ be the phase in the rotating reference frame rotating at $-\\omega_0$ about the $\\hat{z}$ axis. Then\n",
    "\n",
    "$$\\begin{align*}\n",
    "\\phi(3\\tau) &=-\\gamma \\int_0^{3\\tau} dt G(t) x(t)\\\\\n",
    "&=-\\gamma \\int_0^{3\\tau} dt G(t) (x_0 + vt)\\\\\n",
    "&=-\\gamma \\left(G_1x_0\\tau + G_1v\\left[\\frac{t^2}{2}\\right]^{\\tau}_0 - G_2x_0\\tau - G_2v\\left[\\frac{t^2}{2}\\right]^{2\\tau}_{\\tau} + Gx_0\\tau + Gv \\left[\\frac{t^2}{2}\\right]^{3\\tau}_{2\\tau}\\right)\\\\\n",
    "&= -\\gamma(G+G_1-G_2)x_0\\tau - \\frac{\\gamma v \\tau^2}{2}(G_1-3G_2+5G)\\\\\n",
    "\\end{align*}$$\n",
    "\n",
    "* For the case where $v=0$ we need $G+G_1-G_2=0$ for $\\phi=0$\n",
    "* For the case where $v \\neq 0$, we thus need $G_1-3G_2+5G$ for $\\phi=0$\n",
    "\n",
    "These are two linear equations with two unknowns; we have\n",
    "\n",
    "$$ \\begin{bmatrix}1&-1 \\\\ 1&-3 \\end{bmatrix}\\begin{bmatrix}G_1/G\\\\ G_2/G \\end{bmatrix} = \\begin{bmatrix}-1\\\\-5 \\end{bmatrix} $$\n",
    "\n",
    "We solve this by multiplying by the inverse matrix"
   ]
  },
  {
   "cell_type": "code",
   "execution_count": 19,
   "metadata": {},
   "outputs": [],
   "source": [
    "G1_G, G2_G = np.linalg.inv(np.array([[1,-1],[1,-3]])) @ np.array([-1,-5])"
   ]
  },
  {
   "cell_type": "markdown",
   "metadata": {},
   "source": [
    "Print results:"
   ]
  },
  {
   "cell_type": "code",
   "execution_count": 20,
   "metadata": {},
   "outputs": [
    {
     "name": "stdout",
     "output_type": "stream",
     "text": [
      "G1 = 1 G\n",
      "G2 = 2 G\n"
     ]
    }
   ],
   "source": [
    "print(f'G1 = {int(G1_G)} G')\n",
    "print(f'G2 = {int(G2_G)} G')"
   ]
  }
 ],
 "metadata": {
  "kernelspec": {
   "display_name": "Python 3",
   "language": "python",
   "name": "python3"
  },
  "language_info": {
   "codemirror_mode": {
    "name": "ipython",
    "version": 3
   },
   "file_extension": ".py",
   "mimetype": "text/x-python",
   "name": "python",
   "nbconvert_exporter": "python",
   "pygments_lexer": "ipython3",
   "version": "3.8.5"
  }
 },
 "nbformat": 4,
 "nbformat_minor": 4
}
