{
 "cells": [
  {
   "cell_type": "code",
   "execution_count": 27,
   "metadata": {},
   "outputs": [],
   "source": [
    "import numpy as np\n",
    "import matplotlib.pyplot as plt\n",
    "import pandas as pd\n",
    "from scipy import interpolate\n",
    "plt.style.use(['science', 'notebook'])\n",
    "from openpyxl import load_workbook\n",
    "import imageio\n",
    "from scipy.interpolate import interp1d, interp2d"
   ]
  },
  {
   "cell_type": "markdown",
   "metadata": {},
   "source": [
    "Load spreadsheets"
   ]
  },
  {
   "cell_type": "code",
   "execution_count": 145,
   "metadata": {},
   "outputs": [],
   "source": [
    "def get_data_datasheet(file, sheet, skiprows, usecols, nrows, add_init=None):\n",
    "    arr = pd.read_excel(file, sheet_name=sheet, skiprows=skiprows[0], nrows=nrows[0], usecols=usecols[0]).to_numpy().ravel()\n",
    "    idx = pd.read_excel(file, sheet_name=sheet, skiprows=skiprows[1], nrows=nrows[1], usecols=usecols[1]).to_numpy().ravel()\n",
    "    return np.append(add_init[0], idx), np.append(add_init[1], arr), \n",
    "\n",
    "def get_interp_datasheet_1D(file, sheet, skiprows, usecols, nrows, add_init=None, scale=1):\n",
    "    arr = pd.read_excel(file, sheet_name=sheet, skiprows=skiprows[0], nrows=nrows[0], usecols=usecols[0]).to_numpy().ravel()/scale\n",
    "    idx = pd.read_excel(file, sheet_name=sheet, skiprows=skiprows[1], nrows=nrows[1], usecols=usecols[1]).to_numpy().ravel()\n",
    "    if add_init:\n",
    "        idx = np.insert(idx,0,add_init[0])\n",
    "        arr = np.insert(arr,0,add_init[1])\n",
    "    #return interp1d(idx, arr, kind='linear', bounds_error=False, fill_value=(arr.ravel()[0], arr.ravel()[-1]))\n",
    "    return np.vectorize(interp1d(idx, arr, kind='linear', bounds_error=False, fill_value='extrapolate'))\n",
    "\n",
    "def get_interp_datasheet_2D(file, sheet, skiprows, usecols, nrows, scale=1):\n",
    "    arr = pd.read_excel(file, sheet_name=sheet, skiprows=skiprows[0], nrows=nrows[0], usecols=usecols[0]).to_numpy()/scale\n",
    "    idx1 = pd.read_excel(file, sheet_name=sheet, skiprows=skiprows[2], nrows=nrows[2], usecols=usecols[2]).to_numpy().ravel()\n",
    "    idx2 = pd.read_excel(file, sheet_name=sheet, skiprows=skiprows[1], nrows=nrows[1], usecols=usecols[1]).to_numpy().ravel()\n",
    "    return np.vectorize(interp2d(idx1, idx2, arr))\n"
   ]
  },
  {
   "cell_type": "markdown",
   "metadata": {},
   "source": [
    "Get interpolation functions"
   ]
  },
  {
   "cell_type": "code",
   "execution_count": 149,
   "metadata": {
    "tags": []
   },
   "outputs": [],
   "source": [
    "# Arguments: rd, d\n",
    "TMR_int = get_interp_datasheet_2D('DATA1.xlsm', '6 MV TMR', skiprows=[3,3,2],\n",
    "                                     usecols=['B:K', 'A', 'B:K'], nrows=[40,40,1])\n",
    "# Arguments: rd\n",
    "Sp_int = get_interp_datasheet_1D('DATA1.xlsm', 'Linac outputs', skiprows=[28, 27],\n",
    "                                     usecols=['C:L', 'C:L'], nrows=[1,1])\n",
    "# Arguments: Yc, Xc\n",
    "Sc_int = get_interp_datasheet_2D('DATA1.xlsm', 'Linac outputs', skiprows=[3,2,3],\n",
    "                                 usecols=['D:L', 'D:L', 'C'], nrows=[9,1,9])\n",
    "# Arguments: r, d\n",
    "PDD_int = get_interp_datasheet_2D('DATA1.xlsm', '6 MV PDD', skiprows=[3,3,2],\n",
    "                                     usecols=['B:K', 'A', 'B:K'], nrows=[40,40,1],\n",
    "                                 scale=100)\n",
    "# Arguments: d\n",
    "PDD18_int = get_interp_datasheet_1D('DATA3.xlsm', ' 12-20 MeV PDD', skiprows=[8,8],\n",
    "                                     usecols=['C', 'A'], nrows=[75,75],\n",
    "                                 scale=100)\n",
    "# Arguments: d, x\n",
    "OAR_int = get_interp_datasheet_2D('DATA2.xlsm', '6 MV OARs', skiprows=[4,4,3],\n",
    "                                     usecols=['B:E', 'A', 'B:E'], nrows=[21,21,1])"
   ]
  },
  {
   "cell_type": "markdown",
   "metadata": {},
   "source": [
    "# Question 1"
   ]
  },
  {
   "cell_type": "markdown",
   "metadata": {},
   "source": [
    "Read in data"
   ]
  },
  {
   "cell_type": "code",
   "execution_count": 30,
   "metadata": {},
   "outputs": [],
   "source": [
    "d_sup = np.arange(0, 3.5, 0.5)\n",
    "P_sup = np.array([19.1, 66.8, 85.7, 94.6, 98.8, 99.9, 100])\n",
    "P_interp = get_interp_datasheet_1D('DATA1.xlsm', '18 MV PDD', skiprows=[3,3],\n",
    "                          usecols=['F', 'A'], nrows=[40,40],\n",
    "                         add_init = [d_sup, P_sup])"
   ]
  },
  {
   "cell_type": "markdown",
   "metadata": {},
   "source": [
    "## Part A"
   ]
  },
  {
   "cell_type": "markdown",
   "metadata": {},
   "source": [
    "Note that in this problem\n",
    "\n",
    "* Equal weighting: $D_{Q} = \\sum_i D_{Q_i} = D_{Q_1} + D_{Q_2}$\n",
    "* Equal ${}_{S}D_{N}$ gives $D_{Q_i} = {}_{S}D_{(Q/N)_i} \\cdot {}_{S}D_{N_i} = \\frac{1}{2} {}_{S}D_{N} \\cdot {}_{S}D_{(Q/N)_i}$\n",
    "\n",
    "So we can plot the dose profile given by\n",
    "\n",
    "$$\\frac{D_{Q}}{{}_{S}D_{N}} = \\frac{1}{2}\\left({}_{S}D_{(Q/N)_1} + {}_{S}D_{(Q/N)_2} \\right)$$\n",
    "\n",
    "Furthermore, since we are not entering off axis or at an oblique angle, and the $SSD$ is standard, we can express this as \n",
    "\n",
    "$$\\frac{D_{Q}}{{}_{S}D_{N}} = \\frac{1}{2}\\left(P(d, 15, 100) + P(22-d, 15, 100) \\right)$$\n",
    "\n",
    "Due to the symmetry of the problem, we need only evaluate this for the first 11cm; the result is mirrored.\n"
   ]
  },
  {
   "cell_type": "code",
   "execution_count": 31,
   "metadata": {},
   "outputs": [],
   "source": [
    "d = np.linspace(0, 11, 1000)\n",
    "dose_profile_f = lambda d: 1/2 * (P_interp(d) + P_interp(22-d))\n",
    "dose_profile = dose_profile_f(d)\n",
    "# Mirror over central axis\n",
    "d= np.append(d, 22-np.flip(d))\n",
    "dose_profile = np.append(dose_profile, np.flip(dose_profile))"
   ]
  },
  {
   "cell_type": "markdown",
   "metadata": {},
   "source": [
    "Plot"
   ]
  },
  {
   "cell_type": "code",
   "execution_count": 32,
   "metadata": {},
   "outputs": [
    {
     "data": {
      "image/png": "[encoded data removed]",
      "text/plain": [
       "<Figure size 504x216 with 1 Axes>"
      ]
     },
     "metadata": {
      "needs_background": "light"
     },
     "output_type": "display_data"
    }
   ],
   "source": [
    "plt.figure(figsize=(7,3))\n",
    "plt.plot(d, dose_profile)\n",
    "plt.title('Ratio of Dose to Total Normalization Dose')\n",
    "plt.xlabel('Depth [cm]')\n",
    "plt.ylabel('$D~/~{}_{S}D_{N}$ [%]')\n",
    "plt.grid()\n",
    "plt.show()"
   ]
  },
  {
   "cell_type": "markdown",
   "metadata": {},
   "source": [
    "## Part B"
   ]
  },
  {
   "cell_type": "markdown",
   "metadata": {},
   "source": [
    "We scale the data above so that it corresponds to 2.2Gy at 11cm"
   ]
  },
  {
   "cell_type": "code",
   "execution_count": 33,
   "metadata": {},
   "outputs": [],
   "source": [
    "dose = dose_profile * 2.2 / dose_profile_f(11)"
   ]
  },
  {
   "cell_type": "markdown",
   "metadata": {},
   "source": [
    "And then find the maximum"
   ]
  },
  {
   "cell_type": "code",
   "execution_count": 34,
   "metadata": {},
   "outputs": [
    {
     "name": "stdout",
     "output_type": "stream",
     "text": [
      "The maximum dose along the central beam axis is 2.2580Gy\n"
     ]
    }
   ],
   "source": [
    "print(f'The maximum dose along the central beam axis is {max(dose):.4f}Gy')"
   ]
  },
  {
   "cell_type": "markdown",
   "metadata": {},
   "source": [
    "## Part C"
   ]
  },
  {
   "cell_type": "markdown",
   "metadata": {},
   "source": [
    "We extract the value at the surface"
   ]
  },
  {
   "cell_type": "code",
   "execution_count": 35,
   "metadata": {},
   "outputs": [
    {
     "name": "stdout",
     "output_type": "stream",
     "text": [
      "The skin dose on the central beam axis is 0.9854Gy\n"
     ]
    }
   ],
   "source": [
    "print(f'The skin dose on the central beam axis is {dose[0]:.4f}Gy')"
   ]
  },
  {
   "cell_type": "markdown",
   "metadata": {},
   "source": [
    "# Question 2"
   ]
  },
  {
   "cell_type": "markdown",
   "metadata": {},
   "source": [
    "## Part A"
   ]
  },
  {
   "cell_type": "markdown",
   "metadata": {},
   "source": [
    "Isocentric setups are generally preferred for multiple beam therapy, since the isocenter can be established for all beam directions and the patient does not need to be moved throughout the treatment procedure."
   ]
  },
  {
   "cell_type": "markdown",
   "metadata": {},
   "source": [
    "## Part B"
   ]
  },
  {
   "cell_type": "markdown",
   "metadata": {},
   "source": [
    "* Treatments (orthovoltage) where the target area is at the surface.\n",
    "\n",
    "* An SSD setup would be preferred if the positioning of an applicator on a patient's body isn't possible due to anatomical limitations. In this case, extended SSD would need to be used.\n",
    "\n",
    "* For single field treatments, SSD can be used, since there is no benefit to using an SAD formalism (in this case, it doesn't matter)."
   ]
  },
  {
   "cell_type": "markdown",
   "metadata": {},
   "source": [
    "## Part C"
   ]
  },
  {
   "cell_type": "code",
   "execution_count": 36,
   "metadata": {},
   "outputs": [],
   "source": [
    "theta = np.arctan(11/16)\n",
    "d = np.sqrt((11**2+16**2) /4)\n",
    "x = 16 - d*np.cos(theta)\n",
    "y = d*np.sin(theta)"
   ]
  },
  {
   "cell_type": "markdown",
   "metadata": {},
   "source": [
    "Thus, assuming a standard reference frame of $\\hat{x}$ pointing towards \"LEFT\" and $\\hat{y}$ pointing up the page, "
   ]
  },
  {
   "cell_type": "code",
   "execution_count": 37,
   "metadata": {},
   "outputs": [
    {
     "name": "stdout",
     "output_type": "stream",
     "text": [
      "The patient should be moved (-8.0, -5.5) cm\n"
     ]
    }
   ],
   "source": [
    "print(f'The patient should be moved ({-x}, {-y}) cm')\n"
   ]
  },
  {
   "cell_type": "markdown",
   "metadata": {},
   "source": [
    "## Part D"
   ]
  },
  {
   "cell_type": "markdown",
   "metadata": {},
   "source": [
    "The SSD is given by  $SAD - d$  where $SAD=100$cm and $d$ is the distance from the left setup mark to the treatment isocenter."
   ]
  },
  {
   "cell_type": "code",
   "execution_count": 38,
   "metadata": {},
   "outputs": [
    {
     "name": "stdout",
     "output_type": "stream",
     "text": [
      "The source to surface distance is 90.29cm\n"
     ]
    }
   ],
   "source": [
    "SSD = 100 - d\n",
    "print(f'The source to surface distance is {100-d:.2f}cm')"
   ]
  },
  {
   "cell_type": "markdown",
   "metadata": {},
   "source": [
    "## Part E"
   ]
  },
  {
   "cell_type": "markdown",
   "metadata": {},
   "source": [
    "The right lateral setup mark can be used with the left lateral setup mark  to ensure the patient is lying flat before treatment begins."
   ]
  },
  {
   "cell_type": "markdown",
   "metadata": {},
   "source": [
    "# Question 3"
   ]
  },
  {
   "cell_type": "markdown",
   "metadata": {},
   "source": [
    "## Part A"
   ]
  },
  {
   "cell_type": "markdown",
   "metadata": {},
   "source": [
    "To find the weights, we can use\n",
    "\n",
    "$$w_i = \\left(\\sum w_i\\right) \\frac{D_{Q_i}}{D_Q} $$\n",
    "\n",
    "Or, if the weights are normalized,\n",
    "\n",
    "$$w_i = \\frac{D_{Q_i}}{\\sum D_{Q_i}} $$\n",
    "\n",
    "Thus we just need to find the normalization dose correpsonding to each row. This is given by\n",
    "\n",
    "$$D_{N_i} = D_{0(iso)}' \\cdot S_c(r_c)S_p(r_d) \\cdot WF(\\theta, r_c) \\cdot  MU_i $$\n",
    "\n",
    "$$D_{Q_i} = TMR(d_i, r_{d_i}) D_{N_i}$$\n",
    "\n",
    "since the dose rate is always the same for these points. The equivalent square is $r_d=9.87$ from the data tables. The wedge factor for the 60 degree dynamic wedge is 1.003 from the data tables"
   ]
  },
  {
   "cell_type": "code",
   "execution_count": 41,
   "metadata": {},
   "outputs": [],
   "source": [
    "ds = np.array([8,9,8,9])\n",
    "MU = np.array([112,116,133,137])\n",
    "WFs = np.array([1, 1, 1.003, 1.003])\n",
    "DQis = 1 * TMR_int(9.870, ds)* Sc_int(16,10) * Sp_int(9.87) * WFs* MU\n",
    "ws = DQis/DQis.sum()"
   ]
  },
  {
   "cell_type": "markdown",
   "metadata": {},
   "source": [
    "The weight column is thus:"
   ]
  },
  {
   "cell_type": "code",
   "execution_count": 42,
   "metadata": {},
   "outputs": [
    {
     "data": {
      "text/plain": [
       "array([22.85500153, 22.85259334, 27.22173526, 27.07066986])"
      ]
     },
     "execution_count": 42,
     "metadata": {},
     "output_type": "execute_result"
    }
   ],
   "source": [
    "ws*100"
   ]
  },
  {
   "cell_type": "markdown",
   "metadata": {},
   "source": [
    "The dose delivered at the isocenter is given by\n",
    "\n",
    "$$D_Q = \\sum_i D_{Q_i}$$\n",
    "\n",
    "and $r_{d_i}=9.870$ is the equivalent (square) field size at the isocenter of the breast tissue (obtained by converting 7.3 x 16 in data tables)."
   ]
  },
  {
   "cell_type": "code",
   "execution_count": 43,
   "metadata": {},
   "outputs": [
    {
     "name": "stdout",
     "output_type": "stream",
     "text": [
      "Dose delivered to isocenter: 417.053 cGy\n"
     ]
    }
   ],
   "source": [
    "DQ = sum(DQis)\n",
    "print(f'Dose delivered to isocenter: {DQ:.3f} cGy')"
   ]
  },
  {
   "cell_type": "markdown",
   "metadata": {},
   "source": [
    "## Part B"
   ]
  },
  {
   "cell_type": "markdown",
   "metadata": {},
   "source": [
    "<p align=\"center\">\n",
    "  <img src=\"images/a3p1.png\" alt=\"drawing\" width=\"600\" align=\"center\"/>\n",
    "</p>"
   ]
  },
  {
   "cell_type": "markdown",
   "metadata": {},
   "source": [
    "The beam arrangement shown is ideal because it spares breast tissue that does not need to be irradiated (see upper left). In addition, both beams are sufficiently far from the spinal cord and internal organs."
   ]
  },
  {
   "cell_type": "markdown",
   "metadata": {},
   "source": [
    "# Question 4"
   ]
  },
  {
   "cell_type": "markdown",
   "metadata": {},
   "source": [
    "The setup of the question is as follows"
   ]
  },
  {
   "cell_type": "markdown",
   "metadata": {},
   "source": [
    "<p align=\"center\">\n",
    "  <img src=\"images/a3p2.png\" alt=\"drawing\" width=\"600\" align=\"center\"/>\n",
    "</p>"
   ]
  },
  {
   "cell_type": "markdown",
   "metadata": {},
   "source": [
    "Let $D^{(1)}$ represent dose from the right beam, $D^{(2)}$ represent dose from the left beam, and $D = D^{(1)} + D^{(2)}$ represent the total dose at any point. We have\n",
    "\n",
    "* $D_Q = D_Q^{(1)}+D_Q^{(2)} = 3750~\\text{cGy}$\n",
    "* $D_a^{(1)} = 4000~\\text{cGy}$"
   ]
  },
  {
   "cell_type": "code",
   "execution_count": 66,
   "metadata": {},
   "outputs": [
    {
     "data": {
      "text/plain": [
       "36.78248528174936"
      ]
     },
     "execution_count": 66,
     "metadata": {},
     "output_type": "execute_result"
    }
   ],
   "source": [
    "DQ2"
   ]
  },
  {
   "cell_type": "code",
   "execution_count": 56,
   "metadata": {},
   "outputs": [],
   "source": [
    "DQ = 3750 /16\n",
    "Da1 = 4000 /16\n",
    "dm = 1.5\n",
    "dQ = 8\n",
    "da1 = 3\n",
    "da2 = 2*dQ - da1\n",
    "rc1 = 12\n",
    "r1 = 11\n",
    "rc2 = 8\n",
    "r2 = 8\n",
    "SSD = 100"
   ]
  },
  {
   "cell_type": "markdown",
   "metadata": {},
   "source": [
    "## Part A"
   ]
  },
  {
   "cell_type": "markdown",
   "metadata": {},
   "source": [
    "Compute ${}_s D_{(a/N)}^{(1)}$ and use this to get ${}_s D_{N}^{(1)}$\n",
    "\n",
    "* ${}_s D_{(a/N)}^{(1)}$ only given by PDD here"
   ]
  },
  {
   "cell_type": "code",
   "execution_count": 74,
   "metadata": {},
   "outputs": [],
   "source": [
    "sDaN_1 = PDD_int(r1, da1)[0]\n",
    "sDN1 = 1/sDaN_1 * Da1"
   ]
  },
  {
   "cell_type": "markdown",
   "metadata": {},
   "source": [
    "Use this to get $D_{Q}^{(1)} = {}_s D_{(Q/N)}^{(1)} {}_s D_{N}^{(1)}$\n",
    "\n",
    "* ${}_s D_{(Q/N)}^{(1)}$ only given by PDD here"
   ]
  },
  {
   "cell_type": "code",
   "execution_count": 75,
   "metadata": {},
   "outputs": [],
   "source": [
    "sDQN_1 = PDD_int(r1, dQ)[0]\n",
    "DQ1 = sDN1 * sDQN_1"
   ]
  },
  {
   "cell_type": "markdown",
   "metadata": {},
   "source": [
    "Use this to get $D_Q^{(2)}$ using $D_Q = D_Q^{(1)} + D_Q^{(2)}$"
   ]
  },
  {
   "cell_type": "code",
   "execution_count": 76,
   "metadata": {},
   "outputs": [],
   "source": [
    "DQ2 = DQ - DQ1"
   ]
  },
  {
   "cell_type": "markdown",
   "metadata": {},
   "source": [
    "Use this to get $ {}_s D_{N}^{(2)}$ using $D_{Q}^{(2)} = {}_s D_{(Q/N)}^{(2)} {}_s D_{N}^{(2)}$\n",
    "\n",
    "* ${}_s D_{(Q/N)}^{(2)}$ only given by PDD here"
   ]
  },
  {
   "cell_type": "code",
   "execution_count": 73,
   "metadata": {},
   "outputs": [
    {
     "data": {
      "text/plain": [
       "0.7518"
      ]
     },
     "execution_count": 73,
     "metadata": {},
     "output_type": "execute_result"
    }
   ],
   "source": [
    "PDD_int(r1, dQ)[0]"
   ]
  },
  {
   "cell_type": "code",
   "execution_count": 77,
   "metadata": {},
   "outputs": [],
   "source": [
    "sDN2 = DQ2 / PDD_int(r2, dQ)[0]"
   ]
  },
  {
   "cell_type": "markdown",
   "metadata": {},
   "source": [
    "It follows that"
   ]
  },
  {
   "cell_type": "code",
   "execution_count": 78,
   "metadata": {},
   "outputs": [
    {
     "name": "stdout",
     "output_type": "stream",
     "text": [
      "sDN1 = 262.83 cGy per fraction\n",
      "sDN2 = 49.71 cGy per fraction\n"
     ]
    }
   ],
   "source": [
    "print(f'sDN1 = {sDN1:.2f} cGy per fraction')\n",
    "print(f'sDN2 = {sDN2:.2f} cGy per fraction')"
   ]
  },
  {
   "cell_type": "markdown",
   "metadata": {},
   "source": [
    "## Part B"
   ]
  },
  {
   "cell_type": "markdown",
   "metadata": {},
   "source": [
    "We already know $D_a^{(1)}$; we just need $D_a^{(2)}$, which is related to ${}_s D_{N}^{(2)}$ through $D_a^{(2)} = {}_s D_{(a/N)}^{(1)} {}_s D_{N}^{(2)}$\n",
    "\n",
    "* ${}_s D_{(a/N)}^{(1)}$ given only by PDD in this case"
   ]
  },
  {
   "cell_type": "code",
   "execution_count": 50,
   "metadata": {},
   "outputs": [
    {
     "name": "stdout",
     "output_type": "stream",
     "text": [
      "The total dose is 4447.75 cGy\n"
     ]
    }
   ],
   "source": [
    "Da2 = PDD_int(r2, da2)[0] * sDN2\n",
    "Da = Da1 + Da2\n",
    "print(f'The total dose is {16*Da:.2f} cGy')"
   ]
  },
  {
   "cell_type": "markdown",
   "metadata": {},
   "source": [
    "## Part C"
   ]
  },
  {
   "cell_type": "markdown",
   "metadata": {},
   "source": [
    "Let's look at dose along the entire CAX, from left to right (corresponds to figure above)"
   ]
  },
  {
   "cell_type": "code",
   "execution_count": 99,
   "metadata": {},
   "outputs": [],
   "source": [
    "d2 = np.linspace(dm, 2*dQ-dm, 1000)\n",
    "d1 = 2*dQ - d2\n",
    "D = PDD_int(r1, d1) * sDN1 \\\n",
    "    + PDD_int(r2, d2) * sDN2 "
   ]
  },
  {
   "cell_type": "markdown",
   "metadata": {},
   "source": [
    "Plot"
   ]
  },
  {
   "cell_type": "code",
   "execution_count": 101,
   "metadata": {},
   "outputs": [
    {
     "data": {
      "image/png": "[encoded data removed]",
      "text/plain": [
       "<Figure size 504x216 with 1 Axes>"
      ]
     },
     "metadata": {
      "needs_background": "light"
     },
     "output_type": "display_data"
    }
   ],
   "source": [
    "plt.figure(figsize=(7,3))\n",
    "plt.plot(d2, D)\n",
    "plt.xlabel('Distance from Posterior [cm]')\n",
    "plt.ylabel('Dose/Fraction [cGy]')\n",
    "plt.grid()"
   ]
  },
  {
   "cell_type": "markdown",
   "metadata": {},
   "source": [
    "As expected, the maximum dose corresponds to $d_m$ from the anterior surface"
   ]
  },
  {
   "cell_type": "code",
   "execution_count": 115,
   "metadata": {},
   "outputs": [
    {
     "name": "stdout",
     "output_type": "stream",
     "text": [
      "The maximum dose along the CAX is 288.5 cGy/fraction (4616.8cGy total)\n"
     ]
    }
   ],
   "source": [
    "print(f'The maximum dose along the CAX is {D[-1]:.1f} cGy/fraction ({16*D[-1]:.1f}cGy total)')"
   ]
  },
  {
   "cell_type": "markdown",
   "metadata": {},
   "source": [
    "The off axis ratio can be added to ${}_s D_{(m/N)}^{(i)}$ for each beam ($m$ specifies max dose point)"
   ]
  },
  {
   "cell_type": "code",
   "execution_count": 121,
   "metadata": {},
   "outputs": [
    {
     "data": {
      "text/plain": [
       "1.0094104803493449"
      ]
     },
     "execution_count": 121,
     "metadata": {},
     "output_type": "execute_result"
    }
   ],
   "source": [
    "OAR_int(dm, x2)[0]"
   ]
  },
  {
   "cell_type": "code",
   "execution_count": 122,
   "metadata": {},
   "outputs": [
    {
     "name": "stdout",
     "output_type": "stream",
     "text": [
      "The off axis dose (x=2cm) at the specified point is 295.39 cGy/fraction (4726.3cGy total)\n"
     ]
    }
   ],
   "source": [
    "x1 = 2\n",
    "x2 = x1 * (SSD+dm)/SSD * (SSD)/(SSD+2*dQ-dm)\n",
    "d1 = 1.5\n",
    "d2 = 2*dQ - 1.5\n",
    "sDmN_1 = OAR_int(dm, x1)[0]\n",
    "sDmN_2 = OAR_int(dm, x2)[0] * PDD_int(r2, d2)[0]\n",
    "D_off = sDmN_1 * sDN1 + sDmN_2 * sDN2\n",
    "print(f'The off axis dose (x=2cm) at the specified point is {D_off:.2f} cGy/fraction ({16*D_off:.1f}cGy total)')"
   ]
  },
  {
   "cell_type": "markdown",
   "metadata": {},
   "source": [
    "The dose at the off axis point will be smaller, because this locations is at the edge 8x8cm$^2$ field, meaning it is in the penumbra region (and the dose rapidly decreases here).\n",
    "\n",
    "The dose at an off axis point of $4~$cm will be greater. This is because the off axis dose increases at $d_m$. The reason this occurs is\n",
    "\n",
    "* (i) due to scatter in the patient which causes radiation to spread out\n",
    "* (ii) due to the radial dependence of both fluence and energy fluence in the field at the surface. In particular, the beam is not a constant 6MeV (this is simply the maximum energy), and many of the lower energy photons (which are far more abundant and contribute significantly to the radiation dose) are further from the central axis."
   ]
  },
  {
   "cell_type": "markdown",
   "metadata": {},
   "source": [
    "## Part D"
   ]
  },
  {
   "cell_type": "markdown",
   "metadata": {},
   "source": [
    "Assuming an SSD setup where $\\dot{D}_{0,{SSD}} = 1~$cGy/MU we have\n",
    "\n",
    "$${}_s D_N^{(i)} = S_p(r_d)S_c(r_c) \\dot{D}_{0,{SSD}} \\cdot MU$$\n",
    "\n",
    "and we can use this to solve for the monitor units in each case"
   ]
  },
  {
   "cell_type": "code",
   "execution_count": 124,
   "metadata": {},
   "outputs": [
    {
     "name": "stdout",
     "output_type": "stream",
     "text": [
      "Monitor units from anterior position: 260.5 MU/fraction (4167.8 MU total)\n",
      "Monitor units from anterior position: 50.6 MU/fraction (809.5 MU total)\n"
     ]
    }
   ],
   "source": [
    "MU1 = sDN1 / (Sp_int(r1*(SSD+dm)/SSD)[()]*Sc_int(rc1,rc1)[0])\n",
    "MU2 = sDN2 / (Sp_int(r2*(SSD+dm)/SSD)[()]*Sc_int(rc2,rc2)[0])\n",
    "print(f'Monitor units from anterior position: {MU1:.1f} MU/fraction ({16*MU1:.1f} MU total)')\n",
    "print(f'Monitor units from anterior position: {MU2:.1f} MU/fraction ({16*MU2:.1f} MU total)')"
   ]
  },
  {
   "cell_type": "markdown",
   "metadata": {},
   "source": [
    "## Part E"
   ]
  },
  {
   "cell_type": "markdown",
   "metadata": {},
   "source": [
    "If the maxmimum tissue dose was restricted to 4500cGy, one could give proportionally more radiation from the field pointing at the posterior side. This would involve increasing the number of MU from the \"posterior-entering beam\", and decreasing the number of MU from the \"anterior-entering\" beam."
   ]
  },
  {
   "cell_type": "markdown",
   "metadata": {},
   "source": [
    "# Question 5"
   ]
  },
  {
   "cell_type": "markdown",
   "metadata": {},
   "source": [
    "## Part A"
   ]
  },
  {
   "cell_type": "markdown",
   "metadata": {},
   "source": [
    "The idea is to use the wedges to shield the areas that contain significant \"curvature\". Such surfaces, which differ significantly from ideal perpendulular and flat surfaces, result in increased surface dose. This is not ideal."
   ]
  },
  {
   "cell_type": "markdown",
   "metadata": {},
   "source": [
    "<p align=\"center\">\n",
    "  <img src=\"images/a3p3.png\" alt=\"drawing\" width=\"600\" align=\"center\"/>\n",
    "</p>"
   ]
  },
  {
   "cell_type": "markdown",
   "metadata": {},
   "source": [
    "## Part B"
   ]
  },
  {
   "cell_type": "markdown",
   "metadata": {},
   "source": [
    "The dose at $Q$ from each field $i$ is\n",
    "\n",
    "$$D_Q^{(i)} = \\frac{w_i}{\\sum_i w_i} D_Q $$\n",
    "\n",
    "This can be used to find $D_{N_i}$\n",
    "\n",
    "$$D_{Q_i} = TMR(d_i, r_{d_i}) D_{N_i}$$\n",
    "\n",
    "and then\n",
    "\n",
    "$$D_N^{(i)} = WF \\cdot S_p(r_d)S_c(r_c) \\dot{D}_{0,{iso}} \\cdot MU$$\n",
    "\n",
    "assuming that $\\dot{D}_{0,{iso}}=1$cGy/MU"
   ]
  },
  {
   "cell_type": "code",
   "execution_count": 137,
   "metadata": {},
   "outputs": [],
   "source": [
    "SAD = 100\n",
    "dm = 1.5\n",
    "ds = np.array([6,7,6,7])\n",
    "rcs = np.array([(10,16),(10,16),(16,10),(16,10)]) #y,x\n",
    "rds = np.array([12.200]*4)  \n",
    "WFs = np.array([1.009, 1.009, 1.006, 1.006])\n",
    "wis = np.array([75, 75, 25, 25])\n",
    "DQ = 180"
   ]
  },
  {
   "cell_type": "markdown",
   "metadata": {},
   "source": [
    "Compute"
   ]
  },
  {
   "cell_type": "code",
   "execution_count": 138,
   "metadata": {},
   "outputs": [],
   "source": [
    "DQs = wis / sum(wis) * DQ\n",
    "DNis = DQs / TMR_int(rds, ds)\n",
    "MUs = DNis / (WFs * Sp_int(rds) * Sc_int(rcs[:,0], rcs[:,1]))"
   ]
  },
  {
   "cell_type": "markdown",
   "metadata": {},
   "source": [
    "In order of rows 1 to 4, the number of monitor units required is thus:"
   ]
  },
  {
   "cell_type": "code",
   "execution_count": 139,
   "metadata": {},
   "outputs": [
    {
     "name": "stdout",
     "output_type": "stream",
     "text": [
      "Number of monitor units for field 0: 73.241 MU\n",
      "Number of monitor units for field 1: 75.553 MU\n",
      "Number of monitor units for field 2: 24.327 MU\n",
      "Number of monitor units for field 3: 25.095 MU\n"
     ]
    }
   ],
   "source": [
    "[print(f'Number of monitor units for field {i}: {MUs[i]:.3f} MU') for i in range(4)];"
   ]
  },
  {
   "cell_type": "markdown",
   "metadata": {},
   "source": [
    "# Question 8"
   ]
  },
  {
   "cell_type": "markdown",
   "metadata": {},
   "source": [
    "## Part A"
   ]
  },
  {
   "cell_type": "markdown",
   "metadata": {},
   "source": [
    "Note that $d=0.5$cm gives 95\\%"
   ]
  },
  {
   "cell_type": "code",
   "execution_count": 164,
   "metadata": {},
   "outputs": [
    {
     "data": {
      "text/plain": [
       "0.95"
      ]
     },
     "execution_count": 164,
     "metadata": {},
     "output_type": "execute_result"
    }
   ],
   "source": [
    "PDD18_int(0.5)[()]"
   ]
  },
  {
   "cell_type": "markdown",
   "metadata": {},
   "source": [
    "## Part B"
   ]
  },
  {
   "cell_type": "markdown",
   "metadata": {},
   "source": [
    "$${}_s D_N = S_p(r_d)S_c(r_c) \\dot{D}_{0,{SSD}} \\cdot MU$$"
   ]
  },
  {
   "cell_type": "code",
   "execution_count": null,
   "metadata": {},
   "outputs": [],
   "source": []
  }
 ],
 "metadata": {
  "kernelspec": {
   "display_name": "Python 3",
   "language": "python",
   "name": "python3"
  },
  "language_info": {
   "codemirror_mode": {
    "name": "ipython",
    "version": 3
   },
   "file_extension": ".py",
   "mimetype": "text/x-python",
   "name": "python",
   "nbconvert_exporter": "python",
   "pygments_lexer": "ipython3",
   "version": "3.6.9"
  }
 },
 "nbformat": 4,
 "nbformat_minor": 4
}
