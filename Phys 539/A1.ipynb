{
 "cells": [
  {
   "cell_type": "code",
   "execution_count": 2,
   "metadata": {},
   "outputs": [],
   "source": [
    "import numpy as np\n",
    "import pint\n",
    "u = pint.UnitRegistry()"
   ]
  },
  {
   "cell_type": "markdown",
   "metadata": {},
   "source": [
    "# Problem 1"
   ]
  },
  {
   "cell_type": "markdown",
   "metadata": {},
   "source": [
    "## Part A"
   ]
  },
  {
   "cell_type": "markdown",
   "metadata": {},
   "source": [
    "The fluence for a $N$ particles incident upon a finite volume sphere of radius $R$ is given by $\\Phi = N/A$ where $A=\\pi R^2$ is the cross-sectional area of the sphere. \n",
    "\n",
    "Now noting that the track length of a particle going through a convex surface is a random variable $L$ with mean $\\left< L \\right>$, the central limit theorem (statistics) tells us that the sum of $N$ indepedent and identically distributed random variables $L_i$ is given by\n",
    "\n",
    "$$\\sum_{i=1}^N L_i \\approx N\\left< L \\right>$$\n",
    "\n",
    "for sufficiently enough $N$, which we will assume is the case for a beam of photons. Thus, using $\\left< L \\right> = 4V/S$ and $S=4\\pi R^2$ for a sphere, we get\n",
    "\n",
    "$$\\frac{\\sum_{i=1}^N L_i}{V} = \\frac{N\\left<L\\right>}{V} = \\frac{4VN/S}{V} = \\frac{4N}{S} = \\frac{4N}{4 \\pi R^2} = \\frac{N}{\\pi R^2} = \\frac{N}{A} = \\Phi$$\n",
    "\n",
    "If follows that the fluence can be expressed as $\\Phi = \\frac{\\sum_{i=1}^N L_i}{V}$"
   ]
  },
  {
   "cell_type": "markdown",
   "metadata": {},
   "source": [
    "## Part B"
   ]
  },
  {
   "cell_type": "markdown",
   "metadata": {},
   "source": [
    "We'll start with definitions and use these to derive equations. The three definitions of the quantities are\n",
    "\n",
    "* (1) $K = d\\bar{E}_{tr}/dm$\n",
    "* (2) $dR_{tr} = -\\mu_{tr} R dl$\n",
    "* (3) $\\Psi = NE/A$\n",
    "\n",
    "Now we'll start relating variables. Lets call the incident energy $h\\nu=E$. Two important relations are\n",
    "\n",
    "* $R = NE$. The radiant energy of the beam is the number of photons times the energy of each photon\n",
    "* $dR_{tr} = \\epsilon_{tr} dN = dE_{tr}$. The transferred radiated energy to the slab is the number of particle interactions ($dN$) times the transferred energy per particle $\\epsilon_{tr}$. This is equal to the total energy transferred in the slab $dE_{tr}$. Note that these are still random varibles, but for sufficiently many experiments (or when integratting over many slabs) it is sufficient to take $dR_{tr} = \\bar{\\epsilon}_{tr} dN = \\bar{dE}_{tr}$  (An integral is like summing over many random variables; the sum of many random variables is approximately the sum of their means, according to the central limit theorem).\n",
    "\n",
    "Substituting these two equations into (2) above we get\n",
    "\n",
    "$$dE_{tr} = -\\mu_{tr}NEdl $$\n",
    "\n",
    "$$\\implies K=\\frac{dE_{tr}}{dm} = \\mu_{tr} NE \\frac{dl}{dm} =\\mu_{tr} NE \\frac{1}{dm/dl (A/A)} = \\mu_{tr} NE \\frac{1}{A dm/dV} = \\mu_{tr} NE/A = \\mu_{tr} \\Psi $$\n",
    "\n",
    "where we have used the fact that $\\frac{dm}{Adl} = \\frac{dm}{dV} = \\rho$. In summary $\\boxed{K = \\mu_{tr} \\Psi}$"
   ]
  },
  {
   "cell_type": "markdown",
   "metadata": {},
   "source": [
    "## Part C"
   ]
  },
  {
   "cell_type": "markdown",
   "metadata": {},
   "source": [
    "The definitions in this case are\n",
    "\n",
    "* (1) $C = dE_{el}^*/dm$\n",
    "* (2) $S_{el} = dE_{el}/dl$\n",
    "* (3) $\\Psi=N/A$\n",
    "\n",
    "Note the $dE_{el}^*$ in equation (1) vs. the $dE_{el}$ in equation (2); this is because they refer to different energies. In particular, stopping power only considers single particles, whereas Cema depends on the number of incident particles, so \n",
    "\n",
    "$$ dE_{el}^* = NdE_{el}$$\n",
    "\n",
    "It follows that\n",
    "\n",
    "$$C = \\frac{dE_{el}^*}{dm} = N\\frac{dE_{el}}{dl}\\frac{dl}{dm} = N\\frac{dE_{el}}{dl} \\frac{1}{\\frac{dm}{dl} \\frac{A}{A}} = \\frac{N}{\\rho A} \\frac{dE_{el}}{dl} = \\Psi \\left(\\frac{S_{el}}{\\rho}\\right)$$\n",
    "\n",
    "where we have used the fact that $\\frac{dm}{Adl} = \\frac{dm}{dV} = \\rho$. In summary, $\\boxed{C = \\Psi \\left(\\frac{S_{el}}{\\rho}\\right)}$"
   ]
  },
  {
   "cell_type": "markdown",
   "metadata": {},
   "source": [
    "# Problem 2"
   ]
  },
  {
   "cell_type": "markdown",
   "metadata": {},
   "source": [
    "The expression given in class for electrons was \n",
    "\n",
    "$$\\frac{S_{el}}{\\rho} = 2 \\pi r_e^2 \\left( \\frac{ZN_A}{A} \\right) \\frac{mc^2}{\\beta^2} \\left[2\\ln(E_k/I) + \\ln(1+\\tau/2) + F^{-}(\\tau) - \\delta \\right] $$"
   ]
  },
  {
   "cell_type": "markdown",
   "metadata": {},
   "source": [
    "* Plugging in $E_k = \\tau mc^2$ and using $n\\ln(x) = \\ln(x^n)$ and $\\ln(ab) = \\ln(a) + \\ln(b)$ we get\n",
    "\n",
    "$$ 2\\ln(E_k/I) + \\ln(1+\\tau/2) = \\ln \\left( \\frac{(\\tau mc^2)^2}{I^2} \\left(1+\\tau/2\\right) \\right) = \\ln\\left(\\frac{\\tau^2(\\tau+2)}{2(I/mc^2)^2}\\right) $$\n",
    "\n",
    "* $\\frac{ZN_A}{A}=\\rho_{el}$ is the electron density of water by definition\n",
    "\n",
    "Thus \n",
    "\n",
    "$$\\frac{S_{el}}{\\rho} = 2 \\pi r_e^2 \\rho_{el} \\frac{mc^2}{\\beta^2} \\left[\\ln\\left(\\frac{\\tau^2(\\tau+2)}{2(I/mc^2)^2}\\right) + F^{-}(\\tau) - \\delta \\right] $$\n",
    "\n",
    "To solve for $\\gamma$\n",
    "\n",
    "$$\\gamma = - \\frac{S_{el}}{\\rho} \\left(\\frac{\\beta^2}{2 \\pi r_e^2 \\rho_{el} mc^2}\\right) + \\ln\\left(\\frac{\\tau^2(\\tau+2)}{2(I/mc^2)^2}\\right) + F^{-}(\\tau)$$"
   ]
  },
  {
   "cell_type": "markdown",
   "metadata": {},
   "source": [
    "Define all appropriate parameters"
   ]
  },
  {
   "cell_type": "code",
   "execution_count": 3,
   "metadata": {},
   "outputs": [],
   "source": [
    "tau = 400/511\n",
    "beta = np.sqrt(1-1/(tau+1)**2)\n",
    "re = 2.818e-15 * u.m\n",
    "rho_el = 3.343e26 * u.kg**(-1)\n",
    "I = 75*u.eV\n",
    "mc2 = 511*u.keV\n",
    "F = (1-beta**2) * (1+tau**2 / 8 - (2*tau+1)*np.log(2))\n",
    "rho = 1*u.g / u.cm**3\n",
    "Sel_rho = 2.148 * u.MeV * u.cm**2 / u.g"
   ]
  },
  {
   "cell_type": "markdown",
   "metadata": {},
   "source": [
    "Compute and print"
   ]
  },
  {
   "cell_type": "code",
   "execution_count": 4,
   "metadata": {},
   "outputs": [
    {
     "name": "stdout",
     "output_type": "stream",
     "text": [
      "The value of gamma is 0.001167\n"
     ]
    }
   ],
   "source": [
    "gamma = -Sel_rho * (beta**2 / (2*np.pi*re**2 * rho_el * mc2)) + np.log(tau**2 * (tau+2)/(2*(I/mc2)**2)) + F\n",
    "print(f'The value of gamma is {gamma.magnitude:.6f}')"
   ]
  },
  {
   "cell_type": "markdown",
   "metadata": {},
   "source": [
    "Lets compare this to the magntitude of the other two terms in the square brackets of\n",
    "\n",
    "$$\\frac{S_{el}}{\\rho} = 2 \\pi r_e^2 \\rho_{el} \\frac{mc^2}{\\beta^2} \\left[\\ln\\left(\\frac{\\tau^2(\\tau+2)}{2(I/mc^2)^2}\\right) + F^{-}(\\tau) - \\delta \\right] $$\n",
    "\n"
   ]
  },
  {
   "cell_type": "code",
   "execution_count": 5,
   "metadata": {},
   "outputs": [
    {
     "data": {
      "text/plain": [
       "-0.22078348704021122"
      ]
     },
     "execution_count": 5,
     "metadata": {},
     "output_type": "execute_result"
    }
   ],
   "source": [
    "F"
   ]
  },
  {
   "cell_type": "code",
   "execution_count": 6,
   "metadata": {},
   "outputs": [
    {
     "data": {
      "text/html": [
       "17.493766264707155 dimensionless"
      ],
      "text/latex": [
       "$17.493766264707155\\ dimensionless$"
      ],
      "text/plain": [
       "17.493766264707155 <Unit('dimensionless')>"
      ]
     },
     "execution_count": 6,
     "metadata": {},
     "output_type": "execute_result"
    }
   ],
   "source": [
    "np.log(tau**2 * (tau+2)/(2*(I/mc2)**2))"
   ]
  },
  {
   "cell_type": "markdown",
   "metadata": {},
   "source": [
    "So $|\\gamma|$ is about two orders of magnitude smaller than the correction term $F$ and four orders of magnitude smaller than the main term. The factor $\\gamma$ corrects for the fact that water is partially polarized. In particular, for an electron travelling through the medium, coloumb interactions with distant molecules are slightly reduced due to a shielding effect that occurs. This serves to reduce the strength of the coloumb interaction and correspondingly decrease the rate of energy deposition in the medium. This is precisely what occurs here; since $\\gamma$ is positive, the rate of energy deposition (stopping power) is reduced, but only by an order of about 0.01%"
   ]
  },
  {
   "cell_type": "markdown",
   "metadata": {},
   "source": [
    "# Problem 6"
   ]
  },
  {
   "cell_type": "markdown",
   "metadata": {},
   "source": [
    "The following equations are needed\n",
    "\n",
    "* $Pv = (m/M)RT$ (ideal gas law, but with $m$ as the mass and $M$ as the molar mass)\n",
    "* $\\dot{X} = \\dot{Q}/m$ (exposure rate)\n",
    "* $\\dot{\\rho} = \\dot{Q}/v$\n",
    "\n",
    "It follows that\n",
    "\n",
    "$$\\dot{\\rho} = \\dot{X}\\frac{m}{v}$$\n",
    "\n",
    "The ratio $m/v$ can be determined from the ideal gas law: $m/v = PM/RT$ sp\n",
    "\n",
    "$$\\dot{\\rho} = \\dot{X}\\frac{PM}{RT}$$\n",
    "\n",
    "We then have all variables needed to solve for $\\xi$"
   ]
  },
  {
   "cell_type": "code",
   "execution_count": 13,
   "metadata": {},
   "outputs": [],
   "source": [
    "Xdot = 200* u.roentgen / u.min\n",
    "T = (20+273.15)*u.K\n",
    "P = 101.325*u.kPa\n",
    "M = 28.97*u.g/u.mol #for dry air, obtained through google search\n",
    "R = u.R\n",
    "d = 0.56*u.cm\n",
    "V = 180*u.V\n",
    "\n",
    "rho_dot = Xdot*P*M/(R*T)\n",
    "A = 2.01e6 * u.V / (u.cm**2 * (u.C/(u.cm**3 * u.s))**(1/2))\n",
    "xi = A * d**2 * np.sqrt(rho_dot) / V\n",
    "xi = xi.to('dimensionless').magnitude\n",
    "f = 1/(1+xi**2 /6)"
   ]
  },
  {
   "cell_type": "code",
   "execution_count": 14,
   "metadata": {},
   "outputs": [
    {
     "name": "stdout",
     "output_type": "stream",
     "text": [
      "The charge efficiency is 0.9979\n"
     ]
    }
   ],
   "source": [
    "print(f'The charge efficiency is {f:.4f}')"
   ]
  },
  {
   "cell_type": "markdown",
   "metadata": {},
   "source": [
    "# Problem 7"
   ]
  },
  {
   "cell_type": "markdown",
   "metadata": {},
   "source": [
    "## Part A\n",
    "\n",
    "Based on the formula\n",
    "\n",
    "$$D_{xyz,abs} = D_{xyz} \\frac{D_{ch}(10\\times10)}{D_{ch}} \\frac{D_{xyz,abs}^{cal}}{D_{xyz}^{cal}} U $$\n",
    "\n",
    "we can write\n",
    "\n",
    "$$\\frac{D_{xyz,abs}^{(2)}}{D_{xyz,abs}^{(1)}} = \\frac{D_{xyz}^{(2)}}{D_{xyz}^{(1)}} \\frac{D_{ch}^{(1)}}{D_{ch}^{(2)}}$$\n",
    "\n",
    "since these are the only factors that depend explicitly on field size"
   ]
  },
  {
   "cell_type": "markdown",
   "metadata": {},
   "source": [
    "## Part B"
   ]
  },
  {
   "cell_type": "markdown",
   "metadata": {},
   "source": [
    "Specify all doses"
   ]
  },
  {
   "cell_type": "code",
   "execution_count": 9,
   "metadata": {},
   "outputs": [],
   "source": [
    "Dchf = 2.461e-15\n",
    "Dchb3 = 7.388e-17\n",
    "Dchb10 = 6.469e-17\n",
    "Dchb40 = 1.838e-17\n",
    "Dxyz3 = 8.027e-17\n",
    "Dxyz10 = 9.522e-17\n",
    "Dxyz40 = 11.219e-17"
   ]
  },
  {
   "cell_type": "markdown",
   "metadata": {},
   "source": [
    "Get all ratios\n",
    "\n",
    "* `correct` refers to the formula derived above\n",
    "* `incorrect` refers to backscatter term being ignored, which implies that the $D_{ch}$ ratio simply equals 1"
   ]
  },
  {
   "cell_type": "code",
   "execution_count": 10,
   "metadata": {},
   "outputs": [
    {
     "name": "stdout",
     "output_type": "stream",
     "text": [
      "Dose ratio 3x3 field correct: 0.8399\n",
      "Dose ratio 3x3 field incorrect: 0.8430\n",
      "Dose ratio 40x40 field correct: 1.2002\n",
      "Dose ratio 40x40 field incorrect: 1.1782\n"
     ]
    }
   ],
   "source": [
    "D_ratio_3_correct = Dxyz3/Dxyz10 * ((Dchf + Dchb10)/(Dchf + Dchb3))\n",
    "D_ratio_3_incorrect = Dxyz3/Dxyz10 \n",
    "D_ratio_40_correct = Dxyz40/Dxyz10 * ((Dchf + Dchb10)/(Dchf + Dchb40))\n",
    "D_ratio_40_incorrect = Dxyz40/Dxyz10 \n",
    "print(f'Dose ratio 3x3 field correct: {D_ratio_3_correct:.4f}')\n",
    "print(f'Dose ratio 3x3 field incorrect: {D_ratio_3_incorrect:.4f}')\n",
    "print(f'Dose ratio 40x40 field correct: {D_ratio_40_correct:.4f}')\n",
    "print(f'Dose ratio 40x40 field incorrect: {D_ratio_40_incorrect:.4f}')"
   ]
  },
  {
   "cell_type": "markdown",
   "metadata": {},
   "source": [
    "Compute relative percent errors:"
   ]
  },
  {
   "cell_type": "code",
   "execution_count": 11,
   "metadata": {},
   "outputs": [
    {
     "name": "stdout",
     "output_type": "stream",
     "text": [
      "Percent Error in dose ratio for 3x3 field: 0.364%\n",
      "Percent Error in dose ratio for 40x40 field: 1.834%\n"
     ]
    }
   ],
   "source": [
    "pct_err_3 = np.abs(D_ratio_3_correct - D_ratio_3_incorrect) / D_ratio_3_correct * 100\n",
    "pct_err_40 = np.abs(D_ratio_40_correct - D_ratio_40_incorrect) / D_ratio_40_correct * 100\n",
    "print(f'Percent Error in dose ratio for 3x3 field: {pct_err_3:.3f}%')\n",
    "print(f'Percent Error in dose ratio for 40x40 field: {pct_err_40:.3f}%')"
   ]
  },
  {
   "cell_type": "markdown",
   "metadata": {},
   "source": [
    "# Problem 8"
   ]
  },
  {
   "cell_type": "markdown",
   "metadata": {},
   "source": [
    "The reference dose dose is given by\n",
    "\n",
    "$${D}_{ref} = \\dot{D}_{ref} \\cdot MU = \\left(\\prod P_i\\right) \\cdot k_{ecal}k_{R50} N_{^{60}Co} \\cdot M_{raw}$$\n",
    "\n",
    "where the $P_i$s include all relevant correction factors defined in lecture. We don't know $\\dot{D}_{ref}$, but we know its related to $\\dot{D}_{max}$ through\n",
    "\n",
    "$$D_{ref} = D_{max} \\frac{PDD(d_{ref}; SSD)}{100}$$\n",
    "\n",
    "This yields\n",
    "\n",
    "$$M_{raw} = \\frac{\\dot{D}_{max}  \\frac{PDD(d_{ref}; SSD)}{100} MU}{\\left(\\prod P_i\\right) \\cdot k_{ecal}k_{R50} N_{^{60}Co}}$$\n",
    "\n",
    "The equation above can be solved for $M_{raw}$, the raw charge measurement."
   ]
  },
  {
   "cell_type": "code",
   "execution_count": 42,
   "metadata": {},
   "outputs": [],
   "source": [
    "MU = 300\n",
    "N60Co = 1.113\n",
    "Dm_dot = 1"
   ]
  },
  {
   "cell_type": "markdown",
   "metadata": {},
   "source": [
    "Get other parameters from external documents:"
   ]
  },
  {
   "cell_type": "code",
   "execution_count": 43,
   "metadata": {},
   "outputs": [],
   "source": [
    "R50 = 6.29 #lecture 8, table 4\n",
    "kR50 = 1.003 #lecture 8, table 4\n",
    "kecal = 0.898 # from TG51 report Table 3"
   ]
  },
  {
   "cell_type": "markdown",
   "metadata": {},
   "source": [
    "Get all $P$ factors"
   ]
  },
  {
   "cell_type": "code",
   "execution_count": 44,
   "metadata": {},
   "outputs": [],
   "source": [
    "Pion = 1.005\n",
    "Pelec = 1.000\n",
    "Ppol = 0.994\n",
    "Pgr = 0.995\n",
    "# Compute PTP\n",
    "T_w = (23+273.15) #K\n",
    "P_air = 101.1\n",
    "PTP = (T_w/295.2)*(101.33/P_air)\n",
    "Ps = np.array([Pion, Pelec, Ppol, Pgr, PTP])"
   ]
  },
  {
   "cell_type": "markdown",
   "metadata": {},
   "source": [
    "Obtain beam quality $k_Q$ (see lecture 8, slide 13)"
   ]
  },
  {
   "cell_type": "code",
   "execution_count": 45,
   "metadata": {},
   "outputs": [],
   "source": [
    "dref = 3.67\n",
    "PDD = 99.44"
   ]
  },
  {
   "cell_type": "markdown",
   "metadata": {},
   "source": [
    "Compute $M$"
   ]
  },
  {
   "cell_type": "code",
   "execution_count": 46,
   "metadata": {},
   "outputs": [
    {
     "name": "stdout",
     "output_type": "stream",
     "text": [
      "Charge collected: 297.75 rdg\n"
     ]
    }
   ],
   "source": [
    "M = Dm_dot * MU / (np.prod(Ps) * kecal*kR50 * N60Co) * PDD/100\n",
    "print(f'Charge collected: {M:.2f} rdg')"
   ]
  },
  {
   "cell_type": "markdown",
   "metadata": {},
   "source": [
    "# Problem 9"
   ]
  },
  {
   "cell_type": "markdown",
   "metadata": {},
   "source": [
    "## Part A"
   ]
  },
  {
   "cell_type": "markdown",
   "metadata": {},
   "source": [
    "From the slides we know that\n",
    "\n",
    "$$\\begin{align}k_Q &= P_{gr}^Q \\cdot k_{R50}\\\\\n",
    "&= P_{gr}^Q \\cdot k_{R50}' k_{ecal}\\end{align}$$\n",
    "\n",
    "where \n",
    "\n",
    "\n",
    "* $k_{R50}' = 0.9905 + 0.0710e^{-R_{50}/3.67}$\n",
    "* $P_{gr} \\approx I(d_{ref} + 0.5 r_{cav})/I_{d_{ref}}$\n",
    "* $R_{50} = 1.029I_{50} - 0.06$ (cm)\n",
    "\n",
    "All these are specified in Lecture 8"
   ]
  },
  {
   "cell_type": "code",
   "execution_count": 18,
   "metadata": {},
   "outputs": [
    {
     "name": "stdout",
     "output_type": "stream",
     "text": [
      "Beam Quality Factor: 0.883\n"
     ]
    }
   ],
   "source": [
    "I50 = 8.2\n",
    "I_dref = 62\n",
    "I_dref_plus = 61.2\n",
    "rcav = 0.305 #cm #TG51, Table 3\n",
    "kecal = 0.897 #TG51, Table 3\n",
    "'''Compute'''\n",
    "R50 = 1.029*I50 - 0.06\n",
    "kR50_p = 0.9905+0.0710*np.exp(-R50/3.67)\n",
    "Pgr = I_dref_plus/I_dref\n",
    "kQ = Pgr * kR50_p * kecal\n",
    "print(f'Beam Quality Factor: {kQ:.3f}')"
   ]
  },
  {
   "cell_type": "markdown",
   "metadata": {},
   "source": [
    "## Part B"
   ]
  },
  {
   "cell_type": "markdown",
   "metadata": {},
   "source": [
    "For electron beams\n",
    "\n",
    "$$d_{ref} = 0.6R_{50}-0.1$$\n",
    "\n",
    "(Lecture 8)"
   ]
  },
  {
   "cell_type": "code",
   "execution_count": 19,
   "metadata": {},
   "outputs": [
    {
     "name": "stdout",
     "output_type": "stream",
     "text": [
      "Reference Depth: 4.93 cm\n"
     ]
    }
   ],
   "source": [
    "dref = 0.6*R50 - 0.1\n",
    "print(f'Reference Depth: {dref:.2f} cm')"
   ]
  },
  {
   "cell_type": "markdown",
   "metadata": {},
   "source": [
    "## Part C"
   ]
  },
  {
   "cell_type": "markdown",
   "metadata": {},
   "source": [
    "The Ion recombination factor estimated using low and high voltages is $$P_{ion} = \\left(1-\\frac{V_H}{V_L}\\right)/\\left(\\frac{M_{raw}^H}{M_{raw}^L} - \\frac{V_H}{V_L}\\right)$$\n",
    "\n",
    "* This also holds for constant rates $\\dot{M} = M/T$, since the time factors cancel out\n"
   ]
  },
  {
   "cell_type": "code",
   "execution_count": 20,
   "metadata": {},
   "outputs": [
    {
     "name": "stdout",
     "output_type": "stream",
     "text": [
      "The ion correction factor is 1.00926\n"
     ]
    }
   ],
   "source": [
    "VH = 300\n",
    "VL = 150\n",
    "MH = 22\n",
    "ML = 21.8\n",
    "Pion = (1-VH/VL)/(MH/ML-VH/VL)\n",
    "print(f'The ion correction factor is {Pion:.5f}')"
   ]
  },
  {
   "cell_type": "markdown",
   "metadata": {},
   "source": [
    "## Part D"
   ]
  },
  {
   "cell_type": "markdown",
   "metadata": {},
   "source": [
    "The Polarization correction factor estimated using positive and negative voltages is\n",
    "$$P_{pol} = \\frac{M_{raw}^+-M_{raw}^-}{2M_{raw}^+}$$"
   ]
  },
  {
   "cell_type": "code",
   "execution_count": 21,
   "metadata": {},
   "outputs": [
    {
     "name": "stdout",
     "output_type": "stream",
     "text": [
      "The polarization correction factor is 1.00227\n"
     ]
    }
   ],
   "source": [
    "M_pos = 22\n",
    "M_neg = -22.1\n",
    "Ppol = (M_pos-M_neg)/(2*M_pos)\n",
    "print(f'The polarization correction factor is {Ppol:.5f}')"
   ]
  },
  {
   "cell_type": "markdown",
   "metadata": {},
   "source": [
    "## Part E"
   ]
  },
  {
   "cell_type": "markdown",
   "metadata": {},
   "source": [
    "Let's consolidate the correction factors:"
   ]
  },
  {
   "cell_type": "code",
   "execution_count": 22,
   "metadata": {},
   "outputs": [],
   "source": [
    "'''Compute PTP'''\n",
    "T_w = (24+273.15) #K\n",
    "P_air = 103 #mmHg\n",
    "PTP = (T_w/295.2)*(101.33/P_air)\n",
    "'''Compute Total Factor'''\n",
    "P = Pion*PTP*Ppol"
   ]
  },
  {
   "cell_type": "markdown",
   "metadata": {},
   "source": [
    "Now compute the dose rate:\n",
    "\n",
    "$$\\dot{D} = \\left(\\prod P_i\\right) k_Q N_{^{60}Co} \\dot{M}_{raw}$$\n",
    "\n",
    "* This was obtained by differentiating the regular equation. Rate is WRT monitor units."
   ]
  },
  {
   "cell_type": "code",
   "execution_count": 25,
   "metadata": {},
   "outputs": [
    {
     "name": "stdout",
     "output_type": "stream",
     "text": [
      "The dose rate is 0.99876 Gy/MU\n"
     ]
    }
   ],
   "source": [
    "Nco = 51.3 #mGy/nC\n",
    "D = P * kQ * Nco * MH / 1e3\n",
    "print(f'The dose rate is {D:.5f} Gy/MU')"
   ]
  },
  {
   "cell_type": "markdown",
   "metadata": {},
   "source": [
    "# Question 10"
   ]
  },
  {
   "cell_type": "code",
   "execution_count": 48,
   "metadata": {},
   "outputs": [],
   "source": [
    "NCo = 95 #mGy.nC\n",
    "T0 = (22 + 273.15)\n",
    "P0 = 101.3\n",
    "T = (25 + 273.15)\n",
    "P = 102\n",
    "M = 22\n",
    "Imax = 100\n",
    "I_dref = 65\n",
    "I_dref_plus = 64.3\n",
    "I_dref_min = 65.6"
   ]
  },
  {
   "cell_type": "markdown",
   "metadata": {},
   "source": [
    "## Part A"
   ]
  },
  {
   "cell_type": "markdown",
   "metadata": {},
   "source": [
    "Asssuming the same ionization chamber as the previous problems"
   ]
  },
  {
   "cell_type": "code",
   "execution_count": null,
   "metadata": {},
   "outputs": [],
   "source": [
    "I50 = \n",
    "rcav = 0.305 #cm #TG51, Table 3\n",
    "kecal = 0.897 #TG51, Table 3\n",
    "'''Compute'''\n",
    "R50 = 1.029*I50 - 0.06\n",
    "kR50_p = 0.9905+0.0710*np.exp(-R50/3.67)\n",
    "Pgr = I_dref_plus/I_dref\n",
    "kQ = Pgr * kR50_p * kecal\n",
    "print(f'Beam Quality Factor: {kQ:.3f}')"
   ]
  },
  {
   "cell_type": "markdown",
   "metadata": {},
   "source": [
    "## Part A "
   ]
  },
  {
   "cell_type": "markdown",
   "metadata": {},
   "source": [
    "Assuming $PDD = I_{10cm}/I_{max}$ we get"
   ]
  },
  {
   "cell_type": "code",
   "execution_count": 49,
   "metadata": {},
   "outputs": [],
   "source": [
    "PDD = I_dref / Imax * 100"
   ]
  },
  {
   "cell_type": "markdown",
   "metadata": {},
   "source": [
    "Now we know\n",
    "\n",
    "$$k_Q = A + B(PDD) + C(PDD)^2$$\n",
    "\n",
    "is valid in this range where $A$ $B$ and $C$ are given in lecture 8 slide 13."
   ]
  },
  {
   "cell_type": "code",
   "execution_count": 51,
   "metadata": {},
   "outputs": [
    {
     "name": "stdout",
     "output_type": "stream",
     "text": [
      "Beam Quality Factor: 0.99354\n"
     ]
    }
   ],
   "source": [
    "A = 0.9652\n",
    "B = 2.141e-3\n",
    "C = -2.623e-5\n",
    "kQ = A + B*PDD + C*PDD**2\n",
    "print(f'Beam Quality Factor: {kQ:.5f}')"
   ]
  },
  {
   "cell_type": "markdown",
   "metadata": {},
   "source": [
    "## Part B"
   ]
  },
  {
   "cell_type": "code",
   "execution_count": 53,
   "metadata": {},
   "outputs": [
    {
     "name": "stdout",
     "output_type": "stream",
     "text": [
      "Temperature-Pressure Corrected Reading 65.21007nC\n"
     ]
    }
   ],
   "source": [
    "PTP = (T/T0)*(P0/P)\n",
    "I_corr = PTP * I_dref\n",
    "print(f'Temperature-Pressure Corrected Reading {I_corr:.5f}nC')"
   ]
  },
  {
   "cell_type": "markdown",
   "metadata": {},
   "source": [
    "## Part C"
   ]
  },
  {
   "cell_type": "markdown",
   "metadata": {},
   "source": [
    "The reference depth is 10cm"
   ]
  },
  {
   "cell_type": "markdown",
   "metadata": {},
   "source": [
    "## Part D"
   ]
  },
  {
   "cell_type": "markdown",
   "metadata": {},
   "source": [
    "Assuming a 6MV beam"
   ]
  }
 ],
 "metadata": {
  "kernelspec": {
   "display_name": "Python 3",
   "language": "python",
   "name": "python3"
  },
  "language_info": {
   "codemirror_mode": {
    "name": "ipython",
    "version": 3
   },
   "file_extension": ".py",
   "mimetype": "text/x-python",
   "name": "python",
   "nbconvert_exporter": "python",
   "pygments_lexer": "ipython3",
   "version": "3.6.9"
  }
 },
 "nbformat": 4,
 "nbformat_minor": 4
}
