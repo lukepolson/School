{
 "cells": [
  {
   "cell_type": "code",
   "execution_count": 1,
   "metadata": {},
   "outputs": [],
   "source": [
    "import numpy as np\n",
    "import matplotlib.pyplot as plt\n",
    "import pandas as pd\n",
    "from scipy import interpolate\n",
    "plt.style.use(['science', 'notebook'])\n",
    "from openpyxl import load_workbook\n",
    "import imageio\n",
    "from scipy.interpolate import interp1d, interp2d\n",
    "from scipy.optimize import minimize\n",
    "import pint\n",
    "u = pint.UnitRegistry()\n",
    "u.define('U = u.microGy * u.m**2 / u.hour = U')"
   ]
  },
  {
   "cell_type": "markdown",
   "metadata": {},
   "source": [
    "Units for $U$"
   ]
  },
  {
   "cell_type": "markdown",
   "metadata": {},
   "source": [
    "Load spreadsheets"
   ]
  },
  {
   "cell_type": "code",
   "execution_count": 2,
   "metadata": {},
   "outputs": [],
   "source": [
    "def get_data_datasheet(file, sheet, skiprows, usecols, nrows, add_init=None):\n",
    "    arr = pd.read_excel(file, sheet_name=sheet, skiprows=skiprows[0], nrows=nrows[0], usecols=usecols[0]).to_numpy().ravel()\n",
    "    idx = pd.read_excel(file, sheet_name=sheet, skiprows=skiprows[1], nrows=nrows[1], usecols=usecols[1]).to_numpy().ravel()\n",
    "    return arr, idx\n",
    "\n",
    "def get_interp_datasheet_1D(file, sheet, skiprows, usecols, nrows, add_init=None, scale=1):\n",
    "    arr = pd.read_excel(file, sheet_name=sheet, skiprows=skiprows[0], nrows=nrows[0], usecols=usecols[0]).to_numpy().ravel()/scale\n",
    "    idx = pd.read_excel(file, sheet_name=sheet, skiprows=skiprows[1], nrows=nrows[1], usecols=usecols[1]).to_numpy().ravel()\n",
    "    if add_init:\n",
    "        idx = np.insert(idx,0,add_init[0])\n",
    "        arr = np.insert(arr,0,add_init[1])\n",
    "    #return interp1d(idx, arr, kind='linear', bounds_error=False, fill_value=(arr.ravel()[0], arr.ravel()[-1]))\n",
    "    return np.vectorize(interp1d(idx, arr, kind='linear', bounds_error=False, fill_value='extrapolate'))\n",
    "\n",
    "def get_data_datasheet_2D(file, sheet, skiprows, usecols, nrows, scale=1):\n",
    "    arr = pd.read_excel(file, sheet_name=sheet, skiprows=skiprows[0], nrows=nrows[0], usecols=usecols[0]).to_numpy()/scale\n",
    "    idx1 = pd.read_excel(file, sheet_name=sheet, skiprows=skiprows[2], nrows=nrows[2], usecols=usecols[2]).to_numpy().ravel()\n",
    "    idx2 = pd.read_excel(file, sheet_name=sheet, skiprows=skiprows[1], nrows=nrows[1], usecols=usecols[1]).to_numpy().ravel()\n",
    "    return arr, idx1, idx2\n",
    "\n",
    "def get_interp_datasheet_2D(file, sheet, skiprows, usecols, nrows, scale=1):\n",
    "    arr = pd.read_excel(file, sheet_name=sheet, skiprows=skiprows[0], nrows=nrows[0], usecols=usecols[0]).to_numpy()/scale\n",
    "    idx1 = pd.read_excel(file, sheet_name=sheet, skiprows=skiprows[2], nrows=nrows[2], usecols=usecols[2]).to_numpy().ravel()\n",
    "    idx2 = pd.read_excel(file, sheet_name=sheet, skiprows=skiprows[1], nrows=nrows[1], usecols=usecols[1]).to_numpy().ravel()\n",
    "    return np.vectorize(interp2d(idx1, idx2, arr))\n"
   ]
  },
  {
   "cell_type": "markdown",
   "metadata": {},
   "source": [
    "Get interpolation functions"
   ]
  },
  {
   "cell_type": "code",
   "execution_count": 3,
   "metadata": {},
   "outputs": [],
   "source": [
    "%%capture\n",
    "# Arguments: r\n",
    "g_Ir_int = get_interp_datasheet_1D('DATA4.xlsm', 'Ir-192 HDR', skiprows=[7,7],\n",
    "                                     usecols=['C', 'B'], nrows=[18,18])\n",
    "# Arguments: theta, r\n",
    "F_Ir_int = get_interp_datasheet_2D('DATA4.xlsm', 'Ir-192 HDR', skiprows=[29,29,28],\n",
    "                                     usecols=['B:AV','A', 'B:AV'], nrows=[20,20,1])\n",
    "# Arguments: r\n",
    "g_Ir_LDR_int = get_interp_datasheet_1D('DATA4.xlsm', 'Ir-192 LDR', skiprows=[7,7],\n",
    "                                     usecols=['C', 'B'], nrows=[17,17])\n",
    "# Arguments: theta, r\n",
    "F_Ir_LDR_int = get_interp_datasheet_2D('DATA4.xlsm', 'Ir-192 LDR', skiprows=[28,28,27],\n",
    "                                     usecols=['B:AV','A', 'B:AV'], nrows=[14,14,1])\n",
    "# Arguments: r\n",
    "gp_Pd_int = get_interp_datasheet_1D('DATA4.xlsm', 'Pd-103', skiprows=[7,7],\n",
    "                                     usecols=['B', 'A'], nrows=[20,20])\n",
    "# Arguments: r\n",
    "gl_Pd_int = get_interp_datasheet_1D('DATA4.xlsm', 'Pd-103', skiprows=[7,7],\n",
    "                                     usecols=['E', 'D'], nrows=[20,20])\n",
    "# Arguments: theta, r\n",
    "F_Pd_int = get_interp_datasheet_2D('DATA4.xlsm', 'Pd-103', skiprows=[31,31,30],\n",
    "                                     usecols=['B:U','A', 'B:U'], nrows=[13,13,1])\n",
    "# Arguments: h, active length\n",
    "PP_int = get_interp_datasheet_2D('DATA4.xlsm', 'PP Line', skiprows=[5,5,4],\n",
    "                                     usecols=['J:O:','A', 'J:O'], nrows=[31,31,1])"
   ]
  },
  {
   "cell_type": "markdown",
   "metadata": {},
   "source": [
    "# Question 1"
   ]
  },
  {
   "cell_type": "markdown",
   "metadata": {},
   "source": [
    "## Part A"
   ]
  },
  {
   "cell_type": "markdown",
   "metadata": {},
   "source": [
    "The ratio of dose deposited at time $t$ vs. the total dose deposited is\n",
    "\n",
    "$$\\frac{D(r,\\theta,t)}{D(r,\\theta,\\infty)} = 1-e^{-\\lambda t}$$\n",
    "\n",
    "Setting this equal to 0.95 (95% dose deposited), we get\n",
    "\n",
    "$$t=-\\frac{1}{\\lambda}\\ln(0.05)$$"
   ]
  },
  {
   "cell_type": "code",
   "execution_count": 4,
   "metadata": {},
   "outputs": [],
   "source": [
    "lam_I125 = 0.00049 * u.hour**-1\n",
    "lam_P103 = 0.0017 * u.hour**-1"
   ]
  },
  {
   "cell_type": "markdown",
   "metadata": {},
   "source": [
    "Get times"
   ]
  },
  {
   "cell_type": "code",
   "execution_count": 5,
   "metadata": {},
   "outputs": [
    {
     "name": "stdout",
     "output_type": "stream",
     "text": [
      "Time for I125: 254.74 day\n",
      "Time for P103: 73.42 day\n"
     ]
    }
   ],
   "source": [
    "t_I125 = -1/lam_I125 * np.log(0.05)\n",
    "t_P103 = -1/lam_P103 * np.log(0.05)\n",
    "print(f'Time for I125: {t_I125.to(u.day):.2f}')\n",
    "print(f'Time for P103: {t_P103.to(u.day):.2f}')"
   ]
  },
  {
   "cell_type": "markdown",
   "metadata": {},
   "source": [
    "## Part B"
   ]
  },
  {
   "cell_type": "markdown",
   "metadata": {},
   "source": [
    "Since $D(t) = D(\\infty) (1-e^{-\\lambda t})$ we get\n",
    "\n",
    "$$\\dot{D}(t) = D(\\infty)\\lambda e^{-\\lambda t}$$\n",
    "\n",
    "At the 120% isodose we have\n",
    "\n",
    "$$D(\\infty)  = 1.2 \\cdot \\text{Prescribed Dose}$$"
   ]
  },
  {
   "cell_type": "code",
   "execution_count": 6,
   "metadata": {},
   "outputs": [],
   "source": [
    "lam_Cs131 = np.log(2)/(9.7*u.day)\n",
    "lam_Cs131 = lam_Cs131.to(u.hour**-1).magnitude"
   ]
  },
  {
   "cell_type": "markdown",
   "metadata": {},
   "source": [
    "Get prescribed doses and $\\lambda$s for each dose plan"
   ]
  },
  {
   "cell_type": "code",
   "execution_count": 7,
   "metadata": {},
   "outputs": [],
   "source": [
    "PDs = np.array([145, 125, 115])*u.Gy\n",
    "lams = np.array([0.00049, 0.0017, lam_Cs131]) * u.hour**-1\n",
    "t = np.linspace(0, 100, 100)*u.day"
   ]
  },
  {
   "cell_type": "markdown",
   "metadata": {},
   "source": [
    "Get dose rates"
   ]
  },
  {
   "cell_type": "code",
   "execution_count": 8,
   "metadata": {},
   "outputs": [],
   "source": [
    "Ds = [1.2*PD*lam*np.exp(-lam*t) for PD, lam in zip(PDs, lams)]\n",
    "Ds = [D.to(u.cGy/u.hour) for D in Ds]"
   ]
  },
  {
   "cell_type": "code",
   "execution_count": 9,
   "metadata": {},
   "outputs": [
    {
     "data": {
      "image/png": "[encoded data removed]",
      "text/plain": [
       "<Figure size 700x400 with 1 Axes>"
      ]
     },
     "metadata": {},
     "output_type": "display_data"
    }
   ],
   "source": [
    "plt.figure(figsize=(7,4))\n",
    "plt.plot(t.magnitude, Ds[0].magnitude, label='Plan 1')\n",
    "plt.plot(t.magnitude, Ds[1].magnitude, label='Plan 2')\n",
    "plt.plot(t.magnitude, Ds[2].magnitude, label='Plan 3')\n",
    "plt.ylabel('Dose Rate [cGy/hour]')\n",
    "plt.xlabel('Days')\n",
    "plt.grid()\n",
    "plt.legend(fontsize=15, facecolor='white', framealpha=1, frameon=True, loc='upper right')\n",
    "plt.show()"
   ]
  },
  {
   "cell_type": "markdown",
   "metadata": {},
   "source": [
    "## Part C"
   ]
  },
  {
   "cell_type": "markdown",
   "metadata": {},
   "source": [
    "The time to resolution of acute urinary morbitity could be modeled as a lag time $t_0$ after the dose rate falls below a dose rate threshhold of $\\dot{D}_0$. In the plot above, although Plan 3 starts with the largest dose rate, it also reaches smaller dose rates faster. In some cases, it may be worthwhile having a plan that starts with a higher dose rate at earlier times as long as it falls below the dose rate threshhold $\\dot{D}_0$ faster than other plans. Since the toxicity symptoms are acute, this is a reasonable model."
   ]
  },
  {
   "cell_type": "markdown",
   "metadata": {},
   "source": [
    "# Question 2"
   ]
  },
  {
   "cell_type": "markdown",
   "metadata": {},
   "source": [
    "For all questions, we will need the angle $\\beta$. This is given by\n",
    "\n",
    "$$\\beta = \\tan^{-1}\\left(\\frac{r\\sin\\theta}{r\\cos\\theta-L/2}\\right) - \\tan^{-1}\\left(\\frac{r\\sin\\theta}{r\\cos\\theta+L/2}\\right)$$"
   ]
  },
  {
   "cell_type": "code",
   "execution_count": 10,
   "metadata": {},
   "outputs": [],
   "source": [
    "def Beta(r, theta, L):\n",
    "    return np.arctan2(L/2 - r*np.cos(theta), r*np.sin(theta)) \\\n",
    "          - np.arctan2(-L/2 - r*np.cos(theta), r*np.sin(theta))\n",
    "\n",
    "def GL(r, theta, L, eps=1e-5):\n",
    "    return Beta(r, theta+eps, L) / (L*r*np.sin(theta+eps))"
   ]
  },
  {
   "cell_type": "markdown",
   "metadata": {},
   "source": [
    "## Part A"
   ]
  },
  {
   "cell_type": "markdown",
   "metadata": {},
   "source": [
    "Using \n",
    "\n",
    "$$D(r,\\theta,t) = \\frac{S_{K_0}}{\\lambda} \\Lambda (1-e^{-\\lambda t}) \\frac{G_L(r,\\theta)}{G_L(r_0, \\theta_0)}g_L(r)F(r,\\theta)$$\n",
    "\n",
    "we get\n",
    "\n",
    "$$(1-e^{-\\lambda t}) = D \\cdot \\left( \\frac{S_{K_0}}{\\lambda} \\Lambda \\frac{G_L(r,\\theta)}{G_L(r_0, \\theta_0)}g_L(r)F(r,\\theta) \\right)^{-1} \\equiv P$$\n",
    "\n",
    "so \n",
    "\n",
    "$$t = -\\frac{1}{\\lambda}\\ln(1-P)$$"
   ]
  },
  {
   "cell_type": "markdown",
   "metadata": {},
   "source": [
    "Define all parameters"
   ]
  },
  {
   "cell_type": "code",
   "execution_count": 11,
   "metadata": {},
   "outputs": [],
   "source": [
    "A = 10*u.Ci\n",
    "Gam = 4.03 * u.U / u.mCi\n",
    "lam = 0.00039 / u.hour\n",
    "Lam = 1.11 * u.cGy / u.hour / u.U\n",
    "SK0 = A * Gam\n",
    "L = 0.36*u.cm\n",
    "r0 = 1 * u.cm\n",
    "rQ = 3*u.cm\n",
    "rA = 2*u.cm\n",
    "rB = 3*u.cm\n",
    "rC = 3*u.cm\n",
    "the0 = np.pi/2\n",
    "theQ = np.pi/2\n",
    "theA = np.pi/2\n",
    "theB = 0\n",
    "theC = 10 * np.pi/180\n",
    "D = 3.4 * u.Gy"
   ]
  },
  {
   "cell_type": "markdown",
   "metadata": {},
   "source": [
    "Calculate $P$ (defined above)"
   ]
  },
  {
   "cell_type": "code",
   "execution_count": 12,
   "metadata": {},
   "outputs": [],
   "source": [
    "P = D * (SK0 * Lam / lam * GL(rQ,theQ,L)/GL(r0,the0,L) \\\n",
    "    * g_Ir_int(rQ.to('cm').magnitude) \\\n",
    "    * F_Ir_int(theQ*180/np.pi, rQ.to('cm').magnitude))**-1\n",
    "P = P.to_base_units()"
   ]
  },
  {
   "cell_type": "markdown",
   "metadata": {},
   "source": [
    "Calculate $t$"
   ]
  },
  {
   "cell_type": "code",
   "execution_count": 13,
   "metadata": {},
   "outputs": [
    {
     "name": "stdout",
     "output_type": "stream",
     "text": [
      "Time Required: 4.03 minute\n"
     ]
    }
   ],
   "source": [
    "t = -1/lam * np.log(1-P)\n",
    "print(f'Time Required: {t.to(u.min)[0]:.2f}')"
   ]
  },
  {
   "cell_type": "markdown",
   "metadata": {},
   "source": [
    "## Part B"
   ]
  },
  {
   "cell_type": "markdown",
   "metadata": {},
   "source": [
    "The only thing that changes here is the initial activity of the source, which decays exponentially. \n",
    "\n",
    "* First day is 29 days after calibration\n",
    "* Last treatment is on a Tuesday 13 days after the initial day"
   ]
  },
  {
   "cell_type": "code",
   "execution_count": 14,
   "metadata": {},
   "outputs": [],
   "source": [
    "A_first = A * np.exp(-lam * 29*u.day)\n",
    "A_last = A * np.exp(-lam * 42*u.day)"
   ]
  },
  {
   "cell_type": "markdown",
   "metadata": {},
   "source": [
    "Function to compute time given initial activity $A$ at time of treatment"
   ]
  },
  {
   "cell_type": "code",
   "execution_count": 15,
   "metadata": {},
   "outputs": [],
   "source": [
    "def compute_time(A):\n",
    "    P = D * (A*Gam * Lam / lam * GL(rQ,theQ,L)/GL(r0,the0,L) \\\n",
    "        * g_Ir_int(rQ.to('cm').magnitude) \\\n",
    "        * F_Ir_int(theQ*180/np.pi, rQ.to('cm').magnitude))**-1\n",
    "    P = P.to_base_units()\n",
    "    return -1/lam * np.log(1-P)"
   ]
  },
  {
   "cell_type": "markdown",
   "metadata": {},
   "source": [
    "Print times required"
   ]
  },
  {
   "cell_type": "code",
   "execution_count": 16,
   "metadata": {},
   "outputs": [
    {
     "name": "stdout",
     "output_type": "stream",
     "text": [
      "Time for first fraction: 5.29 minute\n"
     ]
    }
   ],
   "source": [
    "print(f'Time for first fraction: {compute_time(A_first).to(u.min)[0]:.2f}')"
   ]
  },
  {
   "cell_type": "code",
   "execution_count": 17,
   "metadata": {},
   "outputs": [
    {
     "name": "stdout",
     "output_type": "stream",
     "text": [
      "Time for last fraction: 5.98 minute\n"
     ]
    }
   ],
   "source": [
    "print(f'Time for last fraction: {compute_time(A_last).to(u.min)[0]:.2f}')"
   ]
  },
  {
   "cell_type": "markdown",
   "metadata": {},
   "source": [
    "To get the TRAK, we use"
   ]
  },
  {
   "cell_type": "code",
   "execution_count": 18,
   "metadata": {},
   "outputs": [
    {
     "name": "stdout",
     "output_type": "stream",
     "text": [
      "TRAK Fraction 1: 9.75e+06 U * second\n",
      "TRAK Fraction 10: 9.75e+06 U * second\n"
     ]
    }
   ],
   "source": [
    "def TRAK(A):\n",
    "    t = compute_time(A)[0]\n",
    "    return A*Gam/lam * (1-np.exp(-lam*t))\n",
    "\n",
    "print(f'TRAK Fraction 1: {TRAK(A_first).to(u.U*u.s):.2e}')\n",
    "print(f'TRAK Fraction 10: {TRAK(A_last).to(u.U*u.s):.2e}')"
   ]
  },
  {
   "cell_type": "markdown",
   "metadata": {},
   "source": [
    "Note that the TRAK is the same for both"
   ]
  },
  {
   "cell_type": "markdown",
   "metadata": {},
   "source": [
    "## Part C"
   ]
  },
  {
   "cell_type": "markdown",
   "metadata": {},
   "source": [
    "The dose can be written as \n",
    "\n",
    "$$D(r,\\theta,t) = \\frac{S_{K_0}}{\\lambda} \\Lambda \\frac{G_L(r,\\theta)}{G_L(r_0, \\theta_0)}g_L(r)F(r,\\theta) \\cdot h(t)$$\n",
    "\n",
    "where $h(t)$ is some function of $t$, so we have\n",
    "\n",
    "$$\\frac{D_i}{D_Q} = \\frac{G_L(r_i,\\theta_i)}{G_L(r_Q,\\theta_Q)} \\frac{g_L(r_i)}{g_L(r_Q)} \\frac{F(r_i,\\theta_i)}{F(r_Q,\\theta_Q)}$$"
   ]
  },
  {
   "cell_type": "code",
   "execution_count": 19,
   "metadata": {},
   "outputs": [],
   "source": [
    "def compute_Di(rQ, theQ, ri, thei, DQ):\n",
    "    return DQ * GL(ri, thei, L)/GL(rQ, theQ, L) \\\n",
    "              * g_Ir_int(ri.to('cm').magnitude) / g_Ir_int(rQ.to('cm').magnitude) \\\n",
    "              * F_Ir_int(thei*180/np.pi, ri.to('cm').magnitude) / F_Ir_int(theQ*180/np.pi, rQ.to('cm').magnitude)"
   ]
  },
  {
   "cell_type": "markdown",
   "metadata": {},
   "source": [
    "Print corresponding doses:"
   ]
  },
  {
   "cell_type": "code",
   "execution_count": 20,
   "metadata": {},
   "outputs": [
    {
     "name": "stdout",
     "output_type": "stream",
     "text": [
      "Dose to A: 76.16 Gy\n",
      "Dose to B: 22.21 Gy\n",
      "Dose to C: 26.30 Gy\n"
     ]
    }
   ],
   "source": [
    "print(f'Dose to A: {compute_Di(rQ, theQ, rA, theA, 34*u.Gy)[0].magnitude:.2f} Gy')\n",
    "print(f'Dose to B: {compute_Di(rQ, theQ, rB, theB, 34*u.Gy)[0].magnitude:.2f} Gy')\n",
    "print(f'Dose to C: {compute_Di(rQ, theQ, rC, theC, 34*u.Gy)[0].magnitude:.2f} Gy')"
   ]
  },
  {
   "cell_type": "markdown",
   "metadata": {},
   "source": [
    "# Question 3"
   ]
  },
  {
   "cell_type": "markdown",
   "metadata": {},
   "source": [
    "## Part A"
   ]
  },
  {
   "cell_type": "markdown",
   "metadata": {},
   "source": [
    "Like in the previous problem, for each source we have\n",
    "\n",
    "$$D(r_i,\\theta_i,t) = \\frac{S_{K_0}}{\\lambda} \\Lambda (1-e^{-\\lambda t}) \\frac{G_L(r_i,\\theta_i)}{G_L(r_0, \\theta_0)}g_L(r_i)F(r_i,\\theta_i)$$\n",
    "\n",
    "So the total dose is\n",
    "\n",
    "$$D = \\left(\\sum_{i=1}^5 \\frac{S_{K_0}}{\\lambda} \\Lambda \\frac{G_L(r_i,\\theta_i)}{G_L(r_0, \\theta_0)}g_L(r_i)F(r_i,\\theta_i) \\right)  (1-e^{-\\lambda t}) $$\n",
    "\n",
    "we get\n",
    "\n",
    "$$(1-e^{-\\lambda t}) = D \\cdot \\left(\\sum_{i=1}^5 \\frac{S_{K_0}}{\\lambda} \\Lambda \\frac{G_L(r_i,\\theta_i)}{G_L(r_0, \\theta_0)}g_L(r_i)F(r_i,\\theta_i) \\right)^{-1} \\equiv P$$\n",
    "\n",
    "so \n",
    "\n",
    "$$t = -\\frac{1}{\\lambda}\\ln(1-P)$$\n",
    "\n",
    "The values of $r_i$ and $\\theta_i$ are given by the diagram below"
   ]
  },
  {
   "cell_type": "markdown",
   "metadata": {},
   "source": [
    "Define all values"
   ]
  },
  {
   "cell_type": "code",
   "execution_count": 21,
   "metadata": {},
   "outputs": [],
   "source": [
    "A = 3*u.mCi\n",
    "Gam = 4.03 * u.U / u.mCi\n",
    "lam = 0.00039 / u.hour\n",
    "Lam = 1.11 * u.cGy / u.hour / u.U\n",
    "SK0 = A * Gam\n",
    "L = 0.3*u.cm\n",
    "xs = np.array([2, 1, 0, 1, 2]) * u.cm\n",
    "y = 2 * u.cm\n",
    "thetas = np.arctan(xs/y)\n",
    "rs = np.sqrt(xs**2+y**2)\n",
    "D = 3.4 * u.Gy"
   ]
  },
  {
   "cell_type": "markdown",
   "metadata": {},
   "source": [
    "The function below computes one of the terms\n",
    "\n",
    "$$\\frac{S_{K_0}}{\\lambda} \\Lambda \\frac{G_L(r_i,\\theta_i)}{G_L(r_0, \\theta_0)}g_L(r_i)F(r_i,\\theta_i)$$"
   ]
  },
  {
   "cell_type": "code",
   "execution_count": 22,
   "metadata": {},
   "outputs": [],
   "source": [
    "def compute_sum_term(r, the, g, F, r0=1*u.cm, the0=np.pi/2):\n",
    "    return SK0 * Lam / lam * GL(r,the,L)/GL(r0,the0,L) \\\n",
    "               * g(r.to('cm').magnitude) \\\n",
    "               * F(the, r.to('cm').magnitude)"
   ]
  },
  {
   "cell_type": "markdown",
   "metadata": {},
   "source": [
    "This is used to compute $P$:"
   ]
  },
  {
   "cell_type": "code",
   "execution_count": 23,
   "metadata": {},
   "outputs": [
    {
     "name": "stderr",
     "output_type": "stream",
     "text": [
      "C:\\Users\\lukep\\anaconda3\\lib\\site-packages\\numpy\\lib\\function_base.py:2195: UnitStrippedWarning: The unit of the quantity is stripped when downcasting to ndarray.\n",
      "  args = [asarray(arg) for arg in args]\n",
      "C:\\Users\\lukep\\anaconda3\\lib\\site-packages\\numpy\\lib\\function_base.py:2244: UnitStrippedWarning: The unit of the quantity is stripped when downcasting to ndarray.\n",
      "  inputs = [asanyarray(a, dtype=object) for a in args]\n"
     ]
    }
   ],
   "source": [
    "P = D * sum(compute_sum_term(rs, thetas, g_Ir_LDR_int, F_Ir_LDR_int))**-1"
   ]
  },
  {
   "cell_type": "markdown",
   "metadata": {},
   "source": [
    "and then to get $t$:"
   ]
  },
  {
   "cell_type": "code",
   "execution_count": 24,
   "metadata": {},
   "outputs": [
    {
     "name": "stdout",
     "output_type": "stream",
     "text": [
      "Time Required: 40.84 hour\n"
     ]
    }
   ],
   "source": [
    "t = -1/lam * np.log(1-P)\n",
    "print(f'Time Required: {t.to(u.hour):.2f}')"
   ]
  },
  {
   "cell_type": "markdown",
   "metadata": {},
   "source": [
    "## Part B"
   ]
  },
  {
   "cell_type": "markdown",
   "metadata": {},
   "source": [
    "We know the the amount of dose administered is proportional to the amount of activity times time\n",
    "\n",
    "$$\\frac{D_{X\\%}}{D_{100\\%}} = \\frac{A_X \\cdot t_X}{A_{100\\%} \\cdot t_{100\\%}}$$\n",
    "\n",
    "The Paterson parkers given $N(h_X)$ such that $N(h_X) \\cdot A \\cdot t = 10~$Gy. Thus $A \\cdot t \\propto N^{-1}$ and \n",
    "\n",
    "$$\\frac{D_{X\\%}}{D_{100\\%}} = \\frac{N(h_{100\\%})}{N(h_{X\\%})}$$\n",
    "\n",
    "we want to find the distances $h_{X\\%}$ such that the fraction on the right equals either 200% or 56%. We do this by minimizing the objective function \n",
    "\n",
    "$$\\left|\\frac{D_{X\\%}}{D_{100\\%}} - \\frac{N(h_{100\\%})}{N(h_{X\\%})}\\right|$$\n",
    "\n",
    "with respect to $h_{X\\%}$"
   ]
  },
  {
   "cell_type": "code",
   "execution_count": 25,
   "metadata": {},
   "outputs": [],
   "source": [
    "def min_func(h, percent=100):\n",
    "    return np.abs(percent - 100* PP_int(2, L.magnitude) \\\n",
    "                                /PP_int(h, L.magnitude))"
   ]
  },
  {
   "cell_type": "markdown",
   "metadata": {},
   "source": [
    "Get values"
   ]
  },
  {
   "cell_type": "code",
   "execution_count": 26,
   "metadata": {},
   "outputs": [],
   "source": [
    "%%capture\n",
    "h_200 = minimize(min_func, x0=1, args=(200), method='Nelder-Mead').x[0]\n",
    "h_56 = minimize(min_func, x0=1, args=(56), method='Nelder-Mead').x[0]"
   ]
  },
  {
   "cell_type": "code",
   "execution_count": 27,
   "metadata": {},
   "outputs": [
    {
     "name": "stdout",
     "output_type": "stream",
     "text": [
      "Distance corresponding to 200% isodose line: 1.39510 cm\n",
      "Distance corresponding to 56% isodose line: 2.66256 cm\n"
     ]
    }
   ],
   "source": [
    "print(f'Distance corresponding to 200% isodose line: {h_200:.5f} cm')\n",
    "print(f'Distance corresponding to 56% isodose line: {h_56:.5f} cm')"
   ]
  },
  {
   "cell_type": "markdown",
   "metadata": {},
   "source": [
    "Get relative differences to true values to determine how well Paterson-Parker tables predict these values"
   ]
  },
  {
   "cell_type": "code",
   "execution_count": 28,
   "metadata": {},
   "outputs": [],
   "source": [
    "PD200 = np.abs(h_200 - 1.23)/1.23 * 100\n",
    "PD56 = np.abs(h_56 - 2.92)/2.92 * 100"
   ]
  },
  {
   "cell_type": "code",
   "execution_count": 29,
   "metadata": {},
   "outputs": [
    {
     "name": "stdout",
     "output_type": "stream",
     "text": [
      "Percent Difference (distance) of 200% isodose line: 13.42317%\n",
      "Percent Difference (distance) of 56% isodose line: 8.81640 %\n"
     ]
    }
   ],
   "source": [
    "print(f'Percent Difference (distance) of 200% isodose line: {PD200:.5f}%')\n",
    "print(f'Percent Difference (distance) of 56% isodose line: {PD56:.5f} %')"
   ]
  },
  {
   "cell_type": "markdown",
   "metadata": {},
   "source": [
    "The percent differences with the actual distances is on the order of 10%. For the scaling of this particular problem, this corresponds to errors on the order of a few millimeters."
   ]
  },
  {
   "cell_type": "markdown",
   "metadata": {},
   "source": [
    "# Question 4"
   ]
  },
  {
   "cell_type": "markdown",
   "metadata": {},
   "source": [
    "Define $G_P$"
   ]
  },
  {
   "cell_type": "code",
   "execution_count": 30,
   "metadata": {},
   "outputs": [],
   "source": [
    "def GP(r):\n",
    "    return 1/r**2"
   ]
  },
  {
   "cell_type": "markdown",
   "metadata": {},
   "source": [
    "Define parameters"
   ]
  },
  {
   "cell_type": "code",
   "execution_count": 31,
   "metadata": {},
   "outputs": [],
   "source": [
    "r = np.arange(0.2, 2.2, 0.01)\n",
    "r0 = 1\n",
    "the0 = np.pi/2\n",
    "L = 0.423"
   ]
  },
  {
   "cell_type": "markdown",
   "metadata": {},
   "source": [
    "Obtain quantities"
   ]
  },
  {
   "cell_type": "code",
   "execution_count": 32,
   "metadata": {},
   "outputs": [],
   "source": [
    "QA = GP(r)/GP(1) * gp_Pd_int(r)\n",
    "QB = GL(r, 0, L)/GL(r0, the0, L) * gl_Pd_int(r)\n",
    "QC = GL(r, np.pi/2, L)/GL(r0, the0, L) * gl_Pd_int(r)"
   ]
  },
  {
   "cell_type": "markdown",
   "metadata": {},
   "source": [
    "Plot"
   ]
  },
  {
   "cell_type": "code",
   "execution_count": 33,
   "metadata": {},
   "outputs": [
    {
     "data": {
      "image/png": "[encoded data removed]",
      "text/plain": [
       "<Figure size 700x300 with 1 Axes>"
      ]
     },
     "metadata": {},
     "output_type": "display_data"
    }
   ],
   "source": [
    "fig, ax = plt.subplots(1, 1, figsize=(7,3))\n",
    "ax.plot(r, QA, label='Part A') \n",
    "ax.plot(r, QB, ls='--', label='Part B') \n",
    "ax.plot(r, QC, ls='--', label='Part C') \n",
    "ax.set_xlabel('Distance [cm]')\n",
    "ax.set_ylabel('Quantity')\n",
    "ax.grid()\n",
    "ax.set_ylim(top=30, bottom=0)\n",
    "plt.legend(fontsize=15, facecolor='white', framealpha=1, frameon=True, loc='upper right')\n",
    "plt.show()"
   ]
  },
  {
   "cell_type": "markdown",
   "metadata": {},
   "source": [
    "The reason that quantity $B$ blows up at 0.2cm is because the location $(r,\\theta)=(0.2,0)$ is located inside the line source."
   ]
  },
  {
   "cell_type": "markdown",
   "metadata": {},
   "source": [
    "# Question 5"
   ]
  },
  {
   "cell_type": "markdown",
   "metadata": {},
   "source": [
    "## Part A"
   ]
  },
  {
   "cell_type": "markdown",
   "metadata": {},
   "source": [
    "We have\n",
    "\n",
    "* $(r_c, \\theta_c) = (6.9~\\text{mm}, \\pi/2)$\n",
    "* $(r_e, \\theta_e) = (\\sqrt{5^2+6.5^2}~\\text{mm}, \\pi/2)$\n",
    "\n",
    "where $c$ referes to center seed and $e$ refers to outer seed. Now the dose from the $ith$ seed is given by\n",
    "\n",
    "$$D_i(r_i,\\theta_i,t) = \\frac{S_{K_0}}{\\lambda} \\Lambda (1-e^{-\\lambda t}) \\frac{G_L(r_i,\\theta_i)}{G_L(r_0, \\theta_0)}g_L(r_i)F(r_i,\\theta_i)$$\n",
    "\n",
    "From the above\n",
    "\n",
    "$$D_{tot} = \\frac{S_{K_0}}{\\lambda} \\Lambda (1-e^{-\\lambda t}) \\frac{G_L(r_c,\\theta_c)}{G_L(r_0, \\theta_0)}g_L(r_c)F(r_c,\\theta_c) + 8 \\cdot\\frac{S_{K_0}}{\\lambda} \\Lambda (1-e^{-\\lambda t}) \\frac{G_L(r_e,\\theta_e)}{G_L(r_0, \\theta_0)}g_L(r_e)F(r_e,\\theta_i)$$\n",
    "\n",
    "so\n",
    "\n",
    "$$S_{K_0} = D_{tot} \\frac{\\lambda}{\\Lambda} \\left(1-e^{-\\lambda t} \\right)^{-1} \\left(\\frac{G_L(r_c,\\theta_c)}{G_L(r_0, \\theta_0)}g_L(r_c)F(r_c,\\theta_c) + 8 \\cdot\\frac{G_L(r_e,\\theta_e)}{G_L(r_0, \\theta_0)}g_L(r_e)F(r_e,\\theta_i) \\right)^{-1}$$"
   ]
  },
  {
   "cell_type": "code",
   "execution_count": 45,
   "metadata": {},
   "outputs": [],
   "source": [
    "rc = 6.9 * u.mm\n",
    "re = np.sqrt(5**2 + 6.5**2) * u.mm\n",
    "L = 4.23 * u.mm\n",
    "t = 168*u.hour\n",
    "D = 70*u.Gy\n",
    "lam = 0.0017 * u.hour**-1\n",
    "Lam = 0.686 * u.cGy / u.hour / u.U\n",
    "the = the0 = np.pi/2"
   ]
  },
  {
   "cell_type": "markdown",
   "metadata": {},
   "source": [
    "Function for computing positional factors"
   ]
  },
  {
   "cell_type": "code",
   "execution_count": 46,
   "metadata": {},
   "outputs": [],
   "source": [
    "def pos_factor_line(G, g, F, r, the, L, r0=1*u.cm, the0=np.pi/2):\n",
    "    return G(r,the,L)/G(r0,the0,L) * g(r.to(u.cm).magnitude) \\\n",
    "            * F(the*180/np.pi, rc.to(u.cm).magnitude)\n",
    "def pos_factor_point(G, g, F, r, the, L, r0=1*u.cm, the0=np.pi/2):\n",
    "    return G(r)/G(r0) * g(r.to(u.cm).magnitude) \\\n",
    "            * F(the*180/np.pi, r.to(u.cm).magnitude)"
   ]
  },
  {
   "cell_type": "markdown",
   "metadata": {},
   "source": [
    "Compute $S_{K_0}$, firstly using the line convention (taking into account finite length of the seeds) and secondly using point convention"
   ]
  },
  {
   "cell_type": "code",
   "execution_count": 47,
   "metadata": {},
   "outputs": [
    {
     "name": "stdout",
     "output_type": "stream",
     "text": [
      "Line Convention: Air Kerma Strength for each seed: 4.4926 U\n"
     ]
    }
   ],
   "source": [
    "SK0_line  = D * lam/Lam * (1-np.exp(-lam*t))**-1 \\\n",
    "        * (pos_factor_line(GL, gl_Pd_int, F_Pd_int, rc, the, L) \\\n",
    "          +8*pos_factor_line(GL, gl_Pd_int, F_Pd_int, re, the, L))**-1\n",
    "print(f'Line Convention: Air Kerma Strength for each seed: {SK0_line.to(u.U)[0]:.4f}')"
   ]
  },
  {
   "cell_type": "code",
   "execution_count": 48,
   "metadata": {},
   "outputs": [
    {
     "name": "stdout",
     "output_type": "stream",
     "text": [
      "Point Convention: Air Kerma Strength for each seed: 4.5010 U\n"
     ]
    }
   ],
   "source": [
    "SK0_point  = D * lam/Lam * (1-np.exp(-lam*t))**-1 \\\n",
    "        * (pos_factor_point(GP, gp_Pd_int, F_Pd_int, rc, the, L) \\\n",
    "          +8*pos_factor_point(GP, gp_Pd_int, F_Pd_int, re, the, L))**-1\n",
    "print(f'Point Convention: Air Kerma Strength for each seed: {SK0_point.to(u.U)[0]:.4f}')"
   ]
  },
  {
   "cell_type": "markdown",
   "metadata": {},
   "source": [
    "## Part B"
   ]
  },
  {
   "cell_type": "markdown",
   "metadata": {},
   "source": [
    "Like in electricity&magnetism, where a line charge becomes an effective monopole at large enough distances, so too does the line of activity in these problems. Note\n",
    "\n",
    "$$G_L(r,\\pi/2) = \\frac{\\beta}{rL} = \\frac{2\\tan^{-1}(L/2r)}{rL}$$\n",
    "\n",
    "For $L/r << 1$, this reduces to \n",
    "\n",
    "$$G_L(r,\\pi/2) \\approx \\frac{2 \\cdot L/2r}{rL} = \\frac{1}{r^2} = G_P(r)$$\n",
    "\n",
    "Since $\\tan^{-1}$ is odd (meaning that its Taylor expansion consists of only odd terms), the requirement that $L/2r << 1$ for $\\tan^{-1}(L/2r) \\approx L/2r$ is less strict than for functions containing even and odd components. In this particular problem,"
   ]
  },
  {
   "cell_type": "code",
   "execution_count": 49,
   "metadata": {},
   "outputs": [
    {
     "name": "stdout",
     "output_type": "stream",
     "text": [
      "Percent difference (edge sources): 2.18%\n",
      "Percent difference (center source): 3.06%\n"
     ]
    }
   ],
   "source": [
    "pct_diff_edge = 100* np.abs(np.arctan(L/(2*re)).magnitude - L/(2*re)) \\\n",
    "                / (np.arctan(L/(2*re)).magnitude)\n",
    "pct_diff_center = 100 * np.abs(np.arctan(L/(2*rc)).magnitude - L/(2*rc)) \\\n",
    "                / (np.arctan(L/(2*rc)).magnitude)\n",
    "print(f'Percent difference (edge sources): {pct_diff_edge.magnitude:.2f}%')\n",
    "print(f'Percent difference (center source): {pct_diff_center.magnitude:.2f}%')"
   ]
  },
  {
   "cell_type": "markdown",
   "metadata": {},
   "source": [
    "The percent differences between $G_L$ and $G_P$ are small enough (less than 5%) to warrant using $G_P$ instead of $G_L$"
   ]
  },
  {
   "cell_type": "markdown",
   "metadata": {},
   "source": [
    "The analysis above, however, does not consider the affects of $g_P$ vs $g_L$. But when considering the plot in Question 4, we see that plotting quantity $A$ and quantity $C$, yields two overlapping curves. This suggests that scatter effects ($g_p$ and $g_L$) for the line sources reduce to those for the point source at the distance scale considered for the sources in this problem. Furthermore, most importantly, it suggests that the entire position dependent factor reduces:\n",
    "\n",
    "$$\\frac{G_P(r)}{G_P(r_0)} g_P(r) \\approx \\frac{G_L(r,\\pi/2)}{G_L(r_0,\\pi/2)}g_L(r)$$\n",
    "\n",
    "meaning that the point source and line source formalism is usable in both scenarios for the distance scale considered (not that all $r$ values used in this problem are greater than 0.2mm, the minimum $x$-axis value in the plot of question 4)."
   ]
  },
  {
   "cell_type": "markdown",
   "metadata": {},
   "source": [
    "## Part C"
   ]
  },
  {
   "cell_type": "markdown",
   "metadata": {},
   "source": [
    "Since \n",
    "\n",
    "$$S_{K_0} \\propto \\frac{1}{1-e^{-\\lambda t}}$$\n",
    "\n",
    "we have\n",
    "\n",
    "$$\\frac{S_{K_0}^{(2)}}{S_{K_0}^{(1)}} = \\frac{1-e^{-\\lambda t_1}}{1-e^{-\\lambda t_2}}$$\n",
    "\n",
    "If the source strength is 6% higher than measured then it follows that $\\frac{S_{K_0}^{(2)}}{S_{K_0}^{(1)}} = 1.06$ and after some algebra:\n",
    "\n",
    "$$t_2 = -\\frac{1}{\\lambda} \\ln \\left(1-1.06^{-1}(1-e^{-\\lambda t_1}) \\right)$$"
   ]
  },
  {
   "cell_type": "code",
   "execution_count": 39,
   "metadata": {},
   "outputs": [
    {
     "name": "stdout",
     "output_type": "stream",
     "text": [
      "New time required: 157.10 hour\n"
     ]
    }
   ],
   "source": [
    "t2 = -1/lam * np.log(1-1/1.06*(1-np.exp(-lam*t)))\n",
    "print(f'New time required: {t2:.2f}')"
   ]
  },
  {
   "cell_type": "markdown",
   "metadata": {},
   "source": [
    "The dose given at 5mm height without taking into account this correction is $1.06 \\cdot 70$Gy $=74.2$Gy. Now nothing that \n",
    "\n",
    "$$D \\propto \\frac{G_L(r_c,\\theta_c)}{G_L(r_0, \\theta_0)}g_L(r_c)F(r_c,\\theta_c) + 8 \\cdot\\frac{G_L(r_e,\\theta_e)}{G_L(r_0, \\theta_0)}g_L(r_e)F(r_e,\\theta_i)$$\n",
    "\n",
    "we look for the value of $r$ that makes\n",
    "\n",
    "$$\\frac{70}{74.2} = \\frac{1}{1.06} = \\frac{\\frac{G_L(r_c^{\\text{new}},\\theta_c)}{G_L(r_0, \\theta_0)}g_L(r_c^{\\text{new}})F(r_c^{\\text{new}},\\theta_c) + 8 \\cdot\\frac{G_L(r_e^{\\text{new}},\\theta_e)}{G_L(r_0, \\theta_0)}g_L(r_e^{\\text{new}})F(r_e^{\\text{new}},\\theta_i)}{\\frac{G_L(r_c,\\theta_c)}{G_L(r_0, \\theta_0)}g_L(r_c)F(r_c,\\theta_c) + 8 \\cdot\\frac{G_L(r_e,\\theta_e)}{G_L(r_0, \\theta_0)}g_L(r_e)F(r_e,\\theta_i)}$$\n",
    "\n",
    "where \"new\" is the new value of $r_c$ and $r_e$ at the proper height. Note that $r_c$ and $r_e$ both depend on the height:\n",
    "\n",
    "* $r_c^{new} = h^{new}+1.9$\n",
    "* $r_e^{new} = \\sqrt{{h^{new}}^2 + 6.5^2}$\n",
    "\n",
    "so we can minimize an objective function with respect to $h^{\\text{new}}$ given by\n",
    "\n",
    "$$\\left|\\frac{1}{1.06} - \\frac{\\frac{G_L(r_c^{\\text{new}},\\theta_c)}{G_L(r_0, \\theta_0)}g_L(r_c^{\\text{new}})F(r_c^{\\text{new}},\\theta_c) + 8 \\cdot\\frac{G_L(r_e^{\\text{new}},\\theta_e)}{G_L(r_0, \\theta_0)}g_L(r_e^{\\text{new}})F(r_e^{\\text{new}},\\theta_i)}{\\frac{G_L(r_c,\\theta_c)}{G_L(r_0, \\theta_0)}g_L(r_c)F(r_c,\\theta_c) + 8 \\cdot\\frac{G_L(r_e,\\theta_e)}{G_L(r_0, \\theta_0)}g_L(r_e)F(r_e,\\theta_i)} \\right|$$"
   ]
  },
  {
   "cell_type": "code",
   "execution_count": 40,
   "metadata": {},
   "outputs": [],
   "source": [
    "def compute_net_position_factor(re, rc, the):\n",
    "    return pos_factor_line(GL, gl_Pd_int, F_Pd_int, rc, the, L) \\\n",
    "        + 8*pos_factor_line(GL, gl_Pd_int, F_Pd_int, re, the, L)\n",
    "\n",
    "def minimize_func(height, ratio=1/1.06):\n",
    "    rcnew = (height+1.9) * u.mm\n",
    "    renew = np.sqrt(height**2 + 6.5**2) * u.mm\n",
    "    return np.abs(ratio - (compute_net_position_factor(renew, rcnew, the)) \\\n",
    "                          /(compute_net_position_factor(re, rc, the)))"
   ]
  },
  {
   "cell_type": "markdown",
   "metadata": {},
   "source": [
    "Compute height"
   ]
  },
  {
   "cell_type": "code",
   "execution_count": 41,
   "metadata": {},
   "outputs": [
    {
     "name": "stdout",
     "output_type": "stream",
     "text": [
      "The real height getting 70Gy is 5.29mm\n"
     ]
    }
   ],
   "source": [
    "height = minimize(minimize_func, x0=5,\n",
    "                  method='Nelder-Mead').x[0]\n",
    "print(f'The real height getting 70Gy is {height:.2f}mm')"
   ]
  },
  {
   "cell_type": "markdown",
   "metadata": {},
   "source": [
    "# Question 6"
   ]
  },
  {
   "cell_type": "markdown",
   "metadata": {},
   "source": [
    "Define all required values:"
   ]
  },
  {
   "cell_type": "code",
   "execution_count": 42,
   "metadata": {},
   "outputs": [],
   "source": [
    "Aapp = 8.0 * u.Ci\n",
    "gamma = 4.69 * u.roentgen * u.cm**2 / (u.mCi * u.hour)\n",
    "fmed = 0.957 * u.cGy/u.roentgen\n",
    "R_near = 5 * u.cm\n",
    "R_far = 50 * u.cm\n",
    "t = 45 * u.s"
   ]
  },
  {
   "cell_type": "markdown",
   "metadata": {},
   "source": [
    "Use these values to compute doses"
   ]
  },
  {
   "cell_type": "code",
   "execution_count": 43,
   "metadata": {},
   "outputs": [],
   "source": [
    "D_near = Aapp * gamma * fmed / R_near**2 * t\n",
    "D_far = Aapp * gamma * fmed / R_far**2 * t"
   ]
  },
  {
   "cell_type": "markdown",
   "metadata": {},
   "source": [
    "Since the source is a photon source, 1Gy=1Sv:"
   ]
  },
  {
   "cell_type": "code",
   "execution_count": 44,
   "metadata": {},
   "outputs": [
    {
     "name": "stdout",
     "output_type": "stream",
     "text": [
      "Dose to hand 179.53320 millisievert\n",
      "Dose to torso 1.79533 millisievert\n"
     ]
    }
   ],
   "source": [
    "print(f'Dose to hand {D_near.to(u.mSv):.5f}')\n",
    "print(f'Dose to torso {D_far.to(u.mSv):.5f}')"
   ]
  },
  {
   "cell_type": "markdown",
   "metadata": {},
   "source": [
    "The following is the table of dose limits"
   ]
  },
  {
   "cell_type": "markdown",
   "metadata": {},
   "source": [
    "**Whole Body**\n",
    "<p align=\"center\">\n",
    "  <img src=\"images/a5p2.png\" alt=\"drawing\" width=\"600\" align=\"center\"/>\n",
    "</p>\n",
    "\n",
    "**Hands**\n",
    "<p align=\"center\">\n",
    "  <img src=\"images/a5p1.png\" alt=\"drawing\" width=\"600\" align=\"center\"/>\n",
    "</p>"
   ]
  },
  {
   "cell_type": "markdown",
   "metadata": {},
   "source": [
    "**General Public**: The dose to the hand of 1.8mSv exceeds to the annual dose limit of 1mSv to the whole body. The dose to the hand exceeds to one-year dose limit by over 3 times (180mSv received, 50mSv limit).\n",
    "\n",
    "**Nuclear Energy Worker**: The dose limit of 1.8mSv is within tolerance for all nuclear energy workers, including those who are pregnant. The dose to the hand is within the 500mSv limit (180mSv received)."
   ]
  }
 ],
 "metadata": {
  "kernelspec": {
   "display_name": "Python 3",
   "language": "python",
   "name": "python3"
  },
  "language_info": {
   "codemirror_mode": {
    "name": "ipython",
    "version": 3
   },
   "file_extension": ".py",
   "mimetype": "text/x-python",
   "name": "python",
   "nbconvert_exporter": "python",
   "pygments_lexer": "ipython3",
   "version": "3.8.5"
  }
 },
 "nbformat": 4,
 "nbformat_minor": 4
}
