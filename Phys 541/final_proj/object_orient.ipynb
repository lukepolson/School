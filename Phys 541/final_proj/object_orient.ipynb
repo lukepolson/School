{
 "cells": [
  {
   "cell_type": "code",
   "execution_count": 173,
   "metadata": {},
   "outputs": [],
   "source": [
    "import numpy as np\n",
    "import numba\n",
    "from numba import jit\n",
    "import pydicom\n",
    "import matplotlib.pyplot as plt\n",
    "import imageio\n",
    "from scipy import interpolate\n",
    "from skimage.filters import gaussian\n",
    "plt.style.use(['science', 'notebook'])\n",
    "import tomopy\n",
    "\n",
    "from scipy.interpolate import RectBivariateSpline\n",
    "from skimage.data import shepp_logan_phantom\n",
    "from skimage.transform import radon, iradon, rescale, rotate\n",
    "from skimage.measure import profile_line\n",
    "from skimage.restoration import denoise_nl_means, estimate_sigma, richardson_lucy, unsupervised_wiener, wiener  \n",
    "import functions"
   ]
  },
  {
   "cell_type": "code",
   "execution_count": 9,
   "metadata": {},
   "outputs": [],
   "source": [
    "lam = 500\n",
    "n = 400\n",
    "L_val = 1/2\n",
    "B_val = 1/5"
   ]
  },
  {
   "cell_type": "markdown",
   "metadata": {},
   "source": [
    "Read original CT image and normalize to get reasonable attenuation coefficient $\\mu(x,y)$"
   ]
  },
  {
   "cell_type": "code",
   "execution_count": 10,
   "metadata": {},
   "outputs": [],
   "source": [
    "A1 = imageio.imread('images/phantom1.png').sum(axis=2)\n",
    "A2 = imageio.imread('images/phantom2.png').sum(axis=2)\n",
    "A3 = imageio.imread('images/phantom3.png').sum(axis=2)\n",
    "A4 = imageio.imread('images/phantom4.png').sum(axis=2)\n",
    "A1_norm = functions.normalize_phantom(A1)\n",
    "A2_norm = functions.normalize_phantom(A2)\n",
    "A3_norm = functions.normalize_phantom(A3)\n",
    "A4_norm = functions.normalize_phantom(A4)\n",
    "\n",
    "A = A1\n",
    "A_norm = A1_norm"
   ]
  },
  {
   "cell_type": "markdown",
   "metadata": {},
   "source": [
    "Get all tumours and append to single array"
   ]
  },
  {
   "cell_type": "code",
   "execution_count": 11,
   "metadata": {},
   "outputs": [],
   "source": [
    "Ts = np.array([np.asarray(imageio.imread(f'images/t{i}.png').sum(axis=2) > 0) for i in range(1,24)])\n",
    "n = A1.shape[0]\n",
    "T = Ts.sum(axis=0).astype(bool)\n",
    "T_masked = np.ma.masked_where(~T, T)"
   ]
  },
  {
   "cell_type": "markdown",
   "metadata": {},
   "source": [
    "Add live and background and remove any overlapping tumours from liver"
   ]
  },
  {
   "cell_type": "code",
   "execution_count": 12,
   "metadata": {},
   "outputs": [],
   "source": [
    "L = np.asarray(imageio.imread(f'images/liv.png').sum(axis=2))>260\n",
    "B = np.asarray(imageio.imread(f'images/background.png').sum(axis=2))>260\n",
    "\n",
    "Ts_non_overlap = []\n",
    "for T in Ts:\n",
    "    if not np.any(T*L):\n",
    "        Ts_non_overlap.append(T)\n",
    "T = np.array(Ts_non_overlap).sum(axis=0).astype(bool)\n",
    "T_masked = np.ma.masked_where(~T, T)\n",
    "B = B^(T+L)"
   ]
  },
  {
   "cell_type": "code",
   "execution_count": 13,
   "metadata": {},
   "outputs": [],
   "source": [
    "T_masked = np.ma.masked_where(~T, T)\n",
    "L_masked = np.ma.masked_where(~L, L)\n",
    "B_masked = np.ma.masked_where(~B, B)\n",
    "masks = [T_masked, L_masked, B_masked]\n",
    "mask_names = ['T', 'L', 'B']"
   ]
  },
  {
   "cell_type": "markdown",
   "metadata": {},
   "source": [
    "Get tumour distribution by smoothing the activity."
   ]
  },
  {
   "cell_type": "code",
   "execution_count": 14,
   "metadata": {},
   "outputs": [],
   "source": [
    "U = functions.get_tumour_dist(T, sigma=3)\n",
    "U[L] += L_val\n",
    "U[B] += B_val"
   ]
  },
  {
   "cell_type": "code",
   "execution_count": 470,
   "metadata": {},
   "outputs": [],
   "source": [
    "@numba.jit(\"f8[:](f8[:,:], i8[:,:], f8[:], i8, i8)\", nopython=True, nogil=True)\n",
    "def compute_prob_of_detections(A, decay_points, decay_angles, n=400, num=1000):\n",
    "    diameter = np.sqrt(2*n**2)\n",
    "    dL = 2*diameter / num\n",
    "    prob_of_detections = []\n",
    "    for j in range(len(decay_points)):\n",
    "        dp = decay_points[j]; da = decay_angles[j]\n",
    "        # Get initial and final points\n",
    "        x1 = dp[0] - np.cos(da)* diameter\n",
    "        x2 =  dp[0] + np.cos(da)* diameter\n",
    "        y1 = dp[1] - np.sin(da)* diameter\n",
    "        y2 =  dp[1] + np.sin(da)* diameter\n",
    "        dx = (x2 - x1)/num\n",
    "        dy = (y2 - y1)/num\n",
    "        x = x1\n",
    "        y = y1\n",
    "        mux = 0\n",
    "        for i in range(num):\n",
    "            if (x>0) * (x<n) * (y>0) * (y<n):\n",
    "                mux += A[int(x),int(y)]*dL\n",
    "            x+=dx; y+=dy\n",
    "        prob_of_detections.append(np.exp(-mux))\n",
    "    return np.array(prob_of_detections)\n",
    "\n",
    "@numba.jit(\"f8[:,:](f8[:], f8[:], f8[:,:], i8)\", nopython=True, nogil=True)\n",
    "def estimate_prob_of_detections_sino(rs, thetas, A, num=1000):\n",
    "    n = A.shape[0]\n",
    "    diameter = np.sqrt(2*n**2)\n",
    "    dL = 2*diameter / num\n",
    "    # from histogram edges to centers\n",
    "    thetas = thetas[:-1]+(thetas[1]-thetas[0])/2\n",
    "    rs = rs[:-1]+0.5\n",
    "    prob_of_detections = np.zeros((len(rs),len(thetas)), dtype=np.float64)\n",
    "    for i,r in enumerate(rs):\n",
    "        for j,theta in enumerate(thetas):\n",
    "            x = r*np.cos(theta+np.pi/2) + n//2\n",
    "            y = r*np.sin(theta+np.pi/2) + n//2\n",
    "            x1 = x - np.cos(theta)* diameter\n",
    "            x2 =  x + np.cos(theta)* diameter\n",
    "            y1 = y - np.sin(theta)* diameter\n",
    "            y2 =  y + np.sin(theta)* diameter\n",
    "            dx = (x2 - x1)/num\n",
    "            dy = (y2 - y1)/num\n",
    "            x = x1\n",
    "            y = y1\n",
    "            mux = 0\n",
    "            for k in range(num):\n",
    "                if (x>0) * (x<n) * (y>0) * (y<n):\n",
    "                    mux += A[int(x),int(y)]*dL\n",
    "                x+=dx; y+=dy\n",
    "            prob_of_detections[i][j] = np.exp(-mux)\n",
    "    return prob_of_detections\n",
    "\n",
    "def compute_recon_tomopy(sino, thetas, algo_name, **kwargs):\n",
    "    proj = np.expand_dims(sino.T, axis=1)\n",
    "    thetas = thetas[:-1]+np.diff(thetas)[0]/2\n",
    "    im = tomopy.recon(proj, thetas, algorithm=algo_name, **kwargs)\n",
    "    return im[0]*len(thetas)\n",
    "\n",
    "# raw for raw counts\n",
    "# im for image\n",
    "# og for original (lambda used to get image)\n",
    "\n",
    "class PETImage:\n",
    "    def __init__(self, CT_im, PET_og):\n",
    "        self.CT_im = CT_im\n",
    "        self.PET_og = PET_og\n",
    "        self.n = self.CT_im.shape[0]\n",
    "    def generate_PET_raw(self):\n",
    "        self.PET_raw = np.random.poisson(lam=self.PET_og, size=self.PET_og.shape)\n",
    "        self.PET_raw_ang = np.random.uniform(size=self.PET_raw.sum())*2*np.pi\n",
    "        self.PET_raw_pts = np.repeat(np.argwhere(self.PET_raw), self.PET_raw[self.PET_raw>0], axis=0)\n",
    "    def generate_PET_im(self):\n",
    "        prob_of_detections = compute_prob_of_detections(p.CT_im, p.PET_raw_pts, p.PET_raw_ang, n=self.n, num=1000)\n",
    "        xs, ys = self.PET_raw_pts.T\n",
    "        self.decay_mask = prob_of_detections > np.random.uniform(size=len(prob_of_detections))\n",
    "        self.PET_im,_,_ = np.histogram2d(xs[self.decay_mask], ys[self.decay_mask], bins=[np.arange(-0.5,self.n+0.5),np.arange(-0.5,self.n+0.5)])\n",
    "    def generate_PET_sino(self,n_theta_bins=61):\n",
    "        center = (self.n//2, self.n//2)\n",
    "        xs, ys = self.PET_raw_pts[self.decay_mask].T\n",
    "        thetas = self.PET_raw_ang[self.decay_mask]\n",
    "        rs = (xs - center[0]) * np.cos(thetas+np.pi/2) + (ys - center[1]) * np.sin(thetas+np.pi/2)\n",
    "        self.PET_im_sino_rs_bins = np.arange(-self.n//2-0.5, self.n//2+0.5, 1)\n",
    "        self.PET_im_sino_theta_bins = np.linspace(0,2*np.pi,n_theta_bins)\n",
    "        self.PET_im_sino,_,_ = np.histogram2d(rs,thetas, bins=[self.PET_im_sino_rs_bins, self.PET_im_sino_theta_bins])\n",
    "    def get_probability_sinogram(self):\n",
    "        self.PET_im_sino_prob = estimate_prob_of_detections_sino(self.PET_im_sino_rs_bins,\n",
    "                                                                 self.PET_im_sino_theta_bins,\n",
    "                                                                 self.CT_im, num=1000)\n",
    "    def get_recon_data(self, algo_names, masks, masks_name, correction, num_iters):\n",
    "        self.recon_datas = {}\n",
    "        sino = self.PET_im_sino/self.PET_im_sino_prob\n",
    "        for algo_name, num_iter in zip(algo_names, num_iters):\n",
    "            RD = ReconData(algo_name, masks, masks_name, correction,\n",
    "                           num_iter, self.PET_og, sino,\n",
    "                            self.PET_im_sino_theta_bins)\n",
    "            RD.MSE_data()\n",
    "            self.recon_datas[algo_name] = RD\n",
    "    \n",
    "class ReconData:\n",
    "    def __init__(self, algo_name, masks, mask_names, correction, num_iter, PET_og, sino, thetas, **kwargs):\n",
    "        self.algo_name = algo_name\n",
    "        self.masks = masks\n",
    "        self.mask_names = mask_names\n",
    "        self.correction = correction\n",
    "        self.num_iter = num_iter\n",
    "        self.kwargs = kwargs\n",
    "        self.PET_og = PET_og\n",
    "        self.sino = sino\n",
    "        self.thetas = thetas\n",
    "        \n",
    "    def MSE_data(self):\n",
    "        self.data = {}\n",
    "        for name in self.mask_names:\n",
    "            self.data[name] = {'MSE': [], 'VAR': [], 'BIAS':[]}\n",
    "        self.MSE_bests = [np.inf]*len(masks)\n",
    "        self.iter_bests = [0]*len(masks)\n",
    "        self.im_bests = [0]*len(masks)\n",
    "        for i in range(self.num_iter):\n",
    "            if i==0:\n",
    "                im = compute_recon_tomopy(self.sino, self.thetas, self.algo_name,\n",
    "                                          num_iter=1, **self.kwargs);\n",
    "            else:\n",
    "                im = compute_recon_tomopy(self.sino, self.thetas, self.algo_name,\n",
    "                                          num_iter=1, init_recon=np.expand_dims(im, axis=0)/len(self.thetas),\n",
    "                                          **self.kwargs);\n",
    "            \n",
    "            if self.correction=='wiener':\n",
    "                im_corr = wiener(im, get_gaus_kernel(9, 0.5), balance=14.5, clip=False)\n",
    "            elif self.correction=='nlm':\n",
    "                im_corr = denoise_nl_means(im, patch_size=10, patch_distance=30, h=30)\n",
    "            else:\n",
    "                im_corr = im\n",
    "            for j, (M, name) in enumerate(zip(masks, mask_names)):\n",
    "                MSE = np.mean((self.PET_og[M]-im_corr[M])**2)\n",
    "                VAR = np.var(self.PET_og[M]-im_corr[M])\n",
    "                BIAS = np.mean(self.PET_og[M]-im_corr[M])\n",
    "                if MSE<self.MSE_bests[j]:\n",
    "                    self.MSE_bests[j] = MSE\n",
    "                    self.iter_bests[j] = i\n",
    "                    self.im_bests[j] = im_corr.copy()\n",
    "                self.data[name]['MSE'].append(MSE)\n",
    "                self.data[name]['VAR'].append(VAR)\n",
    "                self.data[name]['BIAS'].append(BIAS)\n",
    "        self.im_final = im_corr"
   ]
  },
  {
   "cell_type": "code",
   "execution_count": 471,
   "metadata": {},
   "outputs": [],
   "source": [
    "p = PETImage(A1_norm, 500*U)"
   ]
  },
  {
   "cell_type": "code",
   "execution_count": 472,
   "metadata": {},
   "outputs": [],
   "source": [
    "p.generate_PET_raw()"
   ]
  },
  {
   "cell_type": "code",
   "execution_count": 473,
   "metadata": {},
   "outputs": [],
   "source": [
    "p.generate_PET_im()"
   ]
  },
  {
   "cell_type": "code",
   "execution_count": 474,
   "metadata": {},
   "outputs": [],
   "source": [
    "p.generate_PET_sino()"
   ]
  },
  {
   "cell_type": "code",
   "execution_count": 475,
   "metadata": {},
   "outputs": [],
   "source": [
    "p.get_probability_sinogram()"
   ]
  },
  {
   "cell_type": "code",
   "execution_count": 485,
   "metadata": {},
   "outputs": [
    {
     "name": "stdout",
     "output_type": "stream",
     "text": [
      "Reconstructing 1 slice groups with 1 master threads...\n",
      "Reconstructing 1 slice groups with 1 master threads...\n",
      "Reconstructing 1 slice groups with 1 master threads...\n",
      "Reconstructing 1 slice groups with 1 master threads...\n",
      "Reconstructing 1 slice groups with 1 master threads...\n",
      "Reconstructing 1 slice groups with 1 master threads...\n",
      "Reconstructing 1 slice groups with 1 master threads...\n",
      "Reconstructing 1 slice groups with 1 master threads...\n",
      "Reconstructing 1 slice groups with 1 master threads...\n",
      "Reconstructing 1 slice groups with 1 master threads...\n",
      "Reconstructing 1 slice groups with 1 master threads...\n",
      "Reconstructing 1 slice groups with 1 master threads...\n",
      "Reconstructing 1 slice groups with 1 master threads...\n",
      "Reconstructing 1 slice groups with 1 master threads...\n",
      "Reconstructing 1 slice groups with 1 master threads...\n"
     ]
    }
   ],
   "source": [
    "p.get_recon_data(['art'], masks, mask_names, correction=None, num_iters=[15])"
   ]
  },
  {
   "cell_type": "code",
   "execution_count": 490,
   "metadata": {},
   "outputs": [
    {
     "data": {
      "text/plain": [
       "[<matplotlib.lines.Line2D at 0x1b800d8c640>]"
      ]
     },
     "execution_count": 490,
     "metadata": {},
     "output_type": "execute_result"
    },
    {
     "data": {
      "image/png": "[encoded data removed]",
      "text/plain": [
       "<Figure size 576x432 with 1 Axes>"
      ]
     },
     "metadata": {
      "needs_background": "light"
     },
     "output_type": "display_data"
    }
   ],
   "source": [
    "plt.plot(p.recon_datas['art'].data['T']['BIAS'][2:],np.sqrt(p.recon_datas['art'].data['T']['VAR'][2:]))"
   ]
  },
  {
   "cell_type": "code",
   "execution_count": null,
   "metadata": {},
   "outputs": [],
   "source": []
  }
 ],
 "metadata": {
  "kernelspec": {
   "display_name": "Python 3",
   "language": "python",
   "name": "python3"
  },
  "language_info": {
   "codemirror_mode": {
    "name": "ipython",
    "version": 3
   },
   "file_extension": ".py",
   "mimetype": "text/x-python",
   "name": "python",
   "nbconvert_exporter": "python",
   "pygments_lexer": "ipython3",
   "version": "3.8.5"
  }
 },
 "nbformat": 4,
 "nbformat_minor": 4
}
