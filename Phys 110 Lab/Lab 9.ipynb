{
 "cells": [
  {
   "cell_type": "code",
   "execution_count": 2,
   "metadata": {},
   "outputs": [],
   "source": [
    "import numpy as np"
   ]
  },
  {
   "cell_type": "code",
   "execution_count": 91,
   "metadata": {},
   "outputs": [],
   "source": [
    "R = 1.0973732\n",
    "lam1_given = 656.3e-9\n",
    "lam2_given = 486.1e-9\n",
    "lam3_given = 434.1e-9"
   ]
  },
  {
   "cell_type": "code",
   "execution_count": 97,
   "metadata": {},
   "outputs": [
    {
     "name": "stdout",
     "output_type": "stream",
     "text": [
      "lam1_pct: 8.0756\n",
      "lam2_pct: 8.1670\n",
      "lam3_pct: 3.5729\n"
     ]
    }
   ],
   "source": [
    "lam1 = 709.3e-9\n",
    "lam2 = 525.8e-9\n",
    "lam3 = 418.59e-9\n",
    "\n",
    "lam1_pct = np.abs(lam1-lam1_given)/lam1_given *100\n",
    "lam2_pct = np.abs(lam2-lam2_given)/lam2_given *100\n",
    "lam3_pct = np.abs(lam3-lam3_given)/lam3_given *100\n",
    "\n",
    "print('lam1_pct: {:.4f}'.format(lam1_pct))\n",
    "print('lam2_pct: {:.4f}'.format(lam2_pct))\n",
    "print('lam3_pct: {:.4f}'.format(lam3_pct))"
   ]
  },
  {
   "cell_type": "code",
   "execution_count": 98,
   "metadata": {},
   "outputs": [],
   "source": [
    "R1 = 1/(lam1*(1/4-1/9))/1e7\n",
    "R2 = 1/(lam2*(1/4-1/16))/1e7\n",
    "R3 = 1/(lam3*(1/4-1/25))/1e7"
   ]
  },
  {
   "cell_type": "code",
   "execution_count": 99,
   "metadata": {},
   "outputs": [
    {
     "name": "stdout",
     "output_type": "stream",
     "text": [
      "R1: 1.0151\n",
      "R2: 1.0143\n",
      "R3: 1.1376\n"
     ]
    }
   ],
   "source": [
    "print('R1: {:.4f}'.format(R1))\n",
    "print('R2: {:.4f}'.format(R2))\n",
    "print('R3: {:.4f}'.format(R3))"
   ]
  },
  {
   "cell_type": "code",
   "execution_count": 100,
   "metadata": {},
   "outputs": [
    {
     "name": "stdout",
     "output_type": "stream",
     "text": [
      "['R3 (violet)' 'R1 (red)' 'R2 (blue-green)']\n"
     ]
    }
   ],
   "source": [
    "Rs = np.array(['R1 (red)', 'R2 (blue-green)', 'R3 (violet)'])\n",
    "ii = np.argsort(np.abs(np.array([R1, R2, R3])-R))\n",
    "print(Rs[ii])"
   ]
  },
  {
   "cell_type": "code",
   "execution_count": 101,
   "metadata": {},
   "outputs": [
    {
     "name": "stdout",
     "output_type": "stream",
     "text": [
      "R_avg: 1.056\n",
      "R_err: 3.8000\n"
     ]
    }
   ],
   "source": [
    "R_avg = (R1+R2+R3)/3\n",
    "R_err = np.abs(R_avg-R)/R *100\n",
    "print('R_avg: {:.4}'.format(R_avg))\n",
    "print('R_err: {:.4f}'.format(R_err))"
   ]
  },
  {
   "cell_type": "code",
   "execution_count": null,
   "metadata": {},
   "outputs": [],
   "source": []
  },
  {
   "cell_type": "code",
   "execution_count": null,
   "metadata": {},
   "outputs": [],
   "source": []
  }
 ],
 "metadata": {
  "kernelspec": {
   "display_name": "Python 3",
   "language": "python",
   "name": "python3"
  },
  "language_info": {
   "codemirror_mode": {
    "name": "ipython",
    "version": 3
   },
   "file_extension": ".py",
   "mimetype": "text/x-python",
   "name": "python",
   "nbconvert_exporter": "python",
   "pygments_lexer": "ipython3",
   "version": "3.6.9"
  }
 },
 "nbformat": 4,
 "nbformat_minor": 2
}
