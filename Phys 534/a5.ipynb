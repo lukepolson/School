{
 "cells": [
  {
   "cell_type": "code",
   "execution_count": 1,
   "metadata": {},
   "outputs": [],
   "source": [
    "import numpy as np\n",
    "import pint\n",
    "u = pint.UnitRegistry()"
   ]
  },
  {
   "cell_type": "markdown",
   "metadata": {},
   "source": [
    "# Question 1"
   ]
  },
  {
   "cell_type": "markdown",
   "metadata": {},
   "source": [
    "There are three main sources of natural background:\n",
    "\n",
    "1) **Cosmic Radiation**, where high energy particles from space interact with the atmosphere and produce showers of lighter particles. The main factor that leads to variations in individual exposure are altitude. The approximate annual dose exposure is $\\sim 0.3$mSv, depending on location.\n",
    "\n",
    "2) **Terrestrial Radiation**, where radioisotopes from the soil emit radiation. The intensity of the radiation depends on the geology of the region, and the approximate annual dose is $\\sim 0.35$mSv, but this largely depends on location. For example, this value is 0.25mSv in Victoria bu 0.63mSv in Kelowna.\n",
    "\n",
    "3) **Internal Radioactivity**: radioactivity from radioisotopes injested from food or incorporated in the body.The average annual dose is around 0.35mSv, and variation is due to varying diets of individuals."
   ]
  },
  {
   "cell_type": "markdown",
   "metadata": {},
   "source": [
    "# Question 2"
   ]
  },
  {
   "cell_type": "markdown",
   "metadata": {},
   "source": [
    "a) **Primary Barrier**: The primary barrier of the treatment room consists of the walls/ceiling/floor of a room and is the first object irradiated directly by photons from the target or source. The width of the primary barrier must by at least the size of the diagonal of the largest beam used + 30 cm to each side. \n",
    "\n",
    "b) **Leakage Radiation**: Originates in the x-ray target or radionuclide source and is transmitted through the shielded head of the therapy machine. To account for the energy of this radiation, a secondary barrier is constructed for adequate attenuation.\n",
    "\n",
    "c) **Use Factor U**: The fraction of beam-on time where the beam is directed towards a particular barrier. These values for floor, walls, and ceiling are typically 1, 0.25, and 0.25 (primary barriers). For all secondary barriers, $U=1$.\n",
    "\n",
    "d) **Workload W**: The machine output in Gy/week or Gy/year at a well defined point (typically the machine isocenter at 100cm from the source). This workload consists of radiation from both clinical workload (treatment of patients) and physics workload (machine calibration). A typical workload (Lecture 19 Slide 35) is about 43000Gy/year.\n",
    "\n",
    "e) **Occupancy Factor T**: A factor which the workload is multiplied with to account for the degree of occupancy in the area of question. For offices, adjacent treatment rooms, corridors/employee lounges, and waiting rooms, the factors are typically 1, 0.5, 0.2, and 0.125 respectively.\n",
    "\n",
    "f) **Tenth Value Layer**: the thickness of a specified material that attenuates radiation to an extent such that the air kerma rate, exposure rate, or absorbed dose rate is reduced to one-tenth of the initial value. Typical tenth value layers range from about 5cm (lead, energy 1-50MeV) to 50cm (concrete, energy 50MeV).\n",
    "\n",
    "g) **ALARA Principle:** \"As low as reasonably achievable\". Radiation sources and installations should be provided with the best available protection such that magnitudes and likelihood of exposures are as low as reasonably achievable. The exposure to healthy tissue should be kept to a minimum necessary to achieve the diagnostic/therapeutic objective"
   ]
  },
  {
   "cell_type": "markdown",
   "metadata": {},
   "source": [
    "# Question 3"
   ]
  },
  {
   "cell_type": "markdown",
   "metadata": {},
   "source": [
    "## Part A"
   ]
  },
  {
   "cell_type": "markdown",
   "metadata": {},
   "source": [
    "Using the conservative estimate of $W_{\\text{phys}}=7100$ Gy/year, and calculating:"
   ]
  },
  {
   "cell_type": "code",
   "execution_count": 2,
   "metadata": {},
   "outputs": [
    {
     "name": "stdout",
     "output_type": "stream",
     "text": [
      "Estimated Workload: 28550 gray / year\n"
     ]
    }
   ],
   "source": [
    "W_clin = 25* 3.3 * 5 * 52 *u.Gy/u.year\n",
    "W = 7100*u.Gy/u.year + W_clin\n",
    "print(f'Estimated Workload: {W:.0f}')"
   ]
  },
  {
   "cell_type": "markdown",
   "metadata": {},
   "source": [
    "## Part B"
   ]
  },
  {
   "cell_type": "markdown",
   "metadata": {},
   "source": [
    "Assuming the beam points towards the office, the office would be the source of primary radiation (primarily). Assuming one is working in the BC Cancer design limit:"
   ]
  },
  {
   "cell_type": "code",
   "execution_count": 3,
   "metadata": {},
   "outputs": [],
   "source": [
    "P = 0.001 * u.mSv/u.week\n",
    "d0 = 1*u.m\n",
    "U = 0.25\n",
    "T = 1\n",
    "d_pri = 325*u.cm "
   ]
  },
  {
   "cell_type": "code",
   "execution_count": 4,
   "metadata": {},
   "outputs": [],
   "source": [
    "B_pri = P/(W*U*T) * (d_pri/d0)**2"
   ]
  },
  {
   "cell_type": "markdown",
   "metadata": {},
   "source": [
    "This is the factor by which the primary barrier needs to attenuate the radiation. In terms of 10th value layers:"
   ]
  },
  {
   "cell_type": "code",
   "execution_count": 5,
   "metadata": {},
   "outputs": [
    {
     "data": {
      "text/html": [
       "7.112287214704078 dimensionless"
      ],
      "text/latex": [
       "$7.112287214704078\\ dimensionless$"
      ],
      "text/plain": [
       "7.112287214704078 <Unit('dimensionless')>"
      ]
     },
     "execution_count": 5,
     "metadata": {},
     "output_type": "execute_result"
    }
   ],
   "source": [
    "n = -np.log10(B_pri)\n",
    "n"
   ]
  },
  {
   "cell_type": "markdown",
   "metadata": {},
   "source": [
    "At 6MeV, the $TVL_1$ of concrete is 34cm and the $TVL_e$ is 29cm. We know that\n",
    "\n",
    "$t_{bar} = TVL_1 + (n-1)TVL_e$"
   ]
  },
  {
   "cell_type": "code",
   "execution_count": 6,
   "metadata": {},
   "outputs": [
    {
     "data": {
      "text/html": [
       "211.25632922641825 centimeter"
      ],
      "text/latex": [
       "$211.25632922641825\\ \\mathrm{centimeter}$"
      ],
      "text/plain": [
       "211.25632922641825 <Unit('centimeter')>"
      ]
     },
     "execution_count": 6,
     "metadata": {},
     "output_type": "execute_result"
    }
   ],
   "source": [
    "t = 34*u.cm + (n-1)*29*u.cm\n",
    "t"
   ]
  },
  {
   "cell_type": "markdown",
   "metadata": {},
   "source": [
    "## Part C"
   ]
  },
  {
   "cell_type": "markdown",
   "metadata": {},
   "source": [
    "We need to consider both leakage and scattering. In both cases we assume $T=0.2$ (this assumes the storage closet is used **at most** as often as a hallway). We also want the limit to be $P=0.001$mSv/week, like before."
   ]
  },
  {
   "cell_type": "code",
   "execution_count": 7,
   "metadata": {},
   "outputs": [],
   "source": [
    "T = 0.2\n",
    "P = 0.001 * u.mSv/u.week"
   ]
  },
  {
   "cell_type": "markdown",
   "metadata": {},
   "source": [
    "**Leakage**"
   ]
  },
  {
   "cell_type": "markdown",
   "metadata": {},
   "source": [
    "The distance from the source to the wall is 950-350 cm = 600 cm. $B_{leak}$ is computed using lecture 19 slide 20. The tenth value layers are given by Lecture 19 slide 26 in the table at 6MeV: in particular, $TVL_1=34$cm and $TVL_e=29$cm"
   ]
  },
  {
   "cell_type": "code",
   "execution_count": 8,
   "metadata": {},
   "outputs": [
    {
     "data": {
      "text/html": [
       "106.00240126370801 centimeter"
      ],
      "text/latex": [
       "$106.00240126370801\\ \\mathrm{centimeter}$"
      ],
      "text/plain": [
       "106.00240126370801 <Unit('centimeter')>"
      ]
     },
     "execution_count": 8,
     "metadata": {},
     "output_type": "execute_result"
    }
   ],
   "source": [
    "d_leak = 600*u.cm # distance from linac to wall\n",
    "B_leak = P/(W*T*1e-3) * (d_leak/d0)**2\n",
    "n = -np.log10(B_leak)\n",
    "TVL1 = 34*u.cm\n",
    "TVLe = 29*u.cm\n",
    "t_leak = TVL1 + (n-1)*TVLe\n",
    "t_leak"
   ]
  },
  {
   "cell_type": "markdown",
   "metadata": {},
   "source": [
    "**Scattering**"
   ]
  },
  {
   "cell_type": "markdown",
   "metadata": {},
   "source": [
    "The information needed comes from:\n",
    "\n",
    "* $a$: Slide 23 Lecture 19 6MV column angle 90 degrees\n",
    "* Assuming the patient is treated at the isocenter, $d_0=d_{sec}=100$cm"
   ]
  },
  {
   "cell_type": "code",
   "execution_count": 9,
   "metadata": {},
   "outputs": [],
   "source": [
    "d_sca = 600*u.cm\n",
    "d_sec = d0\n",
    "a = 4.26e-4\n",
    "F0 = (20*u.cm)**2\n",
    "F = (40*u.cm)**2\n",
    "B_sca = P/(a*W*T) * (d_sca/d0)**2 * (d_sec/d0)**2 * (F0/F)**2\n",
    "n = -np.log10(B_sca)"
   ]
  },
  {
   "cell_type": "markdown",
   "metadata": {},
   "source": [
    "The tenth value layers for concrete are given in Lecture 19 Slide 25 6MV at 90 degrees.\n",
    "\n",
    "* $TVL=17$cm\n",
    "\n",
    "Assuming this is TVL is constant throughout ($TVL_1=TVL_e$) we get"
   ]
  },
  {
   "cell_type": "code",
   "execution_count": 10,
   "metadata": {},
   "outputs": [
    {
     "data": {
      "text/html": [
       "73.37830707896717 centimeter"
      ],
      "text/latex": [
       "$73.37830707896717\\ \\mathrm{centimeter}$"
      ],
      "text/plain": [
       "73.37830707896717 <Unit('centimeter')>"
      ]
     },
     "execution_count": 10,
     "metadata": {},
     "output_type": "execute_result"
    }
   ],
   "source": [
    "t_scat = n * 17*u.cm\n",
    "t_scat"
   ]
  },
  {
   "cell_type": "markdown",
   "metadata": {},
   "source": [
    "Note that the results for scattering and leakage differ by about one TVL"
   ]
  },
  {
   "cell_type": "code",
   "execution_count": 11,
   "metadata": {},
   "outputs": [
    {
     "data": {
      "text/html": [
       "32.62409418474084 centimeter"
      ],
      "text/latex": [
       "$32.62409418474084\\ \\mathrm{centimeter}$"
      ],
      "text/plain": [
       "32.62409418474084 <Unit('centimeter')>"
      ]
     },
     "execution_count": 11,
     "metadata": {},
     "output_type": "execute_result"
    }
   ],
   "source": [
    "t_leak-t_scat"
   ]
  },
  {
   "cell_type": "markdown",
   "metadata": {},
   "source": [
    "So as per Lecture 19, slide 19, since the two barriers differ by approximately one TVL or more, the larger barrier thickness is used. This is because the concrete required to attenuate leakage, in this case, is sufficient to attenuate any radiation from scattering. It follows that the required thickness of concrete is:"
   ]
  },
  {
   "cell_type": "code",
   "execution_count": 12,
   "metadata": {},
   "outputs": [
    {
     "data": {
      "text/html": [
       "106.00240126370801 centimeter"
      ],
      "text/latex": [
       "$106.00240126370801\\ \\mathrm{centimeter}$"
      ],
      "text/plain": [
       "106.00240126370801 <Unit('centimeter')>"
      ]
     },
     "execution_count": 12,
     "metadata": {},
     "output_type": "execute_result"
    }
   ],
   "source": [
    "t = t_leak\n",
    "t"
   ]
  }
 ],
 "metadata": {
  "kernelspec": {
   "display_name": "Python 3",
   "language": "python",
   "name": "python3"
  },
  "language_info": {
   "codemirror_mode": {
    "name": "ipython",
    "version": 3
   },
   "file_extension": ".py",
   "mimetype": "text/x-python",
   "name": "python",
   "nbconvert_exporter": "python",
   "pygments_lexer": "ipython3",
   "version": "3.8.5"
  }
 },
 "nbformat": 4,
 "nbformat_minor": 4
}
