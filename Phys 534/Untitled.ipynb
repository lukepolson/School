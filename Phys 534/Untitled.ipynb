{
 "cells": [
  {
   "cell_type": "code",
   "execution_count": 10,
   "metadata": {},
   "outputs": [],
   "source": [
    "import numpy as np\n",
    "c = 3e8\n",
    "mu0 = 4 * np.pi * 1e-7\n",
    "q = 1.6e-19\n",
    "a0 = 1\n",
    "T0 = 1"
   ]
  },
  {
   "cell_type": "code",
   "execution_count": 11,
   "metadata": {},
   "outputs": [],
   "source": [
    "E = (5/(16*np.sqrt(2))) * mu0*q**2 / c *a0 * T0"
   ]
  },
  {
   "cell_type": "code",
   "execution_count": 12,
   "metadata": {},
   "outputs": [
    {
     "data": {
      "text/plain": [
       "1.4790653493325076e-34"
      ]
     },
     "execution_count": 12,
     "metadata": {},
     "output_type": "execute_result"
    }
   ],
   "source": [
    "E * 6.242e+18"
   ]
  },
  {
   "cell_type": "code",
   "execution_count": 13,
   "metadata": {},
   "outputs": [],
   "source": [
    "beta = np.sqrt(1-(500e6/511e3 +1)**(-2))"
   ]
  },
  {
   "cell_type": "code",
   "execution_count": 17,
   "metadata": {},
   "outputs": [
    {
     "data": {
      "text/plain": [
       "0.0005104784755070157"
      ]
     },
     "execution_count": 17,
     "metadata": {},
     "output_type": "execute_result"
    }
   ],
   "source": [
    "np.arccos(1/(3*beta)*(-1+np.sqrt(1+15*beta**2)))"
   ]
  },
  {
   "cell_type": "code",
   "execution_count": 1,
   "metadata": {},
   "outputs": [],
   "source": [
    "import sympy as smp"
   ]
  },
  {
   "cell_type": "code",
   "execution_count": 19,
   "metadata": {},
   "outputs": [],
   "source": [
    "x, v = smp.symbols('x v', real=True)\n",
    "mu, sig = smp.symbols('\\mu \\sigma', real=True, positive=True)"
   ]
  },
  {
   "cell_type": "code",
   "execution_count": 20,
   "metadata": {},
   "outputs": [
    {
     "data": {
      "text/latex": [
       "$\\displaystyle \\frac{\\sqrt{\\pi} \\sigma \\left(2 - \\operatorname{erfc}{\\left(i \\pi \\sigma v \\right)}\\right) e^{- \\pi^{2} \\sigma^{2} v^{2}} e^{- 2 i \\pi \\mu v}}{2} + \\frac{\\sqrt{\\pi} \\sigma e^{- \\pi^{2} \\sigma^{2} v^{2}} e^{- 2 i \\pi \\mu v} \\operatorname{erfc}{\\left(i \\pi \\sigma v \\right)}}{2}$"
      ],
      "text/plain": [
       "sqrt(pi)*\\sigma*(2 - erfc(I*pi*\\sigma*v))*exp(-pi**2*\\sigma**2*v**2)*exp(-2*I*pi*\\mu*v)/2 + sqrt(pi)*\\sigma*exp(-pi**2*\\sigma**2*v**2)*exp(-2*I*pi*\\mu*v)*erfc(I*pi*\\sigma*v)/2"
      ]
     },
     "execution_count": 20,
     "metadata": {},
     "output_type": "execute_result"
    }
   ],
   "source": [
    "f1 = smp.exp(-2*smp.pi*smp.I*v*x)*smp.exp(-(x-mu)**2 / sig**2)\n",
    "f2 = smp.exp(-(x-mu)**2 / sig**2)\n",
    "smp.integrate(f1, (x, -smp.oo, smp.oo))"
   ]
  },
  {
   "cell_type": "code",
   "execution_count": 21,
   "metadata": {},
   "outputs": [],
   "source": [
    "a = smp.integrate(f1, (x, -smp.oo, smp.oo))/smp.integrate(f2, (x, -smp.oo, smp.oo))\n",
    "a = a.simplify()"
   ]
  },
  {
   "cell_type": "code",
   "execution_count": 22,
   "metadata": {},
   "outputs": [
    {
     "data": {
      "text/latex": [
       "$\\displaystyle e^{- \\pi^{2} \\sigma^{2} v^{2}}$"
      ],
      "text/plain": [
       "exp(-pi**2*\\sigma**2*v**2)"
      ]
     },
     "execution_count": 22,
     "metadata": {},
     "output_type": "execute_result"
    }
   ],
   "source": [
    "abs(a)"
   ]
  },
  {
   "cell_type": "code",
   "execution_count": null,
   "metadata": {},
   "outputs": [],
   "source": []
  }
 ],
 "metadata": {
  "kernelspec": {
   "display_name": "Python 3",
   "language": "python",
   "name": "python3"
  },
  "language_info": {
   "codemirror_mode": {
    "name": "ipython",
    "version": 3
   },
   "file_extension": ".py",
   "mimetype": "text/x-python",
   "name": "python",
   "nbconvert_exporter": "python",
   "pygments_lexer": "ipython3",
   "version": "3.8.5"
  }
 },
 "nbformat": 4,
 "nbformat_minor": 4
}
