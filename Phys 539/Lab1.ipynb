{
 "cells": [
  {
   "cell_type": "code",
   "execution_count": 1,
   "metadata": {},
   "outputs": [],
   "source": [
    "import numpy as np\n",
    "import matplotlib.pyplot as plt\n",
    "import pint\n",
    "u = pint.UnitRegistry()"
   ]
  },
  {
   "cell_type": "markdown",
   "metadata": {},
   "source": [
    "* Look up PTW TW30013 to get the kQ from the PDD\n",
    "* Everything we need in the TG51 template"
   ]
  },
  {
   "cell_type": "markdown",
   "metadata": {},
   "source": [
    "# Measurement Conditions"
   ]
  },
  {
   "cell_type": "code",
   "execution_count": 2,
   "metadata": {},
   "outputs": [],
   "source": [
    "d = 10 #depth\n",
    "r_SAD = 10 #field size\n",
    "SAD = 100 #SAD\n",
    "PDD = 66.3 # if required, obtain from interpolation data\n",
    "'''Lecture 8, Slide 13, for computing kQ'''\n",
    "A = 0.9652\n",
    "B = 2.141e-3\n",
    "C = -2.623e-5"
   ]
  },
  {
   "cell_type": "markdown",
   "metadata": {},
   "source": [
    "# Theory"
   ]
  },
  {
   "cell_type": "markdown",
   "metadata": {},
   "source": [
    "For a dose (D) in water (W) to a phantom we have\n",
    "\n",
    "$$D_W^Q = Mk_Q N_{D,W}^{^{60}Co}$$\n",
    "\n",
    "* $M$ is the **corrected electrometer reading**\n",
    "* $k_Q$ is the beam quality factor (relates arbitrary beam to cobalt, for cobalt $=1$)\n",
    "* $N_{D,W}^{^{60}Co}$ is a calibration constant for a Co-60 beam under reference conditions"
   ]
  },
  {
   "cell_type": "code",
   "execution_count": 3,
   "metadata": {},
   "outputs": [],
   "source": [
    "N60Co = 1.1067"
   ]
  },
  {
   "cell_type": "markdown",
   "metadata": {},
   "source": [
    "Obtain kQ"
   ]
  },
  {
   "cell_type": "code",
   "execution_count": 4,
   "metadata": {},
   "outputs": [
    {
     "name": "stdout",
     "output_type": "stream",
     "text": [
      "kQ=0.9918\n"
     ]
    }
   ],
   "source": [
    "kQ = A+B*PDD+C*PDD**2\n",
    "print(f'kQ={kQ:.4f}')"
   ]
  },
  {
   "cell_type": "markdown",
   "metadata": {},
   "source": [
    "To obtain the **corrected electrometer reading** $M$, find this using\n",
    "\n",
    "$$ M = P_{ion}P_{TP}P_{pol}M_{raw} $$\n",
    "\n",
    "* Ion recombination factor estimated using low and high voltages $$P_{ion} = \\left(1-\\frac{V_H}{V_L}\\right)/\\left(\\frac{M_{raw}^H}{M_{raw}^L - V_H/V_L}\\right)$$\n",
    "* Polarization correction factor estimated using positive and negative voltages\n",
    "$$P_{pol} = \\frac{M_{raw}^+-M_{raw}^-}{2M_{raw}^+}$$\n",
    "* Temperature pressure correction factor estimated as follows:\n",
    "$$P_{TP} = \\frac{T_w}{295.2}\\frac{760}{P_{air}}$$\n",
    "\n",
    "**Note**: $H$ corresponds to voltage readings at +300V, $L$ corresponds to voltage readings at 150V, and $\\pm$ corresponds to $\\pm$300V"
   ]
  },
  {
   "cell_type": "markdown",
   "metadata": {},
   "source": [
    "## Compute P_TP"
   ]
  },
  {
   "cell_type": "code",
   "execution_count": 5,
   "metadata": {},
   "outputs": [],
   "source": [
    "T_w = (21.4+273.15) #K\n",
    "P_air = 773.2 #mmHg"
   ]
  },
  {
   "cell_type": "markdown",
   "metadata": {},
   "source": [
    "Compute $P_{TP}$"
   ]
  },
  {
   "cell_type": "code",
   "execution_count": 6,
   "metadata": {},
   "outputs": [
    {
     "name": "stdout",
     "output_type": "stream",
     "text": [
      "PTP=0.9808\n"
     ]
    }
   ],
   "source": [
    "PTP = (T_w/295.2)*(760/P_air)\n",
    "print(f'PTP={PTP:.4f}')"
   ]
  },
  {
   "cell_type": "markdown",
   "metadata": {},
   "source": [
    "## Compute P_pol and P_ion"
   ]
  },
  {
   "cell_type": "markdown",
   "metadata": {},
   "source": [
    "Get voltage readings:"
   ]
  },
  {
   "cell_type": "code",
   "execution_count": 7,
   "metadata": {},
   "outputs": [],
   "source": [
    "total_mu = 200"
   ]
  },
  {
   "cell_type": "code",
   "execution_count": 8,
   "metadata": {},
   "outputs": [],
   "source": [
    "dose_rate = 600 #mu/min"
   ]
  },
  {
   "cell_type": "code",
   "execution_count": 9,
   "metadata": {},
   "outputs": [],
   "source": [
    "Voltages = {\n",
    "    '+300V': {'Voltage':322.1, 'Readings':np.array([142.4, 142.4, 142.4])},\n",
    "    '+150V': {'Voltage':161.3, 'Readings':np.array([141.9, 141.9, 141.9])},\n",
    "    '-300V': {'Voltage':-321.7, 'Readings':np.array([-142.1, -142.2, -142.2])},\n",
    "}"
   ]
  },
  {
   "cell_type": "markdown",
   "metadata": {},
   "source": [
    "Use these to compute $P_{pol}$ and $P_{ion}$"
   ]
  },
  {
   "cell_type": "code",
   "execution_count": 10,
   "metadata": {},
   "outputs": [
    {
     "name": "stdout",
     "output_type": "stream",
     "text": [
      "Ppol=0.9992\n",
      "Pion=1.0035\n"
     ]
    }
   ],
   "source": [
    "Mraw_p = Mraw_h = np.mean(Voltages['+300V']['Readings'])\n",
    "Mraw_l = np.mean(Voltages['+150V']['Readings'])\n",
    "Mraw_n = np.mean(Voltages['-300V']['Readings'])\n",
    "VH = Voltages['+300V']['Voltage']\n",
    "VL = Voltages['+150V']['Voltage']\n",
    "Ppol = (Mraw_p - Mraw_n)/(2*Mraw_p)\n",
    "Pion = (1-VH/VL)/(Mraw_h/Mraw_l - VH/VL)\n",
    "print(f'Ppol={Ppol:.4f}')\n",
    "print(f'Pion={Pion:.4f}')"
   ]
  },
  {
   "cell_type": "markdown",
   "metadata": {},
   "source": [
    "## Compute M"
   ]
  },
  {
   "cell_type": "code",
   "execution_count": 11,
   "metadata": {},
   "outputs": [
    {
     "name": "stdout",
     "output_type": "stream",
     "text": [
      "M=140.04\n"
     ]
    }
   ],
   "source": [
    "Mraw = Mraw_p\n",
    "M = Pion*Ppol*PTP*Mraw\n",
    "print(f'M={M:.2f}')"
   ]
  },
  {
   "cell_type": "markdown",
   "metadata": {},
   "source": [
    "## Compute Dose"
   ]
  },
  {
   "cell_type": "code",
   "execution_count": 12,
   "metadata": {},
   "outputs": [
    {
     "name": "stdout",
     "output_type": "stream",
     "text": [
      "D=153.72Gy\n"
     ]
    }
   ],
   "source": [
    "D = M*kQ*N60Co\n",
    "print(f'D={D:.2f}Gy')"
   ]
  },
  {
   "cell_type": "markdown",
   "metadata": {},
   "source": [
    "Dose at Dmax:\n",
    "\n",
    "$D_{m} = D_{d}/TMR$"
   ]
  },
  {
   "cell_type": "code",
   "execution_count": 13,
   "metadata": {},
   "outputs": [
    {
     "data": {
      "text/plain": [
       "0.998185175800715"
      ]
     },
     "execution_count": 13,
     "metadata": {},
     "output_type": "execute_result"
    }
   ],
   "source": [
    "Dm = D/0.77 / 200\n",
    "Dm"
   ]
  },
  {
   "cell_type": "code",
   "execution_count": 14,
   "metadata": {},
   "outputs": [
    {
     "data": {
      "text/plain": [
       "0.008584392511886148"
      ]
     },
     "execution_count": 14,
     "metadata": {},
     "output_type": "execute_result"
    }
   ],
   "source": [
    "Dm*0.86/100"
   ]
  },
  {
   "cell_type": "markdown",
   "metadata": {},
   "source": [
    "Clear tables of data\n",
    "Clear diagrams\n",
    "SSD=90, d=10\n",
    "Everything relevant to determination of dose\n",
    "Field size\n",
    "Water tank dimensions"
   ]
  }
 ],
 "metadata": {
  "kernelspec": {
   "display_name": "Python 3",
   "language": "python",
   "name": "python3"
  },
  "language_info": {
   "codemirror_mode": {
    "name": "ipython",
    "version": 3
   },
   "file_extension": ".py",
   "mimetype": "text/x-python",
   "name": "python",
   "nbconvert_exporter": "python",
   "pygments_lexer": "ipython3",
   "version": "3.8.5"
  }
 },
 "nbformat": 4,
 "nbformat_minor": 4
}
